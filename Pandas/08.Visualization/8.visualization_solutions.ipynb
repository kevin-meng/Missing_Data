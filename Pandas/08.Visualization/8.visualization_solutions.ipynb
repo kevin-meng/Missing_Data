{
 "cells": [
  {
   "cell_type": "markdown",
   "metadata": {
    "slideshow": {
     "slide_type": "slide"
    }
   },
   "source": [
    "# 8.可视化 Visualization                           \n",
    "\n",
    "\n",
    "#### 笨办法学 Python 数据分析  / learn data analysis the hard way\n",
    "- @Author：知行并重\n",
    "- @公众号：知行并重\n",
    "- @Github 代码：https://github.com/kevin-meng/learn-data-analysis-the-hard-way\n"
   ]
  },
  {
   "cell_type": "markdown",
   "metadata": {
    "slideshow": {
     "slide_type": "slide"
    }
   },
   "source": [
    "## 目录\n",
    "1. **如何选图**\n",
    "\n",
    "2. **如何画图**\n",
    "    - 单变量\n",
    "    - 双变量\n",
    "    - 三变量（变量映射、分图）   \n",
    "    \n",
    "3. 图的**美化**\n",
    "    - 配色\n",
    "    - 主题\n",
    "    - 其他\n",
    "    \n",
    "4. 图的**保存**"
   ]
  },
  {
   "cell_type": "markdown",
   "metadata": {
    "slideshow": {
     "slide_type": "slide"
    }
   },
   "source": [
    "## 一 如何选图"
   ]
  },
  {
   "cell_type": "markdown",
   "metadata": {
    "slideshow": {
     "slide_type": "fragment"
    }
   },
   "source": [
    "不管是 R、Python 中的绘图包都会提供很多函数以绘制不同的图形。如：直方图、柱状图、散点图、小提琴图、热力图等等。调用对应函数即可。通常相较于画图，选择合适图显得更为重要。我有个原则：\n",
    "\n",
    "**根据变量数与变量类型选择**\n",
    "\n",
    "我这里整理了一个简单的思维导图。\n",
    "\n",
    "![](../pics/visualation.webp) "
   ]
  },
  {
   "cell_type": "markdown",
   "metadata": {
    "slideshow": {
     "slide_type": "slide"
    }
   },
   "source": [
    "## 二 如何画图"
   ]
  },
  {
   "cell_type": "code",
   "execution_count": 4,
   "metadata": {
    "slideshow": {
     "slide_type": "fragment"
    }
   },
   "outputs": [],
   "source": [
    "# !pip install matplotlib\n",
    "\n",
    "import numpy as np\n",
    "import pandas as pd\n",
    "\n",
    "# 导入绘图包\n",
    "import matplotlib\n",
    "import matplotlib.pyplot as plt\n",
    "matplotlib.style.use('ggplot')\n",
    "%matplotlib inline"
   ]
  },
  {
   "cell_type": "code",
   "execution_count": 5,
   "metadata": {
    "ExecuteTime": {
     "end_time": "2020-01-04T15:18:57.140551Z",
     "start_time": "2020-01-04T15:18:57.099549Z"
    },
    "scrolled": false,
    "slideshow": {
     "slide_type": "fragment"
    }
   },
   "outputs": [
    {
     "data": {
      "text/html": [
       "<div>\n",
       "<style scoped>\n",
       "    .dataframe tbody tr th:only-of-type {\n",
       "        vertical-align: middle;\n",
       "    }\n",
       "\n",
       "    .dataframe tbody tr th {\n",
       "        vertical-align: top;\n",
       "    }\n",
       "\n",
       "    .dataframe thead th {\n",
       "        text-align: right;\n",
       "    }\n",
       "</style>\n",
       "<table border=\"1\" class=\"dataframe\">\n",
       "  <thead>\n",
       "    <tr style=\"text-align: right;\">\n",
       "      <th></th>\n",
       "      <th>PassengerId</th>\n",
       "      <th>Survived</th>\n",
       "      <th>Pclass</th>\n",
       "      <th>Name</th>\n",
       "      <th>Sex</th>\n",
       "      <th>Age</th>\n",
       "      <th>SibSp</th>\n",
       "      <th>Parch</th>\n",
       "      <th>Ticket</th>\n",
       "      <th>Fare</th>\n",
       "      <th>Cabin</th>\n",
       "      <th>Embarked</th>\n",
       "    </tr>\n",
       "  </thead>\n",
       "  <tbody>\n",
       "    <tr>\n",
       "      <td>0</td>\n",
       "      <td>1</td>\n",
       "      <td>0</td>\n",
       "      <td>3</td>\n",
       "      <td>Braund, Mr. Owen Harris</td>\n",
       "      <td>male</td>\n",
       "      <td>22.0</td>\n",
       "      <td>1</td>\n",
       "      <td>0</td>\n",
       "      <td>A/5 21171</td>\n",
       "      <td>7.2500</td>\n",
       "      <td>NaN</td>\n",
       "      <td>S</td>\n",
       "    </tr>\n",
       "    <tr>\n",
       "      <td>1</td>\n",
       "      <td>2</td>\n",
       "      <td>1</td>\n",
       "      <td>1</td>\n",
       "      <td>Cumings, Mrs. John Bradley (Florence Briggs Th...</td>\n",
       "      <td>female</td>\n",
       "      <td>38.0</td>\n",
       "      <td>1</td>\n",
       "      <td>0</td>\n",
       "      <td>PC 17599</td>\n",
       "      <td>71.2833</td>\n",
       "      <td>C85</td>\n",
       "      <td>C</td>\n",
       "    </tr>\n",
       "    <tr>\n",
       "      <td>2</td>\n",
       "      <td>3</td>\n",
       "      <td>1</td>\n",
       "      <td>3</td>\n",
       "      <td>Heikkinen, Miss. Laina</td>\n",
       "      <td>female</td>\n",
       "      <td>26.0</td>\n",
       "      <td>0</td>\n",
       "      <td>0</td>\n",
       "      <td>STON/O2. 3101282</td>\n",
       "      <td>7.9250</td>\n",
       "      <td>NaN</td>\n",
       "      <td>S</td>\n",
       "    </tr>\n",
       "    <tr>\n",
       "      <td>3</td>\n",
       "      <td>4</td>\n",
       "      <td>1</td>\n",
       "      <td>1</td>\n",
       "      <td>Futrelle, Mrs. Jacques Heath (Lily May Peel)</td>\n",
       "      <td>female</td>\n",
       "      <td>35.0</td>\n",
       "      <td>1</td>\n",
       "      <td>0</td>\n",
       "      <td>113803</td>\n",
       "      <td>53.1000</td>\n",
       "      <td>C123</td>\n",
       "      <td>S</td>\n",
       "    </tr>\n",
       "    <tr>\n",
       "      <td>4</td>\n",
       "      <td>5</td>\n",
       "      <td>0</td>\n",
       "      <td>3</td>\n",
       "      <td>Allen, Mr. William Henry</td>\n",
       "      <td>male</td>\n",
       "      <td>35.0</td>\n",
       "      <td>0</td>\n",
       "      <td>0</td>\n",
       "      <td>373450</td>\n",
       "      <td>8.0500</td>\n",
       "      <td>NaN</td>\n",
       "      <td>S</td>\n",
       "    </tr>\n",
       "  </tbody>\n",
       "</table>\n",
       "</div>"
      ],
      "text/plain": [
       "   PassengerId  Survived  Pclass  \\\n",
       "0            1         0       3   \n",
       "1            2         1       1   \n",
       "2            3         1       3   \n",
       "3            4         1       1   \n",
       "4            5         0       3   \n",
       "\n",
       "                                                Name     Sex   Age  SibSp  \\\n",
       "0                            Braund, Mr. Owen Harris    male  22.0      1   \n",
       "1  Cumings, Mrs. John Bradley (Florence Briggs Th...  female  38.0      1   \n",
       "2                             Heikkinen, Miss. Laina  female  26.0      0   \n",
       "3       Futrelle, Mrs. Jacques Heath (Lily May Peel)  female  35.0      1   \n",
       "4                           Allen, Mr. William Henry    male  35.0      0   \n",
       "\n",
       "   Parch            Ticket     Fare Cabin Embarked  \n",
       "0      0         A/5 21171   7.2500   NaN        S  \n",
       "1      0          PC 17599  71.2833   C85        C  \n",
       "2      0  STON/O2. 3101282   7.9250   NaN        S  \n",
       "3      0            113803  53.1000  C123        S  \n",
       "4      0            373450   8.0500   NaN        S  "
      ]
     },
     "execution_count": 5,
     "metadata": {},
     "output_type": "execute_result"
    }
   ],
   "source": [
    "data = pd.read_csv(\"../input/titanic.csv\")\n",
    "data.head()"
   ]
  },
  {
   "cell_type": "markdown",
   "metadata": {
    "slideshow": {
     "slide_type": "subslide"
    }
   },
   "source": [
    "### 2.1. 单变量\n",
    "  单变量分为连续和离散。\n",
    "  - 连续型变量\n",
    "       - 分布图/直方图\n",
    "       - 箱型图\n",
    "       - `小提琴图`\n",
    "   \n",
    "   其实小提琴图，相当于是分布图与箱型图的结合，包含的信息更多。但是小提琴的图的另一半有点多余。\n",
    "   所以我一般选择是 **分布图/直方图** > 小提琴图 > 箱型图。\n",
    "   \n",
    "   \n",
    "  - 离散型变量\n",
    "      - 柱状图\n",
    "      \n",
    "  直接做法是统计相应频数，然后转化为双变量中的连续（次数）& 离散的组合处理。"
   ]
  },
  {
   "cell_type": "markdown",
   "metadata": {
    "slideshow": {
     "slide_type": "subslide"
    }
   },
   "source": [
    "#### 2.1.1 直方图\n",
    "\n",
    "如上面所说,这主要针对连续变量,而且在第二章的时候我们也提过"
   ]
  },
  {
   "cell_type": "markdown",
   "metadata": {
    "slideshow": {
     "slide_type": "fragment"
    }
   },
   "source": [
    "##### 2.1.1.1查看 Age 的分布情况"
   ]
  },
  {
   "cell_type": "code",
   "execution_count": 15,
   "metadata": {
    "slideshow": {
     "slide_type": "fragment"
    }
   },
   "outputs": [
    {
     "data": {
      "text/plain": [
       "<matplotlib.axes._subplots.AxesSubplot at 0x7f4cc0ec9710>"
      ]
     },
     "execution_count": 15,
     "metadata": {},
     "output_type": "execute_result"
    },
    {
     "data": {
      "image/png": "[encoded data removed]",
      "text/plain": [
       "<Figure size 432x288 with 1 Axes>"
      ]
     },
     "metadata": {
      "needs_background": "light"
     },
     "output_type": "display_data"
    }
   ],
   "source": [
    "data['Age'].plot(kind='hist')\n",
    "# 默认划分10等份, 试试将 bins = 20 有什么变化 "
   ]
  },
  {
   "cell_type": "markdown",
   "metadata": {
    "slideshow": {
     "slide_type": "subslide"
    }
   },
   "source": [
    "#### 2.1.2 柱状图"
   ]
  },
  {
   "cell_type": "markdown",
   "metadata": {
    "slideshow": {
     "slide_type": "fragment"
    }
   },
   "source": [
    "##### 2.1.2.1查看 Embarked 的分布情况\n",
    "\n",
    "离散变量的分布查看通常先进行频数统计,然后再用柱状图可视化"
   ]
  },
  {
   "cell_type": "code",
   "execution_count": 18,
   "metadata": {
    "slideshow": {
     "slide_type": "fragment"
    }
   },
   "outputs": [
    {
     "data": {
      "text/plain": [
       "<matplotlib.axes._subplots.AxesSubplot at 0x7f4cc1d78590>"
      ]
     },
     "execution_count": 18,
     "metadata": {},
     "output_type": "execute_result"
    },
    {
     "data": {
      "image/png": "[encoded data removed]",
      "text/plain": [
       "<Figure size 432x288 with 1 Axes>"
      ]
     },
     "metadata": {
      "needs_background": "light"
     },
     "output_type": "display_data"
    }
   ],
   "source": [
    "# 统计频数\n",
    "result = data['Embarked'].value_counts()\n",
    "result.plot(kind='bar')"
   ]
  },
  {
   "cell_type": "markdown",
   "metadata": {
    "slideshow": {
     "slide_type": "fragment"
    }
   },
   "source": [
    "单变量的其他绘图类型,感兴趣的小伙伴可以自行探索.  \n",
    "借助帮助文档和搜索引擎,可以轻松解决. 因为不常用,所以暂不做介绍."
   ]
  },
  {
   "cell_type": "code",
   "execution_count": 6,
   "metadata": {},
   "outputs": [],
   "source": [
    "pd.DataFrame.plot??"
   ]
  },
  {
   "cell_type": "markdown",
   "metadata": {},
   "source": [
    "![](https://imgkr.cn-bj.ufileos.com/899277ef-0236-4db1-ba5d-30cd6fa0ec2f.png)"
   ]
  },
  {
   "cell_type": "markdown",
   "metadata": {
    "slideshow": {
     "slide_type": "slide"
    }
   },
   "source": [
    "### 2.2. 双变量\n",
    "  根据变量类型，双变量时有两个连续变量，一个连续一个离散以及两个离散变量三种组合。每种组合的画图方案会有所不同。\n",
    "  \n",
    "  #### 2.2.1 两个连续型\n",
    "  - 散点图\n",
    "  - 折线图 \n",
    "  - 面积图 相较于折线图，显得更饱满。\n",
    "  \n",
    "  特别当有一个是时间序列时，折线图、面积图效果更好"
   ]
  },
  {
   "cell_type": "markdown",
   "metadata": {
    "slideshow": {
     "slide_type": "subslide"
    }
   },
   "source": [
    "#### 2.2.1.1 查看年龄与票价之间的关系"
   ]
  },
  {
   "cell_type": "code",
   "execution_count": 27,
   "metadata": {
    "slideshow": {
     "slide_type": "fragment"
    }
   },
   "outputs": [
    {
     "data": {
      "text/plain": [
       "<matplotlib.axes._subplots.AxesSubplot at 0x7f4cc0032810>"
      ]
     },
     "execution_count": 27,
     "metadata": {},
     "output_type": "execute_result"
    },
    {
     "data": {
      "image/png": "[encoded data removed]",
      "text/plain": [
       "<Figure size 432x288 with 1 Axes>"
      ]
     },
     "metadata": {
      "needs_background": "light"
     },
     "output_type": "display_data"
    }
   ],
   "source": [
    "data.plot(x='Age',y='Fare',kind='scatter')"
   ]
  },
  {
   "cell_type": "markdown",
   "metadata": {
    "slideshow": {
     "slide_type": "subslide"
    }
   },
   "source": [
    "    \n",
    "#### 2.2.2 连续 & 离散\n",
    "  此时，根据可视化的目的不同，而有所差异：\n",
    "  - 比较类别**大小差异** \n",
    "  \n",
    "  当数据中每个类别仅出现一次, 通常是在**数据聚合**之后.\n",
    "  \n",
    "  选择 柱状图（条形图）> 散点图； 或者 **饼图/雷达图**。\n",
    "  \n",
    "  之所以把饼图和雷达图单独列示一条，因为他们可以看成是柱状图和折线图极坐标下的展示。\n",
    "  \n",
    "  \n",
    "  - 比较类别间 **分布差异**\n",
    "  \n",
    "   此时可以选择 多类别小提琴图，或者分布图。\n",
    "   \n",
    "![](https://imgkr.cn-bj.ufileos.com/182c10d2-817b-4bcc-b948-d061ebce0708.png)"
   ]
  },
  {
   "cell_type": "markdown",
   "metadata": {
    "slideshow": {
     "slide_type": "subslide"
    }
   },
   "source": [
    "#### 2.2.2.1 查看存活与否的两类人的平均年龄 (比较大小)"
   ]
  },
  {
   "cell_type": "code",
   "execution_count": 26,
   "metadata": {
    "scrolled": true,
    "slideshow": {
     "slide_type": "fragment"
    }
   },
   "outputs": [
    {
     "data": {
      "text/plain": [
       "<matplotlib.axes._subplots.AxesSubplot at 0x7f4cbf3f2ed0>"
      ]
     },
     "execution_count": 26,
     "metadata": {},
     "output_type": "execute_result"
    },
    {
     "data": {
      "image/png": "[encoded data removed]",
      "text/plain": [
       "<Figure size 432x288 with 1 Axes>"
      ]
     },
     "metadata": {
      "needs_background": "light"
     },
     "output_type": "display_data"
    }
   ],
   "source": [
    "result = data.groupby(['Survived']).agg(np.mean)[['Age']]\n",
    "result.plot(kind='bar')"
   ]
  },
  {
   "cell_type": "markdown",
   "metadata": {
    "slideshow": {
     "slide_type": "subslide"
    }
   },
   "source": [
    "#### 2.2.2.2 查看存活与否的两类人的年龄分布情况 (比较分布)"
   ]
  },
  {
   "cell_type": "code",
   "execution_count": 37,
   "metadata": {
    "scrolled": true,
    "slideshow": {
     "slide_type": "fragment"
    }
   },
   "outputs": [
    {
     "data": {
      "text/plain": [
       "<matplotlib.axes._subplots.AxesSubplot at 0x7f4cbdb0e910>"
      ]
     },
     "execution_count": 37,
     "metadata": {},
     "output_type": "execute_result"
    },
    {
     "data": {
      "image/png": "[encoded data removed]",
      "text/plain": [
       "<Figure size 432x288 with 1 Axes>"
      ]
     },
     "metadata": {
      "needs_background": "light"
     },
     "output_type": "display_data"
    }
   ],
   "source": [
    "data.loc[data['Survived']==0,'Age'].plot(kind='hist',bins=20,label='Unservived',legend=True)\n",
    "data.loc[data['Survived']==1,'Age'].plot(kind='hist',bins=20,label='Servived',legend=True)\n",
    "# 其中 ,label='Servived',legend=True 两个参数为了设置图例的显示 内容.  \n",
    "# 感兴趣的可以去 pd.DataFrame.plot 中了解更多内容"
   ]
  },
  {
   "cell_type": "markdown",
   "metadata": {
    "slideshow": {
     "slide_type": "subslide"
    }
   },
   "source": [
    "### 2.3. 三变量\n",
    "此时你可以选择 3D 图，并且matplotlib 也有相应函数。个人观点，3D图如果不是交互图的话，充其量算是2.5D，剩下的就考验脑补了。\n",
    "\n",
    "而如果你打算采用2D的方式的，那么有以下两种方式处理：\n",
    "   - 变量映射: 将第三个变量映射到 颜色or大小 。如气泡图就是这种方式。\n",
    "   - 共享坐标轴，此时可以选择不同的显示方式，如是否堆积\n",
    "   - 分图 `subplots()`"
   ]
  },
  {
   "cell_type": "markdown",
   "metadata": {
    "slideshow": {
     "slide_type": "subslide"
    }
   },
   "source": [
    "#### 2.3.1 变量映射"
   ]
  },
  {
   "cell_type": "markdown",
   "metadata": {
    "slideshow": {
     "slide_type": "fragment"
    }
   },
   "source": [
    "#### 2.3.1.1 是否存活的乘客 在年龄和票价上的分布情况 (映射到颜色)"
   ]
  },
  {
   "cell_type": "code",
   "execution_count": 49,
   "metadata": {
    "slideshow": {
     "slide_type": "fragment"
    }
   },
   "outputs": [
    {
     "data": {
      "text/plain": [
       "<matplotlib.axes._subplots.AxesSubplot at 0x7f4cbc856890>"
      ]
     },
     "execution_count": 49,
     "metadata": {},
     "output_type": "execute_result"
    },
    {
     "data": {
      "image/png": "[encoded data removed]",
      "text/plain": [
       "<Figure size 432x288 with 1 Axes>"
      ]
     },
     "metadata": {
      "needs_background": "light"
     },
     "output_type": "display_data"
    }
   ],
   "source": [
    "# 准备画布\n",
    "fig,ax=plt.subplots(1,1,figsize=(6,4))\n",
    "# 将不同的类别数据 绘制到同一张图上\n",
    "data[data['Survived']==0].plot(x='Age',y='Fare',kind='scatter',color ='DarkGreen', label ='UnSurvived',alpha =0.3,ax=ax)\n",
    "data[data['Survived']==1].plot(x='Age',y='Fare',kind='scatter',color ='DarkRed', label ='Survived',alpha =0.3,ax=ax)"
   ]
  },
  {
   "cell_type": "markdown",
   "metadata": {
    "slideshow": {
     "slide_type": "subslide"
    }
   },
   "source": [
    "#### 2.3.1.2 子女人数 在年龄和票价上的分布情况 (映射到大小)"
   ]
  },
  {
   "cell_type": "code",
   "execution_count": 71,
   "metadata": {
    "slideshow": {
     "slide_type": "fragment"
    }
   },
   "outputs": [],
   "source": [
    "def size(x):\n",
    "    return x*100"
   ]
  },
  {
   "cell_type": "code",
   "execution_count": 74,
   "metadata": {
    "slideshow": {
     "slide_type": "fragment"
    }
   },
   "outputs": [
    {
     "data": {
      "text/plain": [
       "<matplotlib.axes._subplots.AxesSubplot at 0x7f4cb3e9d9d0>"
      ]
     },
     "execution_count": 74,
     "metadata": {},
     "output_type": "execute_result"
    },
    {
     "data": {
      "image/png": "[encoded data removed]",
      "text/plain": [
       "<Figure size 432x288 with 1 Axes>"
      ]
     },
     "metadata": {
      "needs_background": "light"
     },
     "output_type": "display_data"
    }
   ],
   "source": [
    "# 准备画布\n",
    "fig,ax=plt.subplots(1,1,figsize=(6,4))\n",
    "# 将第三个变量映射到大小上 ,形成气泡图,注意设置 透明度  \n",
    "data.plot( kind = 'scatter', x='Age',y='Fare',s =size(data['SibSp']),alpha =0.15,ax=ax)"
   ]
  },
  {
   "cell_type": "markdown",
   "metadata": {
    "slideshow": {
     "slide_type": "subslide"
    }
   },
   "source": [
    "#### 2.3.2 共享坐标轴"
   ]
  },
  {
   "cell_type": "markdown",
   "metadata": {
    "slideshow": {
     "slide_type": "fragment"
    }
   },
   "source": [
    "#### 2.3.2.1  是否存活的人在不同年龄上的票价分布情况"
   ]
  },
  {
   "cell_type": "code",
   "execution_count": 93,
   "metadata": {
    "slideshow": {
     "slide_type": "fragment"
    }
   },
   "outputs": [],
   "source": [
    "result = data[['Age','Survived','Fare']].groupby(['Age','Survived']).agg(np.mean).reset_index()"
   ]
  },
  {
   "cell_type": "code",
   "execution_count": 94,
   "metadata": {
    "slideshow": {
     "slide_type": "fragment"
    }
   },
   "outputs": [
    {
     "data": {
      "text/plain": [
       "<matplotlib.axes._subplots.AxesSubplot at 0x7f4cb3c4b950>"
      ]
     },
     "execution_count": 94,
     "metadata": {},
     "output_type": "execute_result"
    },
    {
     "data": {
      "image/png": "[encoded data removed]",
      "text/plain": [
       "<Figure size 432x288 with 1 Axes>"
      ]
     },
     "metadata": {
      "needs_background": "light"
     },
     "output_type": "display_data"
    }
   ],
   "source": [
    "# 准备画布\n",
    "fig,ax=plt.subplots(1,1,figsize=(6,4))\n",
    "# 将不同的类别数据 绘制到同一张图上\n",
    "result[result.Survived==0].plot(kind='line',x='Age',y='Fare',label='Unservived',legend=True,ax=ax)\n",
    "result[result.Survived==1].plot(kind='line',x='Age',y='Fare',label='servived',legend=True,ax=ax)"
   ]
  },
  {
   "cell_type": "markdown",
   "metadata": {
    "slideshow": {
     "slide_type": "subslide"
    }
   },
   "source": [
    "#### 2.3.3 分图\n",
    "在三个变量中有类别变量时,可以采用分图的形式呈现.此时默认情况下,不同图的坐标轴不一定一致. 如要一致可以手动设置."
   ]
  },
  {
   "cell_type": "markdown",
   "metadata": {
    "slideshow": {
     "slide_type": "fragment"
    }
   },
   "source": [
    "#### 2.3.3.1 是否存活的人在不同年龄上的票价分布情况"
   ]
  },
  {
   "cell_type": "code",
   "execution_count": 97,
   "metadata": {
    "slideshow": {
     "slide_type": "fragment"
    }
   },
   "outputs": [
    {
     "data": {
      "text/plain": [
       "<matplotlib.axes._subplots.AxesSubplot at 0x7f4cb3cc2850>"
      ]
     },
     "execution_count": 97,
     "metadata": {},
     "output_type": "execute_result"
    },
    {
     "data": {
      "image/png": "[encoded data removed]",
      "text/plain": [
       "<Figure size 864x288 with 2 Axes>"
      ]
     },
     "metadata": {
      "needs_background": "light"
     },
     "output_type": "display_data"
    }
   ],
   "source": [
    "# 准备画布\n",
    "fig,ax=plt.subplots(1,2,figsize=(12,4))\n",
    "# 将不同的类别数据 绘制到同一张图上\n",
    "result[result.Survived==0].plot(kind='line',x='Age',y='Fare',label='Unservived',legend=True,ax=ax[0])\n",
    "result[result.Survived==1].plot(kind='line',x='Age',y='Fare',label='servived',legend=True,ax=ax[1])"
   ]
  },
  {
   "cell_type": "markdown",
   "metadata": {
    "slideshow": {
     "slide_type": "fragment"
    }
   },
   "source": [
    "对比看看画图的程序有哪些差异. 以及绘制的坐标轴是否一致."
   ]
  },
  {
   "cell_type": "markdown",
   "metadata": {
    "slideshow": {
     "slide_type": "slide"
    }
   },
   "source": [
    "### 2.4. 三个变量以上\n",
    "正如前面所说，绘图是为了直观简洁的传达信息。\n",
    "\n",
    "因此，在一幅图中一次包含太多变量信息，可能会分散读者注意力，需权衡。"
   ]
  },
  {
   "cell_type": "markdown",
   "metadata": {
    "collapsed": true,
    "slideshow": {
     "slide_type": "slide"
    }
   },
   "source": [
    "## 3. 图表美化"
   ]
  },
  {
   "cell_type": "markdown",
   "metadata": {
    "slideshow": {
     "slide_type": "fragment"
    }
   },
   "source": [
    "其实,做完上面两步,画出来的图基本完成信息的提炼与压缩。但是,通常这个图不光只有自己, 还有别人。\n",
    "\n",
    "为了显示我们的专业和职业素养。怎么能不为图做些美化呢（锦上添花）。比如:"
   ]
  },
  {
   "cell_type": "markdown",
   "metadata": {
    "slideshow": {
     "slide_type": "subslide"
    }
   },
   "source": [
    "### 3.1 配色\n",
    "\n",
    "可视化的成功与否,我觉得配色至少占3成 . 这是我整理PowerBI的默认配色卡.\n",
    "丢弃 red blue 吧. 试试它们,让你图瞬间提升. "
   ]
  },
  {
   "cell_type": "code",
   "execution_count": 7,
   "metadata": {
    "ExecuteTime": {
     "end_time": "2020-01-04T15:18:04.278192Z",
     "start_time": "2020-01-04T15:18:04.274197Z"
    },
    "slideshow": {
     "slide_type": "fragment"
    }
   },
   "outputs": [],
   "source": [
    "colorList = ['#C1232B','#B5C334','#FCCE10','#E87C25','#27727B',\n",
    "             '#FE8463','#9BCA63','#FAD860','#F3A43B','#60C0DD',\n",
    "             '#D7504B','#C6E579','#F4E001','#F0805A','#26C0C0']"
   ]
  },
  {
   "cell_type": "code",
   "execution_count": 8,
   "metadata": {
    "ExecuteTime": {
     "end_time": "2020-01-04T15:18:05.686650Z",
     "start_time": "2020-01-04T15:18:05.487650Z"
    },
    "slideshow": {
     "slide_type": "fragment"
    }
   },
   "outputs": [
    {
     "data": {
      "text/plain": [
       "array([<matplotlib.axes._subplots.AxesSubplot object at 0x7f3cb3f63110>],\n",
       "      dtype=object)"
      ]
     },
     "execution_count": 8,
     "metadata": {},
     "output_type": "execute_result"
    },
    {
     "data": {
      "image/png": "[encoded data removed]",
      "text/plain": [
       "<Figure size 432x432 with 1 Axes>"
      ]
     },
     "metadata": {},
     "output_type": "display_data"
    }
   ],
   "source": [
    "data = pd.DataFrame(np.random.randint(1,2,15).reshape(1,15),columns= colorList).T\n",
    "\n",
    "data.plot.pie(figsize=(6,6),colors =colorList,subplots=True,legend=False)  # 用的是colors 而非color"
   ]
  },
  {
   "cell_type": "markdown",
   "metadata": {
    "slideshow": {
     "slide_type": "subslide"
    }
   },
   "source": [
    "### 3.2 主题\n",
    "\n",
    "如果你懒得自定义颜色，还有种更省力的方式，获得一个还不错的图——主题. 只需要一条命令：`matplotlib.style.use('ggplot') `。\n",
    "\n",
    "如果你也是从 R 转过来的话，那么 ggplot 风格的图一定让你倍感亲切。"
   ]
  },
  {
   "cell_type": "code",
   "execution_count": 38,
   "metadata": {
    "ExecuteTime": {
     "end_time": "2020-01-04T15:05:04.076704Z",
     "start_time": "2020-01-04T15:05:04.070699Z"
    },
    "slideshow": {
     "slide_type": "fragment"
    }
   },
   "outputs": [],
   "source": [
    "matplotlib.style.use('ggplot')"
   ]
  },
  {
   "cell_type": "markdown",
   "metadata": {
    "slideshow": {
     "slide_type": "fragment"
    }
   },
   "source": [
    "另外，matplotlib 还提供了，更多风格供你选择。"
   ]
  },
  {
   "cell_type": "code",
   "execution_count": 40,
   "metadata": {
    "ExecuteTime": {
     "end_time": "2020-01-04T15:05:50.959398Z",
     "start_time": "2020-01-04T15:05:50.953402Z"
    },
    "scrolled": false,
    "slideshow": {
     "slide_type": "fragment"
    }
   },
   "outputs": [
    {
     "data": {
      "text/plain": [
       "['bmh',\n",
       " 'classic',\n",
       " 'dark_background',\n",
       " 'fast',\n",
       " 'fivethirtyeight',\n",
       " 'ggplot',\n",
       " 'grayscale',\n",
       " 'seaborn-bright',\n",
       " 'seaborn-colorblind',\n",
       " 'seaborn-dark-palette',\n",
       " 'seaborn-dark',\n",
       " 'seaborn-darkgrid',\n",
       " 'seaborn-deep',\n",
       " 'seaborn-muted',\n",
       " 'seaborn-notebook',\n",
       " 'seaborn-paper',\n",
       " 'seaborn-pastel',\n",
       " 'seaborn-poster',\n",
       " 'seaborn-talk',\n",
       " 'seaborn-ticks',\n",
       " 'seaborn-white',\n",
       " 'seaborn-whitegrid',\n",
       " 'seaborn',\n",
       " 'Solarize_Light2',\n",
       " 'tableau-colorblind10',\n",
       " '_classic_test']"
      ]
     },
     "execution_count": 40,
     "metadata": {},
     "output_type": "execute_result"
    }
   ],
   "source": [
    "# 可用主题\n",
    "plt.style.available"
   ]
  },
  {
   "cell_type": "markdown",
   "metadata": {
    "slideshow": {
     "slide_type": "subslide"
    }
   },
   "source": [
    "### 3.3 其他美化操作"
   ]
  },
  {
   "cell_type": "markdown",
   "metadata": {
    "slideshow": {
     "slide_type": "fragment"
    }
   },
   "source": [
    "\n",
    "这里简单列几条常用的美化方向：\n",
    "1. **调整间距** `fig.subplots_adjust()`\n",
    "2. **添加标题** `fig.suptitle()` `ax.set_title()`\n",
    "3. **增加标记线和记标文本** `ax.axvline()` `ax.text()`\n",
    "4. **添加图例** `ax.legend()`\n",
    "5. **调整字体**  `fontdict` `FontProperties()`\n",
    "6. **调整坐标轴刻度范围，比例尺 以及格式化显示** `ax.set_xlim()` `ax.set_xticks()` `ax.xaxis.set_major_formatter()`\n",
    "7. ..."
   ]
  },
  {
   "cell_type": "code",
   "execution_count": 43,
   "metadata": {
    "ExecuteTime": {
     "end_time": "2020-01-04T15:15:56.720672Z",
     "start_time": "2020-01-04T15:15:56.714691Z"
    },
    "slideshow": {
     "slide_type": "subslide"
    }
   },
   "outputs": [
    {
     "data": {
      "text/plain": [
       "['DejaVu Sans',\n",
       " 'Bitstream Vera Sans',\n",
       " 'Computer Modern Sans Serif',\n",
       " 'Lucida Grande',\n",
       " 'Verdana',\n",
       " 'Geneva',\n",
       " 'Lucid',\n",
       " 'Arial',\n",
       " 'Helvetica',\n",
       " 'Avant Garde',\n",
       " 'sans-serif']"
      ]
     },
     "execution_count": 43,
     "metadata": {},
     "output_type": "execute_result"
    }
   ],
   "source": [
    "# 查看 matplotlib 设置  plt.rcParams\n",
    "plt.rcParams['font.sans-serif']"
   ]
  },
  {
   "cell_type": "markdown",
   "metadata": {
    "slideshow": {
     "slide_type": "subslide"
    }
   },
   "source": [
    "#### 3.3.1 美化前\n",
    "\n",
    "未美化，自己看也够了"
   ]
  },
  {
   "cell_type": "code",
   "execution_count": 103,
   "metadata": {
    "ExecuteTime": {
     "end_time": "2020-01-04T07:40:07.947293Z",
     "start_time": "2020-01-04T07:40:07.604265Z"
    },
    "slideshow": {
     "slide_type": "fragment"
    }
   },
   "outputs": [
    {
     "data": {
      "text/plain": [
       "<matplotlib.axes._subplots.AxesSubplot at 0x7f4cb39774d0>"
      ]
     },
     "execution_count": 103,
     "metadata": {},
     "output_type": "execute_result"
    },
    {
     "data": {
      "image/png": "[encoded data removed]",
      "text/plain": [
       "<Figure size 720x288 with 2 Axes>"
      ]
     },
     "metadata": {
      "needs_background": "light"
     },
     "output_type": "display_data"
    }
   ],
   "source": [
    "fig,ax = plt.subplots(1,2,figsize=(10,4))\n",
    "\n",
    "data['Age'].plot(kind='hist',bins = 30, ax=ax[0])  \n",
    "\n",
    "data['Fare'].plot(kind='hist',bins = 30,ax=ax[1])\n"
   ]
  },
  {
   "cell_type": "markdown",
   "metadata": {
    "slideshow": {
     "slide_type": "subslide"
    }
   },
   "source": [
    "#### 美化后"
   ]
  },
  {
   "cell_type": "code",
   "execution_count": 3,
   "metadata": {
    "ExecuteTime": {
     "end_time": "2020-01-04T07:39:00.355422Z",
     "start_time": "2020-01-04T07:39:00.348417Z"
    },
    "slideshow": {
     "slide_type": "fragment"
    }
   },
   "outputs": [],
   "source": [
    "# 查看系统可用的字体\n",
    "import os\n",
    "all_fonts = os.listdir('C:\\WINDOWS\\Fonts')  # WIDOWNS 下  其他系统也一样"
   ]
  },
  {
   "cell_type": "code",
   "execution_count": 42,
   "metadata": {
    "ExecuteTime": {
     "end_time": "2020-01-04T15:12:06.697769Z",
     "start_time": "2020-01-04T15:12:06.692772Z"
    },
    "slideshow": {
     "slide_type": "fragment"
    }
   },
   "outputs": [],
   "source": [
    "from matplotlib.ticker import FuncFormatter\n",
    "# formats 需要带有一个pos 参数,传给 FuncFormatter\n",
    "def formats(x,pos):\n",
    "    return '${}'.format(int(x))"
   ]
  },
  {
   "cell_type": "code",
   "execution_count": 4,
   "metadata": {
    "ExecuteTime": {
     "end_time": "2020-01-04T07:39:01.366809Z",
     "start_time": "2020-01-04T07:39:01.360803Z"
    },
    "slideshow": {
     "slide_type": "fragment"
    }
   },
   "outputs": [],
   "source": [
    "from matplotlib.font_manager import FontProperties  \n",
    "\n",
    "font_title = FontProperties(fname=\"C:\\\\WINDOWS\\\\Fonts\\\\msyhbd.ttc\",  # 字体微软雅黑文件\n",
    "                            stretch = 'extra-expanded',  # or 0 - 1000\n",
    "                            weight='bold',  # 字体粗细\n",
    "                            style = 'oblique',  # 斜体不起作用\n",
    "                            size=20) \n",
    "\n",
    "\n",
    "font_legend = FontProperties('Times New Roman',  \n",
    "                            stretch = 'extra-expanded',  # or 0 - 1000\n",
    "                            weight='bold',  # 字体粗细\n",
    "                            style = 'normal',   #  oblique work\n",
    "                            size=11) "
   ]
  },
  {
   "cell_type": "code",
   "execution_count": 36,
   "metadata": {
    "ExecuteTime": {
     "end_time": "2020-01-04T07:57:56.870486Z",
     "start_time": "2020-01-04T07:57:56.863493Z"
    },
    "slideshow": {
     "slide_type": "subslide"
    }
   },
   "outputs": [],
   "source": [
    "font_text = {'family': 'Times New Roman',   # 'serif'\n",
    "         'style': 'normal', # normal italic oblique\n",
    "         'weight': 'normal',\n",
    "         #'color':  '#27727B',  # 字体颜色\n",
    "         'size': 14,\n",
    "        }"
   ]
  },
  {
   "cell_type": "code",
   "execution_count": 37,
   "metadata": {
    "ExecuteTime": {
     "end_time": "2020-01-04T08:03:56.608039Z",
     "start_time": "2020-01-04T08:03:56.227028Z"
    },
    "scrolled": false,
    "slideshow": {
     "slide_type": "fragment"
    }
   },
   "outputs": [
    {
     "data": {
      "image/png": "[encoded data removed]",
      "text/plain": [
       "<Figure size 1008x360 with 2 Axes>"
      ]
     },
     "metadata": {},
     "output_type": "display_data"
    }
   ],
   "source": [
    "fig,ax = plt.subplots(1,2,figsize=(14,5))\n",
    "# 设置子图间距\n",
    "fig.subplots_adjust(wspace =0.4, hspace =0.5)\n",
    "\n",
    "# 设置大标题 \n",
    "fig.suptitle(t='Age 和 Fare 的分布',x=0.5,y=1.1, fontdict=font_text,fontproperties=font_title)  # w为了中文 加入\n",
    "\n",
    "# 绘制子图 1\n",
    "data['Age'].plot(kind='hist',alpha =1.0,bins = 30,color = '#27727B',label='Age', ax=ax[0])  # label 是在图例legend 时显示的内容\n",
    "# 绘制子图 2\n",
    "data['Fare'].plot(kind='hist',alpha =1.0,bins = 30,color = '#27727B',ax =ax[1])\n",
    "\n",
    "\n",
    "# 设置 x轴 标记线  axvline  axhline\n",
    "ax[0].axvline(x=60, color='#C1232B', linestyle='--', linewidth=1)\n",
    "\n",
    "# 设置标记值\n",
    "ax[0].text(x=63,y=50,s='over 60',color='#C1232B' ,fontdict=font_text)\n",
    "# https://matplotlib.org/api/_as_gen/matplotlib.pyplot.legend.html?highlight=legend#matplotlib.pyplot.legend\n",
    "\n",
    "# 设置图例\n",
    "# 可以通过指定位置 'upper' 或者 浮点数组表示，这里(x，y) 是占比而不是坐标\n",
    "ax[0].legend(loc=(0.75,0.88),prop=font_legend)  \n",
    "\n",
    "\n",
    "# 设置子标题\n",
    "ax[0].set_title('Age dist',fontdict=font_text)\n",
    "ax[1].set_title('Fare dist',fontdict=font_text)\n",
    "\n",
    "# 设置  x 轴名字\n",
    "ax[0].set_xlabel('Age',fontdict=font_text)\n",
    "ax[1].set_xlabel('Fare',fontdict=font_text)\n",
    "\n",
    "# 设置  y 轴名字\n",
    "ax[0].set_ylabel('Freq',fontdict=font_text)\n",
    "ax[1].set_ylabel('Freq',fontdict=font_text)\n",
    "\n",
    "# ax[0].set(title='Age dist', xlabel='Age',ylabel = 'Freq') 快速设置子标题和坐标轴名字 但不可设置字体\n",
    "\n",
    "\n",
    "# 设置刻度范围 (还有倒序作用)\n",
    "# ax[1].set_xlim([0,520])\n",
    "ax[1].set_xlim([520,0])\n",
    "\n",
    "# 设置刻度切分粒度\n",
    "ax[1].set_xticks(list(range(0,520,100)))\n",
    "# -----------------------------\n",
    "# 格式化坐标轴\n",
    "formatter = FuncFormatter(formats)  \n",
    "ax[1].xaxis.set_major_formatter(formatter)\n"
   ]
  },
  {
   "cell_type": "markdown",
   "metadata": {
    "ExecuteTime": {
     "end_time": "2020-01-04T07:23:10.174318Z",
     "start_time": "2020-01-04T07:23:10.168322Z"
    },
    "slideshow": {
     "slide_type": "subslide"
    }
   },
   "source": [
    "参考官方文档：\n",
    "https://matplotlib.org/api/axes_api.html"
   ]
  },
  {
   "cell_type": "markdown",
   "metadata": {
    "slideshow": {
     "slide_type": "fragment"
    }
   },
   "source": [
    "对应的代码量为 21 行，是美化前的 7 倍。所以回到最初的问题，想清楚最初画图的目的是什么，切勿迷失在纷繁的绘图函数与参数调整上。\n",
    "\n",
    "talk is cheap, 直接看代码。其中的代码块可直接用，省去百度和查文档时间。"
   ]
  },
  {
   "cell_type": "markdown",
   "metadata": {
    "slideshow": {
     "slide_type": "fragment"
    }
   },
   "source": [
    "注：本文主要以 matplotlib 和 pandas 绘图函数演示。pandas 提供的绘图函数plot()其实是在 matplotlib 上做的简单封装。差异并不大，因此在实际举例时，就不将 pandas 画图与 matplotlib 做区别。"
   ]
  },
  {
   "cell_type": "markdown",
   "metadata": {
    "slideshow": {
     "slide_type": "fragment"
    }
   },
   "source": [
    "更多绘图工具包\n",
    "- 如 matplotlib , seaborn 专题介绍. 将放在拓展学习部分,感兴趣的小伙伴可以自行学习."
   ]
  },
  {
   "cell_type": "markdown",
   "metadata": {
    "collapsed": true,
    "slideshow": {
     "slide_type": "slide"
    }
   },
   "source": [
    "## 4. 图片保存"
   ]
  },
  {
   "cell_type": "code",
   "execution_count": 364,
   "metadata": {
    "ExecuteTime": {
     "end_time": "2018-01-24T15:28:40.023256Z",
     "start_time": "2018-01-24T15:28:39.906542Z"
    },
    "slideshow": {
     "slide_type": "fragment"
    }
   },
   "outputs": [],
   "source": [
    "pl.savefig(\"plot.png\", format ='png', dpi = 80, bbox_inches ='tight',transparent = False )"
   ]
  },
  {
   "cell_type": "markdown",
   "metadata": {
    "slideshow": {
     "slide_type": "slide"
    }
   },
   "source": [
    "## 5. 其他"
   ]
  },
  {
   "cell_type": "markdown",
   "metadata": {
    "ExecuteTime": {
     "end_time": "2020-01-04T15:28:14.511657Z",
     "start_time": "2020-01-04T15:28:14.461646Z"
    },
    "slideshow": {
     "slide_type": "fragment"
    }
   },
   "source": [
    "## Cheat Sheet\n",
    "![](https://imgkr.cn-bj.ufileos.com/3bc13ae5-00ff-4acd-be16-247dab388be3.png)\n",
    "\n",
    "https://github.com/matplotlib/cheatsheets/"
   ]
  },
  {
   "cell_type": "markdown",
   "metadata": {
    "slideshow": {
     "slide_type": "slide"
    }
   },
   "source": [
    "# 谢谢观看\n",
    "![](../pics/thankyou.png)\n"
   ]
  }
 ],
 "metadata": {
  "celltoolbar": "幻灯片",
  "kernelspec": {
   "display_name": "Python 3",
   "language": "python",
   "name": "python3"
  },
  "language_info": {
   "codemirror_mode": {
    "name": "ipython",
    "version": 3
   },
   "file_extension": ".py",
   "mimetype": "text/x-python",
   "name": "python",
   "nbconvert_exporter": "python",
   "pygments_lexer": "ipython3",
   "version": "3.7.4"
  },
  "toc": {
   "nav_menu": {},
   "number_sections": true,
   "sideBar": true,
   "skip_h1_title": false,
   "toc_cell": false,
   "toc_position": {
    "height": "728px",
    "left": "0px",
    "right": "1494.67px",
    "top": "110px",
    "width": "212px"
   },
   "toc_section_display": "block",
   "toc_window_display": true
  }
 },
 "nbformat": 4,
 "nbformat_minor": 2
}
