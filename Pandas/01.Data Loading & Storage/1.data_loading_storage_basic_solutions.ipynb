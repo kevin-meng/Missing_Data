{
 "cells": [
  {
   "cell_type": "markdown",
   "metadata": {
    "slideshow": {
     "slide_type": "slide"
    }
   },
   "source": [
    "# 1.数据读取与保存(data load & storage)                             \n",
    "\n",
    "\n",
    "#### 笨办法学 Python 数据分析  / learn data analysis the hard way\n",
    "- @Author：知行并重\n",
    "- @公众号：知行并重\n",
    "- @Github 代码：https://github.com/kevin-meng/learn-data-analysis-the-hard-way\n"
   ]
  },
  {
   "cell_type": "markdown",
   "metadata": {
    "slideshow": {
     "slide_type": "slide"
    }
   },
   "source": [
    "## 目录\n",
    "- csv 等文本文件读取 与 写入\n",
    "- Excel 文件的读取 与 写入\n",
    "    * Excel 多表写入同一个文件\n",
    "- 二进制文件的读取与写入\n",
    " - 列表文件的读取\n",
    "- 通用文件的读取与写入"
   ]
  },
  {
   "cell_type": "markdown",
   "metadata": {
    "slideshow": {
     "slide_type": "slide"
    }
   },
   "source": [
    "### Step1: 导入必要的库"
   ]
  },
  {
   "cell_type": "code",
   "execution_count": 17,
   "metadata": {
    "ExecuteTime": {
     "end_time": "2018-08-29T03:09:21.901217Z",
     "start_time": "2018-08-29T03:09:15.168154Z"
    },
    "slideshow": {
     "slide_type": "fragment"
    }
   },
   "outputs": [],
   "source": [
    "import numpy as np #科学计算\n",
    "import pandas as pd #数据分析"
   ]
  },
  {
   "cell_type": "markdown",
   "metadata": {
    "slideshow": {
     "slide_type": "slide"
    }
   },
   "source": [
    "### Step2:数据读取"
   ]
  },
  {
   "cell_type": "markdown",
   "metadata": {
    "slideshow": {
     "slide_type": "fragment"
    }
   },
   "source": [
    "数据的存储格式有更多种，是不是我们要掌握所有的方式呢？ 答案自然是否定的！\n",
    "作为初学者，我们这里只需要掌握最常用3种即可。\n",
    "- csv\n",
    "- xlsx\n",
    "- pickle\n",
    "\n",
    "剩下的在需要时查看文档或者百度即可。Pandas 的文档非常详细，因此要习惯看文档，常看文档！"
   ]
  },
  {
   "cell_type": "markdown",
   "metadata": {
    "ExecuteTime": {
     "end_time": "2018-04-07T10:21:54.065969Z",
     "start_time": "2018-04-07T10:21:54.058115Z"
    },
    "slideshow": {
     "slide_type": "fragment"
    }
   },
   "source": [
    "* 查看帮助文档(两种方式)\n",
    " - 1. 百度官网：https://pandas.pydata.org/docs/user_guide/io.html\n",
    " - 2. 命令方式：两个？ or help()"
   ]
  },
  {
   "cell_type": "code",
   "execution_count": 18,
   "metadata": {
    "slideshow": {
     "slide_type": "fragment"
    }
   },
   "outputs": [],
   "source": [
    "# jupyter 下 函数后面加两个问好\n",
    "pd.read_csv??\n",
    "# help(pd.read_csv)"
   ]
  },
  {
   "cell_type": "markdown",
   "metadata": {
    "slideshow": {
     "slide_type": "slide"
    }
   },
   "source": [
    "### 2.1. CSV"
   ]
  },
  {
   "cell_type": "markdown",
   "metadata": {
    "slideshow": {
     "slide_type": "fragment"
    }
   },
   "source": [
    "#### 2.1.0 数据读取"
   ]
  },
  {
   "cell_type": "markdown",
   "metadata": {
    "slideshow": {
     "slide_type": "fragment"
    }
   },
   "source": [
    "#### 2.1.0 基础用法"
   ]
  },
  {
   "cell_type": "markdown",
   "metadata": {
    "slideshow": {
     "slide_type": "fragment"
    }
   },
   "source": [
    "从csv中数据读取./input/Titanic.csv数据"
   ]
  },
  {
   "cell_type": "code",
   "execution_count": 19,
   "metadata": {
    "ExecuteTime": {
     "end_time": "2018-08-29T03:09:31.520489Z",
     "start_time": "2018-08-29T03:09:31.426686Z"
    },
    "slideshow": {
     "slide_type": "fragment"
    }
   },
   "outputs": [],
   "source": [
    "data = pd.read_csv(\"../input/titanic.csv\")"
   ]
  },
  {
   "cell_type": "code",
   "execution_count": 35,
   "metadata": {
    "slideshow": {
     "slide_type": "fragment"
    }
   },
   "outputs": [],
   "source": [
    "# data.head()"
   ]
  },
  {
   "cell_type": "markdown",
   "metadata": {
    "slideshow": {
     "slide_type": "subslide"
    }
   },
   "source": [
    "将数据写入practice_data.csv"
   ]
  },
  {
   "cell_type": "code",
   "execution_count": 21,
   "metadata": {
    "slideshow": {
     "slide_type": "fragment"
    }
   },
   "outputs": [],
   "source": [
    "data.to_csv(\"../input/pratice_data.csv\")"
   ]
  },
  {
   "cell_type": "markdown",
   "metadata": {
    "slideshow": {
     "slide_type": "fragment"
    }
   },
   "source": [
    "#### 2.1.1 精细化参数设置"
   ]
  },
  {
   "cell_type": "markdown",
   "metadata": {
    "slideshow": {
     "slide_type": "subslide"
    }
   },
   "source": [
    "保存数据表：\n",
    "1. 不带列名\n",
    "2. 以 | 分隔 \n",
    "3. 不保存索引列"
   ]
  },
  {
   "cell_type": "code",
   "execution_count": 22,
   "metadata": {
    "ExecuteTime": {
     "end_time": "2018-04-07T02:23:12.876330Z",
     "start_time": "2018-04-07T02:23:12.821557Z"
    },
    "slideshow": {
     "slide_type": "fragment"
    }
   },
   "outputs": [],
   "source": [
    "data.to_csv(\"../input/pratice_data_v1.csv\",\n",
    "                  sep ='|',   # 以竖线分隔\n",
    "                  header =False, # 不要列名\n",
    "                  index = False) # 不保存索引列"
   ]
  },
  {
   "cell_type": "markdown",
   "metadata": {
    "slideshow": {
     "slide_type": "subslide"
    }
   },
   "source": [
    "读取数据表：\n",
    "1. 不带列名\n",
    "2. 以 | 分隔 \n",
    "3. 读取时赋予列名"
   ]
  },
  {
   "cell_type": "code",
   "execution_count": 23,
   "metadata": {
    "slideshow": {
     "slide_type": "fragment"
    }
   },
   "outputs": [],
   "source": [
    "df_names = ['PassengerId', 'Survived', 'Pclass', 'Name', 'Sex', 'Age', 'SibSp',\n",
    "       'Parch', 'Ticket', 'Fare', 'Cabin', 'Embarked']"
   ]
  },
  {
   "cell_type": "code",
   "execution_count": 24,
   "metadata": {
    "ExecuteTime": {
     "end_time": "2018-04-07T02:23:12.876330Z",
     "start_time": "2018-04-07T02:23:12.821557Z"
    },
    "slideshow": {
     "slide_type": "fragment"
    }
   },
   "outputs": [],
   "source": [
    "data_train = pd.read_csv(\"../input/pratice_data_v1.csv\",\n",
    "                  sep ='|',   # 以竖线分隔\n",
    "                  header =None, # 无列名\n",
    "                  names = df_names  # 读取时赋予列名\n",
    "                  ) "
   ]
  },
  {
   "cell_type": "markdown",
   "metadata": {
    "slideshow": {
     "slide_type": "subslide"
    }
   },
   "source": [
    "#### 2.1.2 进阶提高【选学】"
   ]
  },
  {
   "cell_type": "markdown",
   "metadata": {
    "slideshow": {
     "slide_type": "fragment"
    }
   },
   "source": [
    "其他用法如：\n",
    "1. 读取时，指定数据表列的数据类型 `参数：dtype`\n",
    "2. 循环遍历数据表（当数据量上G，非常大时可以使用）`参数：chunksize`\n",
    "\n",
    "感兴趣的小伙伴可以先自行探索。具体内容在advance中介绍"
   ]
  },
  {
   "cell_type": "markdown",
   "metadata": {
    "slideshow": {
     "slide_type": "slide"
    }
   },
   "source": [
    "### 2.2. Excel"
   ]
  },
  {
   "cell_type": "markdown",
   "metadata": {
    "ExecuteTime": {
     "end_time": "2018-04-07T02:00:28.593050Z",
     "start_time": "2018-04-07T02:00:07.169035Z"
    },
    "collapsed": true,
    "slideshow": {
     "slide_type": "fragment"
    }
   },
   "source": [
    "可能需要安装 xlrd / openpyxl\n",
    "* !pip install xlrd  openpyxl"
   ]
  },
  {
   "cell_type": "markdown",
   "metadata": {
    "slideshow": {
     "slide_type": "fragment"
    }
   },
   "source": [
    "#### 2.2.0   基础用法\n",
    "读取./input/pratice_data.xlsx中的data页数据"
   ]
  },
  {
   "cell_type": "code",
   "execution_count": 25,
   "metadata": {
    "ExecuteTime": {
     "end_time": "2018-08-29T03:13:52.157116Z",
     "start_time": "2018-08-29T03:13:51.793918Z"
    },
    "slideshow": {
     "slide_type": "fragment"
    }
   },
   "outputs": [],
   "source": [
    "data = pd.read_excel('../input/pratice_data.xlsx',sheet_name = 'data')  "
   ]
  },
  {
   "cell_type": "markdown",
   "metadata": {
    "slideshow": {
     "slide_type": "fragment"
    }
   },
   "source": [
    "写入excel文件的 data页"
   ]
  },
  {
   "cell_type": "code",
   "execution_count": 26,
   "metadata": {
    "slideshow": {
     "slide_type": "fragment"
    }
   },
   "outputs": [],
   "source": [
    "data.to_excel('../input/pratice_data.xlsx',sheet_name = 'data')"
   ]
  },
  {
   "cell_type": "markdown",
   "metadata": {
    "ExecuteTime": {
     "end_time": "2018-04-07T02:08:14.345212Z",
     "start_time": "2018-04-07T02:08:14.341266Z"
    },
    "slideshow": {
     "slide_type": "subslide"
    }
   },
   "source": [
    "####  2.2.1 将多个数据表写入1个excel文件"
   ]
  },
  {
   "cell_type": "code",
   "execution_count": 27,
   "metadata": {
    "ExecuteTime": {
     "end_time": "2018-04-07T02:02:23.018595Z",
     "start_time": "2018-04-07T02:02:22.239435Z"
    },
    "slideshow": {
     "slide_type": "fragment"
    }
   },
   "outputs": [],
   "source": [
    "writer = pd.ExcelWriter('../input/pratice_data_v1.xlsx')\n",
    "data_train.to_excel(writer,sheet_name = 'data')\n",
    "data_train.to_excel(writer,sheet_name = 'data_copy')\n",
    "writer.save() "
   ]
  },
  {
   "cell_type": "markdown",
   "metadata": {
    "slideshow": {
     "slide_type": "slide"
    }
   },
   "source": [
    "## 2.3. pickle "
   ]
  },
  {
   "cell_type": "markdown",
   "metadata": {
    "slideshow": {
     "slide_type": "fragment"
    }
   },
   "source": [
    "**pickle 是 Python支持的二进制存储格式，读取速度快！** 而且你可以将**任意**数据类型给存储为`pkl`格式。如：列表、字典、集合等等。\n",
    "\n",
    "- 优点：非常方便、我平时用的很多，特别在保存模型过程数据和模型文件时。\n",
    "- 缺点：交互性局限"
   ]
  },
  {
   "cell_type": "markdown",
   "metadata": {
    "slideshow": {
     "slide_type": "subslide"
    }
   },
   "source": [
    "#### 2.3.0 基础用法\n",
    "\n",
    "读取以pickle保存的 datafrmae 数据表"
   ]
  },
  {
   "cell_type": "code",
   "execution_count": 28,
   "metadata": {
    "ExecuteTime": {
     "end_time": "2018-08-29T03:13:29.048725Z",
     "start_time": "2018-08-29T03:13:29.040748Z"
    },
    "slideshow": {
     "slide_type": "fragment"
    }
   },
   "outputs": [],
   "source": [
    "data = pd.read_pickle('../input/pratice_data.pkl')"
   ]
  },
  {
   "cell_type": "markdown",
   "metadata": {
    "slideshow": {
     "slide_type": "fragment"
    }
   },
   "source": [
    "将数据表保存为 pkl 格式"
   ]
  },
  {
   "cell_type": "code",
   "execution_count": 29,
   "metadata": {
    "ExecuteTime": {
     "end_time": "2018-08-29T03:13:08.011030Z",
     "start_time": "2018-08-29T03:13:06.679529Z"
    },
    "slideshow": {
     "slide_type": "fragment"
    }
   },
   "outputs": [],
   "source": [
    "data.to_pickle('../input/pratice_data.pkl')"
   ]
  },
  {
   "cell_type": "markdown",
   "metadata": {
    "slideshow": {
     "slide_type": "subslide"
    }
   },
   "source": [
    "#### 2.3.1 更通用用法\n",
    "下列函数可以保存，方便后续使用"
   ]
  },
  {
   "cell_type": "code",
   "execution_count": null,
   "metadata": {
    "slideshow": {
     "slide_type": "fragment"
    }
   },
   "outputs": [],
   "source": [
    "import pickle\n",
    "\n",
    "def dump_pickle(data,dir):\n",
    "    with open(dir,'wb') as f:\n",
    "        pickle.dump(data,f,protocol=4)\n",
    "\n",
    "def load_pickle(dir):\n",
    "    with open(dir,'rb') as f:\n",
    "        out_file = pickle.load(f)\n",
    "    return out_file "
   ]
  },
  {
   "cell_type": "markdown",
   "metadata": {
    "slideshow": {
     "slide_type": "subslide"
    }
   },
   "source": [
    "#### 2.3.2 保存列表\n",
    "其他数据类型可以"
   ]
  },
  {
   "cell_type": "code",
   "execution_count": 31,
   "metadata": {
    "slideshow": {
     "slide_type": "fragment"
    }
   },
   "outputs": [],
   "source": [
    "cust_age = data_train.Age.tolist()"
   ]
  },
  {
   "cell_type": "markdown",
   "metadata": {
    "slideshow": {
     "slide_type": "fragment"
    }
   },
   "source": [
    "将列表保存为pickle格式"
   ]
  },
  {
   "cell_type": "code",
   "execution_count": 32,
   "metadata": {
    "slideshow": {
     "slide_type": "fragment"
    }
   },
   "outputs": [],
   "source": [
    "dump_pickle(cust_age,'../input/cust_age.pkl')"
   ]
  },
  {
   "cell_type": "markdown",
   "metadata": {
    "slideshow": {
     "slide_type": "fragment"
    }
   },
   "source": [
    "读取pickle 格式列表"
   ]
  },
  {
   "cell_type": "code",
   "execution_count": 33,
   "metadata": {
    "slideshow": {
     "slide_type": "fragment"
    }
   },
   "outputs": [],
   "source": [
    "cust_age = load_pickle('../input/cust_age.pkl')"
   ]
  },
  {
   "cell_type": "markdown",
   "metadata": {
    "slideshow": {
     "slide_type": "slide"
    }
   },
   "source": [
    "## 2.4 一般文件读取\n",
    "\n",
    "参考如下：https://www.runoob.com/python/python-files-io.html"
   ]
  },
  {
   "cell_type": "code",
   "execution_count": 34,
   "metadata": {
    "slideshow": {
     "slide_type": "fragment"
    }
   },
   "outputs": [],
   "source": [
    "# 读取数据\n",
    "with open('../input/titanic.csv','r') as f:\n",
    "    # 每一行作为列表的一个元素\n",
    "    data = f.readlines()\n",
    "\n",
    "    #注：看看用　ｆ.readline() 区别\n",
    "\n",
    "# 写入数据\n",
    "with open('../input/titanic_out.csv','w') as f:\n",
    "    for line in data:\n",
    "        f.write(line)"
   ]
  },
  {
   "cell_type": "markdown",
   "metadata": {
    "slideshow": {
     "slide_type": "slide"
    }
   },
   "source": [
    "# 谢谢观看\n",
    "![](../pics/thankyou.png)\n"
   ]
  }
 ],
 "metadata": {
  "celltoolbar": "幻灯片",
  "kernelspec": {
   "display_name": "Python 3",
   "language": "python",
   "name": "python3"
  },
  "language_info": {
   "codemirror_mode": {
    "name": "ipython",
    "version": 3
   },
   "file_extension": ".py",
   "mimetype": "text/x-python",
   "name": "python",
   "nbconvert_exporter": "python",
   "pygments_lexer": "ipython3",
   "version": "3.7.4"
  }
 },
 "nbformat": 4,
 "nbformat_minor": 2
}
