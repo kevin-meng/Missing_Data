{
 "cells": [
  {
   "cell_type": "markdown",
   "metadata": {},
   "source": [
    "### Step1: 导入必要的库"
   ]
  },
  {
   "cell_type": "code",
   "execution_count": 1,
   "metadata": {
    "ExecuteTime": {
     "end_time": "2018-04-07T01:23:01.831669Z",
     "start_time": "2018-04-07T01:23:01.443555Z"
    },
    "collapsed": true
   },
   "outputs": [],
   "source": [
    "import pandas as pd #数据分析\n",
    "import numpy as np #科学计算\n",
    "import matplotlib\n",
    "import matplotlib.pyplot as plt\n",
    "import seaborn as sns\n",
    "\n",
    "import os\n",
    "os.chdir('D:\\\\Python\\\\Git_test\\\\Data_Analysis')"
   ]
  },
  {
   "cell_type": "markdown",
   "metadata": {},
   "source": [
    "### Step2:数据读取\n",
    "\n",
    "- 文件格式: 大文件 chunk方式读取\n",
    "- 数据库：sqlite MySQL MongoDB 等"
   ]
  },
  {
   "cell_type": "markdown",
   "metadata": {},
   "source": [
    "### 2.1. 大文件读取"
   ]
  },
  {
   "cell_type": "markdown",
   "metadata": {},
   "source": [
    "设置列名names\\需要的列名usecols"
   ]
  },
  {
   "cell_type": "code",
   "execution_count": null,
   "metadata": {
    "collapsed": true
   },
   "outputs": [],
   "source": [
    "names = 列名\n",
    "ussecols =  需要保留列\n",
    "data = pd.read_csv('file.txt', header = None, names= columns, sep ='|', \n",
    "                   usecols = usecols,index_col = False,iterator = True, error_bad_lines = False)"
   ]
  },
  {
   "cell_type": "markdown",
   "metadata": {},
   "source": [
    "设置迭代参数 loop\\ chunksize\\ chunks \\count 将每块数据存在list中"
   ]
  },
  {
   "cell_type": "code",
   "execution_count": null,
   "metadata": {
    "collapsed": true
   },
   "outputs": [],
   "source": [
    "loop = True\n",
    "chunksize = 10000\n",
    "chunks = []\n",
    "count = 0"
   ]
  },
  {
   "cell_type": "markdown",
   "metadata": {
    "ExecuteTime": {
     "end_time": "2018-04-07T10:56:08.717772Z",
     "start_time": "2018-04-07T10:56:08.439580Z"
    }
   },
   "source": [
    "循环数据读取数据,(捕捉迭代错误)"
   ]
  },
  {
   "cell_type": "code",
   "execution_count": null,
   "metadata": {
    "collapsed": true
   },
   "outputs": [],
   "source": [
    "while loop:\n",
    "    try :\n",
    "        chunk = data.get_chunk(chunksize)\n",
    "        chunks.append()\n",
    "        count += 1\n",
    "        if count%1000 ==1:\n",
    "            print(count)\n",
    "            \n",
    "    except StopIteration:\n",
    "        loop = False\n",
    "        \n",
    "        print(\"Iteration is stopped\")\n",
    "    print(count)"
   ]
  },
  {
   "cell_type": "markdown",
   "metadata": {},
   "source": [
    "合并chunks数据"
   ]
  },
  {
   "cell_type": "code",
   "execution_count": null,
   "metadata": {
    "collapsed": true
   },
   "outputs": [],
   "source": [
    "data = pd.concat(chunks,ignore_index = True)"
   ]
  },
  {
   "cell_type": "markdown",
   "metadata": {},
   "source": [
    "### 2.2. 读取数据库数据\n",
    "\n",
    "### 2.2.1  sqlite数据读取"
   ]
  },
  {
   "cell_type": "code",
   "execution_count": null,
   "metadata": {
    "collapsed": true
   },
   "outputs": [],
   "source": [
    "# 数据库名称复制为特定的名称 :memory:，这样就会在 RAM 中创建一个数据库\n",
    "#process sql\n",
    "import sqlite3\n",
    "# con = sqlite3.connect(':memory:')\n",
    "# conn = sqlite3.connect('test.db')\n",
    "# c = conn.cursor()"
   ]
  },
  {
   "cell_type": "code",
   "execution_count": null,
   "metadata": {
    "collapsed": true
   },
   "outputs": [],
   "source": [
    "\n",
    "c.execute('''CREATE TABLE COMPANY\n",
    "       (ID INT PRIMARY KEY     NOT NULL,\n",
    "       NAME           TEXT    NOT NULL,\n",
    "       AGE            INT     NOT NULL,\n",
    "       ADDRESS        CHAR(50),\n",
    "       SALARY         REAL);''')\n",
    "print(\"Table created successfully\");\n",
    "# conn.commit()\n",
    "# conn.close()"
   ]
  },
  {
   "cell_type": "code",
   "execution_count": null,
   "metadata": {
    "collapsed": true
   },
   "outputs": [],
   "source": [
    "#insert 操作\n",
    "c.execute(\"INSERT INTO COMPANY (ID,NAME,AGE,ADDRESS,SALARY) \\\n",
    "      VALUES (1, 'Paul', 32, 'California', 20000.00 )\");\n",
    "\n",
    "c.execute(\"INSERT INTO COMPANY (ID,NAME,AGE,ADDRESS,SALARY) \\\n",
    "      VALUES (2, 'Allen', 25, 'Texas', 15000.00 )\");\n",
    "\n",
    "c.execute(\"INSERT INTO COMPANY (ID,NAME,AGE,ADDRESS,SALARY) \\\n",
    "      VALUES (3, 'Teddy', 23, 'Norway', 20000.00 )\");\n",
    "\n",
    "c.execute(\"INSERT INTO COMPANY (ID,NAME,AGE,ADDRESS,SALARY) \\\n",
    "      VALUES (4, 'Mark', 25, 'Rich-Mond ', 65000.00 )\");\n",
    "\n",
    "# conn.commit()\n",
    "print(\"Records created successfully\");\n",
    "# conn.close()"
   ]
  },
  {
   "cell_type": "code",
   "execution_count": null,
   "metadata": {
    "collapsed": true
   },
   "outputs": [],
   "source": [
    "#select 操作\n",
    "cursor = c.execute(\"SELECT id, name, address, salary  from COMPANY\")\n",
    "for row in cursor:\n",
    "   print(\"ID = \", row[0])\n",
    "   print(\"NAME = \", row[1])\n",
    "   print(\"ADDRESS = \", row[2])\n",
    "   print(\"SALARY = \", row[3], \"\\n\")\n",
    "\n",
    "print(\"Operation done successfully\");\n",
    "# conn.close()"
   ]
  },
  {
   "cell_type": "code",
   "execution_count": null,
   "metadata": {
    "collapsed": true
   },
   "outputs": [],
   "source": [
    "c.execute(\"UPDATE COMPANY set SALARY = 25000.00 where ID=1\")\n",
    "conn.commit()\n",
    "print(\"Total number of rows updated :\", conn.total_changes)\n",
    "\n",
    "cursor = conn.execute(\"SELECT id, name, address, salary  from COMPANY\")\n",
    "for row in cursor:\n",
    "   print(\"ID = \", row[0])\n",
    "   print(\"NAME = \", row[1])\n",
    "   print(\"ADDRESS = \", row[2])\n",
    "   print(\"SALARY = \", row[3], \"\\n\")\n",
    "\n",
    "print(\"Operation done successfully\");"
   ]
  },
  {
   "cell_type": "code",
   "execution_count": null,
   "metadata": {
    "collapsed": true
   },
   "outputs": [],
   "source": [
    "c.execute(\"DELETE from COMPANY where ID=2;\")\n",
    "\n",
    "print(\"Total number of rows updated :\", conn.total_changes)\n",
    "\n",
    "cursor = conn.execute(\"SELECT id, name, address, salary  from COMPANY\")\n",
    "for row in cursor:\n",
    "   print(\"ID = \", row[0])\n",
    "   print(\"NAME = \", row[1])\n",
    "   print(\"ADDRESS = \", row[2])\n",
    "   print(\"SALARY = \", row[3], \"\\n\")\n",
    "\n",
    "print(\"Operation done successfully\");"
   ]
  },
  {
   "cell_type": "code",
   "execution_count": null,
   "metadata": {
    "collapsed": true
   },
   "outputs": [],
   "source": [
    "# data.to_sql('data', cnx)\n",
    "# pd.read_sql_query(\"SELECT * FROM data\", con)"
   ]
  },
  {
   "cell_type": "code",
   "execution_count": null,
   "metadata": {
    "collapsed": true
   },
   "outputs": [],
   "source": [
    "# engine = create_engine('sqlite:///:memory:')\n",
    "engine = create_engine('test.db')\n",
    "\n",
    "data_train.to_sql('data_train',engine,chunksize =1000)\n"
   ]
  },
  {
   "cell_type": "code",
   "execution_count": null,
   "metadata": {
    "collapsed": true
   },
   "outputs": [],
   "source": [
    "from sqlalchemy import create_engine"
   ]
  },
  {
   "cell_type": "code",
   "execution_count": null,
   "metadata": {
    "collapsed": true
   },
   "outputs": [],
   "source": [
    "# 简单的用法\n",
    "\n",
    "#  -*- coding: utf-8 -*-  \n",
    "from sqlalchemy import create_engine, MetaData  \n",
    "engine = create_engine('sqlite:///test.sqlite')  \n",
    "metadata = MetaData(bind=engine, reflect=True)  \n",
    "conn = engine.connect()  \n",
    "# 创建表  \n",
    "conn.execute('CREATE TABLE IF NOT EXISTS user(name VARCHAR, password VARCHAR)')  \n",
    "# 创建数据  \n",
    "conn.execute('INSERT INTO user(name, password) VALUES(?, ?)', (('tom', '123'), ('john', '321')))  \n",
    "# 查询  \n",
    "for row in conn.execute('SELECT * FROM user'):  \n",
    "    print(row.name, row['name'], row[0])\n",
    " \n",
    "\n",
    "\n",
    "# 更简单的用法\n",
    "\n",
    "#  -*- coding: utf-8 -*-  \n",
    "from sqlalchemy import create_engine, MetaData  \n",
    "engine = create_engine('sqlite:///test.sqlite')  \n",
    "# metadata = MetaData(bind=engine, reflect=True)  \n",
    "# 创建表  \n",
    "engine.execute('CREATE TABLE IF NOT EXISTS user(name VARCHAR, password VARCHAR)')  \n",
    "# 创建数据  \n",
    "engine.execute('INSERT INTO user(name, password) VALUES(?, ?)', [('tom', '123'), ('john', '321')])  \n",
    "# 查询  \n",
    "for row in engine.execute('SELECT * FROM user'):  \n",
    "    print(row.name, row['name'], row[0]  )"
   ]
  },
  {
   "cell_type": "code",
   "execution_count": null,
   "metadata": {
    "collapsed": true
   },
   "outputs": [],
   "source": [
    "#sample data\n",
    "\n",
    "# 1.sklearn\n",
    "from sklearn.utils import shuffle  \n",
    "df = shuffle(df)  \n",
    "\n",
    "# 2.pandas\n",
    "df.sample(frac=0.03)"
   ]
  },
  {
   "cell_type": "code",
   "execution_count": null,
   "metadata": {
    "collapsed": true
   },
   "outputs": [],
   "source": [
    "import sqlite3\n",
    "conn = sqlite3.connect('mytest.db')\n",
    "cursor = conn.cursor()"
   ]
  },
  {
   "cell_type": "code",
   "execution_count": null,
   "metadata": {
    "collapsed": true
   },
   "outputs": [],
   "source": []
  }
 ],
 "metadata": {
  "kernelspec": {
   "display_name": "python_3",
   "language": "python",
   "name": "python_3"
  },
  "language_info": {
   "codemirror_mode": {
    "name": "ipython",
    "version": 3
   },
   "file_extension": ".py",
   "mimetype": "text/x-python",
   "name": "python",
   "nbconvert_exporter": "python",
   "pygments_lexer": "ipython3",
   "version": "3.6.2"
  }
 },
 "nbformat": 4,
 "nbformat_minor": 2
}
