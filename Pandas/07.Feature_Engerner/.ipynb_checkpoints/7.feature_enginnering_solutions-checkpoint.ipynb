{
 "cells": [
  {
   "cell_type": "markdown",
   "metadata": {},
   "source": [
    "Feature Enginnering (变量衍生)\n",
    "==="
   ]
  },
  {
   "cell_type": "markdown",
   "metadata": {},
   "source": [
    "### 导入必要的库"
   ]
  },
  {
   "cell_type": "code",
   "execution_count": 1,
   "metadata": {
    "ExecuteTime": {
     "end_time": "2018-04-29T01:18:56.666938Z",
     "start_time": "2018-04-29T01:18:48.969606Z"
    }
   },
   "outputs": [],
   "source": [
    "import pandas as pd #数据分析\n",
    "import numpy as np #科学计算"
   ]
  },
  {
   "cell_type": "markdown",
   "metadata": {},
   "source": [
    "# 数据读取"
   ]
  },
  {
   "cell_type": "code",
   "execution_count": 2,
   "metadata": {
    "ExecuteTime": {
     "end_time": "2018-04-29T01:18:59.112602Z",
     "start_time": "2018-04-29T01:18:58.719886Z"
    }
   },
   "outputs": [],
   "source": [
    "data = pd.read_csv(\"../input/titanic.csv\")"
   ]
  },
  {
   "cell_type": "code",
   "execution_count": 3,
   "metadata": {
    "ExecuteTime": {
     "end_time": "2018-04-29T01:19:03.047241Z",
     "start_time": "2018-04-29T01:19:03.000242Z"
    }
   },
   "outputs": [
    {
     "data": {
      "text/html": [
       "<div>\n",
       "<style scoped>\n",
       "    .dataframe tbody tr th:only-of-type {\n",
       "        vertical-align: middle;\n",
       "    }\n",
       "\n",
       "    .dataframe tbody tr th {\n",
       "        vertical-align: top;\n",
       "    }\n",
       "\n",
       "    .dataframe thead th {\n",
       "        text-align: right;\n",
       "    }\n",
       "</style>\n",
       "<table border=\"1\" class=\"dataframe\">\n",
       "  <thead>\n",
       "    <tr style=\"text-align: right;\">\n",
       "      <th></th>\n",
       "      <th>PassengerId</th>\n",
       "      <th>Survived</th>\n",
       "      <th>Pclass</th>\n",
       "      <th>Name</th>\n",
       "      <th>Sex</th>\n",
       "      <th>Age</th>\n",
       "      <th>SibSp</th>\n",
       "      <th>Parch</th>\n",
       "      <th>Ticket</th>\n",
       "      <th>Fare</th>\n",
       "      <th>Cabin</th>\n",
       "      <th>Embarked</th>\n",
       "    </tr>\n",
       "  </thead>\n",
       "  <tbody>\n",
       "    <tr>\n",
       "      <td>0</td>\n",
       "      <td>1</td>\n",
       "      <td>0</td>\n",
       "      <td>3</td>\n",
       "      <td>Braund, Mr. Owen Harris</td>\n",
       "      <td>male</td>\n",
       "      <td>22.0</td>\n",
       "      <td>1</td>\n",
       "      <td>0</td>\n",
       "      <td>A/5 21171</td>\n",
       "      <td>7.2500</td>\n",
       "      <td>NaN</td>\n",
       "      <td>S</td>\n",
       "    </tr>\n",
       "    <tr>\n",
       "      <td>1</td>\n",
       "      <td>2</td>\n",
       "      <td>1</td>\n",
       "      <td>1</td>\n",
       "      <td>Cumings, Mrs. John Bradley (Florence Briggs Th...</td>\n",
       "      <td>female</td>\n",
       "      <td>38.0</td>\n",
       "      <td>1</td>\n",
       "      <td>0</td>\n",
       "      <td>PC 17599</td>\n",
       "      <td>71.2833</td>\n",
       "      <td>C85</td>\n",
       "      <td>C</td>\n",
       "    </tr>\n",
       "    <tr>\n",
       "      <td>2</td>\n",
       "      <td>3</td>\n",
       "      <td>1</td>\n",
       "      <td>3</td>\n",
       "      <td>Heikkinen, Miss. Laina</td>\n",
       "      <td>female</td>\n",
       "      <td>26.0</td>\n",
       "      <td>0</td>\n",
       "      <td>0</td>\n",
       "      <td>STON/O2. 3101282</td>\n",
       "      <td>7.9250</td>\n",
       "      <td>NaN</td>\n",
       "      <td>S</td>\n",
       "    </tr>\n",
       "    <tr>\n",
       "      <td>3</td>\n",
       "      <td>4</td>\n",
       "      <td>1</td>\n",
       "      <td>1</td>\n",
       "      <td>Futrelle, Mrs. Jacques Heath (Lily May Peel)</td>\n",
       "      <td>female</td>\n",
       "      <td>35.0</td>\n",
       "      <td>1</td>\n",
       "      <td>0</td>\n",
       "      <td>113803</td>\n",
       "      <td>53.1000</td>\n",
       "      <td>C123</td>\n",
       "      <td>S</td>\n",
       "    </tr>\n",
       "    <tr>\n",
       "      <td>4</td>\n",
       "      <td>5</td>\n",
       "      <td>0</td>\n",
       "      <td>3</td>\n",
       "      <td>Allen, Mr. William Henry</td>\n",
       "      <td>male</td>\n",
       "      <td>35.0</td>\n",
       "      <td>0</td>\n",
       "      <td>0</td>\n",
       "      <td>373450</td>\n",
       "      <td>8.0500</td>\n",
       "      <td>NaN</td>\n",
       "      <td>S</td>\n",
       "    </tr>\n",
       "  </tbody>\n",
       "</table>\n",
       "</div>"
      ],
      "text/plain": [
       "   PassengerId  Survived  Pclass  \\\n",
       "0            1         0       3   \n",
       "1            2         1       1   \n",
       "2            3         1       3   \n",
       "3            4         1       1   \n",
       "4            5         0       3   \n",
       "\n",
       "                                                Name     Sex   Age  SibSp  \\\n",
       "0                            Braund, Mr. Owen Harris    male  22.0      1   \n",
       "1  Cumings, Mrs. John Bradley (Florence Briggs Th...  female  38.0      1   \n",
       "2                             Heikkinen, Miss. Laina  female  26.0      0   \n",
       "3       Futrelle, Mrs. Jacques Heath (Lily May Peel)  female  35.0      1   \n",
       "4                           Allen, Mr. William Henry    male  35.0      0   \n",
       "\n",
       "   Parch            Ticket     Fare Cabin Embarked  \n",
       "0      0         A/5 21171   7.2500   NaN        S  \n",
       "1      0          PC 17599  71.2833   C85        C  \n",
       "2      0  STON/O2. 3101282   7.9250   NaN        S  \n",
       "3      0            113803  53.1000  C123        S  \n",
       "4      0            373450   8.0500   NaN        S  "
      ]
     },
     "execution_count": 3,
     "metadata": {},
     "output_type": "execute_result"
    }
   ],
   "source": [
    "data.head()"
   ]
  },
  {
   "cell_type": "markdown",
   "metadata": {},
   "source": [
    "#  衍生变量"
   ]
  },
  {
   "cell_type": "markdown",
   "metadata": {},
   "source": [
    "在数据分析的过程中,有时我们需要根据已有的列生成新的一列."
   ]
  },
  {
   "cell_type": "markdown",
   "metadata": {},
   "source": [
    "`特征工程` 是从数据建模中借用过来的一个概念. 它是指 在已有数据上去衍生出根据目标指向性的变量, 已提升最终的模型效果的过程.\n",
    "\n",
    "同样,在数据分析中, 我们也需要在已有数据的基础上去加工出新的列.  \n",
    "\n",
    "下面具体我将从衍生变量`依赖的变量数据目`,来介绍.\n",
    "\n",
    "学习本节你可能需要掌握一些基础的 python 操作.\n",
    "也就是会 对字符串\\数字 基本的处理."
   ]
  },
  {
   "cell_type": "markdown",
   "metadata": {},
   "source": [
    "Pandas 列的生成有一种通用的方式: \n",
    "\n",
    "将针对特定元素的函数应用到 某个列的全部元素上,并生成一个新的列.\n",
    "**达到目的的方式有很多种,对于初学者, 我们只需要掌握最常用,最普适的方式!**"
   ]
  },
  {
   "cell_type": "code",
   "execution_count": 6,
   "metadata": {},
   "outputs": [],
   "source": [
    "# 单变# 单变量\n",
    "data['new_col1'] = data['old_cols'].apply(lambda x:func1(x))\n",
    "# 多变量\n",
    "data['new_col2'] = data.apply(lambda x:func2(x['old_cols1'],x['old_cols2']),axis=1)\n",
    "# 依赖3个或者更多也是一样"
   ]
  },
  {
   "cell_type": "markdown",
   "metadata": {},
   "source": [
    "## 1 单变量"
   ]
  },
  {
   "cell_type": "markdown",
   "metadata": {},
   "source": [
    "当仅仅依赖一个列变量进行加工时."
   ]
  },
  {
   "cell_type": "markdown",
   "metadata": {},
   "source": [
    "## 1.1 文本字符串"
   ]
  },
  {
   "cell_type": "markdown",
   "metadata": {},
   "source": [
    "这里全当复习一遍 Python 的字符串操作基础. \n",
    "对于文本字符串,常用的操作有以下几类:\n",
    "\n",
    "1. 替换   \n",
    "2. 提取\n",
    "    - 按位置\n",
    "    - 正则表达式\n",
    "3. 拼接       # eg:  \"Hello\" + \"World\"\n",
    "4. 大小写转换    \n",
    "    \n",
    "前两种操作,其实都可以用正则表达式来实现.\n",
    "[正则菜鸟教程](https://www.runoob.com/python/python-reg-expressions.html)\n",
    "\n",
    "我常用的函数 替换:re.sub;提取:re.findall \n"
   ]
  },
  {
   "cell_type": "markdown",
   "metadata": {},
   "source": [
    "###  1.1.1 字符串操作"
   ]
  },
  {
   "cell_type": "markdown",
   "metadata": {},
   "source": [
    "#### 1.1.1.1 用正则表达式提取 Name中的头衔"
   ]
  },
  {
   "cell_type": "code",
   "execution_count": 7,
   "metadata": {},
   "outputs": [],
   "source": [
    "import re"
   ]
  },
  {
   "cell_type": "code",
   "execution_count": null,
   "metadata": {},
   "outputs": [],
   "source": [
    "# 替换\n",
    "def sub_name(name):\n",
    "    result = re.sub(\"\\s\",\"\",name)\n",
    "    return result"
   ]
  },
  {
   "cell_type": "code",
   "execution_count": null,
   "metadata": {},
   "outputs": [],
   "source": [
    "# 提取\n",
    "def process_name(name):\n",
    "    result = re.findall(\"([A-Za-z]+)\\.\",name)[0]\n",
    "    return result\n",
    "\n",
    "# # 提取前三位字母\n",
    "# def cut_name(name):\n",
    "#     result = name[0:3]\n",
    "#     return result"
   ]
  },
  {
   "cell_type": "code",
   "execution_count": null,
   "metadata": {},
   "outputs": [],
   "source": [
    "# 拼接\n",
    "# def concat_name(name):\n",
    "#     result = \"[\" +name + \"]\"\n",
    "#     return result"
   ]
  },
  {
   "cell_type": "code",
   "execution_count": null,
   "metadata": {},
   "outputs": [],
   "source": [
    "# 大小写转换\n",
    "# lower() / upper()\n",
    "\n",
    "# def lower_name(name):\n",
    "#     result = name.lower()\n",
    "#     return \"result"
   ]
  },
  {
   "cell_type": "code",
   "execution_count": 23,
   "metadata": {
    "ExecuteTime": {
     "end_time": "2018-04-29T01:22:40.674964Z",
     "start_time": "2018-04-29T01:22:40.662968Z"
    }
   },
   "outputs": [],
   "source": [
    "#调用 apply函数 \n",
    "# findall()[0] 返回列表\n",
    "data['title']=data['Name'].apply(lambda x:process_name(x))"
   ]
  },
  {
   "cell_type": "code",
   "execution_count": 17,
   "metadata": {
    "ExecuteTime": {
     "end_time": "2018-04-29T01:22:40.674964Z",
     "start_time": "2018-04-29T01:22:40.662968Z"
    }
   },
   "outputs": [],
   "source": [
    "# 因为处理方式,比较简单.也可以采用匿名函数的方式实现.\n",
    "# 但我更偏好,上一种, 在处理内容比较多时,代码更具可读性\n",
    "# data['Initial']=data['Name'].apply(lambda x: re.findall(\"([A-Za-z]+)\\.\",x)[0]) "
   ]
  },
  {
   "cell_type": "code",
   "execution_count": 34,
   "metadata": {},
   "outputs": [
    {
     "data": {
      "text/plain": [
       "Mr          517\n",
       "Miss        182\n",
       "Mrs         125\n",
       "Master       40\n",
       "Dr            7\n",
       "Rev           6\n",
       "Col           2\n",
       "Major         2\n",
       "Mlle          2\n",
       "Lady          1\n",
       "Countess      1\n",
       "Sir           1\n",
       "Ms            1\n",
       "Capt          1\n",
       "Don           1\n",
       "Jonkheer      1\n",
       "Mme           1\n",
       "Name: title, dtype: int64"
      ]
     },
     "execution_count": 34,
     "metadata": {},
     "output_type": "execute_result"
    }
   ],
   "source": [
    "data['title'].value_counts(dropna=False)"
   ]
  },
  {
   "cell_type": "markdown",
   "metadata": {},
   "source": [
    "你可以尝试将这些方法,依次运行,看看结果.加深下印象.\n",
    "\n",
    "其实, 对于字符串的操作远不止这些.还是要看你具体的需求是什么?\n",
    "\n",
    "记住,学以致用!!"
   ]
  },
  {
   "cell_type": "markdown",
   "metadata": {},
   "source": [
    "## 1.2 离散型"
   ]
  },
  {
   "cell_type": "markdown",
   "metadata": {},
   "source": [
    "对于类别型变量的常规操作有:\n",
    "1. 类别合并\n",
    "2. 类别编码,如将字符串的类别转化为数字等"
   ]
  },
  {
   "cell_type": "markdown",
   "metadata": {},
   "source": [
    "### 1.2.1.类别合并"
   ]
  },
  {
   "cell_type": "markdown",
   "metadata": {},
   "source": [
    "可以通过构造一个字典进行映射,也可以写一个包含if...else...函数.下面分别介绍."
   ]
  },
  {
   "cell_type": "markdown",
   "metadata": {},
   "source": [
    "#### 1.2.1.1 对title 列变量进行归类合并"
   ]
  },
  {
   "cell_type": "code",
   "execution_count": 41,
   "metadata": {
    "ExecuteTime": {
     "end_time": "2018-04-29T01:22:54.112861Z",
     "start_time": "2018-04-29T01:22:54.101856Z"
    }
   },
   "outputs": [],
   "source": [
    "#map 替换有多个类型 情况\n",
    "title_dict = {\n",
    "        \"Capt\":       \"Rare\",\n",
    "        \"Col\":        \"Rare\",\n",
    "        \"Major\":      \"Rare\",\n",
    "        \"Jonkheer\":   \"Rare\",\n",
    "        \"Don\":        \"Rare\",\n",
    "        \"Sir\" :       \"Rare\",\n",
    "        \"Dr\":         \"Rare\",\n",
    "        \"Rev\":        \"Rare\",\n",
    "        \"Countess\":   \"Rare\",\n",
    "        \"Dona\":       \"Rare\",\n",
    "        \"Mme\":        \"Mrs\",\n",
    "        \"Mlle\":       \"Miss\",\n",
    "        \"Ms\":         \"Mrs\",\n",
    "        \"Mr\" :        \"Mr\",\n",
    "        \"Mrs\" :       \"Mrs\",\n",
    "        \"Miss\" :      \"Miss\",\n",
    "        \"Master\" :    \"Master\",\n",
    "        \"Lady\" :      \"Rare\"\n",
    "}"
   ]
  },
  {
   "cell_type": "code",
   "execution_count": 42,
   "metadata": {
    "ExecuteTime": {
     "end_time": "2018-04-29T01:22:54.112861Z",
     "start_time": "2018-04-29T01:22:54.101856Z"
    }
   },
   "outputs": [],
   "source": [
    "data['title_new'] = data['title'].map(title_dict)"
   ]
  },
  {
   "cell_type": "code",
   "execution_count": 51,
   "metadata": {},
   "outputs": [
    {
     "data": {
      "text/plain": [
       "Mr        517\n",
       "Miss      184\n",
       "Mrs       127\n",
       "Master     40\n",
       "Rare       23\n",
       "Name: title_new, dtype: int64"
      ]
     },
     "execution_count": 51,
     "metadata": {},
     "output_type": "execute_result"
    }
   ],
   "source": [
    "data['title_new'].value_counts(dropna=False)"
   ]
  },
  {
   "cell_type": "markdown",
   "metadata": {},
   "source": [
    "如果字典中注释掉, \"Lady\" : \"Royalty\" 映射结果会有什么不同?\n",
    "\n",
    "##### 注:对于字典没出现的值,map 后会变成空"
   ]
  },
  {
   "cell_type": "markdown",
   "metadata": {},
   "source": [
    "但是当如果需要替换的不是很多的情况下,可以通过replace方法实现."
   ]
  },
  {
   "cell_type": "code",
   "execution_count": 55,
   "metadata": {},
   "outputs": [],
   "source": [
    "# rare_title2= ['Dr', 'Rev', 'Col', 'Major', 'Capt', 'the Countess', 'Jonkheer', 'Sir', 'Lady', 'Don']\n",
    "# data['title2'] = data['title'].replace(rare_title2, 'Rare')"
   ]
  },
  {
   "cell_type": "markdown",
   "metadata": {},
   "source": [
    "#### 1.2.1.2 对 title_new 列变量转化为数值"
   ]
  },
  {
   "cell_type": "code",
   "execution_count": 52,
   "metadata": {
    "ExecuteTime": {
     "end_time": "2018-04-29T01:23:00.134258Z",
     "start_time": "2018-04-29T01:23:00.127260Z"
    }
   },
   "outputs": [],
   "source": [
    "# 通过函数 映射\n",
    "def titile_num(title):\n",
    "    if title == 'Mr':\n",
    "        return 1\n",
    "    elif title == 'Miss':\n",
    "        return 2\n",
    "    elif title == 'Mrs':\n",
    "        return 3\n",
    "    elif title == 'Master':\n",
    "        return 4\n",
    "    elif title == 'Rare':\n",
    "        return 5\n",
    "    else:\n",
    "        return 6\n",
    "    \n",
    "# title_mapping ={\n",
    "#     'Mr':1,\n",
    "#     'Miss':2,\n",
    "#     'Mrs':3,\n",
    "#     'Master':4,\n",
    "#     'Rare':5,\n",
    "# }\n",
    "\n"
   ]
  },
  {
   "cell_type": "code",
   "execution_count": 53,
   "metadata": {
    "ExecuteTime": {
     "end_time": "2018-04-29T01:23:00.134258Z",
     "start_time": "2018-04-29T01:23:00.127260Z"
    }
   },
   "outputs": [],
   "source": [
    "data['title_num'] = data['title_new'].apply(lambda x: titile_num(x))\n",
    "# data['title_num'] = data['title_new'].map(title_mapping)"
   ]
  },
  {
   "cell_type": "code",
   "execution_count": 54,
   "metadata": {},
   "outputs": [
    {
     "data": {
      "text/plain": [
       "1    517\n",
       "2    184\n",
       "3    127\n",
       "4     40\n",
       "5     23\n",
       "Name: title_num, dtype: int64"
      ]
     },
     "execution_count": 54,
     "metadata": {},
     "output_type": "execute_result"
    }
   ],
   "source": [
    "data['title_num'].value_counts()"
   ]
  },
  {
   "cell_type": "markdown",
   "metadata": {},
   "source": [
    "这么看是不是用字典映射会比较方便!"
   ]
  },
  {
   "cell_type": "markdown",
   "metadata": {},
   "source": [
    "### 1.3 连续型"
   ]
  },
  {
   "cell_type": "markdown",
   "metadata": {},
   "source": [
    "对于连续变量,一般的简单计算,可以直接通过定义函数就可以实现.这里不再赘述.\n",
    "\n",
    "这里介绍一个连续变量最常用的处理方式.---- **变量分箱**"
   ]
  },
  {
   "cell_type": "markdown",
   "metadata": {},
   "source": [
    "#### 1.3.1 连续型变量分箱(对Age分箱 0,16,32,48,64 分箱)"
   ]
  },
  {
   "cell_type": "markdown",
   "metadata": {},
   "source": [
    "#### 1. 基于 pd.cut 切段"
   ]
  },
  {
   "cell_type": "code",
   "execution_count": 58,
   "metadata": {
    "ExecuteTime": {
     "end_time": "2018-04-29T01:24:19.095294Z",
     "start_time": "2018-04-29T01:24:19.088297Z"
    }
   },
   "outputs": [],
   "source": [
    "bins = [0,16,32,48,64,np.inf]\n",
    "labels = [1,2,3,4,5]\n",
    "data['Age_cut1']= pd.cut(data['Age'],bins = bins,labels= labels,right =False) #默认右闭"
   ]
  },
  {
   "cell_type": "markdown",
   "metadata": {},
   "source": [
    "#### 对 Age 进行 5 等分 "
   ]
  },
  {
   "cell_type": "code",
   "execution_count": 30,
   "metadata": {
    "ExecuteTime": {
     "end_time": "2018-04-29T01:24:21.065536Z",
     "start_time": "2018-04-29T01:24:21.057532Z"
    }
   },
   "outputs": [],
   "source": [
    "# 均匀分割5 等份\n",
    "data['CategoricalAge'] = pd.cut(data['Age'], 5)"
   ]
  },
  {
   "cell_type": "code",
   "execution_count": 56,
   "metadata": {},
   "outputs": [],
   "source": [
    "pd.cut??"
   ]
  },
  {
   "cell_type": "markdown",
   "metadata": {},
   "source": [
    "#### 2.用if..else 函数 再 apply"
   ]
  },
  {
   "cell_type": "markdown",
   "metadata": {},
   "source": [
    "#### 3.用条件划分 loc"
   ]
  },
  {
   "cell_type": "markdown",
   "metadata": {},
   "source": [
    "这种方式 虽然也可达到目的,但可读性较差.不推荐!"
   ]
  },
  {
   "cell_type": "code",
   "execution_count": 29,
   "metadata": {
    "ExecuteTime": {
     "end_time": "2018-04-29T01:24:20.092425Z",
     "start_time": "2018-04-29T01:24:20.062429Z"
    }
   },
   "outputs": [],
   "source": [
    "# data_train['Age_band']=0\n",
    "# data_train.loc[data_train['Age']<=16,'Age_band']=0\n",
    "# data_train.loc[(data_train['Age']>16)&(data_train['Age']<=32),'Age_band']=1\n",
    "# data_train.loc[(data_train['Age']>32)&(data_train['Age']<=48),'Age_band']=2\n",
    "# data_train.loc[(data_train['Age']>48)&(data_train['Age']<=64),'Age_band']=3\n",
    "# data_train.loc[data_train['Age']>64,'Age_band']=4\n",
    "# # data_train.head(2)"
   ]
  },
  {
   "cell_type": "markdown",
   "metadata": {},
   "source": [
    "### 1.3.2 类型转换"
   ]
  },
  {
   "cell_type": "markdown",
   "metadata": {},
   "source": [
    "#### 1.3.2.1 将浮点型 Fare 转换为整型"
   ]
  },
  {
   "cell_type": "code",
   "execution_count": 72,
   "metadata": {},
   "outputs": [],
   "source": [
    "data['Fare_int'] = data['Fare'].apply(int)"
   ]
  },
  {
   "cell_type": "markdown",
   "metadata": {},
   "source": [
    "#### 1.3.2.2 将浮点型 Fare保留1位小数"
   ]
  },
  {
   "cell_type": "code",
   "execution_count": 73,
   "metadata": {},
   "outputs": [],
   "source": [
    "data['Fare_1round'] =data['Fare'].apply(lambda x:round(x,1))"
   ]
  },
  {
   "cell_type": "markdown",
   "metadata": {},
   "source": [
    "## 2.2 多变量"
   ]
  },
  {
   "cell_type": "markdown",
   "metadata": {},
   "source": [
    " 根据多列情况进行衍生"
   ]
  },
  {
   "cell_type": "markdown",
   "metadata": {},
   "source": [
    "#### 2.2..1 计算船上家庭成员数量\n",
    "\n",
    "sibsp + parch + 1\n",
    "\n",
    "sibsp\t# of siblings / spouses aboard the Titanic\n",
    "\n",
    "parch\t# of parents / children aboard the Titanic"
   ]
  },
  {
   "cell_type": "code",
   "execution_count": 61,
   "metadata": {
    "ExecuteTime": {
     "end_time": "2018-04-29T01:28:16.523466Z",
     "start_time": "2018-04-29T01:28:16.518467Z"
    }
   },
   "outputs": [],
   "source": [
    "def change_fun(x,y):\n",
    "    return x + y + 1"
   ]
  },
  {
   "cell_type": "code",
   "execution_count": 63,
   "metadata": {
    "ExecuteTime": {
     "end_time": "2018-04-29T01:29:52.113084Z",
     "start_time": "2018-04-29T01:29:52.066085Z"
    }
   },
   "outputs": [],
   "source": [
    "data['cust'] = data.apply(lambda x:change_fun(x['Pclass'],x['SibSp']),axis = 1)"
   ]
  },
  {
   "cell_type": "code",
   "execution_count": null,
   "metadata": {},
   "outputs": [],
   "source": []
  },
  {
   "cell_type": "markdown",
   "metadata": {},
   "source": [
    "### 总结"
   ]
  },
  {
   "cell_type": "markdown",
   "metadata": {},
   "source": [
    "相信以上介绍的内容可以覆盖平时运用大部分场景. 大家也可以按照介绍的内容,举一反三.\n",
    "有没有覆盖到的部分, 可以留言交流. 后续再做补充."
   ]
  },
  {
   "cell_type": "code",
   "execution_count": null,
   "metadata": {},
   "outputs": [],
   "source": []
  }
 ],
 "metadata": {
  "kernelspec": {
   "display_name": "Python 3",
   "language": "python",
   "name": "python3"
  },
  "language_info": {
   "codemirror_mode": {
    "name": "ipython",
    "version": 3
   },
   "file_extension": ".py",
   "mimetype": "text/x-python",
   "name": "python",
   "nbconvert_exporter": "python",
   "pygments_lexer": "ipython3",
   "version": "3.7.4"
  }
 },
 "nbformat": 4,
 "nbformat_minor": 2
}
