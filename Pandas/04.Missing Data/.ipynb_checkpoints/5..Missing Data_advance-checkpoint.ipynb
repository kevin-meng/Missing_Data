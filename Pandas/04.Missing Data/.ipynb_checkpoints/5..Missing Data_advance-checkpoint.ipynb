{
 "cells": [
  {
   "cell_type": "markdown",
   "metadata": {},
   "source": [
    "## 导入必要的库"
   ]
  },
  {
   "cell_type": "code",
   "execution_count": 1,
   "metadata": {
    "ExecuteTime": {
     "end_time": "2018-04-23T12:15:19.413771Z",
     "start_time": "2018-04-23T12:15:18.076624Z"
    }
   },
   "outputs": [],
   "source": [
    "import pandas as pd #数据分析\n",
    "import numpy as np #科学计算\n",
    "import matplotlib\n",
    "import matplotlib.pyplot as plt\n",
    "import seaborn as sns\n",
    "\n",
    "import os\n",
    "os.chdir('D:\\\\Python\\\\Git_test\\\\Data_Analysis')"
   ]
  },
  {
   "cell_type": "code",
   "execution_count": 3,
   "metadata": {
    "ExecuteTime": {
     "end_time": "2018-04-23T12:15:30.024714Z",
     "start_time": "2018-04-23T12:15:29.634892Z"
    }
   },
   "outputs": [],
   "source": [
    "data_train = pd.read_csv(\"./input/pratice_data.csv\",index_col = 0)"
   ]
  },
  {
   "cell_type": "code",
   "execution_count": 4,
   "metadata": {
    "ExecuteTime": {
     "end_time": "2018-04-23T12:15:57.986611Z",
     "start_time": "2018-04-23T12:15:57.951614Z"
    },
    "collapsed": true
   },
   "outputs": [
    {
     "data": {
      "text/html": [
       "<div>\n",
       "<style scoped>\n",
       "    .dataframe tbody tr th:only-of-type {\n",
       "        vertical-align: middle;\n",
       "    }\n",
       "\n",
       "    .dataframe tbody tr th {\n",
       "        vertical-align: top;\n",
       "    }\n",
       "\n",
       "    .dataframe thead th {\n",
       "        text-align: right;\n",
       "    }\n",
       "</style>\n",
       "<table border=\"1\" class=\"dataframe\">\n",
       "  <thead>\n",
       "    <tr style=\"text-align: right;\">\n",
       "      <th></th>\n",
       "      <th>Age</th>\n",
       "      <th>Cabin</th>\n",
       "      <th>Embarked</th>\n",
       "      <th>Fare</th>\n",
       "      <th>Name</th>\n",
       "      <th>Parch</th>\n",
       "      <th>PassengerId</th>\n",
       "      <th>Pclass</th>\n",
       "      <th>Sex</th>\n",
       "      <th>SibSp</th>\n",
       "      <th>Survived</th>\n",
       "      <th>Ticket</th>\n",
       "      <th>timestamp</th>\n",
       "      <th>title</th>\n",
       "      <th>genres</th>\n",
       "      <th>rating</th>\n",
       "      <th>timestamp_1</th>\n",
       "    </tr>\n",
       "    <tr>\n",
       "      <th>id</th>\n",
       "      <th></th>\n",
       "      <th></th>\n",
       "      <th></th>\n",
       "      <th></th>\n",
       "      <th></th>\n",
       "      <th></th>\n",
       "      <th></th>\n",
       "      <th></th>\n",
       "      <th></th>\n",
       "      <th></th>\n",
       "      <th></th>\n",
       "      <th></th>\n",
       "      <th></th>\n",
       "      <th></th>\n",
       "      <th></th>\n",
       "      <th></th>\n",
       "      <th></th>\n",
       "    </tr>\n",
       "  </thead>\n",
       "  <tbody>\n",
       "    <tr>\n",
       "      <th>0</th>\n",
       "      <td>22.0</td>\n",
       "      <td>NaN</td>\n",
       "      <td>S</td>\n",
       "      <td>7.2500</td>\n",
       "      <td>Braund, Mr. Owen Harris</td>\n",
       "      <td>0</td>\n",
       "      <td>1</td>\n",
       "      <td>3</td>\n",
       "      <td>male</td>\n",
       "      <td>1</td>\n",
       "      <td>0.0</td>\n",
       "      <td>A/5 21171</td>\n",
       "      <td>03/23/2009 08:30:00</td>\n",
       "      <td>Toy Story (1995)</td>\n",
       "      <td>Animation|Children's|Comedy</td>\n",
       "      <td>5</td>\n",
       "      <td>978300760</td>\n",
       "    </tr>\n",
       "    <tr>\n",
       "      <th>1</th>\n",
       "      <td>38.0</td>\n",
       "      <td>C85</td>\n",
       "      <td>C</td>\n",
       "      <td>71.2833</td>\n",
       "      <td>Cumings, Mrs. John Bradley (Florence Briggs Th...</td>\n",
       "      <td>0</td>\n",
       "      <td>2</td>\n",
       "      <td>1</td>\n",
       "      <td>female</td>\n",
       "      <td>1</td>\n",
       "      <td>1.0</td>\n",
       "      <td>PC 17599</td>\n",
       "      <td>03/26/2015 19:10:00</td>\n",
       "      <td>Jumanji (1995)</td>\n",
       "      <td>Adventure|Children's|Fantasy</td>\n",
       "      <td>3</td>\n",
       "      <td>978302109</td>\n",
       "    </tr>\n",
       "    <tr>\n",
       "      <th>2</th>\n",
       "      <td>26.0</td>\n",
       "      <td>NaN</td>\n",
       "      <td>S</td>\n",
       "      <td>7.9250</td>\n",
       "      <td>Heikkinen, Miss. Laina</td>\n",
       "      <td>0</td>\n",
       "      <td>3</td>\n",
       "      <td>3</td>\n",
       "      <td>female</td>\n",
       "      <td>0</td>\n",
       "      <td>1.0</td>\n",
       "      <td>STON/O2. 3101282</td>\n",
       "      <td>01/07/2007 07:45:00</td>\n",
       "      <td>Grumpier Old Men (1995)</td>\n",
       "      <td>Comedy|Romance</td>\n",
       "      <td>3</td>\n",
       "      <td>978301968</td>\n",
       "    </tr>\n",
       "    <tr>\n",
       "      <th>3</th>\n",
       "      <td>35.0</td>\n",
       "      <td>C123</td>\n",
       "      <td>S</td>\n",
       "      <td>53.1000</td>\n",
       "      <td>Futrelle, Mrs. Jacques Heath (Lily May Peel)</td>\n",
       "      <td>0</td>\n",
       "      <td>4</td>\n",
       "      <td>1</td>\n",
       "      <td>female</td>\n",
       "      <td>1</td>\n",
       "      <td>1.0</td>\n",
       "      <td>113803</td>\n",
       "      <td>04/18/2005 00:10:00</td>\n",
       "      <td>Waiting to Exhale (1995)</td>\n",
       "      <td>Comedy|Drama</td>\n",
       "      <td>4</td>\n",
       "      <td>978300275</td>\n",
       "    </tr>\n",
       "    <tr>\n",
       "      <th>4</th>\n",
       "      <td>35.0</td>\n",
       "      <td>NaN</td>\n",
       "      <td>S</td>\n",
       "      <td>8.0500</td>\n",
       "      <td>Allen, Mr. William Henry</td>\n",
       "      <td>0</td>\n",
       "      <td>5</td>\n",
       "      <td>3</td>\n",
       "      <td>male</td>\n",
       "      <td>0</td>\n",
       "      <td>0.0</td>\n",
       "      <td>373450</td>\n",
       "      <td>02/25/2009 09:40:00</td>\n",
       "      <td>Father of the Bride Part II (1995)</td>\n",
       "      <td>Comedy</td>\n",
       "      <td>5</td>\n",
       "      <td>978824291</td>\n",
       "    </tr>\n",
       "  </tbody>\n",
       "</table>\n",
       "</div>"
      ],
      "text/plain": [
       "     Age Cabin Embarked     Fare  \\\n",
       "id                                 \n",
       "0   22.0   NaN        S   7.2500   \n",
       "1   38.0   C85        C  71.2833   \n",
       "2   26.0   NaN        S   7.9250   \n",
       "3   35.0  C123        S  53.1000   \n",
       "4   35.0   NaN        S   8.0500   \n",
       "\n",
       "                                                 Name  Parch  PassengerId  \\\n",
       "id                                                                          \n",
       "0                             Braund, Mr. Owen Harris      0            1   \n",
       "1   Cumings, Mrs. John Bradley (Florence Briggs Th...      0            2   \n",
       "2                              Heikkinen, Miss. Laina      0            3   \n",
       "3        Futrelle, Mrs. Jacques Heath (Lily May Peel)      0            4   \n",
       "4                            Allen, Mr. William Henry      0            5   \n",
       "\n",
       "    Pclass     Sex  SibSp  Survived            Ticket            timestamp  \\\n",
       "id                                                                           \n",
       "0        3    male      1       0.0         A/5 21171  03/23/2009 08:30:00   \n",
       "1        1  female      1       1.0          PC 17599  03/26/2015 19:10:00   \n",
       "2        3  female      0       1.0  STON/O2. 3101282  01/07/2007 07:45:00   \n",
       "3        1  female      1       1.0            113803  04/18/2005 00:10:00   \n",
       "4        3    male      0       0.0            373450  02/25/2009 09:40:00   \n",
       "\n",
       "                                 title                        genres  rating  \\\n",
       "id                                                                             \n",
       "0                     Toy Story (1995)   Animation|Children's|Comedy       5   \n",
       "1                       Jumanji (1995)  Adventure|Children's|Fantasy       3   \n",
       "2              Grumpier Old Men (1995)                Comedy|Romance       3   \n",
       "3             Waiting to Exhale (1995)                  Comedy|Drama       4   \n",
       "4   Father of the Bride Part II (1995)                        Comedy       5   \n",
       "\n",
       "    timestamp_1  \n",
       "id               \n",
       "0     978300760  \n",
       "1     978302109  \n",
       "2     978301968  \n",
       "3     978300275  \n",
       "4     978824291  "
      ]
     },
     "execution_count": 4,
     "metadata": {},
     "output_type": "execute_result"
    }
   ],
   "source": [
    "data_train.head()"
   ]
  },
  {
   "cell_type": "markdown",
   "metadata": {},
   "source": [
    "## 一、缺失值\n",
    "* 查看缺失值： 统计缺失值数，分布\n",
    "* 缺失值处理：\n",
    "    + 缺失值删除（按行，按列[某几列]）\n",
    "    + 缺失值填充 \n",
    "        - 基于统计方法：众数、中位数、均值\n",
    "        - 基于模型方法：随机森林"
   ]
  },
  {
   "cell_type": "markdown",
   "metadata": {},
   "source": [
    "### step1. 查看缺失值数量\n"
   ]
  },
  {
   "cell_type": "code",
   "execution_count": 5,
   "metadata": {
    "ExecuteTime": {
     "end_time": "2018-04-23T12:17:51.294672Z",
     "start_time": "2018-04-23T12:17:51.278674Z"
    }
   },
   "outputs": [
    {
     "data": {
      "text/plain": [
       "Age             263\n",
       "Cabin          1014\n",
       "Embarked          2\n",
       "Fare              1\n",
       "Name              0\n",
       "Parch             0\n",
       "PassengerId       0\n",
       "Pclass            0\n",
       "Sex               0\n",
       "SibSp             0\n",
       "Survived        418\n",
       "Ticket            0\n",
       "timestamp         0\n",
       "title             0\n",
       "genres            0\n",
       "rating            0\n",
       "timestamp_1       0\n",
       "dtype: int64"
      ]
     },
     "execution_count": 5,
     "metadata": {},
     "output_type": "execute_result"
    }
   ],
   "source": []
  },
  {
   "cell_type": "markdown",
   "metadata": {},
   "source": [
    "### setp 2. 查看非缺失值数量"
   ]
  },
  {
   "cell_type": "code",
   "execution_count": null,
   "metadata": {
    "ExecuteTime": {
     "end_time": "2018-01-25T12:30:06.216346Z",
     "start_time": "2018-01-25T12:30:06.205317Z"
    },
    "collapsed": true
   },
   "outputs": [],
   "source": []
  },
  {
   "cell_type": "markdown",
   "metadata": {},
   "source": [
    "### step 3. 查看在数据框中的分布情况"
   ]
  },
  {
   "cell_type": "code",
   "execution_count": 1,
   "metadata": {
    "ExecuteTime": {
     "end_time": "2018-04-07T11:46:55.795342Z",
     "start_time": "2018-04-07T11:46:55.762958Z"
    },
    "collapsed": true
   },
   "outputs": [],
   "source": [
    "def md_patten(data):\n",
    "    \"\"\"\n",
    "    Display missing-data patterns. and highlight the missing values\n",
    "    \"\"\"\n",
    "    df = data.isnull().replace({True:-1,False:0})\n",
    "    df['.Row_Nums'] = 1\n",
    "\n",
    "    df1 = df.groupby(by=list(data.columns)).agg(sum).sort_values('.Row_Nums',ascending =False).reset_index()\n",
    "    df2 = data.isnull().sum().to_frame().T.rename(index = {0:' '})\n",
    "    tem = pd.concat([df1,df2]).fillna('Missing_Nums')\n",
    "    return tem\n",
    "\n",
    "def showHight(col):\n",
    "    \"\"\"\n",
    "    Highlight certain values.\n",
    "    \"\"\"\n",
    "    c = col ==-1\n",
    "    #c = col ==col.max()\n",
    "    return ['background-color:red' if v else ' ' for v in c]\n"
   ]
  },
  {
   "cell_type": "markdown",
   "metadata": {
    "ExecuteTime": {
     "end_time": "2018-04-07T11:49:31.260704Z",
     "start_time": "2018-04-07T11:49:31.242058Z"
    }
   },
   "source": [
    "运用md_patten函数以及style风格"
   ]
  },
  {
   "cell_type": "code",
   "execution_count": 8,
   "metadata": {
    "ExecuteTime": {
     "end_time": "2018-04-07T11:48:49.976614Z",
     "start_time": "2018-04-07T11:48:49.196254Z"
    }
   },
   "outputs": [
    {
     "data": {
      "text/html": [
       "<style  type=\"text/css\" >\n",
       "    #T_a3378cee_3a59_11e8_9d23_aaa795456fa7row0_col2 {\n",
       "            background-color: red;\n",
       "        }    #T_a3378cee_3a59_11e8_9d23_aaa795456fa7row1_col2 {\n",
       "            background-color: red;\n",
       "        }    #T_a3378cee_3a59_11e8_9d23_aaa795456fa7row1_col11 {\n",
       "            background-color: red;\n",
       "        }    #T_a3378cee_3a59_11e8_9d23_aaa795456fa7row3_col1 {\n",
       "            background-color: red;\n",
       "        }    #T_a3378cee_3a59_11e8_9d23_aaa795456fa7row3_col2 {\n",
       "            background-color: red;\n",
       "        }    #T_a3378cee_3a59_11e8_9d23_aaa795456fa7row4_col11 {\n",
       "            background-color: red;\n",
       "        }    #T_a3378cee_3a59_11e8_9d23_aaa795456fa7row5_col1 {\n",
       "            background-color: red;\n",
       "        }    #T_a3378cee_3a59_11e8_9d23_aaa795456fa7row5_col2 {\n",
       "            background-color: red;\n",
       "        }    #T_a3378cee_3a59_11e8_9d23_aaa795456fa7row5_col11 {\n",
       "            background-color: red;\n",
       "        }    #T_a3378cee_3a59_11e8_9d23_aaa795456fa7row6_col1 {\n",
       "            background-color: red;\n",
       "        }    #T_a3378cee_3a59_11e8_9d23_aaa795456fa7row7_col1 {\n",
       "            background-color: red;\n",
       "        }    #T_a3378cee_3a59_11e8_9d23_aaa795456fa7row7_col11 {\n",
       "            background-color: red;\n",
       "        }    #T_a3378cee_3a59_11e8_9d23_aaa795456fa7row8_col3 {\n",
       "            background-color: red;\n",
       "        }    #T_a3378cee_3a59_11e8_9d23_aaa795456fa7row9_col2 {\n",
       "            background-color: red;\n",
       "        }    #T_a3378cee_3a59_11e8_9d23_aaa795456fa7row9_col4 {\n",
       "            background-color: red;\n",
       "        }    #T_a3378cee_3a59_11e8_9d23_aaa795456fa7row9_col11 {\n",
       "            background-color: red;\n",
       "        }</style>  \n",
       "<table id=\"T_a3378cee_3a59_11e8_9d23_aaa795456fa7\" > \n",
       "<thead>    <tr> \n",
       "        <th class=\"blank level0\" ></th> \n",
       "        <th class=\"col_heading level0 col0\" >.Row_Nums</th> \n",
       "        <th class=\"col_heading level0 col1\" >Age</th> \n",
       "        <th class=\"col_heading level0 col2\" >Cabin</th> \n",
       "        <th class=\"col_heading level0 col3\" >Embarked</th> \n",
       "        <th class=\"col_heading level0 col4\" >Fare</th> \n",
       "        <th class=\"col_heading level0 col5\" >Name</th> \n",
       "        <th class=\"col_heading level0 col6\" >Parch</th> \n",
       "        <th class=\"col_heading level0 col7\" >PassengerId</th> \n",
       "        <th class=\"col_heading level0 col8\" >Pclass</th> \n",
       "        <th class=\"col_heading level0 col9\" >Sex</th> \n",
       "        <th class=\"col_heading level0 col10\" >SibSp</th> \n",
       "        <th class=\"col_heading level0 col11\" >Survived</th> \n",
       "        <th class=\"col_heading level0 col12\" >Ticket</th> \n",
       "        <th class=\"col_heading level0 col13\" >genres</th> \n",
       "        <th class=\"col_heading level0 col14\" >rating</th> \n",
       "        <th class=\"col_heading level0 col15\" >timestamp</th> \n",
       "        <th class=\"col_heading level0 col16\" >timestamp_1</th> \n",
       "        <th class=\"col_heading level0 col17\" >title</th> \n",
       "    </tr></thead> \n",
       "<tbody>    <tr> \n",
       "        <th id=\"T_a3378cee_3a59_11e8_9d23_aaa795456fa7level0_row0\" class=\"row_heading level0 row0\" >0</th> \n",
       "        <td id=\"T_a3378cee_3a59_11e8_9d23_aaa795456fa7row0_col0\" class=\"data row0 col0\" >529</td> \n",
       "        <td id=\"T_a3378cee_3a59_11e8_9d23_aaa795456fa7row0_col1\" class=\"data row0 col1\" >0</td> \n",
       "        <td id=\"T_a3378cee_3a59_11e8_9d23_aaa795456fa7row0_col2\" class=\"data row0 col2\" >-1</td> \n",
       "        <td id=\"T_a3378cee_3a59_11e8_9d23_aaa795456fa7row0_col3\" class=\"data row0 col3\" >0</td> \n",
       "        <td id=\"T_a3378cee_3a59_11e8_9d23_aaa795456fa7row0_col4\" class=\"data row0 col4\" >0</td> \n",
       "        <td id=\"T_a3378cee_3a59_11e8_9d23_aaa795456fa7row0_col5\" class=\"data row0 col5\" >0</td> \n",
       "        <td id=\"T_a3378cee_3a59_11e8_9d23_aaa795456fa7row0_col6\" class=\"data row0 col6\" >0</td> \n",
       "        <td id=\"T_a3378cee_3a59_11e8_9d23_aaa795456fa7row0_col7\" class=\"data row0 col7\" >0</td> \n",
       "        <td id=\"T_a3378cee_3a59_11e8_9d23_aaa795456fa7row0_col8\" class=\"data row0 col8\" >0</td> \n",
       "        <td id=\"T_a3378cee_3a59_11e8_9d23_aaa795456fa7row0_col9\" class=\"data row0 col9\" >0</td> \n",
       "        <td id=\"T_a3378cee_3a59_11e8_9d23_aaa795456fa7row0_col10\" class=\"data row0 col10\" >0</td> \n",
       "        <td id=\"T_a3378cee_3a59_11e8_9d23_aaa795456fa7row0_col11\" class=\"data row0 col11\" >0</td> \n",
       "        <td id=\"T_a3378cee_3a59_11e8_9d23_aaa795456fa7row0_col12\" class=\"data row0 col12\" >0</td> \n",
       "        <td id=\"T_a3378cee_3a59_11e8_9d23_aaa795456fa7row0_col13\" class=\"data row0 col13\" >0</td> \n",
       "        <td id=\"T_a3378cee_3a59_11e8_9d23_aaa795456fa7row0_col14\" class=\"data row0 col14\" >0</td> \n",
       "        <td id=\"T_a3378cee_3a59_11e8_9d23_aaa795456fa7row0_col15\" class=\"data row0 col15\" >0</td> \n",
       "        <td id=\"T_a3378cee_3a59_11e8_9d23_aaa795456fa7row0_col16\" class=\"data row0 col16\" >0</td> \n",
       "        <td id=\"T_a3378cee_3a59_11e8_9d23_aaa795456fa7row0_col17\" class=\"data row0 col17\" >0</td> \n",
       "    </tr>    <tr> \n",
       "        <th id=\"T_a3378cee_3a59_11e8_9d23_aaa795456fa7level0_row1\" class=\"row_heading level0 row1\" >1</th> \n",
       "        <td id=\"T_a3378cee_3a59_11e8_9d23_aaa795456fa7row1_col0\" class=\"data row1 col0\" >244</td> \n",
       "        <td id=\"T_a3378cee_3a59_11e8_9d23_aaa795456fa7row1_col1\" class=\"data row1 col1\" >0</td> \n",
       "        <td id=\"T_a3378cee_3a59_11e8_9d23_aaa795456fa7row1_col2\" class=\"data row1 col2\" >-1</td> \n",
       "        <td id=\"T_a3378cee_3a59_11e8_9d23_aaa795456fa7row1_col3\" class=\"data row1 col3\" >0</td> \n",
       "        <td id=\"T_a3378cee_3a59_11e8_9d23_aaa795456fa7row1_col4\" class=\"data row1 col4\" >0</td> \n",
       "        <td id=\"T_a3378cee_3a59_11e8_9d23_aaa795456fa7row1_col5\" class=\"data row1 col5\" >0</td> \n",
       "        <td id=\"T_a3378cee_3a59_11e8_9d23_aaa795456fa7row1_col6\" class=\"data row1 col6\" >0</td> \n",
       "        <td id=\"T_a3378cee_3a59_11e8_9d23_aaa795456fa7row1_col7\" class=\"data row1 col7\" >0</td> \n",
       "        <td id=\"T_a3378cee_3a59_11e8_9d23_aaa795456fa7row1_col8\" class=\"data row1 col8\" >0</td> \n",
       "        <td id=\"T_a3378cee_3a59_11e8_9d23_aaa795456fa7row1_col9\" class=\"data row1 col9\" >0</td> \n",
       "        <td id=\"T_a3378cee_3a59_11e8_9d23_aaa795456fa7row1_col10\" class=\"data row1 col10\" >0</td> \n",
       "        <td id=\"T_a3378cee_3a59_11e8_9d23_aaa795456fa7row1_col11\" class=\"data row1 col11\" >-1</td> \n",
       "        <td id=\"T_a3378cee_3a59_11e8_9d23_aaa795456fa7row1_col12\" class=\"data row1 col12\" >0</td> \n",
       "        <td id=\"T_a3378cee_3a59_11e8_9d23_aaa795456fa7row1_col13\" class=\"data row1 col13\" >0</td> \n",
       "        <td id=\"T_a3378cee_3a59_11e8_9d23_aaa795456fa7row1_col14\" class=\"data row1 col14\" >0</td> \n",
       "        <td id=\"T_a3378cee_3a59_11e8_9d23_aaa795456fa7row1_col15\" class=\"data row1 col15\" >0</td> \n",
       "        <td id=\"T_a3378cee_3a59_11e8_9d23_aaa795456fa7row1_col16\" class=\"data row1 col16\" >0</td> \n",
       "        <td id=\"T_a3378cee_3a59_11e8_9d23_aaa795456fa7row1_col17\" class=\"data row1 col17\" >0</td> \n",
       "    </tr>    <tr> \n",
       "        <th id=\"T_a3378cee_3a59_11e8_9d23_aaa795456fa7level0_row2\" class=\"row_heading level0 row2\" >2</th> \n",
       "        <td id=\"T_a3378cee_3a59_11e8_9d23_aaa795456fa7row2_col0\" class=\"data row2 col0\" >183</td> \n",
       "        <td id=\"T_a3378cee_3a59_11e8_9d23_aaa795456fa7row2_col1\" class=\"data row2 col1\" >0</td> \n",
       "        <td id=\"T_a3378cee_3a59_11e8_9d23_aaa795456fa7row2_col2\" class=\"data row2 col2\" >0</td> \n",
       "        <td id=\"T_a3378cee_3a59_11e8_9d23_aaa795456fa7row2_col3\" class=\"data row2 col3\" >0</td> \n",
       "        <td id=\"T_a3378cee_3a59_11e8_9d23_aaa795456fa7row2_col4\" class=\"data row2 col4\" >0</td> \n",
       "        <td id=\"T_a3378cee_3a59_11e8_9d23_aaa795456fa7row2_col5\" class=\"data row2 col5\" >0</td> \n",
       "        <td id=\"T_a3378cee_3a59_11e8_9d23_aaa795456fa7row2_col6\" class=\"data row2 col6\" >0</td> \n",
       "        <td id=\"T_a3378cee_3a59_11e8_9d23_aaa795456fa7row2_col7\" class=\"data row2 col7\" >0</td> \n",
       "        <td id=\"T_a3378cee_3a59_11e8_9d23_aaa795456fa7row2_col8\" class=\"data row2 col8\" >0</td> \n",
       "        <td id=\"T_a3378cee_3a59_11e8_9d23_aaa795456fa7row2_col9\" class=\"data row2 col9\" >0</td> \n",
       "        <td id=\"T_a3378cee_3a59_11e8_9d23_aaa795456fa7row2_col10\" class=\"data row2 col10\" >0</td> \n",
       "        <td id=\"T_a3378cee_3a59_11e8_9d23_aaa795456fa7row2_col11\" class=\"data row2 col11\" >0</td> \n",
       "        <td id=\"T_a3378cee_3a59_11e8_9d23_aaa795456fa7row2_col12\" class=\"data row2 col12\" >0</td> \n",
       "        <td id=\"T_a3378cee_3a59_11e8_9d23_aaa795456fa7row2_col13\" class=\"data row2 col13\" >0</td> \n",
       "        <td id=\"T_a3378cee_3a59_11e8_9d23_aaa795456fa7row2_col14\" class=\"data row2 col14\" >0</td> \n",
       "        <td id=\"T_a3378cee_3a59_11e8_9d23_aaa795456fa7row2_col15\" class=\"data row2 col15\" >0</td> \n",
       "        <td id=\"T_a3378cee_3a59_11e8_9d23_aaa795456fa7row2_col16\" class=\"data row2 col16\" >0</td> \n",
       "        <td id=\"T_a3378cee_3a59_11e8_9d23_aaa795456fa7row2_col17\" class=\"data row2 col17\" >0</td> \n",
       "    </tr>    <tr> \n",
       "        <th id=\"T_a3378cee_3a59_11e8_9d23_aaa795456fa7level0_row3\" class=\"row_heading level0 row3\" >3</th> \n",
       "        <td id=\"T_a3378cee_3a59_11e8_9d23_aaa795456fa7row3_col0\" class=\"data row3 col0\" >158</td> \n",
       "        <td id=\"T_a3378cee_3a59_11e8_9d23_aaa795456fa7row3_col1\" class=\"data row3 col1\" >-1</td> \n",
       "        <td id=\"T_a3378cee_3a59_11e8_9d23_aaa795456fa7row3_col2\" class=\"data row3 col2\" >-1</td> \n",
       "        <td id=\"T_a3378cee_3a59_11e8_9d23_aaa795456fa7row3_col3\" class=\"data row3 col3\" >0</td> \n",
       "        <td id=\"T_a3378cee_3a59_11e8_9d23_aaa795456fa7row3_col4\" class=\"data row3 col4\" >0</td> \n",
       "        <td id=\"T_a3378cee_3a59_11e8_9d23_aaa795456fa7row3_col5\" class=\"data row3 col5\" >0</td> \n",
       "        <td id=\"T_a3378cee_3a59_11e8_9d23_aaa795456fa7row3_col6\" class=\"data row3 col6\" >0</td> \n",
       "        <td id=\"T_a3378cee_3a59_11e8_9d23_aaa795456fa7row3_col7\" class=\"data row3 col7\" >0</td> \n",
       "        <td id=\"T_a3378cee_3a59_11e8_9d23_aaa795456fa7row3_col8\" class=\"data row3 col8\" >0</td> \n",
       "        <td id=\"T_a3378cee_3a59_11e8_9d23_aaa795456fa7row3_col9\" class=\"data row3 col9\" >0</td> \n",
       "        <td id=\"T_a3378cee_3a59_11e8_9d23_aaa795456fa7row3_col10\" class=\"data row3 col10\" >0</td> \n",
       "        <td id=\"T_a3378cee_3a59_11e8_9d23_aaa795456fa7row3_col11\" class=\"data row3 col11\" >0</td> \n",
       "        <td id=\"T_a3378cee_3a59_11e8_9d23_aaa795456fa7row3_col12\" class=\"data row3 col12\" >0</td> \n",
       "        <td id=\"T_a3378cee_3a59_11e8_9d23_aaa795456fa7row3_col13\" class=\"data row3 col13\" >0</td> \n",
       "        <td id=\"T_a3378cee_3a59_11e8_9d23_aaa795456fa7row3_col14\" class=\"data row3 col14\" >0</td> \n",
       "        <td id=\"T_a3378cee_3a59_11e8_9d23_aaa795456fa7row3_col15\" class=\"data row3 col15\" >0</td> \n",
       "        <td id=\"T_a3378cee_3a59_11e8_9d23_aaa795456fa7row3_col16\" class=\"data row3 col16\" >0</td> \n",
       "        <td id=\"T_a3378cee_3a59_11e8_9d23_aaa795456fa7row3_col17\" class=\"data row3 col17\" >0</td> \n",
       "    </tr>    <tr> \n",
       "        <th id=\"T_a3378cee_3a59_11e8_9d23_aaa795456fa7level0_row4\" class=\"row_heading level0 row4\" >4</th> \n",
       "        <td id=\"T_a3378cee_3a59_11e8_9d23_aaa795456fa7row4_col0\" class=\"data row4 col0\" >87</td> \n",
       "        <td id=\"T_a3378cee_3a59_11e8_9d23_aaa795456fa7row4_col1\" class=\"data row4 col1\" >0</td> \n",
       "        <td id=\"T_a3378cee_3a59_11e8_9d23_aaa795456fa7row4_col2\" class=\"data row4 col2\" >0</td> \n",
       "        <td id=\"T_a3378cee_3a59_11e8_9d23_aaa795456fa7row4_col3\" class=\"data row4 col3\" >0</td> \n",
       "        <td id=\"T_a3378cee_3a59_11e8_9d23_aaa795456fa7row4_col4\" class=\"data row4 col4\" >0</td> \n",
       "        <td id=\"T_a3378cee_3a59_11e8_9d23_aaa795456fa7row4_col5\" class=\"data row4 col5\" >0</td> \n",
       "        <td id=\"T_a3378cee_3a59_11e8_9d23_aaa795456fa7row4_col6\" class=\"data row4 col6\" >0</td> \n",
       "        <td id=\"T_a3378cee_3a59_11e8_9d23_aaa795456fa7row4_col7\" class=\"data row4 col7\" >0</td> \n",
       "        <td id=\"T_a3378cee_3a59_11e8_9d23_aaa795456fa7row4_col8\" class=\"data row4 col8\" >0</td> \n",
       "        <td id=\"T_a3378cee_3a59_11e8_9d23_aaa795456fa7row4_col9\" class=\"data row4 col9\" >0</td> \n",
       "        <td id=\"T_a3378cee_3a59_11e8_9d23_aaa795456fa7row4_col10\" class=\"data row4 col10\" >0</td> \n",
       "        <td id=\"T_a3378cee_3a59_11e8_9d23_aaa795456fa7row4_col11\" class=\"data row4 col11\" >-1</td> \n",
       "        <td id=\"T_a3378cee_3a59_11e8_9d23_aaa795456fa7row4_col12\" class=\"data row4 col12\" >0</td> \n",
       "        <td id=\"T_a3378cee_3a59_11e8_9d23_aaa795456fa7row4_col13\" class=\"data row4 col13\" >0</td> \n",
       "        <td id=\"T_a3378cee_3a59_11e8_9d23_aaa795456fa7row4_col14\" class=\"data row4 col14\" >0</td> \n",
       "        <td id=\"T_a3378cee_3a59_11e8_9d23_aaa795456fa7row4_col15\" class=\"data row4 col15\" >0</td> \n",
       "        <td id=\"T_a3378cee_3a59_11e8_9d23_aaa795456fa7row4_col16\" class=\"data row4 col16\" >0</td> \n",
       "        <td id=\"T_a3378cee_3a59_11e8_9d23_aaa795456fa7row4_col17\" class=\"data row4 col17\" >0</td> \n",
       "    </tr>    <tr> \n",
       "        <th id=\"T_a3378cee_3a59_11e8_9d23_aaa795456fa7level0_row5\" class=\"row_heading level0 row5\" >5</th> \n",
       "        <td id=\"T_a3378cee_3a59_11e8_9d23_aaa795456fa7row5_col0\" class=\"data row5 col0\" >82</td> \n",
       "        <td id=\"T_a3378cee_3a59_11e8_9d23_aaa795456fa7row5_col1\" class=\"data row5 col1\" >-1</td> \n",
       "        <td id=\"T_a3378cee_3a59_11e8_9d23_aaa795456fa7row5_col2\" class=\"data row5 col2\" >-1</td> \n",
       "        <td id=\"T_a3378cee_3a59_11e8_9d23_aaa795456fa7row5_col3\" class=\"data row5 col3\" >0</td> \n",
       "        <td id=\"T_a3378cee_3a59_11e8_9d23_aaa795456fa7row5_col4\" class=\"data row5 col4\" >0</td> \n",
       "        <td id=\"T_a3378cee_3a59_11e8_9d23_aaa795456fa7row5_col5\" class=\"data row5 col5\" >0</td> \n",
       "        <td id=\"T_a3378cee_3a59_11e8_9d23_aaa795456fa7row5_col6\" class=\"data row5 col6\" >0</td> \n",
       "        <td id=\"T_a3378cee_3a59_11e8_9d23_aaa795456fa7row5_col7\" class=\"data row5 col7\" >0</td> \n",
       "        <td id=\"T_a3378cee_3a59_11e8_9d23_aaa795456fa7row5_col8\" class=\"data row5 col8\" >0</td> \n",
       "        <td id=\"T_a3378cee_3a59_11e8_9d23_aaa795456fa7row5_col9\" class=\"data row5 col9\" >0</td> \n",
       "        <td id=\"T_a3378cee_3a59_11e8_9d23_aaa795456fa7row5_col10\" class=\"data row5 col10\" >0</td> \n",
       "        <td id=\"T_a3378cee_3a59_11e8_9d23_aaa795456fa7row5_col11\" class=\"data row5 col11\" >-1</td> \n",
       "        <td id=\"T_a3378cee_3a59_11e8_9d23_aaa795456fa7row5_col12\" class=\"data row5 col12\" >0</td> \n",
       "        <td id=\"T_a3378cee_3a59_11e8_9d23_aaa795456fa7row5_col13\" class=\"data row5 col13\" >0</td> \n",
       "        <td id=\"T_a3378cee_3a59_11e8_9d23_aaa795456fa7row5_col14\" class=\"data row5 col14\" >0</td> \n",
       "        <td id=\"T_a3378cee_3a59_11e8_9d23_aaa795456fa7row5_col15\" class=\"data row5 col15\" >0</td> \n",
       "        <td id=\"T_a3378cee_3a59_11e8_9d23_aaa795456fa7row5_col16\" class=\"data row5 col16\" >0</td> \n",
       "        <td id=\"T_a3378cee_3a59_11e8_9d23_aaa795456fa7row5_col17\" class=\"data row5 col17\" >0</td> \n",
       "    </tr>    <tr> \n",
       "        <th id=\"T_a3378cee_3a59_11e8_9d23_aaa795456fa7level0_row6\" class=\"row_heading level0 row6\" >6</th> \n",
       "        <td id=\"T_a3378cee_3a59_11e8_9d23_aaa795456fa7row6_col0\" class=\"data row6 col0\" >19</td> \n",
       "        <td id=\"T_a3378cee_3a59_11e8_9d23_aaa795456fa7row6_col1\" class=\"data row6 col1\" >-1</td> \n",
       "        <td id=\"T_a3378cee_3a59_11e8_9d23_aaa795456fa7row6_col2\" class=\"data row6 col2\" >0</td> \n",
       "        <td id=\"T_a3378cee_3a59_11e8_9d23_aaa795456fa7row6_col3\" class=\"data row6 col3\" >0</td> \n",
       "        <td id=\"T_a3378cee_3a59_11e8_9d23_aaa795456fa7row6_col4\" class=\"data row6 col4\" >0</td> \n",
       "        <td id=\"T_a3378cee_3a59_11e8_9d23_aaa795456fa7row6_col5\" class=\"data row6 col5\" >0</td> \n",
       "        <td id=\"T_a3378cee_3a59_11e8_9d23_aaa795456fa7row6_col6\" class=\"data row6 col6\" >0</td> \n",
       "        <td id=\"T_a3378cee_3a59_11e8_9d23_aaa795456fa7row6_col7\" class=\"data row6 col7\" >0</td> \n",
       "        <td id=\"T_a3378cee_3a59_11e8_9d23_aaa795456fa7row6_col8\" class=\"data row6 col8\" >0</td> \n",
       "        <td id=\"T_a3378cee_3a59_11e8_9d23_aaa795456fa7row6_col9\" class=\"data row6 col9\" >0</td> \n",
       "        <td id=\"T_a3378cee_3a59_11e8_9d23_aaa795456fa7row6_col10\" class=\"data row6 col10\" >0</td> \n",
       "        <td id=\"T_a3378cee_3a59_11e8_9d23_aaa795456fa7row6_col11\" class=\"data row6 col11\" >0</td> \n",
       "        <td id=\"T_a3378cee_3a59_11e8_9d23_aaa795456fa7row6_col12\" class=\"data row6 col12\" >0</td> \n",
       "        <td id=\"T_a3378cee_3a59_11e8_9d23_aaa795456fa7row6_col13\" class=\"data row6 col13\" >0</td> \n",
       "        <td id=\"T_a3378cee_3a59_11e8_9d23_aaa795456fa7row6_col14\" class=\"data row6 col14\" >0</td> \n",
       "        <td id=\"T_a3378cee_3a59_11e8_9d23_aaa795456fa7row6_col15\" class=\"data row6 col15\" >0</td> \n",
       "        <td id=\"T_a3378cee_3a59_11e8_9d23_aaa795456fa7row6_col16\" class=\"data row6 col16\" >0</td> \n",
       "        <td id=\"T_a3378cee_3a59_11e8_9d23_aaa795456fa7row6_col17\" class=\"data row6 col17\" >0</td> \n",
       "    </tr>    <tr> \n",
       "        <th id=\"T_a3378cee_3a59_11e8_9d23_aaa795456fa7level0_row7\" class=\"row_heading level0 row7\" >7</th> \n",
       "        <td id=\"T_a3378cee_3a59_11e8_9d23_aaa795456fa7row7_col0\" class=\"data row7 col0\" >4</td> \n",
       "        <td id=\"T_a3378cee_3a59_11e8_9d23_aaa795456fa7row7_col1\" class=\"data row7 col1\" >-1</td> \n",
       "        <td id=\"T_a3378cee_3a59_11e8_9d23_aaa795456fa7row7_col2\" class=\"data row7 col2\" >0</td> \n",
       "        <td id=\"T_a3378cee_3a59_11e8_9d23_aaa795456fa7row7_col3\" class=\"data row7 col3\" >0</td> \n",
       "        <td id=\"T_a3378cee_3a59_11e8_9d23_aaa795456fa7row7_col4\" class=\"data row7 col4\" >0</td> \n",
       "        <td id=\"T_a3378cee_3a59_11e8_9d23_aaa795456fa7row7_col5\" class=\"data row7 col5\" >0</td> \n",
       "        <td id=\"T_a3378cee_3a59_11e8_9d23_aaa795456fa7row7_col6\" class=\"data row7 col6\" >0</td> \n",
       "        <td id=\"T_a3378cee_3a59_11e8_9d23_aaa795456fa7row7_col7\" class=\"data row7 col7\" >0</td> \n",
       "        <td id=\"T_a3378cee_3a59_11e8_9d23_aaa795456fa7row7_col8\" class=\"data row7 col8\" >0</td> \n",
       "        <td id=\"T_a3378cee_3a59_11e8_9d23_aaa795456fa7row7_col9\" class=\"data row7 col9\" >0</td> \n",
       "        <td id=\"T_a3378cee_3a59_11e8_9d23_aaa795456fa7row7_col10\" class=\"data row7 col10\" >0</td> \n",
       "        <td id=\"T_a3378cee_3a59_11e8_9d23_aaa795456fa7row7_col11\" class=\"data row7 col11\" >-1</td> \n",
       "        <td id=\"T_a3378cee_3a59_11e8_9d23_aaa795456fa7row7_col12\" class=\"data row7 col12\" >0</td> \n",
       "        <td id=\"T_a3378cee_3a59_11e8_9d23_aaa795456fa7row7_col13\" class=\"data row7 col13\" >0</td> \n",
       "        <td id=\"T_a3378cee_3a59_11e8_9d23_aaa795456fa7row7_col14\" class=\"data row7 col14\" >0</td> \n",
       "        <td id=\"T_a3378cee_3a59_11e8_9d23_aaa795456fa7row7_col15\" class=\"data row7 col15\" >0</td> \n",
       "        <td id=\"T_a3378cee_3a59_11e8_9d23_aaa795456fa7row7_col16\" class=\"data row7 col16\" >0</td> \n",
       "        <td id=\"T_a3378cee_3a59_11e8_9d23_aaa795456fa7row7_col17\" class=\"data row7 col17\" >0</td> \n",
       "    </tr>    <tr> \n",
       "        <th id=\"T_a3378cee_3a59_11e8_9d23_aaa795456fa7level0_row8\" class=\"row_heading level0 row8\" >8</th> \n",
       "        <td id=\"T_a3378cee_3a59_11e8_9d23_aaa795456fa7row8_col0\" class=\"data row8 col0\" >2</td> \n",
       "        <td id=\"T_a3378cee_3a59_11e8_9d23_aaa795456fa7row8_col1\" class=\"data row8 col1\" >0</td> \n",
       "        <td id=\"T_a3378cee_3a59_11e8_9d23_aaa795456fa7row8_col2\" class=\"data row8 col2\" >0</td> \n",
       "        <td id=\"T_a3378cee_3a59_11e8_9d23_aaa795456fa7row8_col3\" class=\"data row8 col3\" >-1</td> \n",
       "        <td id=\"T_a3378cee_3a59_11e8_9d23_aaa795456fa7row8_col4\" class=\"data row8 col4\" >0</td> \n",
       "        <td id=\"T_a3378cee_3a59_11e8_9d23_aaa795456fa7row8_col5\" class=\"data row8 col5\" >0</td> \n",
       "        <td id=\"T_a3378cee_3a59_11e8_9d23_aaa795456fa7row8_col6\" class=\"data row8 col6\" >0</td> \n",
       "        <td id=\"T_a3378cee_3a59_11e8_9d23_aaa795456fa7row8_col7\" class=\"data row8 col7\" >0</td> \n",
       "        <td id=\"T_a3378cee_3a59_11e8_9d23_aaa795456fa7row8_col8\" class=\"data row8 col8\" >0</td> \n",
       "        <td id=\"T_a3378cee_3a59_11e8_9d23_aaa795456fa7row8_col9\" class=\"data row8 col9\" >0</td> \n",
       "        <td id=\"T_a3378cee_3a59_11e8_9d23_aaa795456fa7row8_col10\" class=\"data row8 col10\" >0</td> \n",
       "        <td id=\"T_a3378cee_3a59_11e8_9d23_aaa795456fa7row8_col11\" class=\"data row8 col11\" >0</td> \n",
       "        <td id=\"T_a3378cee_3a59_11e8_9d23_aaa795456fa7row8_col12\" class=\"data row8 col12\" >0</td> \n",
       "        <td id=\"T_a3378cee_3a59_11e8_9d23_aaa795456fa7row8_col13\" class=\"data row8 col13\" >0</td> \n",
       "        <td id=\"T_a3378cee_3a59_11e8_9d23_aaa795456fa7row8_col14\" class=\"data row8 col14\" >0</td> \n",
       "        <td id=\"T_a3378cee_3a59_11e8_9d23_aaa795456fa7row8_col15\" class=\"data row8 col15\" >0</td> \n",
       "        <td id=\"T_a3378cee_3a59_11e8_9d23_aaa795456fa7row8_col16\" class=\"data row8 col16\" >0</td> \n",
       "        <td id=\"T_a3378cee_3a59_11e8_9d23_aaa795456fa7row8_col17\" class=\"data row8 col17\" >0</td> \n",
       "    </tr>    <tr> \n",
       "        <th id=\"T_a3378cee_3a59_11e8_9d23_aaa795456fa7level0_row9\" class=\"row_heading level0 row9\" >9</th> \n",
       "        <td id=\"T_a3378cee_3a59_11e8_9d23_aaa795456fa7row9_col0\" class=\"data row9 col0\" >1</td> \n",
       "        <td id=\"T_a3378cee_3a59_11e8_9d23_aaa795456fa7row9_col1\" class=\"data row9 col1\" >0</td> \n",
       "        <td id=\"T_a3378cee_3a59_11e8_9d23_aaa795456fa7row9_col2\" class=\"data row9 col2\" >-1</td> \n",
       "        <td id=\"T_a3378cee_3a59_11e8_9d23_aaa795456fa7row9_col3\" class=\"data row9 col3\" >0</td> \n",
       "        <td id=\"T_a3378cee_3a59_11e8_9d23_aaa795456fa7row9_col4\" class=\"data row9 col4\" >-1</td> \n",
       "        <td id=\"T_a3378cee_3a59_11e8_9d23_aaa795456fa7row9_col5\" class=\"data row9 col5\" >0</td> \n",
       "        <td id=\"T_a3378cee_3a59_11e8_9d23_aaa795456fa7row9_col6\" class=\"data row9 col6\" >0</td> \n",
       "        <td id=\"T_a3378cee_3a59_11e8_9d23_aaa795456fa7row9_col7\" class=\"data row9 col7\" >0</td> \n",
       "        <td id=\"T_a3378cee_3a59_11e8_9d23_aaa795456fa7row9_col8\" class=\"data row9 col8\" >0</td> \n",
       "        <td id=\"T_a3378cee_3a59_11e8_9d23_aaa795456fa7row9_col9\" class=\"data row9 col9\" >0</td> \n",
       "        <td id=\"T_a3378cee_3a59_11e8_9d23_aaa795456fa7row9_col10\" class=\"data row9 col10\" >0</td> \n",
       "        <td id=\"T_a3378cee_3a59_11e8_9d23_aaa795456fa7row9_col11\" class=\"data row9 col11\" >-1</td> \n",
       "        <td id=\"T_a3378cee_3a59_11e8_9d23_aaa795456fa7row9_col12\" class=\"data row9 col12\" >0</td> \n",
       "        <td id=\"T_a3378cee_3a59_11e8_9d23_aaa795456fa7row9_col13\" class=\"data row9 col13\" >0</td> \n",
       "        <td id=\"T_a3378cee_3a59_11e8_9d23_aaa795456fa7row9_col14\" class=\"data row9 col14\" >0</td> \n",
       "        <td id=\"T_a3378cee_3a59_11e8_9d23_aaa795456fa7row9_col15\" class=\"data row9 col15\" >0</td> \n",
       "        <td id=\"T_a3378cee_3a59_11e8_9d23_aaa795456fa7row9_col16\" class=\"data row9 col16\" >0</td> \n",
       "        <td id=\"T_a3378cee_3a59_11e8_9d23_aaa795456fa7row9_col17\" class=\"data row9 col17\" >0</td> \n",
       "    </tr>    <tr> \n",
       "        <th id=\"T_a3378cee_3a59_11e8_9d23_aaa795456fa7level0_row10\" class=\"row_heading level0 row10\" > </th> \n",
       "        <td id=\"T_a3378cee_3a59_11e8_9d23_aaa795456fa7row10_col0\" class=\"data row10 col0\" >Missing_Nums</td> \n",
       "        <td id=\"T_a3378cee_3a59_11e8_9d23_aaa795456fa7row10_col1\" class=\"data row10 col1\" >263</td> \n",
       "        <td id=\"T_a3378cee_3a59_11e8_9d23_aaa795456fa7row10_col2\" class=\"data row10 col2\" >1014</td> \n",
       "        <td id=\"T_a3378cee_3a59_11e8_9d23_aaa795456fa7row10_col3\" class=\"data row10 col3\" >2</td> \n",
       "        <td id=\"T_a3378cee_3a59_11e8_9d23_aaa795456fa7row10_col4\" class=\"data row10 col4\" >1</td> \n",
       "        <td id=\"T_a3378cee_3a59_11e8_9d23_aaa795456fa7row10_col5\" class=\"data row10 col5\" >0</td> \n",
       "        <td id=\"T_a3378cee_3a59_11e8_9d23_aaa795456fa7row10_col6\" class=\"data row10 col6\" >0</td> \n",
       "        <td id=\"T_a3378cee_3a59_11e8_9d23_aaa795456fa7row10_col7\" class=\"data row10 col7\" >0</td> \n",
       "        <td id=\"T_a3378cee_3a59_11e8_9d23_aaa795456fa7row10_col8\" class=\"data row10 col8\" >0</td> \n",
       "        <td id=\"T_a3378cee_3a59_11e8_9d23_aaa795456fa7row10_col9\" class=\"data row10 col9\" >0</td> \n",
       "        <td id=\"T_a3378cee_3a59_11e8_9d23_aaa795456fa7row10_col10\" class=\"data row10 col10\" >0</td> \n",
       "        <td id=\"T_a3378cee_3a59_11e8_9d23_aaa795456fa7row10_col11\" class=\"data row10 col11\" >418</td> \n",
       "        <td id=\"T_a3378cee_3a59_11e8_9d23_aaa795456fa7row10_col12\" class=\"data row10 col12\" >0</td> \n",
       "        <td id=\"T_a3378cee_3a59_11e8_9d23_aaa795456fa7row10_col13\" class=\"data row10 col13\" >0</td> \n",
       "        <td id=\"T_a3378cee_3a59_11e8_9d23_aaa795456fa7row10_col14\" class=\"data row10 col14\" >0</td> \n",
       "        <td id=\"T_a3378cee_3a59_11e8_9d23_aaa795456fa7row10_col15\" class=\"data row10 col15\" >0</td> \n",
       "        <td id=\"T_a3378cee_3a59_11e8_9d23_aaa795456fa7row10_col16\" class=\"data row10 col16\" >0</td> \n",
       "        <td id=\"T_a3378cee_3a59_11e8_9d23_aaa795456fa7row10_col17\" class=\"data row10 col17\" >0</td> \n",
       "    </tr></tbody> \n",
       "</table> "
      ],
      "text/plain": [
       "<pandas.io.formats.style.Styler at 0x203b8988630>"
      ]
     },
     "execution_count": 8,
     "metadata": {},
     "output_type": "execute_result"
    }
   ],
   "source": []
  },
  {
   "cell_type": "markdown",
   "metadata": {},
   "source": [
    "### step 4. 删除缺失值列 Cabin\n",
    "1先copy数据 2dropna axis =1 时,subset 指索引列\n",
    "\n",
    "data_temp = data_train.copy()\n",
    "#### 运用drop方法"
   ]
  },
  {
   "cell_type": "code",
   "execution_count": 33,
   "metadata": {
    "ExecuteTime": {
     "end_time": "2018-04-07T12:08:40.527682Z",
     "start_time": "2018-04-07T12:08:40.520817Z"
    },
    "collapsed": true
   },
   "outputs": [],
   "source": []
  },
  {
   "cell_type": "markdown",
   "metadata": {},
   "source": [
    "#### 运用dropna方法"
   ]
  },
  {
   "cell_type": "code",
   "execution_count": 31,
   "metadata": {
    "ExecuteTime": {
     "end_time": "2018-04-07T12:05:11.326480Z",
     "start_time": "2018-04-07T12:05:11.315686Z"
    }
   },
   "outputs": [
    {
     "data": {
      "text/plain": [
       "(1309, 12)"
      ]
     },
     "execution_count": 31,
     "metadata": {},
     "output_type": "execute_result"
    }
   ],
   "source": []
  },
  {
   "cell_type": "markdown",
   "metadata": {},
   "source": [
    "### step 5. 删除缺失值行 Fare 缺失的行\n",
    "先copy数据\n",
    "\n",
    "data_temp = data_train.copy()"
   ]
  },
  {
   "cell_type": "code",
   "execution_count": 34,
   "metadata": {
    "ExecuteTime": {
     "end_time": "2018-04-07T12:12:34.185963Z",
     "start_time": "2018-04-07T12:12:34.179092Z"
    },
    "collapsed": true
   },
   "outputs": [],
   "source": []
  },
  {
   "cell_type": "markdown",
   "metadata": {},
   "source": [
    "### step 6.删除超过三个缺失的行数据 \n",
    "['Cabin','Age','Embarked']"
   ]
  },
  {
   "cell_type": "code",
   "execution_count": null,
   "metadata": {
    "ExecuteTime": {
     "end_time": "2018-03-17T08:13:15.290914Z",
     "start_time": "2018-03-17T08:13:15.281890Z"
    },
    "collapsed": true
   },
   "outputs": [],
   "source": []
  },
  {
   "cell_type": "code",
   "execution_count": null,
   "metadata": {
    "ExecuteTime": {
     "end_time": "2018-03-17T08:13:15.583615Z",
     "start_time": "2018-03-17T08:13:15.562560Z"
    },
    "collapsed": true
   },
   "outputs": [],
   "source": [
    "d1.count() #非空元素计算\n",
    "d1.min() #最小值\n",
    "d1.max() #最大值\n",
    "d1.idxmin() #最小值的位置，类似于R中的which.min函数\n",
    "d1.idxmax() #最大值的位置，类似于R中的which.max函数\n",
    "d1.quantile(0.1) #10%分位数\n",
    "d1.sum() #求和\n",
    "d1.mean() #均值\n",
    "d1.median() #中位数\n",
    "d1.mode() #众数\n",
    "d1.var() #方差\n",
    "d1.std() #标准差\n",
    "d1.mad() #平均绝对偏差\n",
    "d1.skew() #偏度\n",
    "d1.kurt() #峰度\n",
    "d1.describe() #一次性输出多个描述性统计指标"
   ]
  },
  {
   "cell_type": "markdown",
   "metadata": {},
   "source": [
    "## 缺失值替换\n",
    "**<font color=blue>缺失值替换  fillna</font>**<br>\n",
    "\n",
    "* [Pandas参考文档](http://pandas.pydata.org/pandas-docs/stable/generated/pandas.DataFrame.fillna.html?highlight=fillna#pandas.DataFrame.fillna)"
   ]
  },
  {
   "cell_type": "markdown",
   "metadata": {},
   "source": [
    "### step 7. 用均值替换Fare缺失值"
   ]
  },
  {
   "cell_type": "code",
   "execution_count": null,
   "metadata": {
    "ExecuteTime": {
     "end_time": "2018-03-17T08:13:25.084971Z",
     "start_time": "2018-03-17T08:13:25.079955Z"
    },
    "collapsed": true
   },
   "outputs": [],
   "source": []
  },
  {
   "cell_type": "markdown",
   "metadata": {},
   "source": [
    "### step 8. 用特定值替换Fare缺失值"
   ]
  },
  {
   "cell_type": "code",
   "execution_count": null,
   "metadata": {
    "collapsed": true
   },
   "outputs": [],
   "source": [
    " # 用特定值替换"
   ]
  },
  {
   "cell_type": "markdown",
   "metadata": {},
   "source": [
    "### step 9. 用前一个值值替换Fare缺失值"
   ]
  },
  {
   "cell_type": "code",
   "execution_count": null,
   "metadata": {
    "ExecuteTime": {
     "end_time": "2018-03-17T08:13:25.902832Z",
     "start_time": "2018-03-17T08:13:25.895813Z"
    },
    "collapsed": true
   },
   "outputs": [],
   "source": [
    "#用前一个值替换"
   ]
  },
  {
   "cell_type": "markdown",
   "metadata": {},
   "source": [
    "### step 10. 用replace 标记Age 缺失值为 -1"
   ]
  },
  {
   "cell_type": "code",
   "execution_count": null,
   "metadata": {
    "ExecuteTime": {
     "end_time": "2018-03-17T08:13:26.537856Z",
     "start_time": "2018-03-17T08:13:26.527829Z"
    },
    "collapsed": true
   },
   "outputs": [],
   "source": []
  },
  {
   "cell_type": "markdown",
   "metadata": {},
   "source": [
    "### step 11. 用replace 对Age 特定值进行替换(基于列表 和 字典)\n",
    "0.42: 0 ;-1000: np.nan "
   ]
  },
  {
   "cell_type": "code",
   "execution_count": null,
   "metadata": {
    "collapsed": true
   },
   "outputs": [],
   "source": [
    "# 基于字典\n"
   ]
  },
  {
   "cell_type": "code",
   "execution_count": null,
   "metadata": {
    "ExecuteTime": {
     "end_time": "2018-03-17T08:13:33.970102Z",
     "start_time": "2018-03-17T08:13:33.966117Z"
    },
    "collapsed": true
   },
   "outputs": [],
   "source": [
    "# 基于列表\n"
   ]
  },
  {
   "cell_type": "markdown",
   "metadata": {},
   "source": [
    "### step12. 基于Initial条件填充Age（粗略）\n",
    "##Assigning the NaN Values with the Ceil values of the mean ages\n",
    "Mr:33 \\Mrs:36\\Master:5\\Miss:22\\Other:46"
   ]
  },
  {
   "cell_type": "code",
   "execution_count": null,
   "metadata": {
    "ExecuteTime": {
     "end_time": "2018-03-17T08:13:58.865700Z",
     "start_time": "2018-03-17T08:13:58.818577Z"
    },
    "collapsed": true
   },
   "outputs": [],
   "source": [
    " #So no null values left finally   检查是否还有空值"
   ]
  },
  {
   "cell_type": "markdown",
   "metadata": {},
   "source": [
    "### step 13. 基于连续变量的统计分布填充  \n",
    "随机random.randint() 抽取 \n",
    "[#在正负标准差之间选取]"
   ]
  },
  {
   "cell_type": "code",
   "execution_count": 36,
   "metadata": {
    "ExecuteTime": {
     "end_time": "2018-04-07T12:27:15.610508Z",
     "start_time": "2018-04-07T12:27:15.597576Z"
    },
    "collapsed": true
   },
   "outputs": [],
   "source": []
  },
  {
   "cell_type": "markdown",
   "metadata": {},
   "source": [
    "### step 14. 将抽取的数据填充到缺失位置\n",
    "isnan 是numpy 中的方法\n",
    "#data['Age'][np.isnan(data['Age'])] = age_null_random_list   # 效果同样\n",
    "#data['Age'][data['Age'].isnull()]  = age_null_random_list   # 效果同样"
   ]
  },
  {
   "cell_type": "code",
   "execution_count": 37,
   "metadata": {
    "ExecuteTime": {
     "end_time": "2018-04-07T12:27:55.267113Z",
     "start_time": "2018-04-07T12:27:55.177114Z"
    }
   },
   "outputs": [
    {
     "name": "stderr",
     "output_type": "stream",
     "text": [
      "C:\\ProgramData\\Anaconda2\\envs\\gluon_py3\\lib\\site-packages\\ipykernel_launcher.py:3: SettingWithCopyWarning: \n",
      "A value is trying to be set on a copy of a slice from a DataFrame\n",
      "\n",
      "See the caveats in the documentation: http://pandas.pydata.org/pandas-docs/stable/indexing.html#indexing-view-versus-copy\n",
      "  This is separate from the ipykernel package so we can avoid doing imports until\n"
     ]
    }
   ],
   "source": []
  },
  {
   "cell_type": "markdown",
   "metadata": {},
   "source": [
    "### step 15. 运用模型拟合Age 进行缺失值填充\n",
    "'Age','Fare', 'Parch', 'SibSp'\n",
    "随机僧林方法"
   ]
  },
  {
   "cell_type": "markdown",
   "metadata": {},
   "source": [
    "* 用模型预测填充\n",
    "* 使用 RandomForestClassifier 填补缺失的年龄属性 \n",
    "* 随机森林不要求变量 转为数值型"
   ]
  },
  {
   "cell_type": "code",
   "execution_count": null,
   "metadata": {
    "ExecuteTime": {
     "end_time": "2018-03-17T08:13:35.747325Z",
     "start_time": "2018-03-17T08:13:35.631019Z"
    },
    "collapsed": true
   },
   "outputs": [],
   "source": [
    "from sklearn.ensemble import RandomForestRegressor\n",
    "def set_missing_ages(df):\n",
    "    \n",
    "    # 把已有的数值型特征取出来丢进Random Forest Regressor中\n",
    "    age_df = df[['Age','Fare', 'Parch', 'SibSp']]\n",
    "\n",
    "    # 乘客分成已知年龄和未知年龄两部分\n",
    "    known_age = age_df[age_df.Age.notnull()].as_matrix()\n",
    "    unknown_age = age_df[age_df.Age.isnull()].as_matrix()\n",
    "\n",
    "    # y即目标年龄\n",
    "    y = known_age[:, 0]\n",
    "\n",
    "    # X即特征属性值\n",
    "    X = known_age[:, 1:]\n",
    "\n",
    "    # fit到RandomForestRegressor之中\n",
    "    rfr = RandomForestRegressor(random_state=0, n_estimators=2000, n_jobs=-1)\n",
    "    rfr.fit(X, y)\n",
    "    \n",
    "    # 用得到的模型进行未知年龄结果预测\n",
    "    predictedAges = rfr.predict(unknown_age[:, 1::])\n",
    "    \n",
    "    # 用得到的预测结果填补原缺失数据\n",
    "    df['Age_prd'] =df['Age']\n",
    "    df.loc[ (df.Age.isnull()), 'Age_prd' ] = predictedAges \n",
    "    \n",
    "    return df, rfr"
   ]
  },
  {
   "cell_type": "markdown",
   "metadata": {},
   "source": [
    "### 随机森林模型返回拟合Age数据"
   ]
  },
  {
   "cell_type": "code",
   "execution_count": null,
   "metadata": {
    "ExecuteTime": {
     "end_time": "2018-03-17T08:13:38.913544Z",
     "start_time": "2018-03-17T08:13:36.273515Z"
    },
    "collapsed": true
   },
   "outputs": [],
   "source": [
    "data_train, rfr = set_missing_ages(data_train)"
   ]
  },
  {
   "cell_type": "code",
   "execution_count": null,
   "metadata": {
    "ExecuteTime": {
     "end_time": "2018-03-17T08:13:38.914548Z",
     "start_time": "2018-03-17T08:13:36.726Z"
    },
    "collapsed": true
   },
   "outputs": [],
   "source": [
    "# data.Age_prd.astype('int').value_counts(dropna=False).plot(kind ='bar',figsize=(18,6))\n",
    "# temp = data.Age_prd.astype('int').value_counts(dropna=False).to_frame(name ='age_count').reset_index()\n",
    "# temp.columns =['Age','nums']\n",
    "# temp.sort_values('Age').plot(kind ='bar',x ='Age', y ='nums',figsize = (18,6))\n",
    "# data.head()\n",
    "# data.columns"
   ]
  },
  {
   "cell_type": "markdown",
   "metadata": {},
   "source": [
    "\n",
    "###  step 16. 画图前后对比"
   ]
  },
  {
   "cell_type": "code",
   "execution_count": 43,
   "metadata": {
    "ExecuteTime": {
     "end_time": "2018-04-07T12:33:03.326321Z",
     "start_time": "2018-04-07T12:33:02.868149Z"
    }
   },
   "outputs": [
    {
     "data": {
      "image/png": "[encoded data removed]",
      "text/plain": [
       "<Figure size 1296x432 with 2 Axes>"
      ]
     },
     "metadata": {},
     "output_type": "display_data"
    }
   ],
   "source": [
    "fig,(axis1,axis2) = plt.subplots(1,2,figsize=(18,6))\n",
    "data_train['Age'].dropna().astype(int).hist(bins=70, ax=axis1)\n",
    "data_train['AgeFill'].hist(bins=70, ax=axis2)\n",
    "plt.show()"
   ]
  },
  {
   "cell_type": "code",
   "execution_count": 49,
   "metadata": {
    "ExecuteTime": {
     "end_time": "2018-04-07T12:36:36.474175Z",
     "start_time": "2018-04-07T12:36:36.124806Z"
    }
   },
   "outputs": [
    {
     "data": {
      "image/png": "[encoded data removed]",
      "text/plain": [
       "<Figure size 648x432 with 1 Axes>"
      ]
     },
     "metadata": {},
     "output_type": "display_data"
    }
   ],
   "source": [
    "fig,axis1 = plt.subplots(1,1,figsize=(9,6))\n",
    "data_train['Age'].dropna().astype(int).hist(bins=70,color ='r',alpha=0.2, ax=axis1)\n",
    "data_train['AgeFill'].hist(bins=70,color ='g',alpha=0.2, ax=axis1)\n",
    "plt.show()"
   ]
  },
  {
   "cell_type": "markdown",
   "metadata": {},
   "source": [
    "### step 17. 离散型变量Embarked-用众数填充  mode()   \n",
    "中位数median()  -->数值型\n",
    "\n",
    "#### Embarked"
   ]
  },
  {
   "cell_type": "code",
   "execution_count": null,
   "metadata": {
    "ExecuteTime": {
     "end_time": "2018-01-28T08:04:03.448531Z",
     "start_time": "2018-01-28T08:04:03.440511Z"
    },
    "collapsed": true
   },
   "outputs": [],
   "source": []
  }
 ],
 "metadata": {
  "kernelspec": {
   "display_name": "python_3",
   "language": "python",
   "name": "python_3"
  },
  "language_info": {
   "codemirror_mode": {
    "name": "ipython",
    "version": 3
   },
   "file_extension": ".py",
   "mimetype": "text/x-python",
   "name": "python",
   "nbconvert_exporter": "python",
   "pygments_lexer": "ipython3",
   "version": "3.6.2"
  }
 },
 "nbformat": 4,
 "nbformat_minor": 2
}
