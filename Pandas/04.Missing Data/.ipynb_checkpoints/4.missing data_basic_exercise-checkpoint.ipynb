{
 "cells": [
  {
   "cell_type": "markdown",
   "metadata": {},
   "source": [
    "## 导入必要的库"
   ]
  },
  {
   "cell_type": "code",
   "execution_count": 1,
   "metadata": {
    "ExecuteTime": {
     "end_time": "2018-04-23T12:15:19.413771Z",
     "start_time": "2018-04-23T12:15:18.076624Z"
    }
   },
   "outputs": [],
   "source": [
    "import pandas as pd #数据分析\n",
    "import numpy as np #科学计算"
   ]
  },
  {
   "cell_type": "markdown",
   "metadata": {},
   "source": [
    "### 读取数据"
   ]
  },
  {
   "cell_type": "code",
   "execution_count": null,
   "metadata": {},
   "outputs": [],
   "source": []
  },
  {
   "cell_type": "markdown",
   "metadata": {},
   "source": [
    "## 一、缺失值\n",
    "1. 查看缺失值： 统计缺失值数，分布\n",
    "2. 数据缺失原因分析\n",
    "3. 缺失值处理：\n",
    "    + 缺失值删除（按行，按列[某几列]）\n",
    "    + 缺失值填充 \n",
    "        - **常规做法**：\n",
    "            - 非时序数据：基于统计方法：众数、中位数、均值\n",
    "            - 时序数据:前向、后向、插值填充等\n",
    "        - **进阶做法**：基于模型方法，如KNN、随机森林等等"
   ]
  },
  {
   "cell_type": "markdown",
   "metadata": {},
   "source": [
    "![缺失值](../pics/missing_data.png)\n",
    "该图取自参考资料1"
   ]
  },
  {
   "cell_type": "markdown",
   "metadata": {},
   "source": [
    "### 1.1. 查看缺失值数量\n"
   ]
  },
  {
   "cell_type": "code",
   "execution_count": null,
   "metadata": {},
   "outputs": [],
   "source": []
  },
  {
   "cell_type": "markdown",
   "metadata": {},
   "source": [
    "### 1.2. 查看非缺失值数量"
   ]
  },
  {
   "cell_type": "code",
   "execution_count": null,
   "metadata": {},
   "outputs": [],
   "source": []
  },
  {
   "cell_type": "markdown",
   "metadata": {},
   "source": [
    "### 1.3 数据整体缺失值分布\n",
    "\n",
    "上面的方法是孤立的去看每个字段的缺失情况。这是片面的。通常不同字段之间缺失是相关的，因此需要对数据表的整体缺失情况有一定的认识。"
   ]
  },
  {
   "cell_type": "code",
   "execution_count": 9,
   "metadata": {
    "scrolled": true
   },
   "outputs": [],
   "source": [
    "# 安装必要的包 \n",
    "# !pip install missingno\n",
    "import missingno as msno"
   ]
  },
  {
   "cell_type": "markdown",
   "metadata": {},
   "source": [
    "更多资料参考如下：\n",
    "- [A Guide to Handling Missing values in Python](https://www.kaggle.com/parulpandey/a-guide-to-handling-missing-values-in-python)\n",
    "- [ResidentMario/missingno](https://github.com/ResidentMario/missingno#matrix)\n",
    "- [缺失值可视化处理--missingno](https://blog.csdn.net/Andy_shenzl/article/details/81633356)"
   ]
  },
  {
   "cell_type": "code",
   "execution_count": null,
   "metadata": {},
   "outputs": [],
   "source": []
  },
  {
   "cell_type": "markdown",
   "metadata": {},
   "source": [
    "## 二、数据缺失原因分析"
   ]
  },
  {
   "cell_type": "markdown",
   "metadata": {},
   "source": [
    "对于缺失值的处理通常按照下面的逻辑进行。\n",
    "1. 首先明确缺失值的缺失的原因。\n",
    "    - 数据采集逻辑导致（比如某渠道进来的客户，不需要填写收入，导致收入缺失）\n",
    "    - 是不是随机因素导致\n"
   ]
  },
  {
   "cell_type": "code",
   "execution_count": null,
   "metadata": {},
   "outputs": [],
   "source": []
  },
  {
   "cell_type": "markdown",
   "metadata": {},
   "source": [
    "## 三、缺失值处理"
   ]
  },
  {
   "cell_type": "markdown",
   "metadata": {},
   "source": [
    "基于不同的原因，采取不同的处理方式。"
   ]
  },
  {
   "cell_type": "markdown",
   "metadata": {},
   "source": [
    "### 3.1. 删除含有缺失值的Cabin列 \n",
    "运用 drop/dropna方法， axis =1 时,subset 指定列名"
   ]
  },
  {
   "cell_type": "code",
   "execution_count": null,
   "metadata": {},
   "outputs": [],
   "source": []
  },
  {
   "cell_type": "markdown",
   "metadata": {},
   "source": [
    "### 3.2. 删除缺失值行 Cabin 缺失的行\n"
   ]
  },
  {
   "cell_type": "code",
   "execution_count": null,
   "metadata": {},
   "outputs": [],
   "source": []
  },
  {
   "cell_type": "markdown",
   "metadata": {},
   "source": [
    "### 3.3. 删除超过三个缺失的样本(行)数据 \n",
    "['Cabin','Age','Embarked']"
   ]
  },
  {
   "cell_type": "code",
   "execution_count": null,
   "metadata": {},
   "outputs": [],
   "source": []
  },
  {
   "cell_type": "markdown",
   "metadata": {},
   "source": [
    "## 缺失值替换\n",
    "**<font color=blue>缺失值替换  fillna</font>**<br>\n",
    "\n",
    "* [Pandas参考文档](http://pandas.pydata.org/pandas-docs/stable/generated/pandas.DataFrame.fillna.html?highlight=fillna#pandas.DataFrame.fillna)"
   ]
  },
  {
   "cell_type": "markdown",
   "metadata": {},
   "source": [
    "### step 6. 用均值替换Fare缺失值"
   ]
  },
  {
   "cell_type": "code",
   "execution_count": null,
   "metadata": {},
   "outputs": [],
   "source": []
  },
  {
   "cell_type": "markdown",
   "metadata": {},
   "source": [
    "### step 7. 用特定值替换Fare缺失值"
   ]
  },
  {
   "cell_type": "code",
   "execution_count": null,
   "metadata": {},
   "outputs": [],
   "source": []
  },
  {
   "cell_type": "markdown",
   "metadata": {},
   "source": [
    "### step 8. 用前一个值值替换Fare缺失值"
   ]
  },
  {
   "cell_type": "code",
   "execution_count": null,
   "metadata": {},
   "outputs": [],
   "source": []
  },
  {
   "cell_type": "markdown",
   "metadata": {},
   "source": [
    "### step 9. 用replace 标记Age 缺失值为 -1"
   ]
  },
  {
   "cell_type": "code",
   "execution_count": null,
   "metadata": {},
   "outputs": [],
   "source": []
  },
  {
   "cell_type": "markdown",
   "metadata": {},
   "source": [
    "### step 10. 用replace 对Age 特定值进行替换(基于列表 和 字典)\n",
    "0.42: 0 ;-1000: np.nan "
   ]
  },
  {
   "cell_type": "code",
   "execution_count": null,
   "metadata": {},
   "outputs": [],
   "source": []
  },
  {
   "cell_type": "markdown",
   "metadata": {},
   "source": [
    "### step11. 基于Initial条件填充Age（粗略）\n",
    "##Assigning the NaN Values with the Ceil values of the mean ages\n",
    "Mr:33 \\Mrs:36\\Master:5\\Miss:22\\Other:46"
   ]
  },
  {
   "cell_type": "code",
   "execution_count": null,
   "metadata": {},
   "outputs": [],
   "source": []
  },
  {
   "cell_type": "markdown",
   "metadata": {},
   "source": [
    "### step 12. 基于连续变量的统计分布填充  \n",
    "随机random.randint() 抽取 \n",
    "[#在正负标准差之间选取]"
   ]
  },
  {
   "cell_type": "code",
   "execution_count": null,
   "metadata": {},
   "outputs": [],
   "source": []
  },
  {
   "cell_type": "markdown",
   "metadata": {},
   "source": [
    "### step 13. 将抽取的数据填充到缺失位置"
   ]
  },
  {
   "cell_type": "code",
   "execution_count": null,
   "metadata": {},
   "outputs": [],
   "source": []
  },
  {
   "cell_type": "markdown",
   "metadata": {},
   "source": [
    "### step 14. 离散型变量Embarked-用众数填充  mode()   \n",
    "中位数median()  -->数值型\n",
    "\n",
    "#### Embarked"
   ]
  },
  {
   "cell_type": "code",
   "execution_count": null,
   "metadata": {},
   "outputs": [],
   "source": []
  }
 ],
 "metadata": {
  "kernelspec": {
   "display_name": "Python 3",
   "language": "python",
   "name": "python3"
  },
  "language_info": {
   "codemirror_mode": {
    "name": "ipython",
    "version": 3
   },
   "file_extension": ".py",
   "mimetype": "text/x-python",
   "name": "python",
   "nbconvert_exporter": "python",
   "pygments_lexer": "ipython3",
   "version": "3.7.4"
  }
 },
 "nbformat": 4,
 "nbformat_minor": 2
}
