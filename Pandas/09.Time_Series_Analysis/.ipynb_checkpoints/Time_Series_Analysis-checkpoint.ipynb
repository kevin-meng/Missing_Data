{
 "cells": [
  {
   "cell_type": "markdown",
   "metadata": {},
   "source": [
    "### Step1: 导入必要的库"
   ]
  },
  {
   "cell_type": "code",
   "execution_count": 1,
   "metadata": {
    "ExecuteTime": {
     "end_time": "2018-04-27T04:55:20.461137Z",
     "start_time": "2018-04-27T04:55:19.158128Z"
    }
   },
   "outputs": [],
   "source": [
    "import pandas as pd #数据分析\n",
    "import numpy as np #科学计算\n",
    "import matplotlib\n",
    "import matplotlib.pyplot as plt\n",
    "import seaborn as sns"
   ]
  },
  {
   "cell_type": "code",
   "execution_count": 8,
   "metadata": {
    "ExecuteTime": {
     "end_time": "2018-04-27T04:56:36.237470Z",
     "start_time": "2018-04-27T04:56:36.233468Z"
    }
   },
   "outputs": [],
   "source": [
    "import os\n",
    "os.chdir('D:\\\\Python\\\\Git_test\\\\Data_Analysis')"
   ]
  },
  {
   "cell_type": "markdown",
   "metadata": {},
   "source": [
    "## 一、数据读取"
   ]
  },
  {
   "cell_type": "code",
   "execution_count": 9,
   "metadata": {
    "ExecuteTime": {
     "end_time": "2018-04-27T04:56:37.507638Z",
     "start_time": "2018-04-27T04:56:37.489634Z"
    }
   },
   "outputs": [],
   "source": [
    "data = pd.read_csv(\"./input/pratice_data.csv\",index_col = 0)"
   ]
  },
  {
   "cell_type": "code",
   "execution_count": 10,
   "metadata": {
    "ExecuteTime": {
     "end_time": "2018-04-27T04:56:38.179526Z",
     "start_time": "2018-04-27T04:56:38.176529Z"
    }
   },
   "outputs": [],
   "source": [
    "pd.set_option('display.max_columns',500)"
   ]
  },
  {
   "cell_type": "code",
   "execution_count": 79,
   "metadata": {
    "ExecuteTime": {
     "end_time": "2018-04-26T15:21:06.031122Z",
     "start_time": "2018-04-26T15:21:05.975100Z"
    }
   },
   "outputs": [
    {
     "data": {
      "text/html": [
       "<div>\n",
       "<style scoped>\n",
       "    .dataframe tbody tr th:only-of-type {\n",
       "        vertical-align: middle;\n",
       "    }\n",
       "\n",
       "    .dataframe tbody tr th {\n",
       "        vertical-align: top;\n",
       "    }\n",
       "\n",
       "    .dataframe thead th {\n",
       "        text-align: right;\n",
       "    }\n",
       "</style>\n",
       "<table border=\"1\" class=\"dataframe\">\n",
       "  <thead>\n",
       "    <tr style=\"text-align: right;\">\n",
       "      <th></th>\n",
       "      <th>Age</th>\n",
       "      <th>Cabin</th>\n",
       "      <th>Embarked</th>\n",
       "      <th>Fare</th>\n",
       "      <th>Name</th>\n",
       "      <th>Parch</th>\n",
       "      <th>PassengerId</th>\n",
       "      <th>Pclass</th>\n",
       "      <th>Sex</th>\n",
       "      <th>SibSp</th>\n",
       "      <th>Survived</th>\n",
       "      <th>Ticket</th>\n",
       "      <th>timestamp</th>\n",
       "      <th>title</th>\n",
       "      <th>genres</th>\n",
       "      <th>rating</th>\n",
       "      <th>timestamp_1</th>\n",
       "      <th>Timestamp</th>\n",
       "      <th>year</th>\n",
       "      <th>month</th>\n",
       "      <th>day</th>\n",
       "      <th>hour</th>\n",
       "      <th>minute</th>\n",
       "      <th>second</th>\n",
       "      <th>weekday</th>\n",
       "      <th>Timestamp1</th>\n",
       "      <th>date_str</th>\n",
       "      <th>week_num</th>\n",
       "      <th>data_offset1</th>\n",
       "      <th>date1</th>\n",
       "      <th>time1</th>\n",
       "      <th>Timestamp_1</th>\n",
       "      <th>time2</th>\n",
       "      <th>date2</th>\n",
       "    </tr>\n",
       "    <tr>\n",
       "      <th>id</th>\n",
       "      <th></th>\n",
       "      <th></th>\n",
       "      <th></th>\n",
       "      <th></th>\n",
       "      <th></th>\n",
       "      <th></th>\n",
       "      <th></th>\n",
       "      <th></th>\n",
       "      <th></th>\n",
       "      <th></th>\n",
       "      <th></th>\n",
       "      <th></th>\n",
       "      <th></th>\n",
       "      <th></th>\n",
       "      <th></th>\n",
       "      <th></th>\n",
       "      <th></th>\n",
       "      <th></th>\n",
       "      <th></th>\n",
       "      <th></th>\n",
       "      <th></th>\n",
       "      <th></th>\n",
       "      <th></th>\n",
       "      <th></th>\n",
       "      <th></th>\n",
       "      <th></th>\n",
       "      <th></th>\n",
       "      <th></th>\n",
       "      <th></th>\n",
       "      <th></th>\n",
       "      <th></th>\n",
       "      <th></th>\n",
       "      <th></th>\n",
       "      <th></th>\n",
       "    </tr>\n",
       "  </thead>\n",
       "  <tbody>\n",
       "    <tr>\n",
       "      <th>0</th>\n",
       "      <td>22.0</td>\n",
       "      <td>NaN</td>\n",
       "      <td>S</td>\n",
       "      <td>7.2500</td>\n",
       "      <td>Braund, Mr. Owen Harris</td>\n",
       "      <td>0</td>\n",
       "      <td>1</td>\n",
       "      <td>3</td>\n",
       "      <td>male</td>\n",
       "      <td>1</td>\n",
       "      <td>0.0</td>\n",
       "      <td>A/5 21171</td>\n",
       "      <td>03/23/2009 08:30:00</td>\n",
       "      <td>Toy Story (1995)</td>\n",
       "      <td>Animation|Children's|Comedy</td>\n",
       "      <td>5</td>\n",
       "      <td>978300760</td>\n",
       "      <td>2009-03-23 08:30:00</td>\n",
       "      <td>2009</td>\n",
       "      <td>3</td>\n",
       "      <td>23</td>\n",
       "      <td>8</td>\n",
       "      <td>30</td>\n",
       "      <td>0</td>\n",
       "      <td>1</td>\n",
       "      <td>2009-03-23 08:30:00</td>\n",
       "      <td>2009-03-23</td>\n",
       "      <td>13</td>\n",
       "      <td>2009-03-28 08:30:00.000115</td>\n",
       "      <td>2009-03-23</td>\n",
       "      <td>08:30:00</td>\n",
       "      <td>2001-01-01 06:12:40</td>\n",
       "      <td>06:12:40</td>\n",
       "      <td>2001-01-01</td>\n",
       "    </tr>\n",
       "    <tr>\n",
       "      <th>1</th>\n",
       "      <td>38.0</td>\n",
       "      <td>C85</td>\n",
       "      <td>C</td>\n",
       "      <td>71.2833</td>\n",
       "      <td>Cumings, Mrs. John Bradley (Florence Briggs Th...</td>\n",
       "      <td>0</td>\n",
       "      <td>2</td>\n",
       "      <td>1</td>\n",
       "      <td>female</td>\n",
       "      <td>1</td>\n",
       "      <td>1.0</td>\n",
       "      <td>PC 17599</td>\n",
       "      <td>03/26/2015 19:10:00</td>\n",
       "      <td>Jumanji (1995)</td>\n",
       "      <td>Adventure|Children's|Fantasy</td>\n",
       "      <td>3</td>\n",
       "      <td>978302109</td>\n",
       "      <td>2015-03-26 19:10:00</td>\n",
       "      <td>2015</td>\n",
       "      <td>3</td>\n",
       "      <td>26</td>\n",
       "      <td>19</td>\n",
       "      <td>10</td>\n",
       "      <td>0</td>\n",
       "      <td>4</td>\n",
       "      <td>2015-03-26 19:10:00</td>\n",
       "      <td>2015-03-26</td>\n",
       "      <td>13</td>\n",
       "      <td>2015-03-31 19:10:00.000115</td>\n",
       "      <td>2015-03-26</td>\n",
       "      <td>19:10:00</td>\n",
       "      <td>2001-01-01 06:35:09</td>\n",
       "      <td>06:35:09</td>\n",
       "      <td>2001-01-01</td>\n",
       "    </tr>\n",
       "    <tr>\n",
       "      <th>2</th>\n",
       "      <td>26.0</td>\n",
       "      <td>NaN</td>\n",
       "      <td>S</td>\n",
       "      <td>7.9250</td>\n",
       "      <td>Heikkinen, Miss. Laina</td>\n",
       "      <td>0</td>\n",
       "      <td>3</td>\n",
       "      <td>3</td>\n",
       "      <td>female</td>\n",
       "      <td>0</td>\n",
       "      <td>1.0</td>\n",
       "      <td>STON/O2. 3101282</td>\n",
       "      <td>01/07/2007 07:45:00</td>\n",
       "      <td>Grumpier Old Men (1995)</td>\n",
       "      <td>Comedy|Romance</td>\n",
       "      <td>3</td>\n",
       "      <td>978301968</td>\n",
       "      <td>2007-01-07 07:45:00</td>\n",
       "      <td>2007</td>\n",
       "      <td>1</td>\n",
       "      <td>7</td>\n",
       "      <td>7</td>\n",
       "      <td>45</td>\n",
       "      <td>0</td>\n",
       "      <td>7</td>\n",
       "      <td>2007-01-07 07:45:00</td>\n",
       "      <td>2007-01-07</td>\n",
       "      <td>1</td>\n",
       "      <td>2007-01-12 07:45:00.000115</td>\n",
       "      <td>2007-01-07</td>\n",
       "      <td>07:45:00</td>\n",
       "      <td>2001-01-01 06:32:48</td>\n",
       "      <td>06:32:48</td>\n",
       "      <td>2001-01-01</td>\n",
       "    </tr>\n",
       "    <tr>\n",
       "      <th>3</th>\n",
       "      <td>35.0</td>\n",
       "      <td>C123</td>\n",
       "      <td>S</td>\n",
       "      <td>53.1000</td>\n",
       "      <td>Futrelle, Mrs. Jacques Heath (Lily May Peel)</td>\n",
       "      <td>0</td>\n",
       "      <td>4</td>\n",
       "      <td>1</td>\n",
       "      <td>female</td>\n",
       "      <td>1</td>\n",
       "      <td>1.0</td>\n",
       "      <td>113803</td>\n",
       "      <td>04/18/2005 00:10:00</td>\n",
       "      <td>Waiting to Exhale (1995)</td>\n",
       "      <td>Comedy|Drama</td>\n",
       "      <td>4</td>\n",
       "      <td>978300275</td>\n",
       "      <td>2005-04-18 00:10:00</td>\n",
       "      <td>2005</td>\n",
       "      <td>4</td>\n",
       "      <td>18</td>\n",
       "      <td>0</td>\n",
       "      <td>10</td>\n",
       "      <td>0</td>\n",
       "      <td>1</td>\n",
       "      <td>2005-04-18 00:10:00</td>\n",
       "      <td>2005-04-18</td>\n",
       "      <td>16</td>\n",
       "      <td>2005-04-23 00:10:00.000115</td>\n",
       "      <td>2005-04-18</td>\n",
       "      <td>00:10:00</td>\n",
       "      <td>2001-01-01 06:04:35</td>\n",
       "      <td>06:04:35</td>\n",
       "      <td>2001-01-01</td>\n",
       "    </tr>\n",
       "    <tr>\n",
       "      <th>4</th>\n",
       "      <td>35.0</td>\n",
       "      <td>NaN</td>\n",
       "      <td>S</td>\n",
       "      <td>8.0500</td>\n",
       "      <td>Allen, Mr. William Henry</td>\n",
       "      <td>0</td>\n",
       "      <td>5</td>\n",
       "      <td>3</td>\n",
       "      <td>male</td>\n",
       "      <td>0</td>\n",
       "      <td>0.0</td>\n",
       "      <td>373450</td>\n",
       "      <td>02/25/2009 09:40:00</td>\n",
       "      <td>Father of the Bride Part II (1995)</td>\n",
       "      <td>Comedy</td>\n",
       "      <td>5</td>\n",
       "      <td>978824291</td>\n",
       "      <td>2009-02-25 09:40:00</td>\n",
       "      <td>2009</td>\n",
       "      <td>2</td>\n",
       "      <td>25</td>\n",
       "      <td>9</td>\n",
       "      <td>40</td>\n",
       "      <td>0</td>\n",
       "      <td>3</td>\n",
       "      <td>2009-02-25 09:40:00</td>\n",
       "      <td>2009-02-25</td>\n",
       "      <td>9</td>\n",
       "      <td>2009-03-02 09:40:00.000115</td>\n",
       "      <td>2009-02-25</td>\n",
       "      <td>09:40:00</td>\n",
       "      <td>2001-01-07 07:38:11</td>\n",
       "      <td>07:38:11</td>\n",
       "      <td>2001-01-07</td>\n",
       "    </tr>\n",
       "  </tbody>\n",
       "</table>\n",
       "</div>"
      ],
      "text/plain": [
       "     Age Cabin Embarked     Fare  \\\n",
       "id                                 \n",
       "0   22.0   NaN        S   7.2500   \n",
       "1   38.0   C85        C  71.2833   \n",
       "2   26.0   NaN        S   7.9250   \n",
       "3   35.0  C123        S  53.1000   \n",
       "4   35.0   NaN        S   8.0500   \n",
       "\n",
       "                                                 Name  Parch  PassengerId  \\\n",
       "id                                                                          \n",
       "0                             Braund, Mr. Owen Harris      0            1   \n",
       "1   Cumings, Mrs. John Bradley (Florence Briggs Th...      0            2   \n",
       "2                              Heikkinen, Miss. Laina      0            3   \n",
       "3        Futrelle, Mrs. Jacques Heath (Lily May Peel)      0            4   \n",
       "4                            Allen, Mr. William Henry      0            5   \n",
       "\n",
       "    Pclass     Sex  SibSp  Survived            Ticket            timestamp  \\\n",
       "id                                                                           \n",
       "0        3    male      1       0.0         A/5 21171  03/23/2009 08:30:00   \n",
       "1        1  female      1       1.0          PC 17599  03/26/2015 19:10:00   \n",
       "2        3  female      0       1.0  STON/O2. 3101282  01/07/2007 07:45:00   \n",
       "3        1  female      1       1.0            113803  04/18/2005 00:10:00   \n",
       "4        3    male      0       0.0            373450  02/25/2009 09:40:00   \n",
       "\n",
       "                                 title                        genres  rating  \\\n",
       "id                                                                             \n",
       "0                     Toy Story (1995)   Animation|Children's|Comedy       5   \n",
       "1                       Jumanji (1995)  Adventure|Children's|Fantasy       3   \n",
       "2              Grumpier Old Men (1995)                Comedy|Romance       3   \n",
       "3             Waiting to Exhale (1995)                  Comedy|Drama       4   \n",
       "4   Father of the Bride Part II (1995)                        Comedy       5   \n",
       "\n",
       "    timestamp_1           Timestamp  year  month  day  hour  minute  second  \\\n",
       "id                                                                            \n",
       "0     978300760 2009-03-23 08:30:00  2009      3   23     8      30       0   \n",
       "1     978302109 2015-03-26 19:10:00  2015      3   26    19      10       0   \n",
       "2     978301968 2007-01-07 07:45:00  2007      1    7     7      45       0   \n",
       "3     978300275 2005-04-18 00:10:00  2005      4   18     0      10       0   \n",
       "4     978824291 2009-02-25 09:40:00  2009      2   25     9      40       0   \n",
       "\n",
       "    weekday          Timestamp1    date_str  week_num  \\\n",
       "id                                                      \n",
       "0         1 2009-03-23 08:30:00  2009-03-23        13   \n",
       "1         4 2015-03-26 19:10:00  2015-03-26        13   \n",
       "2         7 2007-01-07 07:45:00  2007-01-07         1   \n",
       "3         1 2005-04-18 00:10:00  2005-04-18        16   \n",
       "4         3 2009-02-25 09:40:00  2009-02-25         9   \n",
       "\n",
       "                 data_offset1       date1     time1         Timestamp_1  \\\n",
       "id                                                                        \n",
       "0  2009-03-28 08:30:00.000115  2009-03-23  08:30:00 2001-01-01 06:12:40   \n",
       "1  2015-03-31 19:10:00.000115  2015-03-26  19:10:00 2001-01-01 06:35:09   \n",
       "2  2007-01-12 07:45:00.000115  2007-01-07  07:45:00 2001-01-01 06:32:48   \n",
       "3  2005-04-23 00:10:00.000115  2005-04-18  00:10:00 2001-01-01 06:04:35   \n",
       "4  2009-03-02 09:40:00.000115  2009-02-25  09:40:00 2001-01-07 07:38:11   \n",
       "\n",
       "       time2       date2  \n",
       "id                        \n",
       "0   06:12:40  2001-01-01  \n",
       "1   06:35:09  2001-01-01  \n",
       "2   06:32:48  2001-01-01  \n",
       "3   06:04:35  2001-01-01  \n",
       "4   07:38:11  2001-01-07  "
      ]
     },
     "execution_count": 79,
     "metadata": {},
     "output_type": "execute_result"
    }
   ],
   "source": [
    "data.head()"
   ]
  },
  {
   "cell_type": "markdown",
   "metadata": {},
   "source": [
    "### 处理时间字段"
   ]
  },
  {
   "cell_type": "markdown",
   "metadata": {},
   "source": [
    "#### 拆分时间段：年、月、日、小时、分钟、 星期、季度\n",
    "#### 日期偏移：\n",
    "#### 日期区间切片：\n"
   ]
  },
  {
   "cell_type": "code",
   "execution_count": 11,
   "metadata": {
    "ExecuteTime": {
     "end_time": "2018-04-27T04:56:42.912734Z",
     "start_time": "2018-04-27T04:56:42.909737Z"
    }
   },
   "outputs": [],
   "source": [
    "from datetime import datetime,timedelta"
   ]
  },
  {
   "cell_type": "markdown",
   "metadata": {},
   "source": [
    "### 将时间戳time_stamp 转化为datetime格式"
   ]
  },
  {
   "cell_type": "code",
   "execution_count": 17,
   "metadata": {
    "ExecuteTime": {
     "end_time": "2018-04-27T04:57:29.671595Z",
     "start_time": "2018-04-27T04:57:29.665557Z"
    }
   },
   "outputs": [],
   "source": [
    "data['Timestamp_1'] = data['timestamp_1'].apply(lambda x: datetime.fromtimestamp(x))"
   ]
  },
  {
   "cell_type": "markdown",
   "metadata": {},
   "source": [
    "### 将日期字符串转化为datetime格式"
   ]
  },
  {
   "cell_type": "markdown",
   "metadata": {},
   "source": [
    "#### 基于pandas datetime方法"
   ]
  },
  {
   "cell_type": "code",
   "execution_count": 14,
   "metadata": {
    "ExecuteTime": {
     "end_time": "2018-04-27T04:57:01.179723Z",
     "start_time": "2018-04-27T04:57:00.869649Z"
    }
   },
   "outputs": [],
   "source": [
    "data['Timestamp'] = data['timestamp'].apply(lambda x: pd.to_datetime(x))"
   ]
  },
  {
   "cell_type": "markdown",
   "metadata": {},
   "source": [
    "#### 基于datetime.strptime()方法"
   ]
  },
  {
   "cell_type": "code",
   "execution_count": 15,
   "metadata": {
    "ExecuteTime": {
     "end_time": "2018-04-27T04:57:02.012206Z",
     "start_time": "2018-04-27T04:57:01.979207Z"
    }
   },
   "outputs": [],
   "source": [
    "data['Timestamp1'] = data['timestamp'].apply(lambda x: datetime.strptime(x,'%m/%d/%Y %H:%M:%S'))"
   ]
  },
  {
   "cell_type": "markdown",
   "metadata": {},
   "source": [
    "### 将datetime格式转化为日期字符串\n",
    "http://strftime.org/"
   ]
  },
  {
   "cell_type": "code",
   "execution_count": 28,
   "metadata": {
    "ExecuteTime": {
     "end_time": "2018-04-26T14:34:31.789408Z",
     "start_time": "2018-04-26T14:34:31.770409Z"
    }
   },
   "outputs": [],
   "source": [
    "data['date_str'] = data['Timestamp'].apply(lambda x: datetime.strftime(x,'%Y-%m-%d'))"
   ]
  },
  {
   "cell_type": "markdown",
   "metadata": {},
   "source": [
    "### 从datetime格式中提取日期部 和 时间部"
   ]
  },
  {
   "cell_type": "code",
   "execution_count": 18,
   "metadata": {
    "ExecuteTime": {
     "end_time": "2018-04-27T04:57:34.269389Z",
     "start_time": "2018-04-27T04:57:34.253393Z"
    }
   },
   "outputs": [],
   "source": [
    "data['date1'] = data['Timestamp'].apply(lambda x:x.date())\n",
    "data['date2'] = data['Timestamp_1'].apply(lambda x:x.date())"
   ]
  },
  {
   "cell_type": "code",
   "execution_count": 19,
   "metadata": {
    "ExecuteTime": {
     "end_time": "2018-04-27T04:57:35.297392Z",
     "start_time": "2018-04-27T04:57:35.280398Z"
    }
   },
   "outputs": [],
   "source": [
    "data['time1'] = data['Timestamp'].apply(lambda x:x.time())\n",
    "data['time2'] = data['Timestamp_1'].apply(lambda x:x.time())"
   ]
  },
  {
   "cell_type": "markdown",
   "metadata": {},
   "source": [
    "### 从datetime格式中提取年月日小时分钟秒"
   ]
  },
  {
   "cell_type": "code",
   "execution_count": null,
   "metadata": {
    "ExecuteTime": {
     "end_time": "2018-04-26T14:29:18.422965Z",
     "start_time": "2018-04-26T14:29:18.370930Z"
    }
   },
   "outputs": [],
   "source": [
    "data['year'] = data['Timestamp'].apply(lambda x:x.year)\n",
    "data['month'] = data['Timestamp'].apply(lambda x:x.month)\n",
    "data['day'] = data['Timestamp'].apply(lambda x:x.day)\n",
    "data['hour'] = data['Timestamp'].apply(lambda x:x.hour)\n",
    "data['minute'] = data['Timestamp'].apply(lambda x:x.minute)\n",
    "data['second'] = data['Timestamp'].apply(lambda x:x.second)"
   ]
  },
  {
   "cell_type": "markdown",
   "metadata": {
    "ExecuteTime": {
     "end_time": "2018-04-26T14:29:18.422965Z",
     "start_time": "2018-04-26T14:29:18.370930Z"
    },
    "collapsed": true
   },
   "source": [
    "### 从datetime格式中提取星期、第几周"
   ]
  },
  {
   "cell_type": "code",
   "execution_count": 21,
   "metadata": {
    "ExecuteTime": {
     "end_time": "2018-04-26T14:29:18.422965Z",
     "start_time": "2018-04-26T14:29:18.370930Z"
    }
   },
   "outputs": [],
   "source": [
    "data['weekday'] = data['Timestamp'].apply(lambda x:x.weekday()+1)"
   ]
  },
  {
   "cell_type": "code",
   "execution_count": 38,
   "metadata": {
    "ExecuteTime": {
     "end_time": "2018-04-26T14:39:20.442943Z",
     "start_time": "2018-04-26T14:39:20.410947Z"
    }
   },
   "outputs": [],
   "source": [
    "data['week_num'] = data['Timestamp'].apply(lambda x:x.week)"
   ]
  },
  {
   "cell_type": "markdown",
   "metadata": {
    "ExecuteTime": {
     "end_time": "2018-02-22T14:05:44.206083Z",
     "start_time": "2018-02-22T14:05:44.199065Z"
    },
    "collapsed": true
   },
   "source": [
    "### 根据时间条件对数据切片，范围：2005-12-31到2007-12-31之间的数据"
   ]
  },
  {
   "cell_type": "code",
   "execution_count": null,
   "metadata": {
    "ExecuteTime": {
     "end_time": "2018-02-22T14:05:44.206083Z",
     "start_time": "2018-02-22T14:05:44.199065Z"
    },
    "collapsed": true
   },
   "outputs": [],
   "source": [
    "data_test = data.loc[(data['Timestamp']>datetime(2005,12,31))&(data['Timestamp']<datetime(2007,12,31)),:]\n",
    "\n",
    "# 同样也可以\n",
    "# data_test = data[(data['Timestamp']>datetime(2005,12,31))&(data['Timestamp']<datetime(2007,12,31))]"
   ]
  },
  {
   "cell_type": "markdown",
   "metadata": {
    "ExecuteTime": {
     "end_time": "2018-02-22T13:21:09.176237Z",
     "start_time": "2018-02-22T13:21:09.168243Z"
    },
    "collapsed": true
   },
   "source": [
    "### 时间偏移\n",
    "-  'years', 'months', 'weeks', 'days','hours', 'minutes', 'seconds',microseconds\n",
    "-  'year', 'month', 'week', 'day', 'hour', 'minute', 'second', 'microsecond','weekday'"
   ]
  },
  {
   "cell_type": "code",
   "execution_count": 58,
   "metadata": {
    "ExecuteTime": {
     "end_time": "2018-04-26T15:04:47.358315Z",
     "start_time": "2018-04-26T15:04:47.354315Z"
    }
   },
   "outputs": [],
   "source": [
    "# pandas 包\n",
    "from pandas.tseries.offsets import *\n",
    "\n",
    "str1 = '04/26/2018 08:30:00'\n",
    "pd_pk = pd.to_datetime(str1)"
   ]
  },
  {
   "cell_type": "markdown",
   "metadata": {},
   "source": [
    "### 日期偏移5天后，同时增加115毫秒"
   ]
  },
  {
   "cell_type": "code",
   "execution_count": 57,
   "metadata": {
    "ExecuteTime": {
     "end_time": "2018-04-26T15:03:00.467928Z",
     "start_time": "2018-04-26T15:03:00.375021Z"
    }
   },
   "outputs": [],
   "source": [
    "data['data_offset1'] = data['Timestamp'].apply(lambda x:x + DateOffset(days = 5,microseconds= 115))"
   ]
  },
  {
   "cell_type": "markdown",
   "metadata": {
    "ExecuteTime": {
     "end_time": "2018-04-26T14:48:23.548584Z",
     "start_time": "2018-04-26T14:48:23.527585Z"
    },
    "collapsed": true
   },
   "source": [
    "### 月初 月末"
   ]
  },
  {
   "cell_type": "code",
   "execution_count": null,
   "metadata": {
    "ExecuteTime": {
     "end_time": "2018-04-26T14:48:23.548584Z",
     "start_time": "2018-04-26T14:48:23.527585Z"
    }
   },
   "outputs": [],
   "source": [
    "pd_pk + DateOffset(days = 1-pd_pk.day)\n",
    "pd_pk + DateOffset(months = 1, days = -pd_pk.day)"
   ]
  },
  {
   "cell_type": "markdown",
   "metadata": {
    "ExecuteTime": {
     "end_time": "2018-04-26T14:48:23.548584Z",
     "start_time": "2018-04-26T14:48:23.527585Z"
    },
    "collapsed": true
   },
   "source": [
    "### 季初 季末"
   ]
  },
  {
   "cell_type": "code",
   "execution_count": null,
   "metadata": {
    "ExecuteTime": {
     "end_time": "2018-04-26T14:48:23.548584Z",
     "start_time": "2018-04-26T14:48:23.527585Z"
    }
   },
   "outputs": [],
   "source": [
    "pd_pk + DateOffset(months = -((pd_pk.month - 1) % 3),days = 1-pd_pk.day)\n",
    "pd_pk + DateOffset(months =3 - ((pd_pk.month - 1) % 3), days = -pd_pk.day)"
   ]
  },
  {
   "cell_type": "markdown",
   "metadata": {
    "ExecuteTime": {
     "end_time": "2018-04-26T14:48:23.548584Z",
     "start_time": "2018-04-26T14:48:23.527585Z"
    },
    "collapsed": true
   },
   "source": [
    "### 年初 年末"
   ]
  },
  {
   "cell_type": "code",
   "execution_count": 41,
   "metadata": {
    "ExecuteTime": {
     "end_time": "2018-04-26T14:48:23.548584Z",
     "start_time": "2018-04-26T14:48:23.527585Z"
    }
   },
   "outputs": [
    {
     "data": {
      "text/plain": [
       "Timestamp('2018-12-31 08:30:00')"
      ]
     },
     "execution_count": 41,
     "metadata": {},
     "output_type": "execute_result"
    }
   ],
   "source": [
    "pd_pk + DateOffset(years = 1- pd_pk.month ,days = 1-pd_pk.day)\n",
    "pd_pk + DateOffset(years =1 ,months =1 - pd_pk.month, days = -pd_pk.day)"
   ]
  },
  {
   "cell_type": "code",
   "execution_count": 52,
   "metadata": {
    "ExecuteTime": {
     "end_time": "2018-04-26T14:56:04.293928Z",
     "start_time": "2018-04-26T14:56:04.286926Z"
    }
   },
   "outputs": [
    {
     "data": {
      "text/plain": [
       "Timestamp('2017-12-01 18:45:15.000115')"
      ]
     },
     "execution_count": 52,
     "metadata": {},
     "output_type": "execute_result"
    }
   ],
   "source": [
    "pd_pk + Day(5)\n",
    "pd_pk + DateOffset(months = -5,days = 5,hours =10,minutes = 15,seconds = 15,microseconds= 115)"
   ]
  },
  {
   "cell_type": "code",
   "execution_count": 56,
   "metadata": {
    "ExecuteTime": {
     "end_time": "2018-04-26T14:59:32.361541Z",
     "start_time": "2018-04-26T14:59:32.355541Z"
    }
   },
   "outputs": [
    {
     "data": {
      "text/plain": [
       "Timestamp('2018-04-30 08:30:00')"
      ]
     },
     "execution_count": 56,
     "metadata": {},
     "output_type": "execute_result"
    }
   ],
   "source": [
    "pd_pk + DateOffset(months=1,days = -pd_pk.day)"
   ]
  },
  {
   "cell_type": "markdown",
   "metadata": {},
   "source": [
    "### 计算两个日期间的间隔天数、月数date1 与date2"
   ]
  },
  {
   "cell_type": "code",
   "execution_count": 31,
   "metadata": {
    "ExecuteTime": {
     "end_time": "2018-04-27T05:08:24.404933Z",
     "start_time": "2018-04-27T05:08:24.237840Z"
    }
   },
   "outputs": [],
   "source": [
    "data['date_gap'] = data.apply(lambda x:(x['date2'] - x['date1']),axis = 1).apply(lambda x: x/np.timedelta64(1,'D'))"
   ]
  }
 ],
 "metadata": {
  "kernelspec": {
   "display_name": "python_3",
   "language": "python",
   "name": "python_3"
  },
  "language_info": {
   "codemirror_mode": {
    "name": "ipython",
    "version": 3
   },
   "file_extension": ".py",
   "mimetype": "text/x-python",
   "name": "python",
   "nbconvert_exporter": "python",
   "pygments_lexer": "ipython3",
   "version": "3.6.2"
  }
 },
 "nbformat": 4,
 "nbformat_minor": 2
}
