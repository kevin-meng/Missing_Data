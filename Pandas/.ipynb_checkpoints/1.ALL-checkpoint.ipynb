{
 "cells": [
  {
   "cell_type": "markdown",
   "metadata": {},
   "source": [
    "### Step1: 导入必要的库"
   ]
  },
  {
   "cell_type": "code",
   "execution_count": 106,
   "metadata": {
    "ExecuteTime": {
     "end_time": "2018-04-29T01:48:04.549068Z",
     "start_time": "2018-04-29T01:48:04.543100Z"
    }
   },
   "outputs": [],
   "source": [
    "import pandas as pd #数据分析\n",
    "import numpy as np #科学计算\n",
    "import matplotlib\n",
    "import matplotlib.pyplot as plt\n",
    "import seaborn as sns"
   ]
  },
  {
   "cell_type": "code",
   "execution_count": 107,
   "metadata": {
    "ExecuteTime": {
     "end_time": "2018-04-29T01:48:05.060400Z",
     "start_time": "2018-04-29T01:48:05.056403Z"
    }
   },
   "outputs": [],
   "source": [
    "import os\n",
    "os.chdir('D:\\\\Python\\\\Git_test\\\\Data_Analysis')"
   ]
  },
  {
   "cell_type": "markdown",
   "metadata": {},
   "source": [
    "## 一、数据读取"
   ]
  },
  {
   "cell_type": "markdown",
   "metadata": {},
   "source": [
    "### 1.1. CSV"
   ]
  },
  {
   "cell_type": "markdown",
   "metadata": {},
   "source": [
    "从csv中数据读取,(不包括索引列)  读取./input/pratice_data.csv数据"
   ]
  },
  {
   "cell_type": "code",
   "execution_count": 117,
   "metadata": {
    "ExecuteTime": {
     "end_time": "2018-04-29T01:49:42.492346Z",
     "start_time": "2018-04-29T01:49:42.469317Z"
    }
   },
   "outputs": [],
   "source": [
    "data_train = pd.read_csv(\"./input/data_analysis.csv\",index_col = 0)"
   ]
  },
  {
   "cell_type": "code",
   "execution_count": 19,
   "metadata": {
    "ExecuteTime": {
     "end_time": "2018-04-27T15:14:12.927264Z",
     "start_time": "2018-04-27T15:14:12.889235Z"
    }
   },
   "outputs": [],
   "source": [
    "data_train.to_csv('data_analysis.csv')"
   ]
  },
  {
   "cell_type": "code",
   "execution_count": 79,
   "metadata": {
    "ExecuteTime": {
     "end_time": "2018-04-29T01:46:44.299573Z",
     "start_time": "2018-04-29T01:46:44.266601Z"
    }
   },
   "outputs": [
    {
     "data": {
      "text/html": [
       "<div>\n",
       "<style scoped>\n",
       "    .dataframe tbody tr th:only-of-type {\n",
       "        vertical-align: middle;\n",
       "    }\n",
       "\n",
       "    .dataframe tbody tr th {\n",
       "        vertical-align: top;\n",
       "    }\n",
       "\n",
       "    .dataframe thead th {\n",
       "        text-align: right;\n",
       "    }\n",
       "</style>\n",
       "<table border=\"1\" class=\"dataframe\">\n",
       "  <thead>\n",
       "    <tr style=\"text-align: right;\">\n",
       "      <th></th>\n",
       "      <th>Age</th>\n",
       "      <th>Cabin</th>\n",
       "      <th>Embarked</th>\n",
       "      <th>Fare</th>\n",
       "      <th>Name</th>\n",
       "      <th>Parch</th>\n",
       "      <th>PassengerId</th>\n",
       "      <th>Pclass</th>\n",
       "      <th>Sex</th>\n",
       "      <th>SibSp</th>\n",
       "      <th>Survived</th>\n",
       "      <th>Ticket</th>\n",
       "      <th>timestamp</th>\n",
       "      <th>title</th>\n",
       "      <th>genres</th>\n",
       "      <th>rating</th>\n",
       "      <th>timestamp_1</th>\n",
       "      <th>AgeFill</th>\n",
       "      <th>Initial</th>\n",
       "    </tr>\n",
       "    <tr>\n",
       "      <th>id</th>\n",
       "      <th></th>\n",
       "      <th></th>\n",
       "      <th></th>\n",
       "      <th></th>\n",
       "      <th></th>\n",
       "      <th></th>\n",
       "      <th></th>\n",
       "      <th></th>\n",
       "      <th></th>\n",
       "      <th></th>\n",
       "      <th></th>\n",
       "      <th></th>\n",
       "      <th></th>\n",
       "      <th></th>\n",
       "      <th></th>\n",
       "      <th></th>\n",
       "      <th></th>\n",
       "      <th></th>\n",
       "      <th></th>\n",
       "    </tr>\n",
       "  </thead>\n",
       "  <tbody>\n",
       "    <tr>\n",
       "      <th>0</th>\n",
       "      <td>22.0</td>\n",
       "      <td>0</td>\n",
       "      <td>S</td>\n",
       "      <td>7.2500</td>\n",
       "      <td>Braund, Mr. Owen Harris</td>\n",
       "      <td>0</td>\n",
       "      <td>1</td>\n",
       "      <td>3</td>\n",
       "      <td>male</td>\n",
       "      <td>1</td>\n",
       "      <td>0.0</td>\n",
       "      <td>A/5 21171</td>\n",
       "      <td>03/23/2009 08:30:00</td>\n",
       "      <td>Toy Story (1995)</td>\n",
       "      <td>Animation|Children's|Comedy</td>\n",
       "      <td>5</td>\n",
       "      <td>978300760</td>\n",
       "      <td>22</td>\n",
       "      <td>Mr</td>\n",
       "    </tr>\n",
       "    <tr>\n",
       "      <th>1</th>\n",
       "      <td>38.0</td>\n",
       "      <td>C85</td>\n",
       "      <td>C</td>\n",
       "      <td>71.2833</td>\n",
       "      <td>Cumings, Mrs. John Bradley (Florence Briggs Th...</td>\n",
       "      <td>0</td>\n",
       "      <td>2</td>\n",
       "      <td>1</td>\n",
       "      <td>female</td>\n",
       "      <td>1</td>\n",
       "      <td>1.0</td>\n",
       "      <td>PC 17599</td>\n",
       "      <td>03/26/2015 19:10:00</td>\n",
       "      <td>Jumanji (1995)</td>\n",
       "      <td>Adventure|Children's|Fantasy</td>\n",
       "      <td>3</td>\n",
       "      <td>978302109</td>\n",
       "      <td>38</td>\n",
       "      <td>Mrs</td>\n",
       "    </tr>\n",
       "    <tr>\n",
       "      <th>2</th>\n",
       "      <td>26.0</td>\n",
       "      <td>0</td>\n",
       "      <td>S</td>\n",
       "      <td>7.9250</td>\n",
       "      <td>Heikkinen, Miss. Laina</td>\n",
       "      <td>0</td>\n",
       "      <td>3</td>\n",
       "      <td>3</td>\n",
       "      <td>female</td>\n",
       "      <td>0</td>\n",
       "      <td>1.0</td>\n",
       "      <td>STON/O2. 3101282</td>\n",
       "      <td>01/07/2007 07:45:00</td>\n",
       "      <td>Grumpier Old Men (1995)</td>\n",
       "      <td>Comedy|Romance</td>\n",
       "      <td>3</td>\n",
       "      <td>978301968</td>\n",
       "      <td>26</td>\n",
       "      <td>Miss</td>\n",
       "    </tr>\n",
       "    <tr>\n",
       "      <th>3</th>\n",
       "      <td>35.0</td>\n",
       "      <td>C123</td>\n",
       "      <td>S</td>\n",
       "      <td>53.1000</td>\n",
       "      <td>Futrelle, Mrs. Jacques Heath (Lily May Peel)</td>\n",
       "      <td>0</td>\n",
       "      <td>4</td>\n",
       "      <td>1</td>\n",
       "      <td>female</td>\n",
       "      <td>1</td>\n",
       "      <td>1.0</td>\n",
       "      <td>113803</td>\n",
       "      <td>04/18/2005 00:10:00</td>\n",
       "      <td>Waiting to Exhale (1995)</td>\n",
       "      <td>Comedy|Drama</td>\n",
       "      <td>4</td>\n",
       "      <td>978300275</td>\n",
       "      <td>35</td>\n",
       "      <td>Mrs</td>\n",
       "    </tr>\n",
       "    <tr>\n",
       "      <th>4</th>\n",
       "      <td>35.0</td>\n",
       "      <td>0</td>\n",
       "      <td>S</td>\n",
       "      <td>8.0500</td>\n",
       "      <td>Allen, Mr. William Henry</td>\n",
       "      <td>0</td>\n",
       "      <td>5</td>\n",
       "      <td>3</td>\n",
       "      <td>male</td>\n",
       "      <td>0</td>\n",
       "      <td>0.0</td>\n",
       "      <td>373450</td>\n",
       "      <td>02/25/2009 09:40:00</td>\n",
       "      <td>Father of the Bride Part II (1995)</td>\n",
       "      <td>Comedy</td>\n",
       "      <td>5</td>\n",
       "      <td>978824291</td>\n",
       "      <td>35</td>\n",
       "      <td>Mr</td>\n",
       "    </tr>\n",
       "  </tbody>\n",
       "</table>\n",
       "</div>"
      ],
      "text/plain": [
       "     Age Cabin Embarked     Fare  \\\n",
       "id                                 \n",
       "0   22.0     0        S   7.2500   \n",
       "1   38.0   C85        C  71.2833   \n",
       "2   26.0     0        S   7.9250   \n",
       "3   35.0  C123        S  53.1000   \n",
       "4   35.0     0        S   8.0500   \n",
       "\n",
       "                                                 Name  Parch  PassengerId  \\\n",
       "id                                                                          \n",
       "0                             Braund, Mr. Owen Harris      0            1   \n",
       "1   Cumings, Mrs. John Bradley (Florence Briggs Th...      0            2   \n",
       "2                              Heikkinen, Miss. Laina      0            3   \n",
       "3        Futrelle, Mrs. Jacques Heath (Lily May Peel)      0            4   \n",
       "4                            Allen, Mr. William Henry      0            5   \n",
       "\n",
       "    Pclass     Sex  SibSp  Survived            Ticket            timestamp  \\\n",
       "id                                                                           \n",
       "0        3    male      1       0.0         A/5 21171  03/23/2009 08:30:00   \n",
       "1        1  female      1       1.0          PC 17599  03/26/2015 19:10:00   \n",
       "2        3  female      0       1.0  STON/O2. 3101282  01/07/2007 07:45:00   \n",
       "3        1  female      1       1.0            113803  04/18/2005 00:10:00   \n",
       "4        3    male      0       0.0            373450  02/25/2009 09:40:00   \n",
       "\n",
       "                                 title                        genres  rating  \\\n",
       "id                                                                             \n",
       "0                     Toy Story (1995)   Animation|Children's|Comedy       5   \n",
       "1                       Jumanji (1995)  Adventure|Children's|Fantasy       3   \n",
       "2              Grumpier Old Men (1995)                Comedy|Romance       3   \n",
       "3             Waiting to Exhale (1995)                  Comedy|Drama       4   \n",
       "4   Father of the Bride Part II (1995)                        Comedy       5   \n",
       "\n",
       "    timestamp_1  AgeFill Initial  \n",
       "id                                \n",
       "0     978300760       22      Mr  \n",
       "1     978302109       38     Mrs  \n",
       "2     978301968       26    Miss  \n",
       "3     978300275       35     Mrs  \n",
       "4     978824291       35      Mr  "
      ]
     },
     "execution_count": 79,
     "metadata": {},
     "output_type": "execute_result"
    }
   ],
   "source": [
    "data_train.head()"
   ]
  },
  {
   "cell_type": "markdown",
   "metadata": {},
   "source": [
    "### 1.2.copy备份数据"
   ]
  },
  {
   "cell_type": "code",
   "execution_count": 80,
   "metadata": {
    "ExecuteTime": {
     "end_time": "2018-04-29T01:46:45.426098Z",
     "start_time": "2018-04-29T01:46:45.421098Z"
    }
   },
   "outputs": [],
   "source": [
    "data = data_train.copy()"
   ]
  },
  {
   "cell_type": "code",
   "execution_count": null,
   "metadata": {},
   "outputs": [],
   "source": []
  },
  {
   "cell_type": "markdown",
   "metadata": {},
   "source": [
    "## 二、数据观察"
   ]
  },
  {
   "cell_type": "code",
   "execution_count": 90,
   "metadata": {
    "ExecuteTime": {
     "end_time": "2018-04-07T02:18:47.107249Z",
     "start_time": "2018-04-07T02:18:47.074566Z"
    },
    "collapsed": true
   },
   "outputs": [
    {
     "data": {
      "text/html": [
       "<div>\n",
       "<style scoped>\n",
       "    .dataframe tbody tr th:only-of-type {\n",
       "        vertical-align: middle;\n",
       "    }\n",
       "\n",
       "    .dataframe tbody tr th {\n",
       "        vertical-align: top;\n",
       "    }\n",
       "\n",
       "    .dataframe thead th {\n",
       "        text-align: right;\n",
       "    }\n",
       "</style>\n",
       "<table border=\"1\" class=\"dataframe\">\n",
       "  <thead>\n",
       "    <tr style=\"text-align: right;\">\n",
       "      <th></th>\n",
       "      <th>id</th>\n",
       "      <th>Age</th>\n",
       "      <th>Cabin</th>\n",
       "      <th>Embarked</th>\n",
       "      <th>Fare</th>\n",
       "      <th>Name</th>\n",
       "      <th>Parch</th>\n",
       "      <th>PassengerId</th>\n",
       "      <th>Pclass</th>\n",
       "      <th>Sex</th>\n",
       "      <th>SibSp</th>\n",
       "      <th>Survived</th>\n",
       "      <th>Ticket</th>\n",
       "      <th>timestamp</th>\n",
       "      <th>title</th>\n",
       "      <th>genres</th>\n",
       "      <th>rating</th>\n",
       "      <th>timestamp_1</th>\n",
       "    </tr>\n",
       "  </thead>\n",
       "  <tbody>\n",
       "    <tr>\n",
       "      <th>0</th>\n",
       "      <td>0</td>\n",
       "      <td>22.0</td>\n",
       "      <td>NaN</td>\n",
       "      <td>S</td>\n",
       "      <td>7.2500</td>\n",
       "      <td>Braund, Mr. Owen Harris</td>\n",
       "      <td>0</td>\n",
       "      <td>1</td>\n",
       "      <td>3</td>\n",
       "      <td>male</td>\n",
       "      <td>1</td>\n",
       "      <td>0.0</td>\n",
       "      <td>A/5 21171</td>\n",
       "      <td>03/23/2009 08:30:00</td>\n",
       "      <td>Toy Story (1995)</td>\n",
       "      <td>Animation|Children's|Comedy</td>\n",
       "      <td>5</td>\n",
       "      <td>978300760</td>\n",
       "    </tr>\n",
       "    <tr>\n",
       "      <th>1</th>\n",
       "      <td>1</td>\n",
       "      <td>38.0</td>\n",
       "      <td>C85</td>\n",
       "      <td>C</td>\n",
       "      <td>71.2833</td>\n",
       "      <td>Cumings, Mrs. John Bradley (Florence Briggs Th...</td>\n",
       "      <td>0</td>\n",
       "      <td>2</td>\n",
       "      <td>1</td>\n",
       "      <td>female</td>\n",
       "      <td>1</td>\n",
       "      <td>1.0</td>\n",
       "      <td>PC 17599</td>\n",
       "      <td>03/26/2015 19:10:00</td>\n",
       "      <td>Jumanji (1995)</td>\n",
       "      <td>Adventure|Children's|Fantasy</td>\n",
       "      <td>3</td>\n",
       "      <td>978302109</td>\n",
       "    </tr>\n",
       "    <tr>\n",
       "      <th>2</th>\n",
       "      <td>2</td>\n",
       "      <td>26.0</td>\n",
       "      <td>NaN</td>\n",
       "      <td>S</td>\n",
       "      <td>7.9250</td>\n",
       "      <td>Heikkinen, Miss. Laina</td>\n",
       "      <td>0</td>\n",
       "      <td>3</td>\n",
       "      <td>3</td>\n",
       "      <td>female</td>\n",
       "      <td>0</td>\n",
       "      <td>1.0</td>\n",
       "      <td>STON/O2. 3101282</td>\n",
       "      <td>01/07/2007 07:45:00</td>\n",
       "      <td>Grumpier Old Men (1995)</td>\n",
       "      <td>Comedy|Romance</td>\n",
       "      <td>3</td>\n",
       "      <td>978301968</td>\n",
       "    </tr>\n",
       "    <tr>\n",
       "      <th>3</th>\n",
       "      <td>3</td>\n",
       "      <td>35.0</td>\n",
       "      <td>C123</td>\n",
       "      <td>S</td>\n",
       "      <td>53.1000</td>\n",
       "      <td>Futrelle, Mrs. Jacques Heath (Lily May Peel)</td>\n",
       "      <td>0</td>\n",
       "      <td>4</td>\n",
       "      <td>1</td>\n",
       "      <td>female</td>\n",
       "      <td>1</td>\n",
       "      <td>1.0</td>\n",
       "      <td>113803</td>\n",
       "      <td>04/18/2005 00:10:00</td>\n",
       "      <td>Waiting to Exhale (1995)</td>\n",
       "      <td>Comedy|Drama</td>\n",
       "      <td>4</td>\n",
       "      <td>978300275</td>\n",
       "    </tr>\n",
       "    <tr>\n",
       "      <th>4</th>\n",
       "      <td>4</td>\n",
       "      <td>35.0</td>\n",
       "      <td>NaN</td>\n",
       "      <td>S</td>\n",
       "      <td>8.0500</td>\n",
       "      <td>Allen, Mr. William Henry</td>\n",
       "      <td>0</td>\n",
       "      <td>5</td>\n",
       "      <td>3</td>\n",
       "      <td>male</td>\n",
       "      <td>0</td>\n",
       "      <td>0.0</td>\n",
       "      <td>373450</td>\n",
       "      <td>02/25/2009 09:40:00</td>\n",
       "      <td>Father of the Bride Part II (1995)</td>\n",
       "      <td>Comedy</td>\n",
       "      <td>5</td>\n",
       "      <td>978824291</td>\n",
       "    </tr>\n",
       "  </tbody>\n",
       "</table>\n",
       "</div>"
      ],
      "text/plain": [
       "   id   Age Cabin Embarked     Fare  \\\n",
       "0   0  22.0   NaN        S   7.2500   \n",
       "1   1  38.0   C85        C  71.2833   \n",
       "2   2  26.0   NaN        S   7.9250   \n",
       "3   3  35.0  C123        S  53.1000   \n",
       "4   4  35.0   NaN        S   8.0500   \n",
       "\n",
       "                                                Name  Parch  PassengerId  \\\n",
       "0                            Braund, Mr. Owen Harris      0            1   \n",
       "1  Cumings, Mrs. John Bradley (Florence Briggs Th...      0            2   \n",
       "2                             Heikkinen, Miss. Laina      0            3   \n",
       "3       Futrelle, Mrs. Jacques Heath (Lily May Peel)      0            4   \n",
       "4                           Allen, Mr. William Henry      0            5   \n",
       "\n",
       "   Pclass     Sex  SibSp  Survived            Ticket            timestamp  \\\n",
       "0       3    male      1       0.0         A/5 21171  03/23/2009 08:30:00   \n",
       "1       1  female      1       1.0          PC 17599  03/26/2015 19:10:00   \n",
       "2       3  female      0       1.0  STON/O2. 3101282  01/07/2007 07:45:00   \n",
       "3       1  female      1       1.0            113803  04/18/2005 00:10:00   \n",
       "4       3    male      0       0.0            373450  02/25/2009 09:40:00   \n",
       "\n",
       "                                title                        genres  rating  \\\n",
       "0                    Toy Story (1995)   Animation|Children's|Comedy       5   \n",
       "1                      Jumanji (1995)  Adventure|Children's|Fantasy       3   \n",
       "2             Grumpier Old Men (1995)                Comedy|Romance       3   \n",
       "3            Waiting to Exhale (1995)                  Comedy|Drama       4   \n",
       "4  Father of the Bride Part II (1995)                        Comedy       5   \n",
       "\n",
       "   timestamp_1  \n",
       "0    978300760  \n",
       "1    978302109  \n",
       "2    978301968  \n",
       "3    978300275  \n",
       "4    978824291  "
      ]
     },
     "execution_count": 90,
     "metadata": {},
     "output_type": "execute_result"
    }
   ],
   "source": [
    "data_train.head()  #查看前5行\n",
    "# data_train.tail()"
   ]
  },
  {
   "cell_type": "code",
   "execution_count": null,
   "metadata": {
    "ExecuteTime": {
     "end_time": "2018-01-17T13:02:47.097272Z",
     "start_time": "2018-01-17T13:02:47.091257Z"
    },
    "collapsed": true
   },
   "outputs": [],
   "source": [
    "data_train.shape"
   ]
  },
  {
   "cell_type": "code",
   "execution_count": null,
   "metadata": {
    "ExecuteTime": {
     "end_time": "2018-01-17T10:28:11.067555Z",
     "start_time": "2018-01-17T10:28:11.061540Z"
    },
    "collapsed": true
   },
   "outputs": [],
   "source": [
    "data_train.index"
   ]
  },
  {
   "cell_type": "code",
   "execution_count": null,
   "metadata": {
    "ExecuteTime": {
     "end_time": "2018-01-30T00:32:17.118930Z",
     "start_time": "2018-01-30T00:32:17.103852Z"
    },
    "collapsed": true
   },
   "outputs": [],
   "source": [
    "data_train.columns"
   ]
  },
  {
   "cell_type": "code",
   "execution_count": null,
   "metadata": {
    "ExecuteTime": {
     "end_time": "2018-01-17T10:28:33.318539Z",
     "start_time": "2018-01-17T10:28:33.311520Z"
    },
    "collapsed": true
   },
   "outputs": [],
   "source": [
    "data_train.values"
   ]
  },
  {
   "cell_type": "code",
   "execution_count": null,
   "metadata": {
    "collapsed": true
   },
   "outputs": [],
   "source": [
    "data_train.describe() \n",
    "# data_train.columns.tolist()\n",
    "#  dir(df.describe()) #显示所有属性\n",
    "des_data = data_train[['Age','Fare','Pclass']].describe()\n",
    "np.round(des_data.T,2)  #结果保留2位小数\n",
    "\n",
    "# pandas.isnull  alias of isna  #别名"
   ]
  },
  {
   "cell_type": "markdown",
   "metadata": {},
   "source": [
    "####  两种方式查看数据框内存大小"
   ]
  },
  {
   "cell_type": "code",
   "execution_count": 143,
   "metadata": {
    "ExecuteTime": {
     "end_time": "2018-04-07T04:47:16.786721Z",
     "start_time": "2018-04-07T04:47:16.777892Z"
    }
   },
   "outputs": [
    {
     "data": {
      "text/plain": [
       "604487"
      ]
     },
     "execution_count": 143,
     "metadata": {},
     "output_type": "execute_result"
    }
   ],
   "source": [
    "import sys\n",
    "\n",
    "sys.getsizeof(data_obj)  \n",
    "data_obj.memory_usage(deep = True).sum()"
   ]
  },
  {
   "cell_type": "markdown",
   "metadata": {},
   "source": [
    "## 三、查看不同变量的类型\n",
    "三种类型  'float','int','object' "
   ]
  },
  {
   "cell_type": "code",
   "execution_count": 145,
   "metadata": {
    "ExecuteTime": {
     "end_time": "2018-04-07T05:04:16.375156Z",
     "start_time": "2018-04-07T05:04:16.360827Z"
    },
    "collapsed": true
   },
   "outputs": [
    {
     "name": "stdout",
     "output_type": "stream",
     "text": [
      "<class 'pandas.core.frame.DataFrame'>\n",
      "Int64Index: 1309 entries, 0 to 1308\n",
      "Data columns (total 18 columns):\n",
      "id             1309 non-null int64\n",
      "Age            1046 non-null float64\n",
      "Cabin          295 non-null object\n",
      "Embarked       1307 non-null object\n",
      "Fare           1308 non-null float64\n",
      "Name           1309 non-null object\n",
      "Parch          1309 non-null int64\n",
      "PassengerId    1309 non-null int64\n",
      "Pclass         1309 non-null int64\n",
      "Sex            1309 non-null object\n",
      "SibSp          1309 non-null int64\n",
      "Survived       891 non-null float64\n",
      "Ticket         1309 non-null object\n",
      "timestamp      1309 non-null object\n",
      "title          1309 non-null object\n",
      "genres         1309 non-null object\n",
      "rating         1309 non-null int64\n",
      "timestamp_1    1309 non-null int64\n",
      "dtypes: float64(3), int64(7), object(8)\n",
      "memory usage: 837.7 KB\n"
     ]
    }
   ],
   "source": [
    "data_train.info(verbose = True, memory_usage = 'deep') "
   ]
  },
  {
   "cell_type": "markdown",
   "metadata": {},
   "source": [
    "### 改变变量类型,降低内存占用"
   ]
  },
  {
   "cell_type": "markdown",
   "metadata": {},
   "source": [
    "### 选择出 object 变量"
   ]
  },
  {
   "cell_type": "code",
   "execution_count": 147,
   "metadata": {
    "ExecuteTime": {
     "end_time": "2018-04-07T05:55:55.356448Z",
     "start_time": "2018-04-07T05:55:55.347615Z"
    },
    "collapsed": true
   },
   "outputs": [],
   "source": [
    "data_obj = data_train.select_dtypes(include = ['object']).copy()"
   ]
  },
  {
   "cell_type": "code",
   "execution_count": 141,
   "metadata": {
    "ExecuteTime": {
     "end_time": "2018-04-07T04:46:55.629613Z",
     "start_time": "2018-04-07T04:46:55.604249Z"
    },
    "collapsed": true
   },
   "outputs": [],
   "source": [
    "for col in data_obj.columns:\n",
    "    data_obj[col] = data_obj[col].astype('category') # 转变成因子变量 ,减小内存\n",
    "data_obj.info()"
   ]
  },
  {
   "cell_type": "markdown",
   "metadata": {},
   "source": [
    "### 选择出 数值型int 变量PassenagerID 变为 int16\n",
    "整形有int16 int32(int) int64"
   ]
  },
  {
   "cell_type": "code",
   "execution_count": 149,
   "metadata": {
    "ExecuteTime": {
     "end_time": "2018-04-07T05:56:42.933778Z",
     "start_time": "2018-04-07T05:56:42.926910Z"
    },
    "collapsed": true
   },
   "outputs": [],
   "source": [
    "data_train['PassengerId'] = data_train['PassengerId'].astype('int16',copy =False)  "
   ]
  },
  {
   "cell_type": "markdown",
   "metadata": {},
   "source": [
    "### 因子变量统计"
   ]
  },
  {
   "cell_type": "markdown",
   "metadata": {},
   "source": [
    "### 查看Embarked字段 不同取值"
   ]
  },
  {
   "cell_type": "code",
   "execution_count": 81,
   "metadata": {
    "ExecuteTime": {
     "end_time": "2018-04-29T01:46:52.621039Z",
     "start_time": "2018-04-29T01:46:52.614042Z"
    }
   },
   "outputs": [
    {
     "data": {
      "text/plain": [
       "array(['S', 'C', 'Q', 0], dtype=object)"
      ]
     },
     "execution_count": 81,
     "metadata": {},
     "output_type": "execute_result"
    }
   ],
   "source": [
    "data_train['Embarked'].unique()"
   ]
  },
  {
   "cell_type": "markdown",
   "metadata": {},
   "source": [
    "### 查看Embarked字段 不同取值 出现频次"
   ]
  },
  {
   "cell_type": "code",
   "execution_count": 82,
   "metadata": {
    "ExecuteTime": {
     "end_time": "2018-04-29T01:46:54.241709Z",
     "start_time": "2018-04-29T01:46:54.232713Z"
    }
   },
   "outputs": [
    {
     "data": {
      "text/plain": [
       "S    797\n",
       "C    218\n",
       "Q     52\n",
       "0      2\n",
       "Name: Embarked, dtype: int64"
      ]
     },
     "execution_count": 82,
     "metadata": {},
     "output_type": "execute_result"
    }
   ],
   "source": [
    "data_train['Embarked'].value_counts(dropna =False) # 不忽略缺失值"
   ]
  },
  {
   "cell_type": "markdown",
   "metadata": {},
   "source": [
    "## 四、缺失值\n",
    "* 查看缺失值： 统计缺失值数，分布\n",
    "* 缺失值处理：\n",
    "    + 缺失值删除（按行，按列[某几列]）\n",
    "    + 缺失值填充 \n",
    "        - 基于统计方法：众数、中位数、均值\n",
    "        - 基于模型方法：随机森林"
   ]
  },
  {
   "cell_type": "markdown",
   "metadata": {},
   "source": [
    "### 查看缺失值数量\n"
   ]
  },
  {
   "cell_type": "code",
   "execution_count": 83,
   "metadata": {
    "ExecuteTime": {
     "end_time": "2018-04-29T01:46:55.916144Z",
     "start_time": "2018-04-29T01:46:55.906144Z"
    }
   },
   "outputs": [
    {
     "data": {
      "text/plain": [
       "Age            0\n",
       "Cabin          0\n",
       "Embarked       0\n",
       "Fare           0\n",
       "Name           0\n",
       "Parch          0\n",
       "PassengerId    0\n",
       "Pclass         0\n",
       "Sex            0\n",
       "SibSp          0\n",
       "Survived       0\n",
       "Ticket         0\n",
       "timestamp      0\n",
       "title          0\n",
       "genres         0\n",
       "rating         0\n",
       "timestamp_1    0\n",
       "AgeFill        0\n",
       "Initial        0\n",
       "dtype: int64"
      ]
     },
     "execution_count": 83,
     "metadata": {},
     "output_type": "execute_result"
    }
   ],
   "source": [
    "data_train.isnull().sum()"
   ]
  },
  {
   "cell_type": "markdown",
   "metadata": {},
   "source": [
    "### 查看非缺失值数量"
   ]
  },
  {
   "cell_type": "code",
   "execution_count": 84,
   "metadata": {
    "ExecuteTime": {
     "end_time": "2018-04-29T01:46:56.711427Z",
     "start_time": "2018-04-29T01:46:56.699427Z"
    }
   },
   "outputs": [
    {
     "data": {
      "text/plain": [
       "Age            1069\n",
       "Cabin          1069\n",
       "Embarked       1069\n",
       "Fare           1069\n",
       "Name           1069\n",
       "Parch          1069\n",
       "PassengerId    1069\n",
       "Pclass         1069\n",
       "Sex            1069\n",
       "SibSp          1069\n",
       "Survived       1069\n",
       "Ticket         1069\n",
       "timestamp      1069\n",
       "title          1069\n",
       "genres         1069\n",
       "rating         1069\n",
       "timestamp_1    1069\n",
       "AgeFill        1069\n",
       "Initial        1069\n",
       "dtype: int64"
      ]
     },
     "execution_count": 84,
     "metadata": {},
     "output_type": "execute_result"
    }
   ],
   "source": [
    "data_train.notnull().sum()"
   ]
  },
  {
   "cell_type": "markdown",
   "metadata": {},
   "source": [
    "### 查看在数据框中的分布情况"
   ]
  },
  {
   "cell_type": "code",
   "execution_count": 115,
   "metadata": {
    "ExecuteTime": {
     "end_time": "2018-04-29T01:49:29.209713Z",
     "start_time": "2018-04-29T01:49:29.203717Z"
    }
   },
   "outputs": [],
   "source": [
    "def md_patten(data):\n",
    "    \"\"\"\n",
    "    Display missing-data patterns. and highlight the missing values\n",
    "    \"\"\"\n",
    "    df = data.isnull().replace({True:-1,False:0})\n",
    "    df['.Row_Nums'] = 1\n",
    "\n",
    "    df1 = df.groupby(by=list(data.columns)).agg(sum).sort_values('.Row_Nums',ascending =False).reset_index()\n",
    "    df2 = data.isnull().sum().to_frame().T.rename(index = {0:' '})\n",
    "    tem = pd.concat([df1,df2]).fillna('Missing_Nums')\n",
    "    return tem\n",
    "\n",
    "def showHight(col):\n",
    "    \"\"\"\n",
    "    Highlight certain values.\n",
    "    \"\"\"\n",
    "    c = col ==-1\n",
    "    #c = col ==col.max()\n",
    "    return ['background-color:red' if v else ' ' for v in c]\n"
   ]
  },
  {
   "cell_type": "markdown",
   "metadata": {
    "ExecuteTime": {
     "end_time": "2018-04-07T11:49:31.260704Z",
     "start_time": "2018-04-07T11:49:31.242058Z"
    }
   },
   "source": [
    "运用md_patten函数以及style风格"
   ]
  },
  {
   "cell_type": "code",
   "execution_count": 116,
   "metadata": {
    "ExecuteTime": {
     "end_time": "2018-04-29T01:49:30.571429Z",
     "start_time": "2018-04-29T01:49:30.495434Z"
    }
   },
   "outputs": [
    {
     "data": {
      "text/html": [
       "<style  type=\"text/css\" >\n",
       "</style>  \n",
       "<table id=\"T_8ed502de_4b4f_11e8_a2b0_a8a795456fa8\" > \n",
       "<thead>    <tr> \n",
       "        <th class=\"blank level0\" ></th> \n",
       "        <th class=\"col_heading level0 col0\" >.Row_Nums</th> \n",
       "        <th class=\"col_heading level0 col1\" >Age</th> \n",
       "        <th class=\"col_heading level0 col2\" >Cabin</th> \n",
       "        <th class=\"col_heading level0 col3\" >Embarked</th> \n",
       "        <th class=\"col_heading level0 col4\" >Family_Size</th> \n",
       "        <th class=\"col_heading level0 col5\" >Fare</th> \n",
       "        <th class=\"col_heading level0 col6\" >Initial</th> \n",
       "        <th class=\"col_heading level0 col7\" >Name</th> \n",
       "        <th class=\"col_heading level0 col8\" >Name_length</th> \n",
       "        <th class=\"col_heading level0 col9\" >Parch</th> \n",
       "        <th class=\"col_heading level0 col10\" >PassengerId</th> \n",
       "        <th class=\"col_heading level0 col11\" >Pclass</th> \n",
       "        <th class=\"col_heading level0 col12\" >Sex</th> \n",
       "        <th class=\"col_heading level0 col13\" >SibSp</th> \n",
       "        <th class=\"col_heading level0 col14\" >Survived</th> \n",
       "        <th class=\"col_heading level0 col15\" >Ticket</th> \n",
       "        <th class=\"col_heading level0 col16\" >Title</th> \n",
       "        <th class=\"col_heading level0 col17\" >genres</th> \n",
       "        <th class=\"col_heading level0 col18\" >rating</th> \n",
       "        <th class=\"col_heading level0 col19\" >timestamp</th> \n",
       "        <th class=\"col_heading level0 col20\" >timestamp_1</th> \n",
       "        <th class=\"col_heading level0 col21\" >title</th> \n",
       "    </tr></thead> \n",
       "<tbody>    <tr> \n",
       "        <th id=\"T_8ed502de_4b4f_11e8_a2b0_a8a795456fa8level0_row0\" class=\"row_heading level0 row0\" >0</th> \n",
       "        <td id=\"T_8ed502de_4b4f_11e8_a2b0_a8a795456fa8row0_col0\" class=\"data row0 col0\" >1309</td> \n",
       "        <td id=\"T_8ed502de_4b4f_11e8_a2b0_a8a795456fa8row0_col1\" class=\"data row0 col1\" >0</td> \n",
       "        <td id=\"T_8ed502de_4b4f_11e8_a2b0_a8a795456fa8row0_col2\" class=\"data row0 col2\" >0</td> \n",
       "        <td id=\"T_8ed502de_4b4f_11e8_a2b0_a8a795456fa8row0_col3\" class=\"data row0 col3\" >0</td> \n",
       "        <td id=\"T_8ed502de_4b4f_11e8_a2b0_a8a795456fa8row0_col4\" class=\"data row0 col4\" >0</td> \n",
       "        <td id=\"T_8ed502de_4b4f_11e8_a2b0_a8a795456fa8row0_col5\" class=\"data row0 col5\" >0</td> \n",
       "        <td id=\"T_8ed502de_4b4f_11e8_a2b0_a8a795456fa8row0_col6\" class=\"data row0 col6\" >0</td> \n",
       "        <td id=\"T_8ed502de_4b4f_11e8_a2b0_a8a795456fa8row0_col7\" class=\"data row0 col7\" >0</td> \n",
       "        <td id=\"T_8ed502de_4b4f_11e8_a2b0_a8a795456fa8row0_col8\" class=\"data row0 col8\" >0</td> \n",
       "        <td id=\"T_8ed502de_4b4f_11e8_a2b0_a8a795456fa8row0_col9\" class=\"data row0 col9\" >0</td> \n",
       "        <td id=\"T_8ed502de_4b4f_11e8_a2b0_a8a795456fa8row0_col10\" class=\"data row0 col10\" >0</td> \n",
       "        <td id=\"T_8ed502de_4b4f_11e8_a2b0_a8a795456fa8row0_col11\" class=\"data row0 col11\" >0</td> \n",
       "        <td id=\"T_8ed502de_4b4f_11e8_a2b0_a8a795456fa8row0_col12\" class=\"data row0 col12\" >0</td> \n",
       "        <td id=\"T_8ed502de_4b4f_11e8_a2b0_a8a795456fa8row0_col13\" class=\"data row0 col13\" >0</td> \n",
       "        <td id=\"T_8ed502de_4b4f_11e8_a2b0_a8a795456fa8row0_col14\" class=\"data row0 col14\" >0</td> \n",
       "        <td id=\"T_8ed502de_4b4f_11e8_a2b0_a8a795456fa8row0_col15\" class=\"data row0 col15\" >0</td> \n",
       "        <td id=\"T_8ed502de_4b4f_11e8_a2b0_a8a795456fa8row0_col16\" class=\"data row0 col16\" >0</td> \n",
       "        <td id=\"T_8ed502de_4b4f_11e8_a2b0_a8a795456fa8row0_col17\" class=\"data row0 col17\" >0</td> \n",
       "        <td id=\"T_8ed502de_4b4f_11e8_a2b0_a8a795456fa8row0_col18\" class=\"data row0 col18\" >0</td> \n",
       "        <td id=\"T_8ed502de_4b4f_11e8_a2b0_a8a795456fa8row0_col19\" class=\"data row0 col19\" >0</td> \n",
       "        <td id=\"T_8ed502de_4b4f_11e8_a2b0_a8a795456fa8row0_col20\" class=\"data row0 col20\" >0</td> \n",
       "        <td id=\"T_8ed502de_4b4f_11e8_a2b0_a8a795456fa8row0_col21\" class=\"data row0 col21\" >0</td> \n",
       "    </tr>    <tr> \n",
       "        <th id=\"T_8ed502de_4b4f_11e8_a2b0_a8a795456fa8level0_row1\" class=\"row_heading level0 row1\" > </th> \n",
       "        <td id=\"T_8ed502de_4b4f_11e8_a2b0_a8a795456fa8row1_col0\" class=\"data row1 col0\" >Missing_Nums</td> \n",
       "        <td id=\"T_8ed502de_4b4f_11e8_a2b0_a8a795456fa8row1_col1\" class=\"data row1 col1\" >0</td> \n",
       "        <td id=\"T_8ed502de_4b4f_11e8_a2b0_a8a795456fa8row1_col2\" class=\"data row1 col2\" >0</td> \n",
       "        <td id=\"T_8ed502de_4b4f_11e8_a2b0_a8a795456fa8row1_col3\" class=\"data row1 col3\" >0</td> \n",
       "        <td id=\"T_8ed502de_4b4f_11e8_a2b0_a8a795456fa8row1_col4\" class=\"data row1 col4\" >0</td> \n",
       "        <td id=\"T_8ed502de_4b4f_11e8_a2b0_a8a795456fa8row1_col5\" class=\"data row1 col5\" >0</td> \n",
       "        <td id=\"T_8ed502de_4b4f_11e8_a2b0_a8a795456fa8row1_col6\" class=\"data row1 col6\" >0</td> \n",
       "        <td id=\"T_8ed502de_4b4f_11e8_a2b0_a8a795456fa8row1_col7\" class=\"data row1 col7\" >0</td> \n",
       "        <td id=\"T_8ed502de_4b4f_11e8_a2b0_a8a795456fa8row1_col8\" class=\"data row1 col8\" >0</td> \n",
       "        <td id=\"T_8ed502de_4b4f_11e8_a2b0_a8a795456fa8row1_col9\" class=\"data row1 col9\" >0</td> \n",
       "        <td id=\"T_8ed502de_4b4f_11e8_a2b0_a8a795456fa8row1_col10\" class=\"data row1 col10\" >0</td> \n",
       "        <td id=\"T_8ed502de_4b4f_11e8_a2b0_a8a795456fa8row1_col11\" class=\"data row1 col11\" >0</td> \n",
       "        <td id=\"T_8ed502de_4b4f_11e8_a2b0_a8a795456fa8row1_col12\" class=\"data row1 col12\" >0</td> \n",
       "        <td id=\"T_8ed502de_4b4f_11e8_a2b0_a8a795456fa8row1_col13\" class=\"data row1 col13\" >0</td> \n",
       "        <td id=\"T_8ed502de_4b4f_11e8_a2b0_a8a795456fa8row1_col14\" class=\"data row1 col14\" >0</td> \n",
       "        <td id=\"T_8ed502de_4b4f_11e8_a2b0_a8a795456fa8row1_col15\" class=\"data row1 col15\" >0</td> \n",
       "        <td id=\"T_8ed502de_4b4f_11e8_a2b0_a8a795456fa8row1_col16\" class=\"data row1 col16\" >0</td> \n",
       "        <td id=\"T_8ed502de_4b4f_11e8_a2b0_a8a795456fa8row1_col17\" class=\"data row1 col17\" >0</td> \n",
       "        <td id=\"T_8ed502de_4b4f_11e8_a2b0_a8a795456fa8row1_col18\" class=\"data row1 col18\" >0</td> \n",
       "        <td id=\"T_8ed502de_4b4f_11e8_a2b0_a8a795456fa8row1_col19\" class=\"data row1 col19\" >0</td> \n",
       "        <td id=\"T_8ed502de_4b4f_11e8_a2b0_a8a795456fa8row1_col20\" class=\"data row1 col20\" >0</td> \n",
       "        <td id=\"T_8ed502de_4b4f_11e8_a2b0_a8a795456fa8row1_col21\" class=\"data row1 col21\" >0</td> \n",
       "    </tr></tbody> \n",
       "</table> "
      ],
      "text/plain": [
       "<pandas.io.formats.style.Styler at 0x25b3467c940>"
      ]
     },
     "execution_count": 116,
     "metadata": {},
     "output_type": "execute_result"
    }
   ],
   "source": [
    "md_patten(data_train).style.apply(showHight)"
   ]
  },
  {
   "cell_type": "markdown",
   "metadata": {},
   "source": [
    "### 删除缺失值列 Cabin\n",
    "1先copy数据 2dropna axis =1 时,subset 指索引列"
   ]
  },
  {
   "cell_type": "code",
   "execution_count": 87,
   "metadata": {
    "ExecuteTime": {
     "end_time": "2018-04-29T01:47:01.950802Z",
     "start_time": "2018-04-29T01:47:01.943804Z"
    }
   },
   "outputs": [],
   "source": [
    "data_temp = data_train.copy()"
   ]
  },
  {
   "cell_type": "markdown",
   "metadata": {},
   "source": [
    "#### 运用drop方法"
   ]
  },
  {
   "cell_type": "code",
   "execution_count": 88,
   "metadata": {
    "ExecuteTime": {
     "end_time": "2018-04-29T01:47:03.515356Z",
     "start_time": "2018-04-29T01:47:03.502355Z"
    }
   },
   "outputs": [],
   "source": [
    "data_temp.drop('Age',axis =1,inplace = True)"
   ]
  },
  {
   "cell_type": "markdown",
   "metadata": {},
   "source": [
    "#### 运用dropna方法"
   ]
  },
  {
   "cell_type": "code",
   "execution_count": 89,
   "metadata": {
    "ExecuteTime": {
     "end_time": "2018-04-29T01:47:04.331215Z",
     "start_time": "2018-04-29T01:47:04.324216Z"
    }
   },
   "outputs": [
    {
     "data": {
      "text/plain": [
       "(1069, 18)"
      ]
     },
     "execution_count": 89,
     "metadata": {},
     "output_type": "execute_result"
    }
   ],
   "source": [
    "data_temp.shape"
   ]
  },
  {
   "cell_type": "code",
   "execution_count": 90,
   "metadata": {
    "ExecuteTime": {
     "end_time": "2018-04-29T01:47:04.800218Z",
     "start_time": "2018-04-29T01:47:04.788251Z"
    }
   },
   "outputs": [
    {
     "data": {
      "text/plain": [
       "(1069, 18)"
      ]
     },
     "execution_count": 90,
     "metadata": {},
     "output_type": "execute_result"
    }
   ],
   "source": [
    "data_temp.dropna(axis=1,how = 'any',inplace =True) \n",
    "\n",
    "data_temp.shape"
   ]
  },
  {
   "cell_type": "markdown",
   "metadata": {},
   "source": [
    "### 删除缺失值行 Fare 缺失的行\n",
    "先copy数据"
   ]
  },
  {
   "cell_type": "code",
   "execution_count": 91,
   "metadata": {
    "ExecuteTime": {
     "end_time": "2018-04-29T01:47:06.332309Z",
     "start_time": "2018-04-29T01:47:06.327308Z"
    }
   },
   "outputs": [],
   "source": [
    "data_temp = data_train.copy()"
   ]
  },
  {
   "cell_type": "code",
   "execution_count": 92,
   "metadata": {
    "ExecuteTime": {
     "end_time": "2018-04-29T01:47:07.192920Z",
     "start_time": "2018-04-29T01:47:07.184921Z"
    }
   },
   "outputs": [],
   "source": [
    "data_temp.dropna(axis = 0, how= 'any',subset=['Fare'],inplace =True) "
   ]
  },
  {
   "cell_type": "markdown",
   "metadata": {},
   "source": [
    "### 删除超过三个缺失的行数据 \n",
    "['Cabin','Age','Embarked']"
   ]
  },
  {
   "cell_type": "code",
   "execution_count": 93,
   "metadata": {
    "ExecuteTime": {
     "end_time": "2018-04-29T01:47:08.139042Z",
     "start_time": "2018-04-29T01:47:08.130043Z"
    }
   },
   "outputs": [],
   "source": [
    " data_train.dropna(axis = 0, how= 'any',subset=['Cabin','Age','Embarked'],inplace =True,thresh = 2)  "
   ]
  },
  {
   "cell_type": "code",
   "execution_count": 94,
   "metadata": {
    "ExecuteTime": {
     "end_time": "2018-04-29T01:47:08.507395Z",
     "start_time": "2018-04-29T01:47:08.490377Z"
    }
   },
   "outputs": [
    {
     "ename": "NameError",
     "evalue": "name 'd1' is not defined",
     "output_type": "error",
     "traceback": [
      "\u001b[1;31m---------------------------------------------------------------------------\u001b[0m",
      "\u001b[1;31mNameError\u001b[0m                                 Traceback (most recent call last)",
      "\u001b[1;32m<ipython-input-94-cac889ae2407>\u001b[0m in \u001b[0;36m<module>\u001b[1;34m()\u001b[0m\n\u001b[1;32m----> 1\u001b[1;33m \u001b[0md1\u001b[0m\u001b[1;33m.\u001b[0m\u001b[0mcount\u001b[0m\u001b[1;33m(\u001b[0m\u001b[1;33m)\u001b[0m \u001b[1;31m#非空元素计算\u001b[0m\u001b[1;33m\u001b[0m\u001b[0m\n\u001b[0m\u001b[0;32m      2\u001b[0m \u001b[0md1\u001b[0m\u001b[1;33m.\u001b[0m\u001b[0mmin\u001b[0m\u001b[1;33m(\u001b[0m\u001b[1;33m)\u001b[0m \u001b[1;31m#最小值\u001b[0m\u001b[1;33m\u001b[0m\u001b[0m\n\u001b[0;32m      3\u001b[0m \u001b[0md1\u001b[0m\u001b[1;33m.\u001b[0m\u001b[0mmax\u001b[0m\u001b[1;33m(\u001b[0m\u001b[1;33m)\u001b[0m \u001b[1;31m#最大值\u001b[0m\u001b[1;33m\u001b[0m\u001b[0m\n\u001b[0;32m      4\u001b[0m \u001b[0md1\u001b[0m\u001b[1;33m.\u001b[0m\u001b[0midxmin\u001b[0m\u001b[1;33m(\u001b[0m\u001b[1;33m)\u001b[0m \u001b[1;31m#最小值的位置，类似于R中的which.min函数\u001b[0m\u001b[1;33m\u001b[0m\u001b[0m\n\u001b[0;32m      5\u001b[0m \u001b[0md1\u001b[0m\u001b[1;33m.\u001b[0m\u001b[0midxmax\u001b[0m\u001b[1;33m(\u001b[0m\u001b[1;33m)\u001b[0m \u001b[1;31m#最大值的位置，类似于R中的which.max函数\u001b[0m\u001b[1;33m\u001b[0m\u001b[0m\n",
      "\u001b[1;31mNameError\u001b[0m: name 'd1' is not defined"
     ]
    }
   ],
   "source": [
    "d1.count() #非空元素计算\n",
    "d1.min() #最小值\n",
    "d1.max() #最大值\n",
    "d1.idxmin() #最小值的位置，类似于R中的which.min函数\n",
    "d1.idxmax() #最大值的位置，类似于R中的which.max函数\n",
    "d1.quantile(0.1) #10%分位数\n",
    "d1.sum() #求和\n",
    "d1.mean() #均值\n",
    "d1.median() #中位数\n",
    "d1.mode() #众数\n",
    "d1.var() #方差\n",
    "d1.std() #标准差\n",
    "d1.mad() #平均绝对偏差\n",
    "d1.skew() #偏度\n",
    "d1.kurt() #峰度\n",
    "d1.describe() #一次性输出多个描述性统计指标"
   ]
  },
  {
   "cell_type": "markdown",
   "metadata": {},
   "source": [
    "### 缺失值替换\n",
    "**<font color=blue>缺失值替换  fillna</font>**<br>\n",
    "\n",
    "* [Pandas参考文档](http://pandas.pydata.org/pandas-docs/stable/generated/pandas.DataFrame.fillna.html?highlight=fillna#pandas.DataFrame.fillna)"
   ]
  },
  {
   "cell_type": "markdown",
   "metadata": {},
   "source": [
    "### 用均值替换Fare缺失值"
   ]
  },
  {
   "cell_type": "code",
   "execution_count": 111,
   "metadata": {
    "ExecuteTime": {
     "end_time": "2018-04-29T01:48:54.227817Z",
     "start_time": "2018-04-29T01:48:54.222818Z"
    }
   },
   "outputs": [],
   "source": [
    "data_train['Fare'].fillna(data_train.Fare.mean(),inplace =True)"
   ]
  },
  {
   "cell_type": "markdown",
   "metadata": {},
   "source": [
    "### 用特定值替换Fare缺失值"
   ]
  },
  {
   "cell_type": "code",
   "execution_count": 112,
   "metadata": {
    "ExecuteTime": {
     "end_time": "2018-04-29T01:49:01.686253Z",
     "start_time": "2018-04-29T01:49:01.677252Z"
    }
   },
   "outputs": [],
   "source": [
    "_= data_train.fillna(0, inplace=True)  # 用特定值替换"
   ]
  },
  {
   "cell_type": "markdown",
   "metadata": {},
   "source": [
    "### 用前一个值值替换Fare缺失值"
   ]
  },
  {
   "cell_type": "code",
   "execution_count": 97,
   "metadata": {
    "ExecuteTime": {
     "end_time": "2018-04-29T01:47:12.466747Z",
     "start_time": "2018-04-29T01:47:12.463755Z"
    }
   },
   "outputs": [],
   "source": [
    "# data_train.fillna(method='ffill', limit=2) #用前一个值替换"
   ]
  },
  {
   "cell_type": "markdown",
   "metadata": {},
   "source": [
    "### 用replace 标记Age 缺失值为 -1"
   ]
  },
  {
   "cell_type": "code",
   "execution_count": 98,
   "metadata": {
    "ExecuteTime": {
     "end_time": "2018-04-29T01:47:13.131447Z",
     "start_time": "2018-04-29T01:47:13.121413Z"
    }
   },
   "outputs": [
    {
     "data": {
      "text/plain": [
       "id\n",
       "0       22.0\n",
       "1       38.0\n",
       "2       26.0\n",
       "3       35.0\n",
       "4       35.0\n",
       "6       54.0\n",
       "7        2.0\n",
       "8       27.0\n",
       "9       14.0\n",
       "10       4.0\n",
       "11      58.0\n",
       "12      20.0\n",
       "13      39.0\n",
       "14      14.0\n",
       "15      55.0\n",
       "16       2.0\n",
       "18      31.0\n",
       "20      35.0\n",
       "21      34.0\n",
       "22      15.0\n",
       "23      28.0\n",
       "24       8.0\n",
       "25      38.0\n",
       "27      19.0\n",
       "30      40.0\n",
       "31       0.0\n",
       "33      66.0\n",
       "34      28.0\n",
       "35      42.0\n",
       "37      21.0\n",
       "        ... \n",
       "1272    26.0\n",
       "1274    19.0\n",
       "1276    24.0\n",
       "1277    24.0\n",
       "1278    57.0\n",
       "1279    21.0\n",
       "1280     6.0\n",
       "1281    23.0\n",
       "1282    51.0\n",
       "1283    13.0\n",
       "1284    47.0\n",
       "1285    29.0\n",
       "1286    18.0\n",
       "1287    24.0\n",
       "1288    48.0\n",
       "1289    22.0\n",
       "1290    31.0\n",
       "1291    30.0\n",
       "1292    38.0\n",
       "1293    22.0\n",
       "1294    17.0\n",
       "1295    43.0\n",
       "1296    20.0\n",
       "1297    23.0\n",
       "1298    50.0\n",
       "1300     3.0\n",
       "1302    37.0\n",
       "1303    28.0\n",
       "1305    39.0\n",
       "1306    38.5\n",
       "Name: Age, Length: 1069, dtype: float64"
      ]
     },
     "execution_count": 98,
     "metadata": {},
     "output_type": "execute_result"
    }
   ],
   "source": [
    "data_train['Age'].replace(np.nan,-1)  "
   ]
  },
  {
   "cell_type": "markdown",
   "metadata": {},
   "source": [
    "### 用replace 对Age 特定值进行替换(基于列表 和 字典)\n",
    "0.42: 0 ;-1000: np.nan "
   ]
  },
  {
   "cell_type": "code",
   "execution_count": 99,
   "metadata": {
    "ExecuteTime": {
     "end_time": "2018-04-29T01:47:14.050527Z",
     "start_time": "2018-04-29T01:47:14.040523Z"
    }
   },
   "outputs": [
    {
     "data": {
      "text/plain": [
       "id\n",
       "0       22.0\n",
       "1       38.0\n",
       "2       26.0\n",
       "3       35.0\n",
       "4       35.0\n",
       "6       54.0\n",
       "7        2.0\n",
       "8       27.0\n",
       "9       14.0\n",
       "10       4.0\n",
       "11      58.0\n",
       "12      20.0\n",
       "13      39.0\n",
       "14      14.0\n",
       "15      55.0\n",
       "16       2.0\n",
       "18      31.0\n",
       "20      35.0\n",
       "21      34.0\n",
       "22      15.0\n",
       "23      28.0\n",
       "24       8.0\n",
       "25      38.0\n",
       "27      19.0\n",
       "30      40.0\n",
       "31       0.0\n",
       "33      66.0\n",
       "34      28.0\n",
       "35      42.0\n",
       "37      21.0\n",
       "        ... \n",
       "1272    26.0\n",
       "1274    19.0\n",
       "1276    24.0\n",
       "1277    24.0\n",
       "1278    57.0\n",
       "1279    21.0\n",
       "1280     6.0\n",
       "1281    23.0\n",
       "1282    51.0\n",
       "1283    13.0\n",
       "1284    47.0\n",
       "1285    29.0\n",
       "1286    18.0\n",
       "1287    24.0\n",
       "1288    48.0\n",
       "1289    22.0\n",
       "1290    31.0\n",
       "1291    30.0\n",
       "1292    38.0\n",
       "1293    22.0\n",
       "1294    17.0\n",
       "1295    43.0\n",
       "1296    20.0\n",
       "1297    23.0\n",
       "1298    50.0\n",
       "1300     3.0\n",
       "1302    37.0\n",
       "1303    28.0\n",
       "1305    39.0\n",
       "1306    38.5\n",
       "Name: Age, Length: 1069, dtype: float64"
      ]
     },
     "execution_count": 99,
     "metadata": {},
     "output_type": "execute_result"
    }
   ],
   "source": [
    "# 基于字典\n",
    "data_train['Age'].replace({0.42: 0, -1000: np.nan}) "
   ]
  },
  {
   "cell_type": "code",
   "execution_count": 100,
   "metadata": {
    "ExecuteTime": {
     "end_time": "2018-04-29T01:47:14.593678Z",
     "start_time": "2018-04-29T01:47:14.584680Z"
    }
   },
   "outputs": [
    {
     "data": {
      "text/plain": [
       "id\n",
       "0       22.0\n",
       "1       38.0\n",
       "2       26.0\n",
       "3       35.0\n",
       "4       35.0\n",
       "6       54.0\n",
       "7        2.0\n",
       "8       27.0\n",
       "9       14.0\n",
       "10       4.0\n",
       "11      58.0\n",
       "12      20.0\n",
       "13      39.0\n",
       "14      14.0\n",
       "15      55.0\n",
       "16       2.0\n",
       "18      31.0\n",
       "20      35.0\n",
       "21      34.0\n",
       "22      15.0\n",
       "23      28.0\n",
       "24       8.0\n",
       "25      38.0\n",
       "27      19.0\n",
       "30      40.0\n",
       "31       0.0\n",
       "33      66.0\n",
       "34      28.0\n",
       "35      42.0\n",
       "37      21.0\n",
       "        ... \n",
       "1272    26.0\n",
       "1274    19.0\n",
       "1276    24.0\n",
       "1277    24.0\n",
       "1278    57.0\n",
       "1279    21.0\n",
       "1280     6.0\n",
       "1281    23.0\n",
       "1282    51.0\n",
       "1283    13.0\n",
       "1284    47.0\n",
       "1285    29.0\n",
       "1286    18.0\n",
       "1287    24.0\n",
       "1288    48.0\n",
       "1289    22.0\n",
       "1290    31.0\n",
       "1291    30.0\n",
       "1292    38.0\n",
       "1293    22.0\n",
       "1294    17.0\n",
       "1295    43.0\n",
       "1296    20.0\n",
       "1297    23.0\n",
       "1298    50.0\n",
       "1300     3.0\n",
       "1302    37.0\n",
       "1303    28.0\n",
       "1305    39.0\n",
       "1306    38.5\n",
       "Name: Age, Length: 1069, dtype: float64"
      ]
     },
     "execution_count": 100,
     "metadata": {},
     "output_type": "execute_result"
    }
   ],
   "source": [
    "# 基于列表\n",
    "data_train['Age'].replace([0.42,-1000], [0,np.nan])   "
   ]
  },
  {
   "cell_type": "markdown",
   "metadata": {},
   "source": [
    "#### Age"
   ]
  },
  {
   "cell_type": "markdown",
   "metadata": {},
   "source": [
    "### 基于Initial条件填充Age（粗略）\n",
    "##Assigning the NaN Values with the Ceil values of the mean ages\n",
    "Mr:33 \\Mrs:36\\Master:5\\Miss:22\\Other:46"
   ]
  },
  {
   "cell_type": "code",
   "execution_count": 101,
   "metadata": {
    "ExecuteTime": {
     "end_time": "2018-04-29T01:47:16.195905Z",
     "start_time": "2018-04-29T01:47:16.159905Z"
    }
   },
   "outputs": [
    {
     "data": {
      "text/plain": [
       "False"
      ]
     },
     "execution_count": 101,
     "metadata": {},
     "output_type": "execute_result"
    }
   ],
   "source": [
    "data.loc[(data.Age.isnull())&(data.Initial=='Mr'),'Age']=33\n",
    "data.loc[(data.Age.isnull())&(data.Initial=='Mrs'),'Age']=36\n",
    "data.loc[(data.Age.isnull())&(data.Initial=='Master'),'Age']=5\n",
    "data.loc[(data.Age.isnull())&(data.Initial=='Miss'),'Age']=22\n",
    "data.loc[(data.Age.isnull())&(data.Initial=='Other'),'Age']=46\n",
    "data.Age.isnull().any() #So no null values left finally   检查是否还有空值"
   ]
  },
  {
   "cell_type": "markdown",
   "metadata": {},
   "source": [
    "### 基于连续变量的统计分布填充  \n",
    "随机random.randint() 抽取 \n",
    "[#在正负标准差之间选取]"
   ]
  },
  {
   "cell_type": "code",
   "execution_count": 102,
   "metadata": {
    "ExecuteTime": {
     "end_time": "2018-04-29T01:47:21.332897Z",
     "start_time": "2018-04-29T01:47:21.326904Z"
    }
   },
   "outputs": [],
   "source": [
    "age_avg = data_train['Age'].mean()\n",
    "age_std = data_train['Age'].std()\n",
    "age_null_count = data_train['Age'].isnull().sum()\n",
    "age_null_random_list = np.random.randint(age_avg - age_std, age_avg + age_std, size=age_null_count)  "
   ]
  },
  {
   "cell_type": "markdown",
   "metadata": {},
   "source": [
    "### 将抽取的数据填充到缺失位置\n",
    "isnan 是numpy 中的方法\n",
    "#data['Age'][np.isnan(data['Age'])] = age_null_random_list   # 效果同样\n",
    "#data['Age'][data['Age'].isnull()]  = age_null_random_list   # 效果同样"
   ]
  },
  {
   "cell_type": "code",
   "execution_count": 103,
   "metadata": {
    "ExecuteTime": {
     "end_time": "2018-04-29T01:47:24.225535Z",
     "start_time": "2018-04-29T01:47:24.131499Z"
    }
   },
   "outputs": [
    {
     "name": "stderr",
     "output_type": "stream",
     "text": [
      "C:\\ProgramData\\Anaconda2\\envs\\gluon_py3\\lib\\site-packages\\ipykernel_launcher.py:2: SettingWithCopyWarning: \n",
      "A value is trying to be set on a copy of a slice from a DataFrame\n",
      "\n",
      "See the caveats in the documentation: http://pandas.pydata.org/pandas-docs/stable/indexing.html#indexing-view-versus-copy\n",
      "  \n"
     ]
    }
   ],
   "source": [
    "data_train['AgeFill']=data_train['Age']\n",
    "data_train['AgeFill'][data_train.Age.isnull()] = age_null_random_list\n",
    "data_train['AgeFill'] = data_train['AgeFill'].astype(int)"
   ]
  },
  {
   "cell_type": "markdown",
   "metadata": {},
   "source": [
    "### 运用模型拟合Age 进行缺失值填充\n",
    "'Age','Fare', 'Parch', 'SibSp'\n",
    "随机僧林方法"
   ]
  },
  {
   "cell_type": "markdown",
   "metadata": {},
   "source": [
    "* 用模型预测填充\n",
    "* 使用 RandomForestClassifier 填补缺失的年龄属性 \n",
    "* 随机森林不要求变量 转为数值型"
   ]
  },
  {
   "cell_type": "code",
   "execution_count": 109,
   "metadata": {
    "ExecuteTime": {
     "end_time": "2018-04-29T01:48:31.167935Z",
     "start_time": "2018-04-29T01:48:31.158934Z"
    }
   },
   "outputs": [],
   "source": [
    "from sklearn.ensemble import RandomForestRegressor\n",
    "def set_missing_ages(df):\n",
    "    \n",
    "    # 把已有的数值型特征取出来丢进Random Forest Regressor中\n",
    "    age_df = df[['Age','Fare', 'Parch', 'SibSp']]\n",
    "\n",
    "    # 乘客分成已知年龄和未知年龄两部分\n",
    "    known_age = age_df[age_df.Age.notnull()].as_matrix()\n",
    "    unknown_age = age_df[age_df.Age.isnull()].as_matrix()\n",
    "\n",
    "    # y即目标年龄\n",
    "    y = known_age[:, 0]\n",
    "\n",
    "    # X即特征属性值\n",
    "    X = known_age[:, 1:]\n",
    "\n",
    "    # fit到RandomForestRegressor之中\n",
    "    rfr = RandomForestRegressor(random_state=0, n_estimators=2000, n_jobs=-1)\n",
    "    rfr.fit(X, y)\n",
    "    \n",
    "    # 用得到的模型进行未知年龄结果预测\n",
    "    predictedAges = rfr.predict(unknown_age[:, 1::])\n",
    "    \n",
    "    # 用得到的预测结果填补原缺失数据\n",
    "    df['Age_prd'] =df['Age']\n",
    "    df.loc[ (df.Age.isnull()), 'Age_prd' ] = predictedAges \n",
    "    \n",
    "    return df, rfr"
   ]
  },
  {
   "cell_type": "markdown",
   "metadata": {},
   "source": [
    "### 随机森林模型返回拟合Age数据"
   ]
  },
  {
   "cell_type": "code",
   "execution_count": 113,
   "metadata": {
    "ExecuteTime": {
     "end_time": "2018-04-29T01:49:13.205912Z",
     "start_time": "2018-04-29T01:49:10.131997Z"
    }
   },
   "outputs": [
    {
     "ename": "ValueError",
     "evalue": "Found array with 0 sample(s) (shape=(0, 3)) while a minimum of 1 is required.",
     "output_type": "error",
     "traceback": [
      "\u001b[1;31m---------------------------------------------------------------------------\u001b[0m",
      "\u001b[1;31mValueError\u001b[0m                                Traceback (most recent call last)",
      "\u001b[1;32m<ipython-input-113-468544f7032c>\u001b[0m in \u001b[0;36m<module>\u001b[1;34m()\u001b[0m\n\u001b[1;32m----> 1\u001b[1;33m \u001b[0mdata_train\u001b[0m\u001b[1;33m,\u001b[0m \u001b[0mrfr\u001b[0m \u001b[1;33m=\u001b[0m \u001b[0mset_missing_ages\u001b[0m\u001b[1;33m(\u001b[0m\u001b[0mdata_train\u001b[0m\u001b[1;33m)\u001b[0m\u001b[1;33m\u001b[0m\u001b[0m\n\u001b[0m",
      "\u001b[1;32m<ipython-input-109-c3d19962745b>\u001b[0m in \u001b[0;36mset_missing_ages\u001b[1;34m(df)\u001b[0m\n\u001b[0;32m     20\u001b[0m \u001b[1;33m\u001b[0m\u001b[0m\n\u001b[0;32m     21\u001b[0m     \u001b[1;31m# 用得到的模型进行未知年龄结果预测\u001b[0m\u001b[1;33m\u001b[0m\u001b[1;33m\u001b[0m\u001b[0m\n\u001b[1;32m---> 22\u001b[1;33m     \u001b[0mpredictedAges\u001b[0m \u001b[1;33m=\u001b[0m \u001b[0mrfr\u001b[0m\u001b[1;33m.\u001b[0m\u001b[0mpredict\u001b[0m\u001b[1;33m(\u001b[0m\u001b[0munknown_age\u001b[0m\u001b[1;33m[\u001b[0m\u001b[1;33m:\u001b[0m\u001b[1;33m,\u001b[0m \u001b[1;36m1\u001b[0m\u001b[1;33m:\u001b[0m\u001b[1;33m:\u001b[0m\u001b[1;33m]\u001b[0m\u001b[1;33m)\u001b[0m\u001b[1;33m\u001b[0m\u001b[0m\n\u001b[0m\u001b[0;32m     23\u001b[0m \u001b[1;33m\u001b[0m\u001b[0m\n\u001b[0;32m     24\u001b[0m     \u001b[1;31m# 用得到的预测结果填补原缺失数据\u001b[0m\u001b[1;33m\u001b[0m\u001b[1;33m\u001b[0m\u001b[0m\n",
      "\u001b[1;32mC:\\ProgramData\\Anaconda2\\envs\\gluon_py3\\lib\\site-packages\\sklearn\\ensemble\\forest.py\u001b[0m in \u001b[0;36mpredict\u001b[1;34m(self, X)\u001b[0m\n\u001b[0;32m    679\u001b[0m         \u001b[0mcheck_is_fitted\u001b[0m\u001b[1;33m(\u001b[0m\u001b[0mself\u001b[0m\u001b[1;33m,\u001b[0m \u001b[1;34m'estimators_'\u001b[0m\u001b[1;33m)\u001b[0m\u001b[1;33m\u001b[0m\u001b[0m\n\u001b[0;32m    680\u001b[0m         \u001b[1;31m# Check data\u001b[0m\u001b[1;33m\u001b[0m\u001b[1;33m\u001b[0m\u001b[0m\n\u001b[1;32m--> 681\u001b[1;33m         \u001b[0mX\u001b[0m \u001b[1;33m=\u001b[0m \u001b[0mself\u001b[0m\u001b[1;33m.\u001b[0m\u001b[0m_validate_X_predict\u001b[0m\u001b[1;33m(\u001b[0m\u001b[0mX\u001b[0m\u001b[1;33m)\u001b[0m\u001b[1;33m\u001b[0m\u001b[0m\n\u001b[0m\u001b[0;32m    682\u001b[0m \u001b[1;33m\u001b[0m\u001b[0m\n\u001b[0;32m    683\u001b[0m         \u001b[1;31m# Assign chunk of trees to jobs\u001b[0m\u001b[1;33m\u001b[0m\u001b[1;33m\u001b[0m\u001b[0m\n",
      "\u001b[1;32mC:\\ProgramData\\Anaconda2\\envs\\gluon_py3\\lib\\site-packages\\sklearn\\ensemble\\forest.py\u001b[0m in \u001b[0;36m_validate_X_predict\u001b[1;34m(self, X)\u001b[0m\n\u001b[0;32m    355\u001b[0m                                  \"call `fit` before exploiting the model.\")\n\u001b[0;32m    356\u001b[0m \u001b[1;33m\u001b[0m\u001b[0m\n\u001b[1;32m--> 357\u001b[1;33m         \u001b[1;32mreturn\u001b[0m \u001b[0mself\u001b[0m\u001b[1;33m.\u001b[0m\u001b[0mestimators_\u001b[0m\u001b[1;33m[\u001b[0m\u001b[1;36m0\u001b[0m\u001b[1;33m]\u001b[0m\u001b[1;33m.\u001b[0m\u001b[0m_validate_X_predict\u001b[0m\u001b[1;33m(\u001b[0m\u001b[0mX\u001b[0m\u001b[1;33m,\u001b[0m \u001b[0mcheck_input\u001b[0m\u001b[1;33m=\u001b[0m\u001b[1;32mTrue\u001b[0m\u001b[1;33m)\u001b[0m\u001b[1;33m\u001b[0m\u001b[0m\n\u001b[0m\u001b[0;32m    358\u001b[0m \u001b[1;33m\u001b[0m\u001b[0m\n\u001b[0;32m    359\u001b[0m     \u001b[1;33m@\u001b[0m\u001b[0mproperty\u001b[0m\u001b[1;33m\u001b[0m\u001b[0m\n",
      "\u001b[1;32mC:\\ProgramData\\Anaconda2\\envs\\gluon_py3\\lib\\site-packages\\sklearn\\tree\\tree.py\u001b[0m in \u001b[0;36m_validate_X_predict\u001b[1;34m(self, X, check_input)\u001b[0m\n\u001b[0;32m    371\u001b[0m         \u001b[1;34m\"\"\"Validate X whenever one tries to predict, apply, predict_proba\"\"\"\u001b[0m\u001b[1;33m\u001b[0m\u001b[0m\n\u001b[0;32m    372\u001b[0m         \u001b[1;32mif\u001b[0m \u001b[0mcheck_input\u001b[0m\u001b[1;33m:\u001b[0m\u001b[1;33m\u001b[0m\u001b[0m\n\u001b[1;32m--> 373\u001b[1;33m             \u001b[0mX\u001b[0m \u001b[1;33m=\u001b[0m \u001b[0mcheck_array\u001b[0m\u001b[1;33m(\u001b[0m\u001b[0mX\u001b[0m\u001b[1;33m,\u001b[0m \u001b[0mdtype\u001b[0m\u001b[1;33m=\u001b[0m\u001b[0mDTYPE\u001b[0m\u001b[1;33m,\u001b[0m \u001b[0maccept_sparse\u001b[0m\u001b[1;33m=\u001b[0m\u001b[1;34m\"csr\"\u001b[0m\u001b[1;33m)\u001b[0m\u001b[1;33m\u001b[0m\u001b[0m\n\u001b[0m\u001b[0;32m    374\u001b[0m             if issparse(X) and (X.indices.dtype != np.intc or\n\u001b[0;32m    375\u001b[0m                                 X.indptr.dtype != np.intc):\n",
      "\u001b[1;32mC:\\ProgramData\\Anaconda2\\envs\\gluon_py3\\lib\\site-packages\\sklearn\\utils\\validation.py\u001b[0m in \u001b[0;36mcheck_array\u001b[1;34m(array, accept_sparse, dtype, order, copy, force_all_finite, ensure_2d, allow_nd, ensure_min_samples, ensure_min_features, warn_on_dtype, estimator)\u001b[0m\n\u001b[0;32m    460\u001b[0m                              \u001b[1;34m\" minimum of %d is required%s.\"\u001b[0m\u001b[1;33m\u001b[0m\u001b[0m\n\u001b[0;32m    461\u001b[0m                              % (n_samples, shape_repr, ensure_min_samples,\n\u001b[1;32m--> 462\u001b[1;33m                                 context))\n\u001b[0m\u001b[0;32m    463\u001b[0m \u001b[1;33m\u001b[0m\u001b[0m\n\u001b[0;32m    464\u001b[0m     \u001b[1;32mif\u001b[0m \u001b[0mensure_min_features\u001b[0m \u001b[1;33m>\u001b[0m \u001b[1;36m0\u001b[0m \u001b[1;32mand\u001b[0m \u001b[0marray\u001b[0m\u001b[1;33m.\u001b[0m\u001b[0mndim\u001b[0m \u001b[1;33m==\u001b[0m \u001b[1;36m2\u001b[0m\u001b[1;33m:\u001b[0m\u001b[1;33m\u001b[0m\u001b[0m\n",
      "\u001b[1;31mValueError\u001b[0m: Found array with 0 sample(s) (shape=(0, 3)) while a minimum of 1 is required."
     ]
    }
   ],
   "source": [
    "data_train, rfr = set_missing_ages(data_train)"
   ]
  },
  {
   "cell_type": "code",
   "execution_count": null,
   "metadata": {
    "ExecuteTime": {
     "end_time": "2018-04-29T01:47:30.386380Z",
     "start_time": "2018-04-29T01:47:27.810Z"
    }
   },
   "outputs": [],
   "source": [
    "# data.Age_prd.astype('int').value_counts(dropna=False).plot(kind ='bar',figsize=(18,6))\n",
    "# temp = data.Age_prd.astype('int').value_counts(dropna=False).to_frame(name ='age_count').reset_index()\n",
    "# temp.columns =['Age','nums']\n",
    "# temp.sort_values('Age').plot(kind ='bar',x ='Age', y ='nums',figsize = (18,6))\n",
    "# data.head()\n",
    "# data.columns"
   ]
  },
  {
   "cell_type": "markdown",
   "metadata": {},
   "source": [
    "### 画图前后对比"
   ]
  },
  {
   "cell_type": "code",
   "execution_count": 43,
   "metadata": {
    "ExecuteTime": {
     "end_time": "2018-04-07T12:33:03.326321Z",
     "start_time": "2018-04-07T12:33:02.868149Z"
    }
   },
   "outputs": [
    {
     "data": {
      "image/png": "[encoded data removed]",
      "text/plain": [
       "<Figure size 1296x432 with 2 Axes>"
      ]
     },
     "metadata": {},
     "output_type": "display_data"
    }
   ],
   "source": [
    "fig,(axis1,axis2) = plt.subplots(1,2,figsize=(18,6))\n",
    "data_train['Age'].dropna().astype(int).hist(bins=70, ax=axis1)\n",
    "data_train['AgeFill'].hist(bins=70, ax=axis2)\n",
    "plt.show()"
   ]
  },
  {
   "cell_type": "code",
   "execution_count": 49,
   "metadata": {
    "ExecuteTime": {
     "end_time": "2018-04-07T12:36:36.474175Z",
     "start_time": "2018-04-07T12:36:36.124806Z"
    }
   },
   "outputs": [
    {
     "data": {
      "image/png": "[encoded data removed]",
      "text/plain": [
       "<Figure size 648x432 with 1 Axes>"
      ]
     },
     "metadata": {},
     "output_type": "display_data"
    }
   ],
   "source": [
    "fig,axis1 = plt.subplots(1,1,figsize=(9,6))\n",
    "data_train['Age'].dropna().astype(int).hist(bins=70,color ='r',alpha=0.2, ax=axis1)\n",
    "data_train['AgeFill'].hist(bins=70,color ='g',alpha=0.2, ax=axis1)\n",
    "plt.show()"
   ]
  },
  {
   "cell_type": "code",
   "execution_count": null,
   "metadata": {
    "ExecuteTime": {
     "end_time": "2018-03-17T08:14:15.953748Z",
     "start_time": "2018-03-17T08:14:15.934695Z"
    },
    "collapsed": true
   },
   "outputs": [],
   "source": [
    "# data_train['Age'] = data_train['Age_prd'] \n",
    "data_train['Age'].value_counts(dropna =False)"
   ]
  },
  {
   "cell_type": "code",
   "execution_count": null,
   "metadata": {
    "ExecuteTime": {
     "end_time": "2018-03-06T11:57:39.599763Z",
     "start_time": "2018-03-06T11:57:39.441342Z"
    },
    "collapsed": true
   },
   "outputs": [],
   "source": [
    "data_train['Age'] = data_train['Age_prd']\n",
    "data_train['Age'].isnull().sum()"
   ]
  },
  {
   "cell_type": "code",
   "execution_count": null,
   "metadata": {
    "ExecuteTime": {
     "end_time": "2018-01-27T07:31:58.967488Z",
     "start_time": "2018-01-27T07:31:58.892713Z"
    },
    "collapsed": true
   },
   "outputs": [],
   "source": [
    "data_train.loc[data_train[\"Title2\"]==1,'Age'].mean()"
   ]
  },
  {
   "cell_type": "markdown",
   "metadata": {},
   "source": [
    "### 离散型变量Embarked-用众数填充  mode()   \n",
    "中位数median()  -->数值型\n",
    "\n",
    "#### Embarked"
   ]
  },
  {
   "cell_type": "code",
   "execution_count": null,
   "metadata": {
    "ExecuteTime": {
     "end_time": "2018-01-28T08:04:03.448531Z",
     "start_time": "2018-01-28T08:04:03.440511Z"
    },
    "collapsed": true
   },
   "outputs": [],
   "source": [
    "data['Embarked'].mode()"
   ]
  },
  {
   "cell_type": "code",
   "execution_count": null,
   "metadata": {
    "ExecuteTime": {
     "end_time": "2018-01-28T08:04:03.951148Z",
     "start_time": "2018-01-28T08:04:03.947138Z"
    },
    "collapsed": true
   },
   "outputs": [],
   "source": [
    "data_train['Embarked'].fillna('S',inplace =True)\n",
    "# data_train['Embarked'].replace({0: np.nan},inplace =True)"
   ]
  },
  {
   "cell_type": "code",
   "execution_count": null,
   "metadata": {
    "ExecuteTime": {
     "end_time": "2018-01-30T00:39:22.295879Z",
     "start_time": "2018-01-30T00:39:22.287885Z"
    },
    "collapsed": true
   },
   "outputs": [],
   "source": [
    "data_train['Embarked'].value_counts(dropna = False)"
   ]
  },
  {
   "cell_type": "markdown",
   "metadata": {},
   "source": [
    "\n",
    "## 衍生变量\n",
    "### 单变量\n",
    "#### 离散型——字符变量\n",
    "* 字符串处理：大小写\n",
    "* 字符串截取、分割\n",
    "    + 按位置\n",
    "    + 正则表达式\n",
    "* 字符串变换：合并、归类、LabelEncoder、One-Hot\n",
    "#### 连续型\n",
    "* 归一化、正交化\n",
    "* 离散化：分箱"
   ]
  },
  {
   "cell_type": "markdown",
   "metadata": {},
   "source": [
    "### 数据字符串变量\n",
    "* 字符串处理：大小写\n",
    "* 字符串截取、分割\n",
    "    + 按位置\n",
    "    + 正则表达式\n",
    "* 字符串变换：合并、归类、LabelEncoder、One-Hot"
   ]
  },
  {
   "cell_type": "markdown",
   "metadata": {},
   "source": [
    "### 用正则表达式提取 Name中的头衔\n",
    "#### 基于字符串提取 extract\n"
   ]
  },
  {
   "cell_type": "code",
   "execution_count": 4,
   "metadata": {
    "ExecuteTime": {
     "end_time": "2018-04-27T14:27:10.582610Z",
     "start_time": "2018-04-27T14:27:10.497611Z"
    }
   },
   "outputs": [
    {
     "name": "stderr",
     "output_type": "stream",
     "text": [
      "C:\\ProgramData\\Anaconda2\\envs\\gluon_py3\\lib\\site-packages\\ipykernel_launcher.py:3: FutureWarning: currently extract(expand=None) means expand=False (return Index/Series/DataFrame) but in a future version of pandas this will be changed to expand=True (return DataFrame)\n",
      "  This is separate from the ipykernel package so we can avoid doing imports until\n"
     ]
    }
   ],
   "source": [
    "data_train['Initial'] = 0 \n",
    "for i in data_train:\n",
    "    data_train['Initial'] = data_train.Name.str.extract('([A-Za-z]+)\\.')"
   ]
  },
  {
   "cell_type": "markdown",
   "metadata": {},
   "source": [
    "#### 字符串截取  （正则表达式 基于apply findall）"
   ]
  },
  {
   "cell_type": "code",
   "execution_count": 5,
   "metadata": {
    "ExecuteTime": {
     "end_time": "2018-04-27T14:27:15.459313Z",
     "start_time": "2018-04-27T14:27:15.446311Z"
    }
   },
   "outputs": [],
   "source": [
    "#调用 apply函数 \n",
    "# findall()[0] 返回列表\n",
    "import re\n",
    "data_train['Initial']=data_train['Name'].apply(lambda x: re.findall(\"([A-Za-z]+)\\.\",x)[0]) #lets extract the Salutations"
   ]
  },
  {
   "cell_type": "markdown",
   "metadata": {},
   "source": [
    "#### 字符串截取  （ 基于apply split）"
   ]
  },
  {
   "cell_type": "code",
   "execution_count": 6,
   "metadata": {
    "ExecuteTime": {
     "end_time": "2018-04-27T14:27:16.899239Z",
     "start_time": "2018-04-27T14:27:16.894244Z"
    }
   },
   "outputs": [],
   "source": [
    "# 调用map函数  用字符串分割方法\n",
    "data_train[ 'Initial' ] = data_train[ 'Name' ].map( lambda name: name.split( ',' )[1].split( '.' )[0].strip() )"
   ]
  },
  {
   "cell_type": "markdown",
   "metadata": {},
   "source": [
    "### 统计不同头衔Initial 的出现频数"
   ]
  },
  {
   "cell_type": "code",
   "execution_count": 7,
   "metadata": {
    "ExecuteTime": {
     "end_time": "2018-04-27T14:27:20.080431Z",
     "start_time": "2018-04-27T14:27:20.060431Z"
    }
   },
   "outputs": [
    {
     "data": {
      "text/plain": [
       "Mr              757\n",
       "Miss            260\n",
       "Mrs             197\n",
       "Master           61\n",
       "Rev               8\n",
       "Dr                8\n",
       "Col               4\n",
       "Major             2\n",
       "Mlle              2\n",
       "Ms                2\n",
       "Capt              1\n",
       "Dona              1\n",
       "Don               1\n",
       "Mme               1\n",
       "the Countess      1\n",
       "Jonkheer          1\n",
       "Lady              1\n",
       "Sir               1\n",
       "Name: Initial, dtype: int64"
      ]
     },
     "execution_count": 7,
     "metadata": {},
     "output_type": "execute_result"
    }
   ],
   "source": [
    "data_train['Initial'].value_counts(dropna = False)"
   ]
  },
  {
   "cell_type": "code",
   "execution_count": 8,
   "metadata": {
    "ExecuteTime": {
     "end_time": "2018-04-27T14:27:21.044217Z",
     "start_time": "2018-04-27T14:27:21.023217Z"
    }
   },
   "outputs": [],
   "source": [
    "da = data_train['Initial'].value_counts()\n",
    "temp =da.to_frame().reset_index()\n",
    "temp.to_pickle(\"title_counts.pkl\")"
   ]
  },
  {
   "cell_type": "code",
   "execution_count": 9,
   "metadata": {
    "ExecuteTime": {
     "end_time": "2018-04-27T14:27:22.457411Z",
     "start_time": "2018-04-27T14:27:22.444407Z"
    }
   },
   "outputs": [],
   "source": [
    "dat = pd.read_pickle(\"title_counts.pkl\")"
   ]
  },
  {
   "cell_type": "markdown",
   "metadata": {},
   "source": [
    "### 衍生变量"
   ]
  },
  {
   "cell_type": "markdown",
   "metadata": {},
   "source": [
    "####  Name"
   ]
  },
  {
   "cell_type": "markdown",
   "metadata": {},
   "source": [
    "### 取出Name字段中包含 Major的数据"
   ]
  },
  {
   "cell_type": "code",
   "execution_count": 121,
   "metadata": {
    "ExecuteTime": {
     "end_time": "2018-04-29T01:50:17.806748Z",
     "start_time": "2018-04-29T01:50:17.769747Z"
    }
   },
   "outputs": [
    {
     "data": {
      "text/html": [
       "<div>\n",
       "<style scoped>\n",
       "    .dataframe tbody tr th:only-of-type {\n",
       "        vertical-align: middle;\n",
       "    }\n",
       "\n",
       "    .dataframe tbody tr th {\n",
       "        vertical-align: top;\n",
       "    }\n",
       "\n",
       "    .dataframe thead th {\n",
       "        text-align: right;\n",
       "    }\n",
       "</style>\n",
       "<table border=\"1\" class=\"dataframe\">\n",
       "  <thead>\n",
       "    <tr style=\"text-align: right;\">\n",
       "      <th></th>\n",
       "      <th>Age</th>\n",
       "      <th>Cabin</th>\n",
       "      <th>Embarked</th>\n",
       "      <th>Fare</th>\n",
       "      <th>Name</th>\n",
       "      <th>Parch</th>\n",
       "      <th>PassengerId</th>\n",
       "      <th>Pclass</th>\n",
       "      <th>Sex</th>\n",
       "      <th>SibSp</th>\n",
       "      <th>...</th>\n",
       "      <th>timestamp</th>\n",
       "      <th>title</th>\n",
       "      <th>genres</th>\n",
       "      <th>rating</th>\n",
       "      <th>timestamp_1</th>\n",
       "      <th>Initial</th>\n",
       "      <th>Name_length</th>\n",
       "      <th>Title</th>\n",
       "      <th>Family_Size</th>\n",
       "      <th>Name_scaled</th>\n",
       "    </tr>\n",
       "    <tr>\n",
       "      <th>id</th>\n",
       "      <th></th>\n",
       "      <th></th>\n",
       "      <th></th>\n",
       "      <th></th>\n",
       "      <th></th>\n",
       "      <th></th>\n",
       "      <th></th>\n",
       "      <th></th>\n",
       "      <th></th>\n",
       "      <th></th>\n",
       "      <th></th>\n",
       "      <th></th>\n",
       "      <th></th>\n",
       "      <th></th>\n",
       "      <th></th>\n",
       "      <th></th>\n",
       "      <th></th>\n",
       "      <th></th>\n",
       "      <th></th>\n",
       "      <th></th>\n",
       "      <th></th>\n",
       "    </tr>\n",
       "  </thead>\n",
       "  <tbody>\n",
       "    <tr>\n",
       "      <th>449</th>\n",
       "      <td>52.0</td>\n",
       "      <td>C104</td>\n",
       "      <td>S</td>\n",
       "      <td>30.50</td>\n",
       "      <td>Peuchen, Major. Arthur Godfrey</td>\n",
       "      <td>0</td>\n",
       "      <td>450</td>\n",
       "      <td>1</td>\n",
       "      <td>male</td>\n",
       "      <td>0</td>\n",
       "      <td>...</td>\n",
       "      <td>09/04/2011 11:20:00</td>\n",
       "      <td>For Love or Money (1993)</td>\n",
       "      <td>Comedy</td>\n",
       "      <td>2</td>\n",
       "      <td>978245829</td>\n",
       "      <td>Major</td>\n",
       "      <td>30</td>\n",
       "      <td>Officer</td>\n",
       "      <td>1</td>\n",
       "      <td>0.301947</td>\n",
       "    </tr>\n",
       "    <tr>\n",
       "      <th>536</th>\n",
       "      <td>45.0</td>\n",
       "      <td>B38</td>\n",
       "      <td>S</td>\n",
       "      <td>26.55</td>\n",
       "      <td>Butt, Major. Archibald Willingham</td>\n",
       "      <td>0</td>\n",
       "      <td>537</td>\n",
       "      <td>1</td>\n",
       "      <td>male</td>\n",
       "      <td>0</td>\n",
       "      <td>...</td>\n",
       "      <td>09/09/2005 22:14:33</td>\n",
       "      <td>Sliver (1993)</td>\n",
       "      <td>Thriller</td>\n",
       "      <td>5</td>\n",
       "      <td>978234786</td>\n",
       "      <td>Major</td>\n",
       "      <td>33</td>\n",
       "      <td>Officer</td>\n",
       "      <td>1</td>\n",
       "      <td>0.617641</td>\n",
       "    </tr>\n",
       "  </tbody>\n",
       "</table>\n",
       "<p>2 rows × 22 columns</p>\n",
       "</div>"
      ],
      "text/plain": [
       "      Age Cabin Embarked   Fare                               Name  Parch  \\\n",
       "id                                                                          \n",
       "449  52.0  C104        S  30.50     Peuchen, Major. Arthur Godfrey      0   \n",
       "536  45.0   B38        S  26.55  Butt, Major. Archibald Willingham      0   \n",
       "\n",
       "     PassengerId  Pclass   Sex  SibSp     ...                timestamp  \\\n",
       "id                                        ...                            \n",
       "449          450       1  male      0     ...      09/04/2011 11:20:00   \n",
       "536          537       1  male      0     ...      09/09/2005 22:14:33   \n",
       "\n",
       "                        title    genres rating timestamp_1  Initial  \\\n",
       "id                                                                    \n",
       "449  For Love or Money (1993)    Comedy      2   978245829    Major   \n",
       "536             Sliver (1993)  Thriller      5   978234786    Major   \n",
       "\n",
       "     Name_length    Title  Family_Size Name_scaled  \n",
       "id                                                  \n",
       "449           30  Officer            1    0.301947  \n",
       "536           33  Officer            1    0.617641  \n",
       "\n",
       "[2 rows x 22 columns]"
      ]
     },
     "execution_count": 121,
     "metadata": {},
     "output_type": "execute_result"
    }
   ],
   "source": [
    "data_train[data_train['Name'].str.contains(\"Major\")]  #contains查看数据"
   ]
  },
  {
   "cell_type": "markdown",
   "metadata": {},
   "source": [
    "### 计算 Name字符串长度 生成Name_length字段"
   ]
  },
  {
   "cell_type": "code",
   "execution_count": 122,
   "metadata": {
    "ExecuteTime": {
     "end_time": "2018-04-29T01:50:19.063803Z",
     "start_time": "2018-04-29T01:50:19.058800Z"
    }
   },
   "outputs": [],
   "source": [
    "data_train['Name_length'] =data_train['Name'].apply(len)"
   ]
  },
  {
   "cell_type": "markdown",
   "metadata": {},
   "source": [
    "### 对Name_length字段 进行归一化 (StandardScaler)"
   ]
  },
  {
   "cell_type": "code",
   "execution_count": 123,
   "metadata": {
    "ExecuteTime": {
     "end_time": "2018-04-29T01:50:21.591894Z",
     "start_time": "2018-04-29T01:50:21.585891Z"
    }
   },
   "outputs": [
    {
     "name": "stderr",
     "output_type": "stream",
     "text": [
      "C:\\ProgramData\\Anaconda2\\envs\\gluon_py3\\lib\\site-packages\\ipykernel_launcher.py:2: FutureWarning: reshape is deprecated and will raise in a subsequent release. Please use .values.reshape(...) instead\n",
      "  \n",
      "C:\\ProgramData\\Anaconda2\\envs\\gluon_py3\\lib\\site-packages\\sklearn\\utils\\validation.py:475: DataConversionWarning: Data with input dtype int64 was converted to float64 by StandardScaler.\n",
      "  warnings.warn(msg, DataConversionWarning)\n"
     ]
    }
   ],
   "source": [
    "from sklearn.preprocessing import StandardScaler\n",
    "data_train['Name_scaled'] = StandardScaler().fit_transform(data_train['Name_length'].reshape(-1,1))"
   ]
  },
  {
   "cell_type": "markdown",
   "metadata": {},
   "source": [
    "### 因子型分箱(对Title 变量分箱)"
   ]
  },
  {
   "cell_type": "code",
   "execution_count": 124,
   "metadata": {
    "ExecuteTime": {
     "end_time": "2018-04-29T01:50:23.146799Z",
     "start_time": "2018-04-29T01:50:23.133794Z"
    }
   },
   "outputs": [],
   "source": [
    "#map 替换有多个类型 情况\n",
    "title_dict = {\n",
    "        \"Capt\":       \"Officer\",\n",
    "        \"Col\":        \"Officer\",\n",
    "        \"Major\":      \"Officer\",\n",
    "        \"Jonkheer\":   \"Royalty\",\n",
    "        \"Don\":        \"Royalty\",\n",
    "        \"Sir\" :       \"Royalty\",\n",
    "        \"Dr\":         \"Officer\",\n",
    "        \"Rev\":        \"Officer\",\n",
    "        \"the Countess\":\"Royalty\",\n",
    "        \"Dona\":       \"Royalty\",\n",
    "        \"Mme\":        \"Mrs\",\n",
    "        \"Mlle\":       \"Miss\",\n",
    "        \"Ms\":         \"Mrs\",\n",
    "        \"Mr\" :        \"Mr\",\n",
    "        \"Mrs\" :       \"Mrs\",\n",
    "        \"Miss\" :      \"Miss\",\n",
    "        \"Master\" :    \"Master\",\n",
    "        \"Lady\" :      \"Royalty\"\n",
    "}\n",
    "data_train['Title'] = data_train['Initial'].map(title_dict)"
   ]
  },
  {
   "cell_type": "markdown",
   "metadata": {},
   "source": [
    "### 将Initial 稀少因子 合并统计 (Mlle Ms-> Miss\\ Mme-> Mrs) \n",
    "#首先替换少数称呼"
   ]
  },
  {
   "cell_type": "code",
   "execution_count": 125,
   "metadata": {
    "ExecuteTime": {
     "end_time": "2018-04-29T01:50:24.155766Z",
     "start_time": "2018-04-29T01:50:24.148765Z"
    }
   },
   "outputs": [],
   "source": [
    "data_train['Initial'] = data_train['Initial'].replace('Mlle','Miss')\n",
    "data_train['Initial'] = data_train['Initial'].replace('Ms','Miss')\n",
    "data_train['Initial'] = data_train['Initial'].replace('Mme','Mrs')"
   ]
  },
  {
   "cell_type": "markdown",
   "metadata": {},
   "source": [
    "### 将Initial 中出现频次小于40的 索引 提取出来"
   ]
  },
  {
   "cell_type": "code",
   "execution_count": 126,
   "metadata": {
    "ExecuteTime": {
     "end_time": "2018-04-29T01:50:25.251630Z",
     "start_time": "2018-04-29T01:50:25.245628Z"
    }
   },
   "outputs": [],
   "source": [
    "temp = data_train['Initial'].value_counts(dropna=False)\n",
    "rare_title1 = list(temp[temp<40].index)  # 查看不加index 情况"
   ]
  },
  {
   "cell_type": "markdown",
   "metadata": {},
   "source": [
    "### 将Initial 中 下面称呼全部更名为 Rare 赋给字段Title2\n",
    "'Dr', 'Rev', 'Col', 'Major', 'Capt', 'the Countess', 'Jonkheer', 'Sir', 'Lady', 'Don'"
   ]
  },
  {
   "cell_type": "code",
   "execution_count": 127,
   "metadata": {
    "ExecuteTime": {
     "end_time": "2018-04-29T01:50:26.246166Z",
     "start_time": "2018-04-29T01:50:26.240163Z"
    }
   },
   "outputs": [],
   "source": [
    "rare_title2= ['Dr', 'Rev', 'Col', 'Major', 'Capt', 'the Countess', 'Jonkheer', 'Sir', 'Lady', 'Don']\n",
    "data_train['Title2'] = data_train['Initial'].replace(rare_title1, 'Rare')"
   ]
  },
  {
   "cell_type": "markdown",
   "metadata": {},
   "source": [
    "### 统计Title中 的频次 包括NaN"
   ]
  },
  {
   "cell_type": "code",
   "execution_count": 128,
   "metadata": {
    "ExecuteTime": {
     "end_time": "2018-04-29T01:50:27.168147Z",
     "start_time": "2018-04-29T01:50:27.159149Z"
    }
   },
   "outputs": [
    {
     "data": {
      "text/plain": [
       "Mr         757\n",
       "Miss       264\n",
       "Mrs        198\n",
       "Master      61\n",
       "Officer     23\n",
       "Royalty      6\n",
       "Name: Title, dtype: int64"
      ]
     },
     "execution_count": 128,
     "metadata": {},
     "output_type": "execute_result"
    }
   ],
   "source": [
    "# data_train['Initial'].value_counts(dropna=False)\n",
    "data_train['Title'].value_counts(dropna =False)"
   ]
  },
  {
   "cell_type": "markdown",
   "metadata": {},
   "source": [
    "### 将Title2进行数值化"
   ]
  },
  {
   "cell_type": "code",
   "execution_count": 129,
   "metadata": {
    "ExecuteTime": {
     "end_time": "2018-04-29T01:50:28.218585Z",
     "start_time": "2018-04-29T01:50:28.212583Z"
    }
   },
   "outputs": [],
   "source": [
    "title_mapping ={\n",
    "    'Mr':1,\n",
    "    'Miss':2,\n",
    "    'Mrs':3,\n",
    "    'Master':4,\n",
    "    'Rare':5,\n",
    "}\n",
    "data_train['Title_train'] = data_train['Title2'].map(title_mapping)"
   ]
  },
  {
   "cell_type": "markdown",
   "metadata": {},
   "source": [
    "### 根据Title2生成是否是Master的字段 W_Master(np.where)"
   ]
  },
  {
   "cell_type": "code",
   "execution_count": 130,
   "metadata": {
    "ExecuteTime": {
     "end_time": "2018-04-29T01:50:28.845700Z",
     "start_time": "2018-04-29T01:50:28.838703Z"
    }
   },
   "outputs": [],
   "source": [
    "#np.where 方法\n",
    "data_train['W_Master'] = np.where(data_train['Title2']=='Master', 0, 1)"
   ]
  },
  {
   "cell_type": "markdown",
   "metadata": {},
   "source": [
    "####  Age"
   ]
  },
  {
   "cell_type": "markdown",
   "metadata": {},
   "source": [
    "### 连续型变量分箱(对Age分箱 0,16,32,48,64 分箱) \n",
    "#### 1.pd.cut"
   ]
  },
  {
   "cell_type": "code",
   "execution_count": 131,
   "metadata": {
    "ExecuteTime": {
     "end_time": "2018-04-29T01:50:29.701415Z",
     "start_time": "2018-04-29T01:50:29.694417Z"
    }
   },
   "outputs": [],
   "source": [
    "cut_points = [0,16,32,48,64,np.inf]\n",
    "labels = [1,2,3,4,5]\n",
    "data_train['Age_cut1']= pd.cut(data_train['Age'],cut_points,labels= labels,right =False) #默认右闭"
   ]
  },
  {
   "cell_type": "markdown",
   "metadata": {},
   "source": [
    "#### 2.用条件划分 loc"
   ]
  },
  {
   "cell_type": "code",
   "execution_count": 132,
   "metadata": {
    "ExecuteTime": {
     "end_time": "2018-04-29T01:50:30.285202Z",
     "start_time": "2018-04-29T01:50:30.223262Z"
    }
   },
   "outputs": [
    {
     "ename": "IndexingError",
     "evalue": "(id\n0       False\n1       False\n2       False\n3       False\n4       False\n6       False\n7        True\n8       False\n9        True\n10       True\n11      False\n12      False\n13      False\n14       True\n15      False\n16       True\n18      False\n20      False\n21      False\n22       True\n23      False\n24       True\n25      False\n27      False\n30      False\n31       True\n33      False\n34      False\n35      False\n37      False\n        ...  \n1272    False\n1274    False\n1276    False\n1277    False\n1278    False\n1279    False\n1280     True\n1281    False\n1282    False\n1283     True\n1284    False\n1285    False\n1286    False\n1287    False\n1288    False\n1289    False\n1290    False\n1291    False\n1292    False\n1293    False\n1294    False\n1295    False\n1296    False\n1297    False\n1298    False\n1300     True\n1302    False\n1303    False\n1305    False\n1306    False\nName: Age, Length: 1069, dtype: bool, 'Age_band')",
     "output_type": "error",
     "traceback": [
      "\u001b[1;31m---------------------------------------------------------------------------\u001b[0m",
      "\u001b[1;31mTypeError\u001b[0m                                 Traceback (most recent call last)",
      "\u001b[1;32mC:\\ProgramData\\Anaconda2\\envs\\gluon_py3\\lib\\site-packages\\pandas\\core\\indexing.py\u001b[0m in \u001b[0;36m_get_setitem_indexer\u001b[1;34m(self, key)\u001b[0m\n\u001b[0;32m    178\u001b[0m         \u001b[1;32mtry\u001b[0m\u001b[1;33m:\u001b[0m\u001b[1;33m\u001b[0m\u001b[0m\n\u001b[1;32m--> 179\u001b[1;33m             \u001b[1;32mreturn\u001b[0m \u001b[0mself\u001b[0m\u001b[1;33m.\u001b[0m\u001b[0m_convert_to_indexer\u001b[0m\u001b[1;33m(\u001b[0m\u001b[0mkey\u001b[0m\u001b[1;33m,\u001b[0m \u001b[0mis_setter\u001b[0m\u001b[1;33m=\u001b[0m\u001b[1;32mTrue\u001b[0m\u001b[1;33m)\u001b[0m\u001b[1;33m\u001b[0m\u001b[0m\n\u001b[0m\u001b[0;32m    180\u001b[0m         \u001b[1;32mexcept\u001b[0m \u001b[0mTypeError\u001b[0m \u001b[1;32mas\u001b[0m \u001b[0me\u001b[0m\u001b[1;33m:\u001b[0m\u001b[1;33m\u001b[0m\u001b[0m\n",
      "\u001b[1;32mC:\\ProgramData\\Anaconda2\\envs\\gluon_py3\\lib\\site-packages\\pandas\\core\\indexing.py\u001b[0m in \u001b[0;36m_convert_to_indexer\u001b[1;34m(self, obj, axis, is_setter)\u001b[0m\n\u001b[0;32m   1255\u001b[0m                 \u001b[1;32mif\u001b[0m \u001b[0mlabels\u001b[0m\u001b[1;33m.\u001b[0m\u001b[0mis_unique\u001b[0m\u001b[1;33m:\u001b[0m\u001b[1;33m\u001b[0m\u001b[0m\n\u001b[1;32m-> 1256\u001b[1;33m                     \u001b[0mindexer\u001b[0m \u001b[1;33m=\u001b[0m \u001b[0mcheck\u001b[0m \u001b[1;33m=\u001b[0m \u001b[0mlabels\u001b[0m\u001b[1;33m.\u001b[0m\u001b[0mget_indexer\u001b[0m\u001b[1;33m(\u001b[0m\u001b[0mobjarr\u001b[0m\u001b[1;33m)\u001b[0m\u001b[1;33m\u001b[0m\u001b[0m\n\u001b[0m\u001b[0;32m   1257\u001b[0m \u001b[1;33m\u001b[0m\u001b[0m\n",
      "\u001b[1;32mC:\\ProgramData\\Anaconda2\\envs\\gluon_py3\\lib\\site-packages\\pandas\\core\\indexes\\base.py\u001b[0m in \u001b[0;36mget_indexer\u001b[1;34m(self, target, method, limit, tolerance)\u001b[0m\n\u001b[0;32m   2683\u001b[0m             return this.get_indexer(target, method=method, limit=limit,\n\u001b[1;32m-> 2684\u001b[1;33m                                     tolerance=tolerance)\n\u001b[0m\u001b[0;32m   2685\u001b[0m \u001b[1;33m\u001b[0m\u001b[0m\n",
      "\u001b[1;32mC:\\ProgramData\\Anaconda2\\envs\\gluon_py3\\lib\\site-packages\\pandas\\core\\indexes\\base.py\u001b[0m in \u001b[0;36mget_indexer\u001b[1;34m(self, target, method, limit, tolerance)\u001b[0m\n\u001b[0;32m   2701\u001b[0m \u001b[1;33m\u001b[0m\u001b[0m\n\u001b[1;32m-> 2702\u001b[1;33m             \u001b[0mindexer\u001b[0m \u001b[1;33m=\u001b[0m \u001b[0mself\u001b[0m\u001b[1;33m.\u001b[0m\u001b[0m_engine\u001b[0m\u001b[1;33m.\u001b[0m\u001b[0mget_indexer\u001b[0m\u001b[1;33m(\u001b[0m\u001b[0mtarget\u001b[0m\u001b[1;33m.\u001b[0m\u001b[0m_values\u001b[0m\u001b[1;33m)\u001b[0m\u001b[1;33m\u001b[0m\u001b[0m\n\u001b[0m\u001b[0;32m   2703\u001b[0m \u001b[1;33m\u001b[0m\u001b[0m\n",
      "\u001b[1;32mpandas\\_libs\\index.pyx\u001b[0m in \u001b[0;36mpandas._libs.index.IndexEngine.get_indexer\u001b[1;34m()\u001b[0m\n",
      "\u001b[1;32mpandas\\_libs\\hashtable_class_helper.pxi\u001b[0m in \u001b[0;36mpandas._libs.hashtable.PyObjectHashTable.lookup\u001b[1;34m()\u001b[0m\n",
      "\u001b[1;32mC:\\ProgramData\\Anaconda2\\envs\\gluon_py3\\lib\\site-packages\\pandas\\core\\generic.py\u001b[0m in \u001b[0;36m__hash__\u001b[1;34m(self)\u001b[0m\n\u001b[0;32m   1044\u001b[0m         raise TypeError('{0!r} objects are mutable, thus they cannot be'\n\u001b[1;32m-> 1045\u001b[1;33m                         ' hashed'.format(self.__class__.__name__))\n\u001b[0m\u001b[0;32m   1046\u001b[0m \u001b[1;33m\u001b[0m\u001b[0m\n",
      "\u001b[1;31mTypeError\u001b[0m: 'Series' objects are mutable, thus they cannot be hashed",
      "\nDuring handling of the above exception, another exception occurred:\n",
      "\u001b[1;31mIndexingError\u001b[0m                             Traceback (most recent call last)",
      "\u001b[1;32m<ipython-input-132-84bccfd1dff8>\u001b[0m in \u001b[0;36m<module>\u001b[1;34m()\u001b[0m\n\u001b[0;32m      1\u001b[0m \u001b[0mdata_train\u001b[0m\u001b[1;33m[\u001b[0m\u001b[1;34m'Age_band'\u001b[0m\u001b[1;33m]\u001b[0m\u001b[1;33m=\u001b[0m\u001b[1;36m0\u001b[0m\u001b[1;33m\u001b[0m\u001b[0m\n\u001b[1;32m----> 2\u001b[1;33m \u001b[0mdata_train\u001b[0m\u001b[1;33m.\u001b[0m\u001b[0mloc\u001b[0m\u001b[1;33m[\u001b[0m\u001b[0mdata\u001b[0m\u001b[1;33m[\u001b[0m\u001b[1;34m'Age'\u001b[0m\u001b[1;33m]\u001b[0m\u001b[1;33m<=\u001b[0m\u001b[1;36m16\u001b[0m\u001b[1;33m,\u001b[0m\u001b[1;34m'Age_band'\u001b[0m\u001b[1;33m]\u001b[0m\u001b[1;33m=\u001b[0m\u001b[1;36m0\u001b[0m\u001b[1;33m\u001b[0m\u001b[0m\n\u001b[0m\u001b[0;32m      3\u001b[0m \u001b[0mdata_train\u001b[0m\u001b[1;33m.\u001b[0m\u001b[0mloc\u001b[0m\u001b[1;33m[\u001b[0m\u001b[1;33m(\u001b[0m\u001b[0mdata\u001b[0m\u001b[1;33m[\u001b[0m\u001b[1;34m'Age'\u001b[0m\u001b[1;33m]\u001b[0m\u001b[1;33m>\u001b[0m\u001b[1;36m16\u001b[0m\u001b[1;33m)\u001b[0m\u001b[1;33m&\u001b[0m\u001b[1;33m(\u001b[0m\u001b[0mdata\u001b[0m\u001b[1;33m[\u001b[0m\u001b[1;34m'Age'\u001b[0m\u001b[1;33m]\u001b[0m\u001b[1;33m<=\u001b[0m\u001b[1;36m32\u001b[0m\u001b[1;33m)\u001b[0m\u001b[1;33m,\u001b[0m\u001b[1;34m'Age_band'\u001b[0m\u001b[1;33m]\u001b[0m\u001b[1;33m=\u001b[0m\u001b[1;36m1\u001b[0m\u001b[1;33m\u001b[0m\u001b[0m\n\u001b[0;32m      4\u001b[0m \u001b[0mdata_train\u001b[0m\u001b[1;33m.\u001b[0m\u001b[0mloc\u001b[0m\u001b[1;33m[\u001b[0m\u001b[1;33m(\u001b[0m\u001b[0mdata\u001b[0m\u001b[1;33m[\u001b[0m\u001b[1;34m'Age'\u001b[0m\u001b[1;33m]\u001b[0m\u001b[1;33m>\u001b[0m\u001b[1;36m32\u001b[0m\u001b[1;33m)\u001b[0m\u001b[1;33m&\u001b[0m\u001b[1;33m(\u001b[0m\u001b[0mdata\u001b[0m\u001b[1;33m[\u001b[0m\u001b[1;34m'Age'\u001b[0m\u001b[1;33m]\u001b[0m\u001b[1;33m<=\u001b[0m\u001b[1;36m48\u001b[0m\u001b[1;33m)\u001b[0m\u001b[1;33m,\u001b[0m\u001b[1;34m'Age_band'\u001b[0m\u001b[1;33m]\u001b[0m\u001b[1;33m=\u001b[0m\u001b[1;36m2\u001b[0m\u001b[1;33m\u001b[0m\u001b[0m\n\u001b[0;32m      5\u001b[0m \u001b[0mdata_train\u001b[0m\u001b[1;33m.\u001b[0m\u001b[0mloc\u001b[0m\u001b[1;33m[\u001b[0m\u001b[1;33m(\u001b[0m\u001b[0mdata\u001b[0m\u001b[1;33m[\u001b[0m\u001b[1;34m'Age'\u001b[0m\u001b[1;33m]\u001b[0m\u001b[1;33m>\u001b[0m\u001b[1;36m48\u001b[0m\u001b[1;33m)\u001b[0m\u001b[1;33m&\u001b[0m\u001b[1;33m(\u001b[0m\u001b[0mdata\u001b[0m\u001b[1;33m[\u001b[0m\u001b[1;34m'Age'\u001b[0m\u001b[1;33m]\u001b[0m\u001b[1;33m<=\u001b[0m\u001b[1;36m64\u001b[0m\u001b[1;33m)\u001b[0m\u001b[1;33m,\u001b[0m\u001b[1;34m'Age_band'\u001b[0m\u001b[1;33m]\u001b[0m\u001b[1;33m=\u001b[0m\u001b[1;36m3\u001b[0m\u001b[1;33m\u001b[0m\u001b[0m\n",
      "\u001b[1;32mC:\\ProgramData\\Anaconda2\\envs\\gluon_py3\\lib\\site-packages\\pandas\\core\\indexing.py\u001b[0m in \u001b[0;36m__setitem__\u001b[1;34m(self, key, value)\u001b[0m\n\u001b[0;32m    191\u001b[0m         \u001b[1;32melse\u001b[0m\u001b[1;33m:\u001b[0m\u001b[1;33m\u001b[0m\u001b[0m\n\u001b[0;32m    192\u001b[0m             \u001b[0mkey\u001b[0m \u001b[1;33m=\u001b[0m \u001b[0mcom\u001b[0m\u001b[1;33m.\u001b[0m\u001b[0m_apply_if_callable\u001b[0m\u001b[1;33m(\u001b[0m\u001b[0mkey\u001b[0m\u001b[1;33m,\u001b[0m \u001b[0mself\u001b[0m\u001b[1;33m.\u001b[0m\u001b[0mobj\u001b[0m\u001b[1;33m)\u001b[0m\u001b[1;33m\u001b[0m\u001b[0m\n\u001b[1;32m--> 193\u001b[1;33m         \u001b[0mindexer\u001b[0m \u001b[1;33m=\u001b[0m \u001b[0mself\u001b[0m\u001b[1;33m.\u001b[0m\u001b[0m_get_setitem_indexer\u001b[0m\u001b[1;33m(\u001b[0m\u001b[0mkey\u001b[0m\u001b[1;33m)\u001b[0m\u001b[1;33m\u001b[0m\u001b[0m\n\u001b[0m\u001b[0;32m    194\u001b[0m         \u001b[0mself\u001b[0m\u001b[1;33m.\u001b[0m\u001b[0m_setitem_with_indexer\u001b[0m\u001b[1;33m(\u001b[0m\u001b[0mindexer\u001b[0m\u001b[1;33m,\u001b[0m \u001b[0mvalue\u001b[0m\u001b[1;33m)\u001b[0m\u001b[1;33m\u001b[0m\u001b[0m\n\u001b[0;32m    195\u001b[0m \u001b[1;33m\u001b[0m\u001b[0m\n",
      "\u001b[1;32mC:\\ProgramData\\Anaconda2\\envs\\gluon_py3\\lib\\site-packages\\pandas\\core\\indexing.py\u001b[0m in \u001b[0;36m_get_setitem_indexer\u001b[1;34m(self, key)\u001b[0m\n\u001b[0;32m    183\u001b[0m             \u001b[1;32mif\u001b[0m \u001b[1;34m'cannot do'\u001b[0m \u001b[1;32min\u001b[0m \u001b[0mstr\u001b[0m\u001b[1;33m(\u001b[0m\u001b[0me\u001b[0m\u001b[1;33m)\u001b[0m\u001b[1;33m:\u001b[0m\u001b[1;33m\u001b[0m\u001b[0m\n\u001b[0;32m    184\u001b[0m                 \u001b[1;32mraise\u001b[0m\u001b[1;33m\u001b[0m\u001b[0m\n\u001b[1;32m--> 185\u001b[1;33m             \u001b[1;32mraise\u001b[0m \u001b[0mIndexingError\u001b[0m\u001b[1;33m(\u001b[0m\u001b[0mkey\u001b[0m\u001b[1;33m)\u001b[0m\u001b[1;33m\u001b[0m\u001b[0m\n\u001b[0m\u001b[0;32m    186\u001b[0m \u001b[1;33m\u001b[0m\u001b[0m\n\u001b[0;32m    187\u001b[0m     \u001b[1;32mdef\u001b[0m \u001b[0m__setitem__\u001b[0m\u001b[1;33m(\u001b[0m\u001b[0mself\u001b[0m\u001b[1;33m,\u001b[0m \u001b[0mkey\u001b[0m\u001b[1;33m,\u001b[0m \u001b[0mvalue\u001b[0m\u001b[1;33m)\u001b[0m\u001b[1;33m:\u001b[0m\u001b[1;33m\u001b[0m\u001b[0m\n",
      "\u001b[1;31mIndexingError\u001b[0m: (id\n0       False\n1       False\n2       False\n3       False\n4       False\n6       False\n7        True\n8       False\n9        True\n10       True\n11      False\n12      False\n13      False\n14       True\n15      False\n16       True\n18      False\n20      False\n21      False\n22       True\n23      False\n24       True\n25      False\n27      False\n30      False\n31       True\n33      False\n34      False\n35      False\n37      False\n        ...  \n1272    False\n1274    False\n1276    False\n1277    False\n1278    False\n1279    False\n1280     True\n1281    False\n1282    False\n1283     True\n1284    False\n1285    False\n1286    False\n1287    False\n1288    False\n1289    False\n1290    False\n1291    False\n1292    False\n1293    False\n1294    False\n1295    False\n1296    False\n1297    False\n1298    False\n1300     True\n1302    False\n1303    False\n1305    False\n1306    False\nName: Age, Length: 1069, dtype: bool, 'Age_band')"
     ]
    }
   ],
   "source": [
    "data_train['Age_band']=0\n",
    "data_train.loc[data['Age']<=16,'Age_band']=0\n",
    "data_train.loc[(data['Age']>16)&(data['Age']<=32),'Age_band']=1\n",
    "data_train.loc[(data['Age']>32)&(data['Age']<=48),'Age_band']=2\n",
    "data_train.loc[(data['Age']>48)&(data['Age']<=64),'Age_band']=3\n",
    "data_train.loc[data['Age']>64,'Age_band']=4\n",
    "# data_train.head(2)"
   ]
  },
  {
   "cell_type": "markdown",
   "metadata": {},
   "source": [
    "### 5等分  pd.cut -生成 CategoricalAge 字段"
   ]
  },
  {
   "cell_type": "code",
   "execution_count": 133,
   "metadata": {
    "ExecuteTime": {
     "end_time": "2018-04-29T01:50:30.751206Z",
     "start_time": "2018-04-29T01:50:30.742203Z"
    }
   },
   "outputs": [],
   "source": [
    "data_train['CategoricalAge'] = pd.cut(data_train['Age'], 5)"
   ]
  },
  {
   "cell_type": "markdown",
   "metadata": {},
   "source": [
    "### 统计CategoricalAge 字段取值出现频次"
   ]
  },
  {
   "cell_type": "code",
   "execution_count": 134,
   "metadata": {
    "ExecuteTime": {
     "end_time": "2018-04-29T01:50:31.847457Z",
     "start_time": "2018-04-29T01:50:31.840454Z"
    }
   },
   "outputs": [
    {
     "data": {
      "text/plain": [
       "(16.136, 32.102]    524\n",
       "(32.102, 48.068]    269\n",
       "NaN                 263\n",
       "(0.0902, 16.136]    134\n",
       "(48.068, 64.034]    106\n",
       "(64.034, 80.0]       13\n",
       "Name: CategoricalAge, dtype: int64"
      ]
     },
     "execution_count": 134,
     "metadata": {},
     "output_type": "execute_result"
    }
   ],
   "source": [
    "data_train['CategoricalAge'].value_counts(dropna =False)"
   ]
  },
  {
   "cell_type": "markdown",
   "metadata": {},
   "source": [
    "###  对Age变量进行正交化 生成Age_Scaled字段\n",
    "#### 连续变量数值幅度变化过大，采用正交化，降低对模型干扰 ，包括Fare变量（极端值->不好归一化）"
   ]
  },
  {
   "cell_type": "code",
   "execution_count": 135,
   "metadata": {
    "ExecuteTime": {
     "end_time": "2018-04-29T01:50:32.384508Z",
     "start_time": "2018-04-29T01:50:32.357510Z"
    }
   },
   "outputs": [
    {
     "name": "stderr",
     "output_type": "stream",
     "text": [
      "C:\\ProgramData\\Anaconda2\\envs\\gluon_py3\\lib\\site-packages\\ipykernel_launcher.py:2: FutureWarning: reshape is deprecated and will raise in a subsequent release. Please use .values.reshape(...) instead\n",
      "  \n"
     ]
    },
    {
     "ename": "ValueError",
     "evalue": "Input contains NaN, infinity or a value too large for dtype('float64').",
     "output_type": "error",
     "traceback": [
      "\u001b[1;31m---------------------------------------------------------------------------\u001b[0m",
      "\u001b[1;31mValueError\u001b[0m                                Traceback (most recent call last)",
      "\u001b[1;32m<ipython-input-135-11f70785022e>\u001b[0m in \u001b[0;36m<module>\u001b[1;34m()\u001b[0m\n\u001b[0;32m      1\u001b[0m \u001b[1;32mfrom\u001b[0m \u001b[0msklearn\u001b[0m\u001b[1;33m.\u001b[0m\u001b[0mpreprocessing\u001b[0m \u001b[1;32mimport\u001b[0m \u001b[0mStandardScaler\u001b[0m\u001b[1;33m\u001b[0m\u001b[0m\n\u001b[1;32m----> 2\u001b[1;33m \u001b[0mdata_train\u001b[0m\u001b[1;33m[\u001b[0m\u001b[1;34m'Age_scaled'\u001b[0m\u001b[1;33m]\u001b[0m \u001b[1;33m=\u001b[0m \u001b[0mStandardScaler\u001b[0m\u001b[1;33m(\u001b[0m\u001b[1;33m)\u001b[0m\u001b[1;33m.\u001b[0m\u001b[0mfit_transform\u001b[0m\u001b[1;33m(\u001b[0m\u001b[0mdata_train\u001b[0m\u001b[1;33m[\u001b[0m\u001b[1;34m'Age'\u001b[0m\u001b[1;33m]\u001b[0m\u001b[1;33m.\u001b[0m\u001b[0mreshape\u001b[0m\u001b[1;33m(\u001b[0m\u001b[1;33m-\u001b[0m\u001b[1;36m1\u001b[0m\u001b[1;33m,\u001b[0m\u001b[1;36m1\u001b[0m\u001b[1;33m)\u001b[0m\u001b[1;33m)\u001b[0m\u001b[1;33m\u001b[0m\u001b[0m\n\u001b[0m\u001b[0;32m      3\u001b[0m \u001b[0mdata_train\u001b[0m\u001b[1;33m.\u001b[0m\u001b[0mhead\u001b[0m\u001b[1;33m(\u001b[0m\u001b[1;33m)\u001b[0m\u001b[1;33m\u001b[0m\u001b[0m\n\u001b[0;32m      4\u001b[0m \u001b[1;31m# data_train.drop('temp',axis =1, inplace =True)\u001b[0m\u001b[1;33m\u001b[0m\u001b[1;33m\u001b[0m\u001b[0m\n",
      "\u001b[1;32mC:\\ProgramData\\Anaconda2\\envs\\gluon_py3\\lib\\site-packages\\sklearn\\base.py\u001b[0m in \u001b[0;36mfit_transform\u001b[1;34m(self, X, y, **fit_params)\u001b[0m\n\u001b[0;32m    515\u001b[0m         \u001b[1;32mif\u001b[0m \u001b[0my\u001b[0m \u001b[1;32mis\u001b[0m \u001b[1;32mNone\u001b[0m\u001b[1;33m:\u001b[0m\u001b[1;33m\u001b[0m\u001b[0m\n\u001b[0;32m    516\u001b[0m             \u001b[1;31m# fit method of arity 1 (unsupervised transformation)\u001b[0m\u001b[1;33m\u001b[0m\u001b[1;33m\u001b[0m\u001b[0m\n\u001b[1;32m--> 517\u001b[1;33m             \u001b[1;32mreturn\u001b[0m \u001b[0mself\u001b[0m\u001b[1;33m.\u001b[0m\u001b[0mfit\u001b[0m\u001b[1;33m(\u001b[0m\u001b[0mX\u001b[0m\u001b[1;33m,\u001b[0m \u001b[1;33m**\u001b[0m\u001b[0mfit_params\u001b[0m\u001b[1;33m)\u001b[0m\u001b[1;33m.\u001b[0m\u001b[0mtransform\u001b[0m\u001b[1;33m(\u001b[0m\u001b[0mX\u001b[0m\u001b[1;33m)\u001b[0m\u001b[1;33m\u001b[0m\u001b[0m\n\u001b[0m\u001b[0;32m    518\u001b[0m         \u001b[1;32melse\u001b[0m\u001b[1;33m:\u001b[0m\u001b[1;33m\u001b[0m\u001b[0m\n\u001b[0;32m    519\u001b[0m             \u001b[1;31m# fit method of arity 2 (supervised transformation)\u001b[0m\u001b[1;33m\u001b[0m\u001b[1;33m\u001b[0m\u001b[0m\n",
      "\u001b[1;32mC:\\ProgramData\\Anaconda2\\envs\\gluon_py3\\lib\\site-packages\\sklearn\\preprocessing\\data.py\u001b[0m in \u001b[0;36mfit\u001b[1;34m(self, X, y)\u001b[0m\n\u001b[0;32m    588\u001b[0m         \u001b[1;31m# Reset internal state before fitting\u001b[0m\u001b[1;33m\u001b[0m\u001b[1;33m\u001b[0m\u001b[0m\n\u001b[0;32m    589\u001b[0m         \u001b[0mself\u001b[0m\u001b[1;33m.\u001b[0m\u001b[0m_reset\u001b[0m\u001b[1;33m(\u001b[0m\u001b[1;33m)\u001b[0m\u001b[1;33m\u001b[0m\u001b[0m\n\u001b[1;32m--> 590\u001b[1;33m         \u001b[1;32mreturn\u001b[0m \u001b[0mself\u001b[0m\u001b[1;33m.\u001b[0m\u001b[0mpartial_fit\u001b[0m\u001b[1;33m(\u001b[0m\u001b[0mX\u001b[0m\u001b[1;33m,\u001b[0m \u001b[0my\u001b[0m\u001b[1;33m)\u001b[0m\u001b[1;33m\u001b[0m\u001b[0m\n\u001b[0m\u001b[0;32m    591\u001b[0m \u001b[1;33m\u001b[0m\u001b[0m\n\u001b[0;32m    592\u001b[0m     \u001b[1;32mdef\u001b[0m \u001b[0mpartial_fit\u001b[0m\u001b[1;33m(\u001b[0m\u001b[0mself\u001b[0m\u001b[1;33m,\u001b[0m \u001b[0mX\u001b[0m\u001b[1;33m,\u001b[0m \u001b[0my\u001b[0m\u001b[1;33m=\u001b[0m\u001b[1;32mNone\u001b[0m\u001b[1;33m)\u001b[0m\u001b[1;33m:\u001b[0m\u001b[1;33m\u001b[0m\u001b[0m\n",
      "\u001b[1;32mC:\\ProgramData\\Anaconda2\\envs\\gluon_py3\\lib\\site-packages\\sklearn\\preprocessing\\data.py\u001b[0m in \u001b[0;36mpartial_fit\u001b[1;34m(self, X, y)\u001b[0m\n\u001b[0;32m    610\u001b[0m         \"\"\"\n\u001b[0;32m    611\u001b[0m         X = check_array(X, accept_sparse=('csr', 'csc'), copy=self.copy,\n\u001b[1;32m--> 612\u001b[1;33m                         warn_on_dtype=True, estimator=self, dtype=FLOAT_DTYPES)\n\u001b[0m\u001b[0;32m    613\u001b[0m \u001b[1;33m\u001b[0m\u001b[0m\n\u001b[0;32m    614\u001b[0m         \u001b[1;31m# Even in the case of `with_mean=False`, we update the mean anyway\u001b[0m\u001b[1;33m\u001b[0m\u001b[1;33m\u001b[0m\u001b[0m\n",
      "\u001b[1;32mC:\\ProgramData\\Anaconda2\\envs\\gluon_py3\\lib\\site-packages\\sklearn\\utils\\validation.py\u001b[0m in \u001b[0;36mcheck_array\u001b[1;34m(array, accept_sparse, dtype, order, copy, force_all_finite, ensure_2d, allow_nd, ensure_min_samples, ensure_min_features, warn_on_dtype, estimator)\u001b[0m\n\u001b[0;32m    451\u001b[0m                              % (array.ndim, estimator_name))\n\u001b[0;32m    452\u001b[0m         \u001b[1;32mif\u001b[0m \u001b[0mforce_all_finite\u001b[0m\u001b[1;33m:\u001b[0m\u001b[1;33m\u001b[0m\u001b[0m\n\u001b[1;32m--> 453\u001b[1;33m             \u001b[0m_assert_all_finite\u001b[0m\u001b[1;33m(\u001b[0m\u001b[0marray\u001b[0m\u001b[1;33m)\u001b[0m\u001b[1;33m\u001b[0m\u001b[0m\n\u001b[0m\u001b[0;32m    454\u001b[0m \u001b[1;33m\u001b[0m\u001b[0m\n\u001b[0;32m    455\u001b[0m     \u001b[0mshape_repr\u001b[0m \u001b[1;33m=\u001b[0m \u001b[0m_shape_repr\u001b[0m\u001b[1;33m(\u001b[0m\u001b[0marray\u001b[0m\u001b[1;33m.\u001b[0m\u001b[0mshape\u001b[0m\u001b[1;33m)\u001b[0m\u001b[1;33m\u001b[0m\u001b[0m\n",
      "\u001b[1;32mC:\\ProgramData\\Anaconda2\\envs\\gluon_py3\\lib\\site-packages\\sklearn\\utils\\validation.py\u001b[0m in \u001b[0;36m_assert_all_finite\u001b[1;34m(X)\u001b[0m\n\u001b[0;32m     42\u001b[0m             and not np.isfinite(X).all()):\n\u001b[0;32m     43\u001b[0m         raise ValueError(\"Input contains NaN, infinity\"\n\u001b[1;32m---> 44\u001b[1;33m                          \" or a value too large for %r.\" % X.dtype)\n\u001b[0m\u001b[0;32m     45\u001b[0m \u001b[1;33m\u001b[0m\u001b[0m\n\u001b[0;32m     46\u001b[0m \u001b[1;33m\u001b[0m\u001b[0m\n",
      "\u001b[1;31mValueError\u001b[0m: Input contains NaN, infinity or a value too large for dtype('float64')."
     ]
    }
   ],
   "source": [
    "from sklearn.preprocessing import StandardScaler\n",
    "data_train['Age_scaled'] = StandardScaler().fit_transform(data_train['Age'].reshape(-1,1))\n",
    "data_train.head()\n",
    "# data_train.drop('temp',axis =1, inplace =True)"
   ]
  },
  {
   "cell_type": "markdown",
   "metadata": {},
   "source": [
    "####  Fare"
   ]
  },
  {
   "cell_type": "markdown",
   "metadata": {},
   "source": [
    "### 连续变量 Fare进行分箱 7.91\\14.454\\31 生成FareCut"
   ]
  },
  {
   "cell_type": "code",
   "execution_count": 136,
   "metadata": {
    "ExecuteTime": {
     "end_time": "2018-04-29T01:50:33.179038Z",
     "start_time": "2018-04-29T01:50:33.152038Z"
    }
   },
   "outputs": [],
   "source": [
    "data_train['FareCut'] = data_train['Fare'] \n",
    "data_train.loc[data_train['FareCut']<=7.91,'FareCut']  \t\t\t\t\t                 = 0\n",
    "data_train.loc[(data_train['FareCut']>7.91) & (data_train['FareCut']<=14.454),'FareCut'] = 1\n",
    "data_train.loc[(data_train['FareCut']>14.454) & (data_train['FareCut']<=31),'FareCut']   = 2\n",
    "data_train.loc[data_train['FareCut']>31,'FareCut'] \t\t\t\t\t                     = 3"
   ]
  },
  {
   "cell_type": "markdown",
   "metadata": {},
   "source": [
    "### 对Fare 进行正交化"
   ]
  },
  {
   "cell_type": "code",
   "execution_count": 137,
   "metadata": {
    "ExecuteTime": {
     "end_time": "2018-04-29T01:50:33.796806Z",
     "start_time": "2018-04-29T01:50:33.774808Z"
    }
   },
   "outputs": [
    {
     "name": "stderr",
     "output_type": "stream",
     "text": [
      "C:\\ProgramData\\Anaconda2\\envs\\gluon_py3\\lib\\site-packages\\ipykernel_launcher.py:1: FutureWarning: reshape is deprecated and will raise in a subsequent release. Please use .values.reshape(...) instead\n",
      "  \"\"\"Entry point for launching an IPython kernel.\n"
     ]
    },
    {
     "ename": "ValueError",
     "evalue": "Input contains NaN, infinity or a value too large for dtype('float64').",
     "output_type": "error",
     "traceback": [
      "\u001b[1;31m---------------------------------------------------------------------------\u001b[0m",
      "\u001b[1;31mValueError\u001b[0m                                Traceback (most recent call last)",
      "\u001b[1;32m<ipython-input-137-010fa1d86f4f>\u001b[0m in \u001b[0;36m<module>\u001b[1;34m()\u001b[0m\n\u001b[1;32m----> 1\u001b[1;33m \u001b[0mdata_train\u001b[0m\u001b[1;33m[\u001b[0m\u001b[1;34m'Fare_scaled'\u001b[0m\u001b[1;33m]\u001b[0m \u001b[1;33m=\u001b[0m \u001b[0mStandardScaler\u001b[0m\u001b[1;33m(\u001b[0m\u001b[1;33m)\u001b[0m\u001b[1;33m.\u001b[0m\u001b[0mfit_transform\u001b[0m\u001b[1;33m(\u001b[0m\u001b[0mdata_train\u001b[0m\u001b[1;33m[\u001b[0m\u001b[1;34m'Fare'\u001b[0m\u001b[1;33m]\u001b[0m\u001b[1;33m.\u001b[0m\u001b[0mreshape\u001b[0m\u001b[1;33m(\u001b[0m\u001b[1;33m-\u001b[0m\u001b[1;36m1\u001b[0m\u001b[1;33m,\u001b[0m\u001b[1;36m1\u001b[0m\u001b[1;33m)\u001b[0m\u001b[1;33m)\u001b[0m\u001b[1;33m\u001b[0m\u001b[0m\n\u001b[0m",
      "\u001b[1;32mC:\\ProgramData\\Anaconda2\\envs\\gluon_py3\\lib\\site-packages\\sklearn\\base.py\u001b[0m in \u001b[0;36mfit_transform\u001b[1;34m(self, X, y, **fit_params)\u001b[0m\n\u001b[0;32m    515\u001b[0m         \u001b[1;32mif\u001b[0m \u001b[0my\u001b[0m \u001b[1;32mis\u001b[0m \u001b[1;32mNone\u001b[0m\u001b[1;33m:\u001b[0m\u001b[1;33m\u001b[0m\u001b[0m\n\u001b[0;32m    516\u001b[0m             \u001b[1;31m# fit method of arity 1 (unsupervised transformation)\u001b[0m\u001b[1;33m\u001b[0m\u001b[1;33m\u001b[0m\u001b[0m\n\u001b[1;32m--> 517\u001b[1;33m             \u001b[1;32mreturn\u001b[0m \u001b[0mself\u001b[0m\u001b[1;33m.\u001b[0m\u001b[0mfit\u001b[0m\u001b[1;33m(\u001b[0m\u001b[0mX\u001b[0m\u001b[1;33m,\u001b[0m \u001b[1;33m**\u001b[0m\u001b[0mfit_params\u001b[0m\u001b[1;33m)\u001b[0m\u001b[1;33m.\u001b[0m\u001b[0mtransform\u001b[0m\u001b[1;33m(\u001b[0m\u001b[0mX\u001b[0m\u001b[1;33m)\u001b[0m\u001b[1;33m\u001b[0m\u001b[0m\n\u001b[0m\u001b[0;32m    518\u001b[0m         \u001b[1;32melse\u001b[0m\u001b[1;33m:\u001b[0m\u001b[1;33m\u001b[0m\u001b[0m\n\u001b[0;32m    519\u001b[0m             \u001b[1;31m# fit method of arity 2 (supervised transformation)\u001b[0m\u001b[1;33m\u001b[0m\u001b[1;33m\u001b[0m\u001b[0m\n",
      "\u001b[1;32mC:\\ProgramData\\Anaconda2\\envs\\gluon_py3\\lib\\site-packages\\sklearn\\preprocessing\\data.py\u001b[0m in \u001b[0;36mfit\u001b[1;34m(self, X, y)\u001b[0m\n\u001b[0;32m    588\u001b[0m         \u001b[1;31m# Reset internal state before fitting\u001b[0m\u001b[1;33m\u001b[0m\u001b[1;33m\u001b[0m\u001b[0m\n\u001b[0;32m    589\u001b[0m         \u001b[0mself\u001b[0m\u001b[1;33m.\u001b[0m\u001b[0m_reset\u001b[0m\u001b[1;33m(\u001b[0m\u001b[1;33m)\u001b[0m\u001b[1;33m\u001b[0m\u001b[0m\n\u001b[1;32m--> 590\u001b[1;33m         \u001b[1;32mreturn\u001b[0m \u001b[0mself\u001b[0m\u001b[1;33m.\u001b[0m\u001b[0mpartial_fit\u001b[0m\u001b[1;33m(\u001b[0m\u001b[0mX\u001b[0m\u001b[1;33m,\u001b[0m \u001b[0my\u001b[0m\u001b[1;33m)\u001b[0m\u001b[1;33m\u001b[0m\u001b[0m\n\u001b[0m\u001b[0;32m    591\u001b[0m \u001b[1;33m\u001b[0m\u001b[0m\n\u001b[0;32m    592\u001b[0m     \u001b[1;32mdef\u001b[0m \u001b[0mpartial_fit\u001b[0m\u001b[1;33m(\u001b[0m\u001b[0mself\u001b[0m\u001b[1;33m,\u001b[0m \u001b[0mX\u001b[0m\u001b[1;33m,\u001b[0m \u001b[0my\u001b[0m\u001b[1;33m=\u001b[0m\u001b[1;32mNone\u001b[0m\u001b[1;33m)\u001b[0m\u001b[1;33m:\u001b[0m\u001b[1;33m\u001b[0m\u001b[0m\n",
      "\u001b[1;32mC:\\ProgramData\\Anaconda2\\envs\\gluon_py3\\lib\\site-packages\\sklearn\\preprocessing\\data.py\u001b[0m in \u001b[0;36mpartial_fit\u001b[1;34m(self, X, y)\u001b[0m\n\u001b[0;32m    610\u001b[0m         \"\"\"\n\u001b[0;32m    611\u001b[0m         X = check_array(X, accept_sparse=('csr', 'csc'), copy=self.copy,\n\u001b[1;32m--> 612\u001b[1;33m                         warn_on_dtype=True, estimator=self, dtype=FLOAT_DTYPES)\n\u001b[0m\u001b[0;32m    613\u001b[0m \u001b[1;33m\u001b[0m\u001b[0m\n\u001b[0;32m    614\u001b[0m         \u001b[1;31m# Even in the case of `with_mean=False`, we update the mean anyway\u001b[0m\u001b[1;33m\u001b[0m\u001b[1;33m\u001b[0m\u001b[0m\n",
      "\u001b[1;32mC:\\ProgramData\\Anaconda2\\envs\\gluon_py3\\lib\\site-packages\\sklearn\\utils\\validation.py\u001b[0m in \u001b[0;36mcheck_array\u001b[1;34m(array, accept_sparse, dtype, order, copy, force_all_finite, ensure_2d, allow_nd, ensure_min_samples, ensure_min_features, warn_on_dtype, estimator)\u001b[0m\n\u001b[0;32m    451\u001b[0m                              % (array.ndim, estimator_name))\n\u001b[0;32m    452\u001b[0m         \u001b[1;32mif\u001b[0m \u001b[0mforce_all_finite\u001b[0m\u001b[1;33m:\u001b[0m\u001b[1;33m\u001b[0m\u001b[0m\n\u001b[1;32m--> 453\u001b[1;33m             \u001b[0m_assert_all_finite\u001b[0m\u001b[1;33m(\u001b[0m\u001b[0marray\u001b[0m\u001b[1;33m)\u001b[0m\u001b[1;33m\u001b[0m\u001b[0m\n\u001b[0m\u001b[0;32m    454\u001b[0m \u001b[1;33m\u001b[0m\u001b[0m\n\u001b[0;32m    455\u001b[0m     \u001b[0mshape_repr\u001b[0m \u001b[1;33m=\u001b[0m \u001b[0m_shape_repr\u001b[0m\u001b[1;33m(\u001b[0m\u001b[0marray\u001b[0m\u001b[1;33m.\u001b[0m\u001b[0mshape\u001b[0m\u001b[1;33m)\u001b[0m\u001b[1;33m\u001b[0m\u001b[0m\n",
      "\u001b[1;32mC:\\ProgramData\\Anaconda2\\envs\\gluon_py3\\lib\\site-packages\\sklearn\\utils\\validation.py\u001b[0m in \u001b[0;36m_assert_all_finite\u001b[1;34m(X)\u001b[0m\n\u001b[0;32m     42\u001b[0m             and not np.isfinite(X).all()):\n\u001b[0;32m     43\u001b[0m         raise ValueError(\"Input contains NaN, infinity\"\n\u001b[1;32m---> 44\u001b[1;33m                          \" or a value too large for %r.\" % X.dtype)\n\u001b[0m\u001b[0;32m     45\u001b[0m \u001b[1;33m\u001b[0m\u001b[0m\n\u001b[0;32m     46\u001b[0m \u001b[1;33m\u001b[0m\u001b[0m\n",
      "\u001b[1;31mValueError\u001b[0m: Input contains NaN, infinity or a value too large for dtype('float64')."
     ]
    }
   ],
   "source": [
    "data_train['Fare_scaled'] = StandardScaler().fit_transform(data_train['Fare'].reshape(-1,1))"
   ]
  },
  {
   "cell_type": "markdown",
   "metadata": {},
   "source": [
    "**<font color=blue>数据格式化</font>**<br>\n"
   ]
  },
  {
   "cell_type": "markdown",
   "metadata": {},
   "source": [
    "### 对于浮点数Fare 规范小数点位数(2位)"
   ]
  },
  {
   "cell_type": "code",
   "execution_count": 138,
   "metadata": {
    "ExecuteTime": {
     "end_time": "2018-04-29T01:50:34.610272Z",
     "start_time": "2018-04-29T01:50:34.598272Z"
    }
   },
   "outputs": [
    {
     "data": {
      "text/plain": [
       "id\n",
       "0     7.25\n",
       "1    71.28\n",
       "2     7.92\n",
       "3    53.10\n",
       "4     8.05\n",
       "Name: Fare_scale, dtype: object"
      ]
     },
     "execution_count": 138,
     "metadata": {},
     "output_type": "execute_result"
    }
   ],
   "source": [
    "data_train['Fare_scale'] = data_train['Fare'].apply(lambda x: '%.2f' %x)\n",
    "data_train['Fare_scale'].head()"
   ]
  },
  {
   "cell_type": "markdown",
   "metadata": {},
   "source": [
    "####  Sex"
   ]
  },
  {
   "cell_type": "markdown",
   "metadata": {},
   "source": [
    "### 对Sex 进行Encode (replace)"
   ]
  },
  {
   "cell_type": "code",
   "execution_count": 139,
   "metadata": {
    "ExecuteTime": {
     "end_time": "2018-04-29T01:50:35.896919Z",
     "start_time": "2018-04-29T01:50:35.881920Z"
    }
   },
   "outputs": [
    {
     "data": {
      "text/plain": [
       "id\n",
       "0       0\n",
       "1       1\n",
       "2       1\n",
       "3       1\n",
       "4       0\n",
       "5       0\n",
       "6       0\n",
       "7       0\n",
       "8       1\n",
       "9       1\n",
       "10      1\n",
       "11      1\n",
       "12      0\n",
       "13      0\n",
       "14      1\n",
       "15      1\n",
       "16      0\n",
       "17      0\n",
       "18      1\n",
       "19      1\n",
       "20      0\n",
       "21      0\n",
       "22      1\n",
       "23      0\n",
       "24      1\n",
       "25      1\n",
       "26      0\n",
       "27      0\n",
       "28      1\n",
       "29      0\n",
       "       ..\n",
       "1279    0\n",
       "1280    0\n",
       "1281    0\n",
       "1282    1\n",
       "1283    0\n",
       "1284    0\n",
       "1285    0\n",
       "1286    1\n",
       "1287    0\n",
       "1288    1\n",
       "1289    0\n",
       "1290    0\n",
       "1291    1\n",
       "1292    0\n",
       "1293    1\n",
       "1294    0\n",
       "1295    0\n",
       "1296    0\n",
       "1297    0\n",
       "1298    0\n",
       "1299    1\n",
       "1300    1\n",
       "1301    1\n",
       "1302    1\n",
       "1303    1\n",
       "1304    0\n",
       "1305    1\n",
       "1306    0\n",
       "1307    0\n",
       "1308    0\n",
       "Name: Sex, Length: 1309, dtype: int32"
      ]
     },
     "execution_count": 139,
     "metadata": {},
     "output_type": "execute_result"
    }
   ],
   "source": [
    "data_train['Sex_bool']=data_train['Sex'].replace({'male':0,'female':1})\n",
    "data_train['Sex'].replace({'male':0,'female':1},inplace = True)\n",
    "data_train['Sex'].astype(int)  # 真正替换"
   ]
  },
  {
   "cell_type": "markdown",
   "metadata": {
    "ExecuteTime": {
     "end_time": "2018-01-17T17:09:49.772366Z",
     "start_time": "2018-01-17T17:09:49.763838Z"
    }
   },
   "source": [
    "#### Cabin"
   ]
  },
  {
   "cell_type": "markdown",
   "metadata": {},
   "source": [
    "###  根据Cabin 是否缺失 生成 Has_Cabin 字段\n",
    "#### apply 替换只有两个类型 情况\n",
    "#### 把有值和无值作为衍生变量，因为数值分散，缺失值较多"
   ]
  },
  {
   "cell_type": "code",
   "execution_count": 140,
   "metadata": {
    "ExecuteTime": {
     "end_time": "2018-04-29T01:50:36.777001Z",
     "start_time": "2018-04-29T01:50:36.770005Z"
    }
   },
   "outputs": [],
   "source": [
    "data_train['Has_Cabin'] = data_train[\"Cabin\"].apply(lambda x: 0 if type(x) == float else 1)  "
   ]
  },
  {
   "cell_type": "markdown",
   "metadata": {},
   "source": [
    "#### SibSp  +  Parch"
   ]
  },
  {
   "cell_type": "markdown",
   "metadata": {},
   "source": [
    "### 组合SibSp 和 Patch 字段 生成Family_Size 字段"
   ]
  },
  {
   "cell_type": "code",
   "execution_count": 141,
   "metadata": {
    "ExecuteTime": {
     "end_time": "2018-04-29T01:50:37.545019Z",
     "start_time": "2018-04-29T01:50:37.540024Z"
    }
   },
   "outputs": [],
   "source": [
    "data_train['Family_Size'] = data_train[\"SibSp\"] + data_train['Parch'] + 1 "
   ]
  },
  {
   "cell_type": "markdown",
   "metadata": {},
   "source": [
    "### 根据Family_Size 是否为1 生成IsAlone 字段"
   ]
  },
  {
   "cell_type": "code",
   "execution_count": 142,
   "metadata": {
    "ExecuteTime": {
     "end_time": "2018-04-29T01:50:38.061292Z",
     "start_time": "2018-04-29T01:50:38.050289Z"
    }
   },
   "outputs": [],
   "source": [
    "data_train['IsAlone'] = 0\n",
    "data_train.loc[data_train['Family_Size'] == 1,'IsAlone'] = 1"
   ]
  },
  {
   "cell_type": "markdown",
   "metadata": {},
   "source": [
    "### 对Embarked 字段 数值化 Encode 0,1,2,-1"
   ]
  },
  {
   "cell_type": "markdown",
   "metadata": {},
   "source": [
    "#### Embarked"
   ]
  },
  {
   "cell_type": "code",
   "execution_count": 143,
   "metadata": {
    "ExecuteTime": {
     "end_time": "2018-04-29T01:50:38.804815Z",
     "start_time": "2018-04-29T01:50:38.797815Z"
    }
   },
   "outputs": [],
   "source": [
    "data_train['Embarked'] = data_train['Embarked'].map( {'S': 0, 'C': 1, 'Q': 2, np.nan: -1}).astype(int)"
   ]
  },
  {
   "cell_type": "markdown",
   "metadata": {},
   "source": [
    "#### 统计Embarked字段出现频次"
   ]
  },
  {
   "cell_type": "code",
   "execution_count": 144,
   "metadata": {
    "ExecuteTime": {
     "end_time": "2018-04-29T01:50:39.328872Z",
     "start_time": "2018-04-29T01:50:39.319870Z"
    }
   },
   "outputs": [
    {
     "data": {
      "text/plain": [
       " 0    914\n",
       " 1    270\n",
       " 2    123\n",
       "-1      2\n",
       "Name: Embarked, dtype: int64"
      ]
     },
     "execution_count": 144,
     "metadata": {},
     "output_type": "execute_result"
    }
   ],
   "source": [
    "data_train.Embarked.value_counts(dropna =False)"
   ]
  },
  {
   "cell_type": "markdown",
   "metadata": {},
   "source": [
    "## One-Hot编码"
   ]
  },
  {
   "cell_type": "markdown",
   "metadata": {},
   "source": [
    "### 对 Embarked 进行One-Hot编码 添加前缀 Cabin 生成数据Embarked_dummies"
   ]
  },
  {
   "cell_type": "code",
   "execution_count": 145,
   "metadata": {
    "ExecuteTime": {
     "end_time": "2018-04-29T01:50:40.132187Z",
     "start_time": "2018-04-29T01:50:40.126197Z"
    }
   },
   "outputs": [],
   "source": [
    "Embarked_dummies = pd.get_dummies(data_train['Embarked'],prefix ='Cabin')"
   ]
  },
  {
   "cell_type": "markdown",
   "metadata": {},
   "source": [
    "### 对 Title2进行One-Hot编码 添加前缀 Title 生成数据Title2_dummies "
   ]
  },
  {
   "cell_type": "code",
   "execution_count": 146,
   "metadata": {
    "ExecuteTime": {
     "end_time": "2018-04-29T01:50:40.584004Z",
     "start_time": "2018-04-29T01:50:40.577976Z"
    }
   },
   "outputs": [],
   "source": [
    "Title2_dummies = pd.get_dummies(data_train['Title2'],prefix ='Title')"
   ]
  },
  {
   "cell_type": "markdown",
   "metadata": {},
   "source": [
    "### 将 Embarked_dummies 和Title2_dummies 拼回原数据"
   ]
  },
  {
   "cell_type": "code",
   "execution_count": 147,
   "metadata": {
    "ExecuteTime": {
     "end_time": "2018-04-29T01:50:41.111531Z",
     "start_time": "2018-04-29T01:50:41.099536Z"
    }
   },
   "outputs": [],
   "source": [
    "df1 = pd.concat([data_train,Embarked_dummies, Title2_dummies],axis = 1)"
   ]
  },
  {
   "cell_type": "markdown",
   "metadata": {},
   "source": [
    "#### drop 原数据 df1中的 Embarked 和  Title2列"
   ]
  },
  {
   "cell_type": "code",
   "execution_count": 148,
   "metadata": {
    "ExecuteTime": {
     "end_time": "2018-04-29T01:50:41.648295Z",
     "start_time": "2018-04-29T01:50:41.637290Z"
    }
   },
   "outputs": [],
   "source": [
    "df1.drop(['Embarked','Title2'],axis = 1,inplace = True )"
   ]
  },
  {
   "cell_type": "markdown",
   "metadata": {},
   "source": [
    "### 或者用 sklearn  中的方法 进行One_Hot_Encode"
   ]
  },
  {
   "cell_type": "code",
   "execution_count": 149,
   "metadata": {
    "ExecuteTime": {
     "end_time": "2018-04-29T01:50:42.869798Z",
     "start_time": "2018-04-29T01:50:42.831802Z"
    }
   },
   "outputs": [
    {
     "data": {
      "text/html": [
       "<div>\n",
       "<style scoped>\n",
       "    .dataframe tbody tr th:only-of-type {\n",
       "        vertical-align: middle;\n",
       "    }\n",
       "\n",
       "    .dataframe tbody tr th {\n",
       "        vertical-align: top;\n",
       "    }\n",
       "\n",
       "    .dataframe thead th {\n",
       "        text-align: right;\n",
       "    }\n",
       "</style>\n",
       "<table border=\"1\" class=\"dataframe\">\n",
       "  <thead>\n",
       "    <tr style=\"text-align: right;\">\n",
       "      <th></th>\n",
       "      <th>Age</th>\n",
       "      <th>Cabin</th>\n",
       "      <th>Embarked</th>\n",
       "      <th>Fare</th>\n",
       "      <th>Name</th>\n",
       "      <th>Parch</th>\n",
       "      <th>PassengerId</th>\n",
       "      <th>Pclass</th>\n",
       "      <th>Sex</th>\n",
       "      <th>SibSp</th>\n",
       "      <th>...</th>\n",
       "      <th>Age_cut1</th>\n",
       "      <th>Age_band</th>\n",
       "      <th>CategoricalAge</th>\n",
       "      <th>FareCut</th>\n",
       "      <th>Fare_scale</th>\n",
       "      <th>Sex_bool</th>\n",
       "      <th>Has_Cabin</th>\n",
       "      <th>IsAlone</th>\n",
       "      <th>Embarkedch</th>\n",
       "      <th>Title2ch</th>\n",
       "    </tr>\n",
       "    <tr>\n",
       "      <th>id</th>\n",
       "      <th></th>\n",
       "      <th></th>\n",
       "      <th></th>\n",
       "      <th></th>\n",
       "      <th></th>\n",
       "      <th></th>\n",
       "      <th></th>\n",
       "      <th></th>\n",
       "      <th></th>\n",
       "      <th></th>\n",
       "      <th></th>\n",
       "      <th></th>\n",
       "      <th></th>\n",
       "      <th></th>\n",
       "      <th></th>\n",
       "      <th></th>\n",
       "      <th></th>\n",
       "      <th></th>\n",
       "      <th></th>\n",
       "      <th></th>\n",
       "      <th></th>\n",
       "    </tr>\n",
       "  </thead>\n",
       "  <tbody>\n",
       "    <tr>\n",
       "      <th>0</th>\n",
       "      <td>22.0</td>\n",
       "      <td>NaN</td>\n",
       "      <td>0</td>\n",
       "      <td>7.2500</td>\n",
       "      <td>Braund, Mr. Owen Harris</td>\n",
       "      <td>0</td>\n",
       "      <td>1</td>\n",
       "      <td>3</td>\n",
       "      <td>0</td>\n",
       "      <td>1</td>\n",
       "      <td>...</td>\n",
       "      <td>2</td>\n",
       "      <td>0</td>\n",
       "      <td>(16.136, 32.102]</td>\n",
       "      <td>0.0</td>\n",
       "      <td>7.25</td>\n",
       "      <td>0</td>\n",
       "      <td>0</td>\n",
       "      <td>0</td>\n",
       "      <td>1</td>\n",
       "      <td>2</td>\n",
       "    </tr>\n",
       "    <tr>\n",
       "      <th>1</th>\n",
       "      <td>38.0</td>\n",
       "      <td>C85</td>\n",
       "      <td>1</td>\n",
       "      <td>71.2833</td>\n",
       "      <td>Cumings, Mrs. John Bradley (Florence Briggs Th...</td>\n",
       "      <td>0</td>\n",
       "      <td>2</td>\n",
       "      <td>1</td>\n",
       "      <td>1</td>\n",
       "      <td>1</td>\n",
       "      <td>...</td>\n",
       "      <td>3</td>\n",
       "      <td>0</td>\n",
       "      <td>(32.102, 48.068]</td>\n",
       "      <td>3.0</td>\n",
       "      <td>71.28</td>\n",
       "      <td>1</td>\n",
       "      <td>1</td>\n",
       "      <td>0</td>\n",
       "      <td>2</td>\n",
       "      <td>3</td>\n",
       "    </tr>\n",
       "    <tr>\n",
       "      <th>2</th>\n",
       "      <td>26.0</td>\n",
       "      <td>NaN</td>\n",
       "      <td>0</td>\n",
       "      <td>7.9250</td>\n",
       "      <td>Heikkinen, Miss. Laina</td>\n",
       "      <td>0</td>\n",
       "      <td>3</td>\n",
       "      <td>3</td>\n",
       "      <td>1</td>\n",
       "      <td>0</td>\n",
       "      <td>...</td>\n",
       "      <td>2</td>\n",
       "      <td>0</td>\n",
       "      <td>(16.136, 32.102]</td>\n",
       "      <td>1.0</td>\n",
       "      <td>7.92</td>\n",
       "      <td>1</td>\n",
       "      <td>0</td>\n",
       "      <td>1</td>\n",
       "      <td>1</td>\n",
       "      <td>1</td>\n",
       "    </tr>\n",
       "    <tr>\n",
       "      <th>3</th>\n",
       "      <td>35.0</td>\n",
       "      <td>C123</td>\n",
       "      <td>0</td>\n",
       "      <td>53.1000</td>\n",
       "      <td>Futrelle, Mrs. Jacques Heath (Lily May Peel)</td>\n",
       "      <td>0</td>\n",
       "      <td>4</td>\n",
       "      <td>1</td>\n",
       "      <td>1</td>\n",
       "      <td>1</td>\n",
       "      <td>...</td>\n",
       "      <td>3</td>\n",
       "      <td>0</td>\n",
       "      <td>(32.102, 48.068]</td>\n",
       "      <td>3.0</td>\n",
       "      <td>53.10</td>\n",
       "      <td>1</td>\n",
       "      <td>1</td>\n",
       "      <td>0</td>\n",
       "      <td>1</td>\n",
       "      <td>3</td>\n",
       "    </tr>\n",
       "    <tr>\n",
       "      <th>4</th>\n",
       "      <td>35.0</td>\n",
       "      <td>NaN</td>\n",
       "      <td>0</td>\n",
       "      <td>8.0500</td>\n",
       "      <td>Allen, Mr. William Henry</td>\n",
       "      <td>0</td>\n",
       "      <td>5</td>\n",
       "      <td>3</td>\n",
       "      <td>0</td>\n",
       "      <td>0</td>\n",
       "      <td>...</td>\n",
       "      <td>3</td>\n",
       "      <td>0</td>\n",
       "      <td>(32.102, 48.068]</td>\n",
       "      <td>1.0</td>\n",
       "      <td>8.05</td>\n",
       "      <td>0</td>\n",
       "      <td>0</td>\n",
       "      <td>1</td>\n",
       "      <td>1</td>\n",
       "      <td>2</td>\n",
       "    </tr>\n",
       "  </tbody>\n",
       "</table>\n",
       "<p>5 rows × 35 columns</p>\n",
       "</div>"
      ],
      "text/plain": [
       "     Age Cabin  Embarked     Fare  \\\n",
       "id                                  \n",
       "0   22.0   NaN         0   7.2500   \n",
       "1   38.0   C85         1  71.2833   \n",
       "2   26.0   NaN         0   7.9250   \n",
       "3   35.0  C123         0  53.1000   \n",
       "4   35.0   NaN         0   8.0500   \n",
       "\n",
       "                                                 Name  Parch  PassengerId  \\\n",
       "id                                                                          \n",
       "0                             Braund, Mr. Owen Harris      0            1   \n",
       "1   Cumings, Mrs. John Bradley (Florence Briggs Th...      0            2   \n",
       "2                              Heikkinen, Miss. Laina      0            3   \n",
       "3        Futrelle, Mrs. Jacques Heath (Lily May Peel)      0            4   \n",
       "4                            Allen, Mr. William Henry      0            5   \n",
       "\n",
       "    Pclass  Sex  SibSp   ...     Age_cut1 Age_band    CategoricalAge FareCut  \\\n",
       "id                       ...                                                   \n",
       "0        3    0      1   ...            2        0  (16.136, 32.102]     0.0   \n",
       "1        1    1      1   ...            3        0  (32.102, 48.068]     3.0   \n",
       "2        3    1      0   ...            2        0  (16.136, 32.102]     1.0   \n",
       "3        1    1      1   ...            3        0  (32.102, 48.068]     3.0   \n",
       "4        3    0      0   ...            3        0  (32.102, 48.068]     1.0   \n",
       "\n",
       "   Fare_scale  Sex_bool  Has_Cabin IsAlone  Embarkedch Title2ch  \n",
       "id                                                               \n",
       "0        7.25         0          0       0           1        2  \n",
       "1       71.28         1          1       0           2        3  \n",
       "2        7.92         1          0       1           1        1  \n",
       "3       53.10         1          1       0           1        3  \n",
       "4        8.05         0          0       1           1        2  \n",
       "\n",
       "[5 rows x 35 columns]"
      ]
     },
     "execution_count": 149,
     "metadata": {},
     "output_type": "execute_result"
    }
   ],
   "source": [
    "from sklearn.preprocessing import  LabelEncoder, OneHotEncoder\n",
    "\n",
    "cat_vars = ['Embarked','Title2']\n",
    "for col in cat_vars:\n",
    "    data_train[col + 'ch'] = LabelEncoder().fit_transform(data_train[col])\n",
    "\n",
    "data_train.head()"
   ]
  },
  {
   "cell_type": "code",
   "execution_count": 150,
   "metadata": {
    "ExecuteTime": {
     "end_time": "2018-04-29T01:50:43.135799Z",
     "start_time": "2018-04-29T01:50:43.127805Z"
    }
   },
   "outputs": [
    {
     "data": {
      "text/plain": [
       "array([2, 3, 1, ..., 2, 2, 0], dtype=int64)"
      ]
     },
     "execution_count": 150,
     "metadata": {},
     "output_type": "execute_result"
    }
   ],
   "source": [
    "LabelEncoder().fit_transform(data_train['Title2'])"
   ]
  },
  {
   "cell_type": "markdown",
   "metadata": {},
   "source": [
    "###  删除 行列"
   ]
  },
  {
   "cell_type": "markdown",
   "metadata": {},
   "source": [
    "### 删除第2-5行 \n",
    "### da  = data_train.copy()"
   ]
  },
  {
   "cell_type": "code",
   "execution_count": 151,
   "metadata": {
    "ExecuteTime": {
     "end_time": "2018-04-29T01:50:44.130390Z",
     "start_time": "2018-04-29T01:50:44.124357Z"
    }
   },
   "outputs": [
    {
     "data": {
      "text/plain": [
       "Index(['Age', 'Cabin', 'Fare', 'Name', 'Parch', 'PassengerId', 'Pclass', 'Sex',\n",
       "       'SibSp', 'Survived', 'Ticket', 'timestamp', 'title', 'genres', 'rating',\n",
       "       'timestamp_1', 'Initial', 'Name_length', 'Title', 'Family_Size',\n",
       "       'Name_scaled', 'Title_train', 'W_Master', 'Age_cut1', 'Age_band',\n",
       "       'CategoricalAge', 'FareCut', 'Fare_scale', 'Sex_bool', 'Has_Cabin',\n",
       "       'IsAlone', 'Cabin_-1', 'Cabin_0', 'Cabin_1', 'Cabin_2', 'Title_Master',\n",
       "       'Title_Miss', 'Title_Mr', 'Title_Mrs', 'Title_Rare'],\n",
       "      dtype='object')"
      ]
     },
     "execution_count": 151,
     "metadata": {},
     "output_type": "execute_result"
    }
   ],
   "source": [
    "# da.drop([2,3],axis = 0 )\n",
    "df1.columns"
   ]
  },
  {
   "cell_type": "markdown",
   "metadata": {},
   "source": [
    "### 删除列\n",
    "'Name','Ticket','Cabin','Initial','Title','CategoricalAge','Age_prd','Fare_scale'"
   ]
  },
  {
   "cell_type": "code",
   "execution_count": 152,
   "metadata": {
    "ExecuteTime": {
     "end_time": "2018-04-29T01:50:46.418079Z",
     "start_time": "2018-04-29T01:50:46.394083Z"
    }
   },
   "outputs": [
    {
     "ename": "ValueError",
     "evalue": "labels ['Age_prd'] not contained in axis",
     "output_type": "error",
     "traceback": [
      "\u001b[1;31m---------------------------------------------------------------------------\u001b[0m",
      "\u001b[1;31mValueError\u001b[0m                                Traceback (most recent call last)",
      "\u001b[1;32m<ipython-input-152-b8cf202f735f>\u001b[0m in \u001b[0;36m<module>\u001b[1;34m()\u001b[0m\n\u001b[1;32m----> 1\u001b[1;33m \u001b[0mdf1\u001b[0m\u001b[1;33m.\u001b[0m\u001b[0mdrop\u001b[0m\u001b[1;33m(\u001b[0m\u001b[1;33m[\u001b[0m\u001b[1;34m'Name'\u001b[0m\u001b[1;33m,\u001b[0m\u001b[1;34m'Ticket'\u001b[0m\u001b[1;33m,\u001b[0m\u001b[1;34m'Cabin'\u001b[0m\u001b[1;33m,\u001b[0m\u001b[1;34m'Initial'\u001b[0m\u001b[1;33m,\u001b[0m\u001b[1;34m'Title'\u001b[0m\u001b[1;33m,\u001b[0m\u001b[1;34m'CategoricalAge'\u001b[0m\u001b[1;33m,\u001b[0m\u001b[1;34m'Age_prd'\u001b[0m\u001b[1;33m,\u001b[0m\u001b[1;34m'Fare_scale'\u001b[0m\u001b[1;33m]\u001b[0m\u001b[1;33m,\u001b[0m\u001b[0maxis\u001b[0m \u001b[1;33m=\u001b[0m \u001b[1;36m1\u001b[0m \u001b[1;33m,\u001b[0m\u001b[0minplace\u001b[0m \u001b[1;33m=\u001b[0m \u001b[1;32mTrue\u001b[0m\u001b[1;33m)\u001b[0m\u001b[1;33m\u001b[0m\u001b[0m\n\u001b[0m\u001b[0;32m      2\u001b[0m \u001b[0mdf1\u001b[0m\u001b[1;33m.\u001b[0m\u001b[0mdrop\u001b[0m\u001b[1;33m(\u001b[0m\u001b[1;33m[\u001b[0m\u001b[1;34m'Fare'\u001b[0m\u001b[1;33m,\u001b[0m\u001b[1;34m'Sex_bool'\u001b[0m\u001b[1;33m,\u001b[0m\u001b[1;34m'Age'\u001b[0m\u001b[1;33m,\u001b[0m\u001b[1;34m'Name_length'\u001b[0m\u001b[1;33m,\u001b[0m\u001b[1;34m'Age_cut1'\u001b[0m\u001b[1;33m]\u001b[0m\u001b[1;33m,\u001b[0m\u001b[0maxis\u001b[0m \u001b[1;33m=\u001b[0m \u001b[1;36m1\u001b[0m\u001b[1;33m,\u001b[0m\u001b[0minplace\u001b[0m \u001b[1;33m=\u001b[0m\u001b[1;32mTrue\u001b[0m\u001b[1;33m)\u001b[0m\u001b[1;33m\u001b[0m\u001b[0m\n\u001b[0;32m      3\u001b[0m \u001b[0mdf1\u001b[0m \u001b[1;31m#,'AgeFill','Age_cut'\u001b[0m\u001b[1;33m\u001b[0m\u001b[0m\n",
      "\u001b[1;32mC:\\ProgramData\\Anaconda2\\envs\\gluon_py3\\lib\\site-packages\\pandas\\core\\generic.py\u001b[0m in \u001b[0;36mdrop\u001b[1;34m(self, labels, axis, index, columns, level, inplace, errors)\u001b[0m\n\u001b[0;32m   2528\u001b[0m         \u001b[1;32mfor\u001b[0m \u001b[0maxis\u001b[0m\u001b[1;33m,\u001b[0m \u001b[0mlabels\u001b[0m \u001b[1;32min\u001b[0m \u001b[0maxes\u001b[0m\u001b[1;33m.\u001b[0m\u001b[0mitems\u001b[0m\u001b[1;33m(\u001b[0m\u001b[1;33m)\u001b[0m\u001b[1;33m:\u001b[0m\u001b[1;33m\u001b[0m\u001b[0m\n\u001b[0;32m   2529\u001b[0m             \u001b[1;32mif\u001b[0m \u001b[0mlabels\u001b[0m \u001b[1;32mis\u001b[0m \u001b[1;32mnot\u001b[0m \u001b[1;32mNone\u001b[0m\u001b[1;33m:\u001b[0m\u001b[1;33m\u001b[0m\u001b[0m\n\u001b[1;32m-> 2530\u001b[1;33m                 \u001b[0mobj\u001b[0m \u001b[1;33m=\u001b[0m \u001b[0mobj\u001b[0m\u001b[1;33m.\u001b[0m\u001b[0m_drop_axis\u001b[0m\u001b[1;33m(\u001b[0m\u001b[0mlabels\u001b[0m\u001b[1;33m,\u001b[0m \u001b[0maxis\u001b[0m\u001b[1;33m,\u001b[0m \u001b[0mlevel\u001b[0m\u001b[1;33m=\u001b[0m\u001b[0mlevel\u001b[0m\u001b[1;33m,\u001b[0m \u001b[0merrors\u001b[0m\u001b[1;33m=\u001b[0m\u001b[0merrors\u001b[0m\u001b[1;33m)\u001b[0m\u001b[1;33m\u001b[0m\u001b[0m\n\u001b[0m\u001b[0;32m   2531\u001b[0m \u001b[1;33m\u001b[0m\u001b[0m\n\u001b[0;32m   2532\u001b[0m         \u001b[1;32mif\u001b[0m \u001b[0minplace\u001b[0m\u001b[1;33m:\u001b[0m\u001b[1;33m\u001b[0m\u001b[0m\n",
      "\u001b[1;32mC:\\ProgramData\\Anaconda2\\envs\\gluon_py3\\lib\\site-packages\\pandas\\core\\generic.py\u001b[0m in \u001b[0;36m_drop_axis\u001b[1;34m(self, labels, axis, level, errors)\u001b[0m\n\u001b[0;32m   2560\u001b[0m                 \u001b[0mnew_axis\u001b[0m \u001b[1;33m=\u001b[0m \u001b[0maxis\u001b[0m\u001b[1;33m.\u001b[0m\u001b[0mdrop\u001b[0m\u001b[1;33m(\u001b[0m\u001b[0mlabels\u001b[0m\u001b[1;33m,\u001b[0m \u001b[0mlevel\u001b[0m\u001b[1;33m=\u001b[0m\u001b[0mlevel\u001b[0m\u001b[1;33m,\u001b[0m \u001b[0merrors\u001b[0m\u001b[1;33m=\u001b[0m\u001b[0merrors\u001b[0m\u001b[1;33m)\u001b[0m\u001b[1;33m\u001b[0m\u001b[0m\n\u001b[0;32m   2561\u001b[0m             \u001b[1;32melse\u001b[0m\u001b[1;33m:\u001b[0m\u001b[1;33m\u001b[0m\u001b[0m\n\u001b[1;32m-> 2562\u001b[1;33m                 \u001b[0mnew_axis\u001b[0m \u001b[1;33m=\u001b[0m \u001b[0maxis\u001b[0m\u001b[1;33m.\u001b[0m\u001b[0mdrop\u001b[0m\u001b[1;33m(\u001b[0m\u001b[0mlabels\u001b[0m\u001b[1;33m,\u001b[0m \u001b[0merrors\u001b[0m\u001b[1;33m=\u001b[0m\u001b[0merrors\u001b[0m\u001b[1;33m)\u001b[0m\u001b[1;33m\u001b[0m\u001b[0m\n\u001b[0m\u001b[0;32m   2563\u001b[0m             \u001b[0mdropped\u001b[0m \u001b[1;33m=\u001b[0m \u001b[0mself\u001b[0m\u001b[1;33m.\u001b[0m\u001b[0mreindex\u001b[0m\u001b[1;33m(\u001b[0m\u001b[1;33m**\u001b[0m\u001b[1;33m{\u001b[0m\u001b[0maxis_name\u001b[0m\u001b[1;33m:\u001b[0m \u001b[0mnew_axis\u001b[0m\u001b[1;33m}\u001b[0m\u001b[1;33m)\u001b[0m\u001b[1;33m\u001b[0m\u001b[0m\n\u001b[0;32m   2564\u001b[0m             \u001b[1;32mtry\u001b[0m\u001b[1;33m:\u001b[0m\u001b[1;33m\u001b[0m\u001b[0m\n",
      "\u001b[1;32mC:\\ProgramData\\Anaconda2\\envs\\gluon_py3\\lib\\site-packages\\pandas\\core\\indexes\\base.py\u001b[0m in \u001b[0;36mdrop\u001b[1;34m(self, labels, errors)\u001b[0m\n\u001b[0;32m   3742\u001b[0m             \u001b[1;32mif\u001b[0m \u001b[0merrors\u001b[0m \u001b[1;33m!=\u001b[0m \u001b[1;34m'ignore'\u001b[0m\u001b[1;33m:\u001b[0m\u001b[1;33m\u001b[0m\u001b[0m\n\u001b[0;32m   3743\u001b[0m                 raise ValueError('labels %s not contained in axis' %\n\u001b[1;32m-> 3744\u001b[1;33m                                  labels[mask])\n\u001b[0m\u001b[0;32m   3745\u001b[0m             \u001b[0mindexer\u001b[0m \u001b[1;33m=\u001b[0m \u001b[0mindexer\u001b[0m\u001b[1;33m[\u001b[0m\u001b[1;33m~\u001b[0m\u001b[0mmask\u001b[0m\u001b[1;33m]\u001b[0m\u001b[1;33m\u001b[0m\u001b[0m\n\u001b[0;32m   3746\u001b[0m         \u001b[1;32mreturn\u001b[0m \u001b[0mself\u001b[0m\u001b[1;33m.\u001b[0m\u001b[0mdelete\u001b[0m\u001b[1;33m(\u001b[0m\u001b[0mindexer\u001b[0m\u001b[1;33m)\u001b[0m\u001b[1;33m\u001b[0m\u001b[0m\n",
      "\u001b[1;31mValueError\u001b[0m: labels ['Age_prd'] not contained in axis"
     ]
    }
   ],
   "source": [
    "df1.drop(['Name','Ticket','Cabin','Initial','Title','CategoricalAge','Age_prd','Fare_scale'],axis = 1 ,inplace = True)\n",
    "df1.drop(['Fare','Sex_bool','Age','Name_length','Age_cut1'],axis = 1,inplace =True)\n",
    "df1 #,'AgeFill','Age_cut'"
   ]
  },
  {
   "cell_type": "code",
   "execution_count": 153,
   "metadata": {
    "ExecuteTime": {
     "end_time": "2018-04-29T01:50:46.687941Z",
     "start_time": "2018-04-29T01:50:46.629945Z"
    }
   },
   "outputs": [],
   "source": [
    "data_train.to_csv('data_analysis.csv')"
   ]
  },
  {
   "cell_type": "code",
   "execution_count": 154,
   "metadata": {
    "ExecuteTime": {
     "end_time": "2018-04-29T01:50:47.100415Z",
     "start_time": "2018-04-29T01:50:46.988415Z"
    }
   },
   "outputs": [
    {
     "data": {
      "text/html": [
       "<div>\n",
       "<style scoped>\n",
       "    .dataframe tbody tr th:only-of-type {\n",
       "        vertical-align: middle;\n",
       "    }\n",
       "\n",
       "    .dataframe tbody tr th {\n",
       "        vertical-align: top;\n",
       "    }\n",
       "\n",
       "    .dataframe thead th {\n",
       "        text-align: right;\n",
       "    }\n",
       "</style>\n",
       "<table border=\"1\" class=\"dataframe\">\n",
       "  <thead>\n",
       "    <tr style=\"text-align: right;\">\n",
       "      <th></th>\n",
       "      <th>Age</th>\n",
       "      <th>Cabin</th>\n",
       "      <th>Embarked</th>\n",
       "      <th>Fare</th>\n",
       "      <th>Name</th>\n",
       "      <th>Parch</th>\n",
       "      <th>PassengerId</th>\n",
       "      <th>Pclass</th>\n",
       "      <th>Sex</th>\n",
       "      <th>SibSp</th>\n",
       "      <th>...</th>\n",
       "      <th>Age_cut1</th>\n",
       "      <th>Age_band</th>\n",
       "      <th>CategoricalAge</th>\n",
       "      <th>FareCut</th>\n",
       "      <th>Fare_scale</th>\n",
       "      <th>Sex_bool</th>\n",
       "      <th>Has_Cabin</th>\n",
       "      <th>IsAlone</th>\n",
       "      <th>Embarkedch</th>\n",
       "      <th>Title2ch</th>\n",
       "    </tr>\n",
       "    <tr>\n",
       "      <th>id</th>\n",
       "      <th></th>\n",
       "      <th></th>\n",
       "      <th></th>\n",
       "      <th></th>\n",
       "      <th></th>\n",
       "      <th></th>\n",
       "      <th></th>\n",
       "      <th></th>\n",
       "      <th></th>\n",
       "      <th></th>\n",
       "      <th></th>\n",
       "      <th></th>\n",
       "      <th></th>\n",
       "      <th></th>\n",
       "      <th></th>\n",
       "      <th></th>\n",
       "      <th></th>\n",
       "      <th></th>\n",
       "      <th></th>\n",
       "      <th></th>\n",
       "      <th></th>\n",
       "    </tr>\n",
       "  </thead>\n",
       "  <tbody>\n",
       "    <tr>\n",
       "      <th>0</th>\n",
       "      <td>22.0</td>\n",
       "      <td>NaN</td>\n",
       "      <td>0</td>\n",
       "      <td>7.2500</td>\n",
       "      <td>Braund, Mr. Owen Harris</td>\n",
       "      <td>0</td>\n",
       "      <td>1</td>\n",
       "      <td>3</td>\n",
       "      <td>0</td>\n",
       "      <td>1</td>\n",
       "      <td>...</td>\n",
       "      <td>2.0</td>\n",
       "      <td>0</td>\n",
       "      <td>(16.136, 32.102]</td>\n",
       "      <td>0.0</td>\n",
       "      <td>7.25</td>\n",
       "      <td>0</td>\n",
       "      <td>0</td>\n",
       "      <td>0</td>\n",
       "      <td>1</td>\n",
       "      <td>2</td>\n",
       "    </tr>\n",
       "    <tr>\n",
       "      <th>1</th>\n",
       "      <td>38.0</td>\n",
       "      <td>C85</td>\n",
       "      <td>1</td>\n",
       "      <td>71.2833</td>\n",
       "      <td>Cumings, Mrs. John Bradley (Florence Briggs Th...</td>\n",
       "      <td>0</td>\n",
       "      <td>2</td>\n",
       "      <td>1</td>\n",
       "      <td>1</td>\n",
       "      <td>1</td>\n",
       "      <td>...</td>\n",
       "      <td>3.0</td>\n",
       "      <td>0</td>\n",
       "      <td>(32.102, 48.068]</td>\n",
       "      <td>3.0</td>\n",
       "      <td>71.28</td>\n",
       "      <td>1</td>\n",
       "      <td>1</td>\n",
       "      <td>0</td>\n",
       "      <td>2</td>\n",
       "      <td>3</td>\n",
       "    </tr>\n",
       "    <tr>\n",
       "      <th>2</th>\n",
       "      <td>26.0</td>\n",
       "      <td>NaN</td>\n",
       "      <td>0</td>\n",
       "      <td>7.9250</td>\n",
       "      <td>Heikkinen, Miss. Laina</td>\n",
       "      <td>0</td>\n",
       "      <td>3</td>\n",
       "      <td>3</td>\n",
       "      <td>1</td>\n",
       "      <td>0</td>\n",
       "      <td>...</td>\n",
       "      <td>2.0</td>\n",
       "      <td>0</td>\n",
       "      <td>(16.136, 32.102]</td>\n",
       "      <td>1.0</td>\n",
       "      <td>7.92</td>\n",
       "      <td>1</td>\n",
       "      <td>0</td>\n",
       "      <td>1</td>\n",
       "      <td>1</td>\n",
       "      <td>1</td>\n",
       "    </tr>\n",
       "    <tr>\n",
       "      <th>3</th>\n",
       "      <td>35.0</td>\n",
       "      <td>C123</td>\n",
       "      <td>0</td>\n",
       "      <td>53.1000</td>\n",
       "      <td>Futrelle, Mrs. Jacques Heath (Lily May Peel)</td>\n",
       "      <td>0</td>\n",
       "      <td>4</td>\n",
       "      <td>1</td>\n",
       "      <td>1</td>\n",
       "      <td>1</td>\n",
       "      <td>...</td>\n",
       "      <td>3.0</td>\n",
       "      <td>0</td>\n",
       "      <td>(32.102, 48.068]</td>\n",
       "      <td>3.0</td>\n",
       "      <td>53.10</td>\n",
       "      <td>1</td>\n",
       "      <td>1</td>\n",
       "      <td>0</td>\n",
       "      <td>1</td>\n",
       "      <td>3</td>\n",
       "    </tr>\n",
       "    <tr>\n",
       "      <th>4</th>\n",
       "      <td>35.0</td>\n",
       "      <td>NaN</td>\n",
       "      <td>0</td>\n",
       "      <td>8.0500</td>\n",
       "      <td>Allen, Mr. William Henry</td>\n",
       "      <td>0</td>\n",
       "      <td>5</td>\n",
       "      <td>3</td>\n",
       "      <td>0</td>\n",
       "      <td>0</td>\n",
       "      <td>...</td>\n",
       "      <td>3.0</td>\n",
       "      <td>0</td>\n",
       "      <td>(32.102, 48.068]</td>\n",
       "      <td>1.0</td>\n",
       "      <td>8.05</td>\n",
       "      <td>0</td>\n",
       "      <td>0</td>\n",
       "      <td>1</td>\n",
       "      <td>1</td>\n",
       "      <td>2</td>\n",
       "    </tr>\n",
       "    <tr>\n",
       "      <th>5</th>\n",
       "      <td>NaN</td>\n",
       "      <td>NaN</td>\n",
       "      <td>2</td>\n",
       "      <td>8.4583</td>\n",
       "      <td>Moran, Mr. James</td>\n",
       "      <td>0</td>\n",
       "      <td>6</td>\n",
       "      <td>3</td>\n",
       "      <td>0</td>\n",
       "      <td>0</td>\n",
       "      <td>...</td>\n",
       "      <td>NaN</td>\n",
       "      <td>0</td>\n",
       "      <td>NaN</td>\n",
       "      <td>1.0</td>\n",
       "      <td>8.46</td>\n",
       "      <td>0</td>\n",
       "      <td>0</td>\n",
       "      <td>1</td>\n",
       "      <td>3</td>\n",
       "      <td>2</td>\n",
       "    </tr>\n",
       "    <tr>\n",
       "      <th>6</th>\n",
       "      <td>54.0</td>\n",
       "      <td>E46</td>\n",
       "      <td>0</td>\n",
       "      <td>51.8625</td>\n",
       "      <td>McCarthy, Mr. Timothy J</td>\n",
       "      <td>0</td>\n",
       "      <td>7</td>\n",
       "      <td>1</td>\n",
       "      <td>0</td>\n",
       "      <td>0</td>\n",
       "      <td>...</td>\n",
       "      <td>4.0</td>\n",
       "      <td>0</td>\n",
       "      <td>(48.068, 64.034]</td>\n",
       "      <td>3.0</td>\n",
       "      <td>51.86</td>\n",
       "      <td>0</td>\n",
       "      <td>1</td>\n",
       "      <td>1</td>\n",
       "      <td>1</td>\n",
       "      <td>2</td>\n",
       "    </tr>\n",
       "    <tr>\n",
       "      <th>7</th>\n",
       "      <td>2.0</td>\n",
       "      <td>NaN</td>\n",
       "      <td>0</td>\n",
       "      <td>21.0750</td>\n",
       "      <td>Palsson, Master. Gosta Leonard</td>\n",
       "      <td>1</td>\n",
       "      <td>8</td>\n",
       "      <td>3</td>\n",
       "      <td>0</td>\n",
       "      <td>3</td>\n",
       "      <td>...</td>\n",
       "      <td>1.0</td>\n",
       "      <td>0</td>\n",
       "      <td>(0.0902, 16.136]</td>\n",
       "      <td>2.0</td>\n",
       "      <td>21.07</td>\n",
       "      <td>0</td>\n",
       "      <td>0</td>\n",
       "      <td>0</td>\n",
       "      <td>1</td>\n",
       "      <td>0</td>\n",
       "    </tr>\n",
       "    <tr>\n",
       "      <th>8</th>\n",
       "      <td>27.0</td>\n",
       "      <td>NaN</td>\n",
       "      <td>0</td>\n",
       "      <td>11.1333</td>\n",
       "      <td>Johnson, Mrs. Oscar W (Elisabeth Vilhelmina Berg)</td>\n",
       "      <td>2</td>\n",
       "      <td>9</td>\n",
       "      <td>3</td>\n",
       "      <td>1</td>\n",
       "      <td>0</td>\n",
       "      <td>...</td>\n",
       "      <td>2.0</td>\n",
       "      <td>0</td>\n",
       "      <td>(16.136, 32.102]</td>\n",
       "      <td>1.0</td>\n",
       "      <td>11.13</td>\n",
       "      <td>1</td>\n",
       "      <td>0</td>\n",
       "      <td>0</td>\n",
       "      <td>1</td>\n",
       "      <td>3</td>\n",
       "    </tr>\n",
       "    <tr>\n",
       "      <th>9</th>\n",
       "      <td>14.0</td>\n",
       "      <td>NaN</td>\n",
       "      <td>1</td>\n",
       "      <td>30.0708</td>\n",
       "      <td>Nasser, Mrs. Nicholas (Adele Achem)</td>\n",
       "      <td>0</td>\n",
       "      <td>10</td>\n",
       "      <td>2</td>\n",
       "      <td>1</td>\n",
       "      <td>1</td>\n",
       "      <td>...</td>\n",
       "      <td>1.0</td>\n",
       "      <td>0</td>\n",
       "      <td>(0.0902, 16.136]</td>\n",
       "      <td>2.0</td>\n",
       "      <td>30.07</td>\n",
       "      <td>1</td>\n",
       "      <td>0</td>\n",
       "      <td>0</td>\n",
       "      <td>2</td>\n",
       "      <td>3</td>\n",
       "    </tr>\n",
       "    <tr>\n",
       "      <th>10</th>\n",
       "      <td>4.0</td>\n",
       "      <td>G6</td>\n",
       "      <td>0</td>\n",
       "      <td>16.7000</td>\n",
       "      <td>Sandstrom, Miss. Marguerite Rut</td>\n",
       "      <td>1</td>\n",
       "      <td>11</td>\n",
       "      <td>3</td>\n",
       "      <td>1</td>\n",
       "      <td>1</td>\n",
       "      <td>...</td>\n",
       "      <td>1.0</td>\n",
       "      <td>0</td>\n",
       "      <td>(0.0902, 16.136]</td>\n",
       "      <td>2.0</td>\n",
       "      <td>16.70</td>\n",
       "      <td>1</td>\n",
       "      <td>1</td>\n",
       "      <td>0</td>\n",
       "      <td>1</td>\n",
       "      <td>1</td>\n",
       "    </tr>\n",
       "    <tr>\n",
       "      <th>11</th>\n",
       "      <td>58.0</td>\n",
       "      <td>C103</td>\n",
       "      <td>0</td>\n",
       "      <td>26.5500</td>\n",
       "      <td>Bonnell, Miss. Elizabeth</td>\n",
       "      <td>0</td>\n",
       "      <td>12</td>\n",
       "      <td>1</td>\n",
       "      <td>1</td>\n",
       "      <td>0</td>\n",
       "      <td>...</td>\n",
       "      <td>4.0</td>\n",
       "      <td>0</td>\n",
       "      <td>(48.068, 64.034]</td>\n",
       "      <td>2.0</td>\n",
       "      <td>26.55</td>\n",
       "      <td>1</td>\n",
       "      <td>1</td>\n",
       "      <td>1</td>\n",
       "      <td>1</td>\n",
       "      <td>1</td>\n",
       "    </tr>\n",
       "    <tr>\n",
       "      <th>12</th>\n",
       "      <td>20.0</td>\n",
       "      <td>NaN</td>\n",
       "      <td>0</td>\n",
       "      <td>8.0500</td>\n",
       "      <td>Saundercock, Mr. William Henry</td>\n",
       "      <td>0</td>\n",
       "      <td>13</td>\n",
       "      <td>3</td>\n",
       "      <td>0</td>\n",
       "      <td>0</td>\n",
       "      <td>...</td>\n",
       "      <td>2.0</td>\n",
       "      <td>0</td>\n",
       "      <td>(16.136, 32.102]</td>\n",
       "      <td>1.0</td>\n",
       "      <td>8.05</td>\n",
       "      <td>0</td>\n",
       "      <td>0</td>\n",
       "      <td>1</td>\n",
       "      <td>1</td>\n",
       "      <td>2</td>\n",
       "    </tr>\n",
       "    <tr>\n",
       "      <th>13</th>\n",
       "      <td>39.0</td>\n",
       "      <td>NaN</td>\n",
       "      <td>0</td>\n",
       "      <td>31.2750</td>\n",
       "      <td>Andersson, Mr. Anders Johan</td>\n",
       "      <td>5</td>\n",
       "      <td>14</td>\n",
       "      <td>3</td>\n",
       "      <td>0</td>\n",
       "      <td>1</td>\n",
       "      <td>...</td>\n",
       "      <td>3.0</td>\n",
       "      <td>0</td>\n",
       "      <td>(32.102, 48.068]</td>\n",
       "      <td>3.0</td>\n",
       "      <td>31.27</td>\n",
       "      <td>0</td>\n",
       "      <td>0</td>\n",
       "      <td>0</td>\n",
       "      <td>1</td>\n",
       "      <td>2</td>\n",
       "    </tr>\n",
       "    <tr>\n",
       "      <th>14</th>\n",
       "      <td>14.0</td>\n",
       "      <td>NaN</td>\n",
       "      <td>0</td>\n",
       "      <td>7.8542</td>\n",
       "      <td>Vestrom, Miss. Hulda Amanda Adolfina</td>\n",
       "      <td>0</td>\n",
       "      <td>15</td>\n",
       "      <td>3</td>\n",
       "      <td>1</td>\n",
       "      <td>0</td>\n",
       "      <td>...</td>\n",
       "      <td>1.0</td>\n",
       "      <td>0</td>\n",
       "      <td>(0.0902, 16.136]</td>\n",
       "      <td>0.0</td>\n",
       "      <td>7.85</td>\n",
       "      <td>1</td>\n",
       "      <td>0</td>\n",
       "      <td>1</td>\n",
       "      <td>1</td>\n",
       "      <td>1</td>\n",
       "    </tr>\n",
       "    <tr>\n",
       "      <th>15</th>\n",
       "      <td>55.0</td>\n",
       "      <td>NaN</td>\n",
       "      <td>0</td>\n",
       "      <td>16.0000</td>\n",
       "      <td>Hewlett, Mrs. (Mary D Kingcome)</td>\n",
       "      <td>0</td>\n",
       "      <td>16</td>\n",
       "      <td>2</td>\n",
       "      <td>1</td>\n",
       "      <td>0</td>\n",
       "      <td>...</td>\n",
       "      <td>4.0</td>\n",
       "      <td>0</td>\n",
       "      <td>(48.068, 64.034]</td>\n",
       "      <td>2.0</td>\n",
       "      <td>16.00</td>\n",
       "      <td>1</td>\n",
       "      <td>0</td>\n",
       "      <td>1</td>\n",
       "      <td>1</td>\n",
       "      <td>3</td>\n",
       "    </tr>\n",
       "    <tr>\n",
       "      <th>16</th>\n",
       "      <td>2.0</td>\n",
       "      <td>NaN</td>\n",
       "      <td>2</td>\n",
       "      <td>29.1250</td>\n",
       "      <td>Rice, Master. Eugene</td>\n",
       "      <td>1</td>\n",
       "      <td>17</td>\n",
       "      <td>3</td>\n",
       "      <td>0</td>\n",
       "      <td>4</td>\n",
       "      <td>...</td>\n",
       "      <td>1.0</td>\n",
       "      <td>0</td>\n",
       "      <td>(0.0902, 16.136]</td>\n",
       "      <td>2.0</td>\n",
       "      <td>29.12</td>\n",
       "      <td>0</td>\n",
       "      <td>0</td>\n",
       "      <td>0</td>\n",
       "      <td>3</td>\n",
       "      <td>0</td>\n",
       "    </tr>\n",
       "    <tr>\n",
       "      <th>17</th>\n",
       "      <td>NaN</td>\n",
       "      <td>NaN</td>\n",
       "      <td>0</td>\n",
       "      <td>13.0000</td>\n",
       "      <td>Williams, Mr. Charles Eugene</td>\n",
       "      <td>0</td>\n",
       "      <td>18</td>\n",
       "      <td>2</td>\n",
       "      <td>0</td>\n",
       "      <td>0</td>\n",
       "      <td>...</td>\n",
       "      <td>NaN</td>\n",
       "      <td>0</td>\n",
       "      <td>NaN</td>\n",
       "      <td>1.0</td>\n",
       "      <td>13.00</td>\n",
       "      <td>0</td>\n",
       "      <td>0</td>\n",
       "      <td>1</td>\n",
       "      <td>1</td>\n",
       "      <td>2</td>\n",
       "    </tr>\n",
       "    <tr>\n",
       "      <th>18</th>\n",
       "      <td>31.0</td>\n",
       "      <td>NaN</td>\n",
       "      <td>0</td>\n",
       "      <td>18.0000</td>\n",
       "      <td>Vander Planke, Mrs. Julius (Emelia Maria Vande...</td>\n",
       "      <td>0</td>\n",
       "      <td>19</td>\n",
       "      <td>3</td>\n",
       "      <td>1</td>\n",
       "      <td>1</td>\n",
       "      <td>...</td>\n",
       "      <td>2.0</td>\n",
       "      <td>0</td>\n",
       "      <td>(16.136, 32.102]</td>\n",
       "      <td>2.0</td>\n",
       "      <td>18.00</td>\n",
       "      <td>1</td>\n",
       "      <td>0</td>\n",
       "      <td>0</td>\n",
       "      <td>1</td>\n",
       "      <td>3</td>\n",
       "    </tr>\n",
       "    <tr>\n",
       "      <th>19</th>\n",
       "      <td>NaN</td>\n",
       "      <td>NaN</td>\n",
       "      <td>1</td>\n",
       "      <td>7.2250</td>\n",
       "      <td>Masselmani, Mrs. Fatima</td>\n",
       "      <td>0</td>\n",
       "      <td>20</td>\n",
       "      <td>3</td>\n",
       "      <td>1</td>\n",
       "      <td>0</td>\n",
       "      <td>...</td>\n",
       "      <td>NaN</td>\n",
       "      <td>0</td>\n",
       "      <td>NaN</td>\n",
       "      <td>0.0</td>\n",
       "      <td>7.22</td>\n",
       "      <td>1</td>\n",
       "      <td>0</td>\n",
       "      <td>1</td>\n",
       "      <td>2</td>\n",
       "      <td>3</td>\n",
       "    </tr>\n",
       "    <tr>\n",
       "      <th>20</th>\n",
       "      <td>35.0</td>\n",
       "      <td>NaN</td>\n",
       "      <td>0</td>\n",
       "      <td>26.0000</td>\n",
       "      <td>Fynney, Mr. Joseph J</td>\n",
       "      <td>0</td>\n",
       "      <td>21</td>\n",
       "      <td>2</td>\n",
       "      <td>0</td>\n",
       "      <td>0</td>\n",
       "      <td>...</td>\n",
       "      <td>3.0</td>\n",
       "      <td>0</td>\n",
       "      <td>(32.102, 48.068]</td>\n",
       "      <td>2.0</td>\n",
       "      <td>26.00</td>\n",
       "      <td>0</td>\n",
       "      <td>0</td>\n",
       "      <td>1</td>\n",
       "      <td>1</td>\n",
       "      <td>2</td>\n",
       "    </tr>\n",
       "    <tr>\n",
       "      <th>21</th>\n",
       "      <td>34.0</td>\n",
       "      <td>D56</td>\n",
       "      <td>0</td>\n",
       "      <td>13.0000</td>\n",
       "      <td>Beesley, Mr. Lawrence</td>\n",
       "      <td>0</td>\n",
       "      <td>22</td>\n",
       "      <td>2</td>\n",
       "      <td>0</td>\n",
       "      <td>0</td>\n",
       "      <td>...</td>\n",
       "      <td>3.0</td>\n",
       "      <td>0</td>\n",
       "      <td>(32.102, 48.068]</td>\n",
       "      <td>1.0</td>\n",
       "      <td>13.00</td>\n",
       "      <td>0</td>\n",
       "      <td>1</td>\n",
       "      <td>1</td>\n",
       "      <td>1</td>\n",
       "      <td>2</td>\n",
       "    </tr>\n",
       "    <tr>\n",
       "      <th>22</th>\n",
       "      <td>15.0</td>\n",
       "      <td>NaN</td>\n",
       "      <td>2</td>\n",
       "      <td>8.0292</td>\n",
       "      <td>McGowan, Miss. Anna \"Annie\"</td>\n",
       "      <td>0</td>\n",
       "      <td>23</td>\n",
       "      <td>3</td>\n",
       "      <td>1</td>\n",
       "      <td>0</td>\n",
       "      <td>...</td>\n",
       "      <td>1.0</td>\n",
       "      <td>0</td>\n",
       "      <td>(0.0902, 16.136]</td>\n",
       "      <td>1.0</td>\n",
       "      <td>8.03</td>\n",
       "      <td>1</td>\n",
       "      <td>0</td>\n",
       "      <td>1</td>\n",
       "      <td>3</td>\n",
       "      <td>1</td>\n",
       "    </tr>\n",
       "    <tr>\n",
       "      <th>23</th>\n",
       "      <td>28.0</td>\n",
       "      <td>A6</td>\n",
       "      <td>0</td>\n",
       "      <td>35.5000</td>\n",
       "      <td>Sloper, Mr. William Thompson</td>\n",
       "      <td>0</td>\n",
       "      <td>24</td>\n",
       "      <td>1</td>\n",
       "      <td>0</td>\n",
       "      <td>0</td>\n",
       "      <td>...</td>\n",
       "      <td>2.0</td>\n",
       "      <td>0</td>\n",
       "      <td>(16.136, 32.102]</td>\n",
       "      <td>3.0</td>\n",
       "      <td>35.50</td>\n",
       "      <td>0</td>\n",
       "      <td>1</td>\n",
       "      <td>1</td>\n",
       "      <td>1</td>\n",
       "      <td>2</td>\n",
       "    </tr>\n",
       "    <tr>\n",
       "      <th>24</th>\n",
       "      <td>8.0</td>\n",
       "      <td>NaN</td>\n",
       "      <td>0</td>\n",
       "      <td>21.0750</td>\n",
       "      <td>Palsson, Miss. Torborg Danira</td>\n",
       "      <td>1</td>\n",
       "      <td>25</td>\n",
       "      <td>3</td>\n",
       "      <td>1</td>\n",
       "      <td>3</td>\n",
       "      <td>...</td>\n",
       "      <td>1.0</td>\n",
       "      <td>0</td>\n",
       "      <td>(0.0902, 16.136]</td>\n",
       "      <td>2.0</td>\n",
       "      <td>21.07</td>\n",
       "      <td>1</td>\n",
       "      <td>0</td>\n",
       "      <td>0</td>\n",
       "      <td>1</td>\n",
       "      <td>1</td>\n",
       "    </tr>\n",
       "    <tr>\n",
       "      <th>25</th>\n",
       "      <td>38.0</td>\n",
       "      <td>NaN</td>\n",
       "      <td>0</td>\n",
       "      <td>31.3875</td>\n",
       "      <td>Asplund, Mrs. Carl Oscar (Selma Augusta Emilia...</td>\n",
       "      <td>5</td>\n",
       "      <td>26</td>\n",
       "      <td>3</td>\n",
       "      <td>1</td>\n",
       "      <td>1</td>\n",
       "      <td>...</td>\n",
       "      <td>3.0</td>\n",
       "      <td>0</td>\n",
       "      <td>(32.102, 48.068]</td>\n",
       "      <td>3.0</td>\n",
       "      <td>31.39</td>\n",
       "      <td>1</td>\n",
       "      <td>0</td>\n",
       "      <td>0</td>\n",
       "      <td>1</td>\n",
       "      <td>3</td>\n",
       "    </tr>\n",
       "    <tr>\n",
       "      <th>26</th>\n",
       "      <td>NaN</td>\n",
       "      <td>NaN</td>\n",
       "      <td>1</td>\n",
       "      <td>7.2250</td>\n",
       "      <td>Emir, Mr. Farred Chehab</td>\n",
       "      <td>0</td>\n",
       "      <td>27</td>\n",
       "      <td>3</td>\n",
       "      <td>0</td>\n",
       "      <td>0</td>\n",
       "      <td>...</td>\n",
       "      <td>NaN</td>\n",
       "      <td>0</td>\n",
       "      <td>NaN</td>\n",
       "      <td>0.0</td>\n",
       "      <td>7.22</td>\n",
       "      <td>0</td>\n",
       "      <td>0</td>\n",
       "      <td>1</td>\n",
       "      <td>2</td>\n",
       "      <td>2</td>\n",
       "    </tr>\n",
       "    <tr>\n",
       "      <th>27</th>\n",
       "      <td>19.0</td>\n",
       "      <td>C23 C25 C27</td>\n",
       "      <td>0</td>\n",
       "      <td>263.0000</td>\n",
       "      <td>Fortune, Mr. Charles Alexander</td>\n",
       "      <td>2</td>\n",
       "      <td>28</td>\n",
       "      <td>1</td>\n",
       "      <td>0</td>\n",
       "      <td>3</td>\n",
       "      <td>...</td>\n",
       "      <td>2.0</td>\n",
       "      <td>0</td>\n",
       "      <td>(16.136, 32.102]</td>\n",
       "      <td>3.0</td>\n",
       "      <td>263.00</td>\n",
       "      <td>0</td>\n",
       "      <td>1</td>\n",
       "      <td>0</td>\n",
       "      <td>1</td>\n",
       "      <td>2</td>\n",
       "    </tr>\n",
       "    <tr>\n",
       "      <th>28</th>\n",
       "      <td>NaN</td>\n",
       "      <td>NaN</td>\n",
       "      <td>2</td>\n",
       "      <td>7.8792</td>\n",
       "      <td>O'Dwyer, Miss. Ellen \"Nellie\"</td>\n",
       "      <td>0</td>\n",
       "      <td>29</td>\n",
       "      <td>3</td>\n",
       "      <td>1</td>\n",
       "      <td>0</td>\n",
       "      <td>...</td>\n",
       "      <td>NaN</td>\n",
       "      <td>0</td>\n",
       "      <td>NaN</td>\n",
       "      <td>0.0</td>\n",
       "      <td>7.88</td>\n",
       "      <td>1</td>\n",
       "      <td>0</td>\n",
       "      <td>1</td>\n",
       "      <td>3</td>\n",
       "      <td>1</td>\n",
       "    </tr>\n",
       "    <tr>\n",
       "      <th>29</th>\n",
       "      <td>NaN</td>\n",
       "      <td>NaN</td>\n",
       "      <td>0</td>\n",
       "      <td>7.8958</td>\n",
       "      <td>Todoroff, Mr. Lalio</td>\n",
       "      <td>0</td>\n",
       "      <td>30</td>\n",
       "      <td>3</td>\n",
       "      <td>0</td>\n",
       "      <td>0</td>\n",
       "      <td>...</td>\n",
       "      <td>NaN</td>\n",
       "      <td>0</td>\n",
       "      <td>NaN</td>\n",
       "      <td>0.0</td>\n",
       "      <td>7.90</td>\n",
       "      <td>0</td>\n",
       "      <td>0</td>\n",
       "      <td>1</td>\n",
       "      <td>1</td>\n",
       "      <td>2</td>\n",
       "    </tr>\n",
       "    <tr>\n",
       "      <th>...</th>\n",
       "      <td>...</td>\n",
       "      <td>...</td>\n",
       "      <td>...</td>\n",
       "      <td>...</td>\n",
       "      <td>...</td>\n",
       "      <td>...</td>\n",
       "      <td>...</td>\n",
       "      <td>...</td>\n",
       "      <td>...</td>\n",
       "      <td>...</td>\n",
       "      <td>...</td>\n",
       "      <td>...</td>\n",
       "      <td>...</td>\n",
       "      <td>...</td>\n",
       "      <td>...</td>\n",
       "      <td>...</td>\n",
       "      <td>...</td>\n",
       "      <td>...</td>\n",
       "      <td>...</td>\n",
       "      <td>...</td>\n",
       "      <td>...</td>\n",
       "    </tr>\n",
       "    <tr>\n",
       "      <th>1279</th>\n",
       "      <td>21.0</td>\n",
       "      <td>NaN</td>\n",
       "      <td>2</td>\n",
       "      <td>7.7500</td>\n",
       "      <td>Canavan, Mr. Patrick</td>\n",
       "      <td>0</td>\n",
       "      <td>1280</td>\n",
       "      <td>3</td>\n",
       "      <td>0</td>\n",
       "      <td>0</td>\n",
       "      <td>...</td>\n",
       "      <td>2.0</td>\n",
       "      <td>0</td>\n",
       "      <td>(16.136, 32.102]</td>\n",
       "      <td>0.0</td>\n",
       "      <td>7.75</td>\n",
       "      <td>0</td>\n",
       "      <td>0</td>\n",
       "      <td>1</td>\n",
       "      <td>3</td>\n",
       "      <td>2</td>\n",
       "    </tr>\n",
       "    <tr>\n",
       "      <th>1280</th>\n",
       "      <td>6.0</td>\n",
       "      <td>NaN</td>\n",
       "      <td>0</td>\n",
       "      <td>21.0750</td>\n",
       "      <td>Palsson, Master. Paul Folke</td>\n",
       "      <td>1</td>\n",
       "      <td>1281</td>\n",
       "      <td>3</td>\n",
       "      <td>0</td>\n",
       "      <td>3</td>\n",
       "      <td>...</td>\n",
       "      <td>1.0</td>\n",
       "      <td>0</td>\n",
       "      <td>(0.0902, 16.136]</td>\n",
       "      <td>2.0</td>\n",
       "      <td>21.07</td>\n",
       "      <td>0</td>\n",
       "      <td>0</td>\n",
       "      <td>0</td>\n",
       "      <td>1</td>\n",
       "      <td>0</td>\n",
       "    </tr>\n",
       "    <tr>\n",
       "      <th>1281</th>\n",
       "      <td>23.0</td>\n",
       "      <td>B24</td>\n",
       "      <td>0</td>\n",
       "      <td>93.5000</td>\n",
       "      <td>Payne, Mr. Vivian Ponsonby</td>\n",
       "      <td>0</td>\n",
       "      <td>1282</td>\n",
       "      <td>1</td>\n",
       "      <td>0</td>\n",
       "      <td>0</td>\n",
       "      <td>...</td>\n",
       "      <td>2.0</td>\n",
       "      <td>0</td>\n",
       "      <td>(16.136, 32.102]</td>\n",
       "      <td>3.0</td>\n",
       "      <td>93.50</td>\n",
       "      <td>0</td>\n",
       "      <td>1</td>\n",
       "      <td>1</td>\n",
       "      <td>1</td>\n",
       "      <td>2</td>\n",
       "    </tr>\n",
       "    <tr>\n",
       "      <th>1282</th>\n",
       "      <td>51.0</td>\n",
       "      <td>D28</td>\n",
       "      <td>0</td>\n",
       "      <td>39.4000</td>\n",
       "      <td>Lines, Mrs. Ernest H (Elizabeth Lindsey James)</td>\n",
       "      <td>1</td>\n",
       "      <td>1283</td>\n",
       "      <td>1</td>\n",
       "      <td>1</td>\n",
       "      <td>0</td>\n",
       "      <td>...</td>\n",
       "      <td>4.0</td>\n",
       "      <td>0</td>\n",
       "      <td>(48.068, 64.034]</td>\n",
       "      <td>3.0</td>\n",
       "      <td>39.40</td>\n",
       "      <td>1</td>\n",
       "      <td>1</td>\n",
       "      <td>0</td>\n",
       "      <td>1</td>\n",
       "      <td>3</td>\n",
       "    </tr>\n",
       "    <tr>\n",
       "      <th>1283</th>\n",
       "      <td>13.0</td>\n",
       "      <td>NaN</td>\n",
       "      <td>0</td>\n",
       "      <td>20.2500</td>\n",
       "      <td>Abbott, Master. Eugene Joseph</td>\n",
       "      <td>2</td>\n",
       "      <td>1284</td>\n",
       "      <td>3</td>\n",
       "      <td>0</td>\n",
       "      <td>0</td>\n",
       "      <td>...</td>\n",
       "      <td>1.0</td>\n",
       "      <td>0</td>\n",
       "      <td>(0.0902, 16.136]</td>\n",
       "      <td>2.0</td>\n",
       "      <td>20.25</td>\n",
       "      <td>0</td>\n",
       "      <td>0</td>\n",
       "      <td>0</td>\n",
       "      <td>1</td>\n",
       "      <td>0</td>\n",
       "    </tr>\n",
       "    <tr>\n",
       "      <th>1284</th>\n",
       "      <td>47.0</td>\n",
       "      <td>NaN</td>\n",
       "      <td>0</td>\n",
       "      <td>10.5000</td>\n",
       "      <td>Gilbert, Mr. William</td>\n",
       "      <td>0</td>\n",
       "      <td>1285</td>\n",
       "      <td>2</td>\n",
       "      <td>0</td>\n",
       "      <td>0</td>\n",
       "      <td>...</td>\n",
       "      <td>3.0</td>\n",
       "      <td>0</td>\n",
       "      <td>(32.102, 48.068]</td>\n",
       "      <td>1.0</td>\n",
       "      <td>10.50</td>\n",
       "      <td>0</td>\n",
       "      <td>0</td>\n",
       "      <td>1</td>\n",
       "      <td>1</td>\n",
       "      <td>2</td>\n",
       "    </tr>\n",
       "    <tr>\n",
       "      <th>1285</th>\n",
       "      <td>29.0</td>\n",
       "      <td>NaN</td>\n",
       "      <td>0</td>\n",
       "      <td>22.0250</td>\n",
       "      <td>Kink-Heilmann, Mr. Anton</td>\n",
       "      <td>1</td>\n",
       "      <td>1286</td>\n",
       "      <td>3</td>\n",
       "      <td>0</td>\n",
       "      <td>3</td>\n",
       "      <td>...</td>\n",
       "      <td>2.0</td>\n",
       "      <td>0</td>\n",
       "      <td>(16.136, 32.102]</td>\n",
       "      <td>2.0</td>\n",
       "      <td>22.02</td>\n",
       "      <td>0</td>\n",
       "      <td>0</td>\n",
       "      <td>0</td>\n",
       "      <td>1</td>\n",
       "      <td>2</td>\n",
       "    </tr>\n",
       "    <tr>\n",
       "      <th>1286</th>\n",
       "      <td>18.0</td>\n",
       "      <td>C31</td>\n",
       "      <td>0</td>\n",
       "      <td>60.0000</td>\n",
       "      <td>Smith, Mrs. Lucien Philip (Mary Eloise Hughes)</td>\n",
       "      <td>0</td>\n",
       "      <td>1287</td>\n",
       "      <td>1</td>\n",
       "      <td>1</td>\n",
       "      <td>1</td>\n",
       "      <td>...</td>\n",
       "      <td>2.0</td>\n",
       "      <td>0</td>\n",
       "      <td>(16.136, 32.102]</td>\n",
       "      <td>3.0</td>\n",
       "      <td>60.00</td>\n",
       "      <td>1</td>\n",
       "      <td>1</td>\n",
       "      <td>0</td>\n",
       "      <td>1</td>\n",
       "      <td>3</td>\n",
       "    </tr>\n",
       "    <tr>\n",
       "      <th>1287</th>\n",
       "      <td>24.0</td>\n",
       "      <td>NaN</td>\n",
       "      <td>2</td>\n",
       "      <td>7.2500</td>\n",
       "      <td>Colbert, Mr. Patrick</td>\n",
       "      <td>0</td>\n",
       "      <td>1288</td>\n",
       "      <td>3</td>\n",
       "      <td>0</td>\n",
       "      <td>0</td>\n",
       "      <td>...</td>\n",
       "      <td>2.0</td>\n",
       "      <td>0</td>\n",
       "      <td>(16.136, 32.102]</td>\n",
       "      <td>0.0</td>\n",
       "      <td>7.25</td>\n",
       "      <td>0</td>\n",
       "      <td>0</td>\n",
       "      <td>1</td>\n",
       "      <td>3</td>\n",
       "      <td>2</td>\n",
       "    </tr>\n",
       "    <tr>\n",
       "      <th>1288</th>\n",
       "      <td>48.0</td>\n",
       "      <td>B41</td>\n",
       "      <td>1</td>\n",
       "      <td>79.2000</td>\n",
       "      <td>Frolicher-Stehli, Mrs. Maxmillian (Margaretha ...</td>\n",
       "      <td>1</td>\n",
       "      <td>1289</td>\n",
       "      <td>1</td>\n",
       "      <td>1</td>\n",
       "      <td>1</td>\n",
       "      <td>...</td>\n",
       "      <td>4.0</td>\n",
       "      <td>0</td>\n",
       "      <td>(32.102, 48.068]</td>\n",
       "      <td>3.0</td>\n",
       "      <td>79.20</td>\n",
       "      <td>1</td>\n",
       "      <td>1</td>\n",
       "      <td>0</td>\n",
       "      <td>2</td>\n",
       "      <td>3</td>\n",
       "    </tr>\n",
       "    <tr>\n",
       "      <th>1289</th>\n",
       "      <td>22.0</td>\n",
       "      <td>NaN</td>\n",
       "      <td>0</td>\n",
       "      <td>7.7750</td>\n",
       "      <td>Larsson-Rondberg, Mr. Edvard A</td>\n",
       "      <td>0</td>\n",
       "      <td>1290</td>\n",
       "      <td>3</td>\n",
       "      <td>0</td>\n",
       "      <td>0</td>\n",
       "      <td>...</td>\n",
       "      <td>2.0</td>\n",
       "      <td>0</td>\n",
       "      <td>(16.136, 32.102]</td>\n",
       "      <td>0.0</td>\n",
       "      <td>7.78</td>\n",
       "      <td>0</td>\n",
       "      <td>0</td>\n",
       "      <td>1</td>\n",
       "      <td>1</td>\n",
       "      <td>2</td>\n",
       "    </tr>\n",
       "    <tr>\n",
       "      <th>1290</th>\n",
       "      <td>31.0</td>\n",
       "      <td>NaN</td>\n",
       "      <td>2</td>\n",
       "      <td>7.7333</td>\n",
       "      <td>Conlon, Mr. Thomas Henry</td>\n",
       "      <td>0</td>\n",
       "      <td>1291</td>\n",
       "      <td>3</td>\n",
       "      <td>0</td>\n",
       "      <td>0</td>\n",
       "      <td>...</td>\n",
       "      <td>2.0</td>\n",
       "      <td>0</td>\n",
       "      <td>(16.136, 32.102]</td>\n",
       "      <td>0.0</td>\n",
       "      <td>7.73</td>\n",
       "      <td>0</td>\n",
       "      <td>0</td>\n",
       "      <td>1</td>\n",
       "      <td>3</td>\n",
       "      <td>2</td>\n",
       "    </tr>\n",
       "    <tr>\n",
       "      <th>1291</th>\n",
       "      <td>30.0</td>\n",
       "      <td>C7</td>\n",
       "      <td>0</td>\n",
       "      <td>164.8667</td>\n",
       "      <td>Bonnell, Miss. Caroline</td>\n",
       "      <td>0</td>\n",
       "      <td>1292</td>\n",
       "      <td>1</td>\n",
       "      <td>1</td>\n",
       "      <td>0</td>\n",
       "      <td>...</td>\n",
       "      <td>2.0</td>\n",
       "      <td>0</td>\n",
       "      <td>(16.136, 32.102]</td>\n",
       "      <td>3.0</td>\n",
       "      <td>164.87</td>\n",
       "      <td>1</td>\n",
       "      <td>1</td>\n",
       "      <td>1</td>\n",
       "      <td>1</td>\n",
       "      <td>1</td>\n",
       "    </tr>\n",
       "    <tr>\n",
       "      <th>1292</th>\n",
       "      <td>38.0</td>\n",
       "      <td>NaN</td>\n",
       "      <td>0</td>\n",
       "      <td>21.0000</td>\n",
       "      <td>Gale, Mr. Harry</td>\n",
       "      <td>0</td>\n",
       "      <td>1293</td>\n",
       "      <td>2</td>\n",
       "      <td>0</td>\n",
       "      <td>1</td>\n",
       "      <td>...</td>\n",
       "      <td>3.0</td>\n",
       "      <td>0</td>\n",
       "      <td>(32.102, 48.068]</td>\n",
       "      <td>2.0</td>\n",
       "      <td>21.00</td>\n",
       "      <td>0</td>\n",
       "      <td>0</td>\n",
       "      <td>0</td>\n",
       "      <td>1</td>\n",
       "      <td>2</td>\n",
       "    </tr>\n",
       "    <tr>\n",
       "      <th>1293</th>\n",
       "      <td>22.0</td>\n",
       "      <td>NaN</td>\n",
       "      <td>1</td>\n",
       "      <td>59.4000</td>\n",
       "      <td>Gibson, Miss. Dorothy Winifred</td>\n",
       "      <td>1</td>\n",
       "      <td>1294</td>\n",
       "      <td>1</td>\n",
       "      <td>1</td>\n",
       "      <td>0</td>\n",
       "      <td>...</td>\n",
       "      <td>2.0</td>\n",
       "      <td>0</td>\n",
       "      <td>(16.136, 32.102]</td>\n",
       "      <td>3.0</td>\n",
       "      <td>59.40</td>\n",
       "      <td>1</td>\n",
       "      <td>0</td>\n",
       "      <td>0</td>\n",
       "      <td>2</td>\n",
       "      <td>1</td>\n",
       "    </tr>\n",
       "    <tr>\n",
       "      <th>1294</th>\n",
       "      <td>17.0</td>\n",
       "      <td>NaN</td>\n",
       "      <td>0</td>\n",
       "      <td>47.1000</td>\n",
       "      <td>Carrau, Mr. Jose Pedro</td>\n",
       "      <td>0</td>\n",
       "      <td>1295</td>\n",
       "      <td>1</td>\n",
       "      <td>0</td>\n",
       "      <td>0</td>\n",
       "      <td>...</td>\n",
       "      <td>2.0</td>\n",
       "      <td>0</td>\n",
       "      <td>(16.136, 32.102]</td>\n",
       "      <td>3.0</td>\n",
       "      <td>47.10</td>\n",
       "      <td>0</td>\n",
       "      <td>0</td>\n",
       "      <td>1</td>\n",
       "      <td>1</td>\n",
       "      <td>2</td>\n",
       "    </tr>\n",
       "    <tr>\n",
       "      <th>1295</th>\n",
       "      <td>43.0</td>\n",
       "      <td>D40</td>\n",
       "      <td>1</td>\n",
       "      <td>27.7208</td>\n",
       "      <td>Frauenthal, Mr. Isaac Gerald</td>\n",
       "      <td>0</td>\n",
       "      <td>1296</td>\n",
       "      <td>1</td>\n",
       "      <td>0</td>\n",
       "      <td>1</td>\n",
       "      <td>...</td>\n",
       "      <td>3.0</td>\n",
       "      <td>0</td>\n",
       "      <td>(32.102, 48.068]</td>\n",
       "      <td>2.0</td>\n",
       "      <td>27.72</td>\n",
       "      <td>0</td>\n",
       "      <td>1</td>\n",
       "      <td>0</td>\n",
       "      <td>2</td>\n",
       "      <td>2</td>\n",
       "    </tr>\n",
       "    <tr>\n",
       "      <th>1296</th>\n",
       "      <td>20.0</td>\n",
       "      <td>D38</td>\n",
       "      <td>1</td>\n",
       "      <td>13.8625</td>\n",
       "      <td>Nourney, Mr. Alfred (Baron von Drachstedt\")\"</td>\n",
       "      <td>0</td>\n",
       "      <td>1297</td>\n",
       "      <td>2</td>\n",
       "      <td>0</td>\n",
       "      <td>0</td>\n",
       "      <td>...</td>\n",
       "      <td>2.0</td>\n",
       "      <td>0</td>\n",
       "      <td>(16.136, 32.102]</td>\n",
       "      <td>1.0</td>\n",
       "      <td>13.86</td>\n",
       "      <td>0</td>\n",
       "      <td>1</td>\n",
       "      <td>1</td>\n",
       "      <td>2</td>\n",
       "      <td>2</td>\n",
       "    </tr>\n",
       "    <tr>\n",
       "      <th>1297</th>\n",
       "      <td>23.0</td>\n",
       "      <td>NaN</td>\n",
       "      <td>0</td>\n",
       "      <td>10.5000</td>\n",
       "      <td>Ware, Mr. William Jeffery</td>\n",
       "      <td>0</td>\n",
       "      <td>1298</td>\n",
       "      <td>2</td>\n",
       "      <td>0</td>\n",
       "      <td>1</td>\n",
       "      <td>...</td>\n",
       "      <td>2.0</td>\n",
       "      <td>0</td>\n",
       "      <td>(16.136, 32.102]</td>\n",
       "      <td>1.0</td>\n",
       "      <td>10.50</td>\n",
       "      <td>0</td>\n",
       "      <td>0</td>\n",
       "      <td>0</td>\n",
       "      <td>1</td>\n",
       "      <td>2</td>\n",
       "    </tr>\n",
       "    <tr>\n",
       "      <th>1298</th>\n",
       "      <td>50.0</td>\n",
       "      <td>C80</td>\n",
       "      <td>1</td>\n",
       "      <td>211.5000</td>\n",
       "      <td>Widener, Mr. George Dunton</td>\n",
       "      <td>1</td>\n",
       "      <td>1299</td>\n",
       "      <td>1</td>\n",
       "      <td>0</td>\n",
       "      <td>1</td>\n",
       "      <td>...</td>\n",
       "      <td>4.0</td>\n",
       "      <td>0</td>\n",
       "      <td>(48.068, 64.034]</td>\n",
       "      <td>3.0</td>\n",
       "      <td>211.50</td>\n",
       "      <td>0</td>\n",
       "      <td>1</td>\n",
       "      <td>0</td>\n",
       "      <td>2</td>\n",
       "      <td>2</td>\n",
       "    </tr>\n",
       "    <tr>\n",
       "      <th>1299</th>\n",
       "      <td>NaN</td>\n",
       "      <td>NaN</td>\n",
       "      <td>2</td>\n",
       "      <td>7.7208</td>\n",
       "      <td>Riordan, Miss. Johanna Hannah\"\"</td>\n",
       "      <td>0</td>\n",
       "      <td>1300</td>\n",
       "      <td>3</td>\n",
       "      <td>1</td>\n",
       "      <td>0</td>\n",
       "      <td>...</td>\n",
       "      <td>NaN</td>\n",
       "      <td>0</td>\n",
       "      <td>NaN</td>\n",
       "      <td>0.0</td>\n",
       "      <td>7.72</td>\n",
       "      <td>1</td>\n",
       "      <td>0</td>\n",
       "      <td>1</td>\n",
       "      <td>3</td>\n",
       "      <td>1</td>\n",
       "    </tr>\n",
       "    <tr>\n",
       "      <th>1300</th>\n",
       "      <td>3.0</td>\n",
       "      <td>NaN</td>\n",
       "      <td>0</td>\n",
       "      <td>13.7750</td>\n",
       "      <td>Peacock, Miss. Treasteall</td>\n",
       "      <td>1</td>\n",
       "      <td>1301</td>\n",
       "      <td>3</td>\n",
       "      <td>1</td>\n",
       "      <td>1</td>\n",
       "      <td>...</td>\n",
       "      <td>1.0</td>\n",
       "      <td>0</td>\n",
       "      <td>(0.0902, 16.136]</td>\n",
       "      <td>1.0</td>\n",
       "      <td>13.78</td>\n",
       "      <td>1</td>\n",
       "      <td>0</td>\n",
       "      <td>0</td>\n",
       "      <td>1</td>\n",
       "      <td>1</td>\n",
       "    </tr>\n",
       "    <tr>\n",
       "      <th>1301</th>\n",
       "      <td>NaN</td>\n",
       "      <td>NaN</td>\n",
       "      <td>2</td>\n",
       "      <td>7.7500</td>\n",
       "      <td>Naughton, Miss. Hannah</td>\n",
       "      <td>0</td>\n",
       "      <td>1302</td>\n",
       "      <td>3</td>\n",
       "      <td>1</td>\n",
       "      <td>0</td>\n",
       "      <td>...</td>\n",
       "      <td>NaN</td>\n",
       "      <td>0</td>\n",
       "      <td>NaN</td>\n",
       "      <td>0.0</td>\n",
       "      <td>7.75</td>\n",
       "      <td>1</td>\n",
       "      <td>0</td>\n",
       "      <td>1</td>\n",
       "      <td>3</td>\n",
       "      <td>1</td>\n",
       "    </tr>\n",
       "    <tr>\n",
       "      <th>1302</th>\n",
       "      <td>37.0</td>\n",
       "      <td>C78</td>\n",
       "      <td>2</td>\n",
       "      <td>90.0000</td>\n",
       "      <td>Minahan, Mrs. William Edward (Lillian E Thorpe)</td>\n",
       "      <td>0</td>\n",
       "      <td>1303</td>\n",
       "      <td>1</td>\n",
       "      <td>1</td>\n",
       "      <td>1</td>\n",
       "      <td>...</td>\n",
       "      <td>3.0</td>\n",
       "      <td>0</td>\n",
       "      <td>(32.102, 48.068]</td>\n",
       "      <td>3.0</td>\n",
       "      <td>90.00</td>\n",
       "      <td>1</td>\n",
       "      <td>1</td>\n",
       "      <td>0</td>\n",
       "      <td>3</td>\n",
       "      <td>3</td>\n",
       "    </tr>\n",
       "    <tr>\n",
       "      <th>1303</th>\n",
       "      <td>28.0</td>\n",
       "      <td>NaN</td>\n",
       "      <td>0</td>\n",
       "      <td>7.7750</td>\n",
       "      <td>Henriksson, Miss. Jenny Lovisa</td>\n",
       "      <td>0</td>\n",
       "      <td>1304</td>\n",
       "      <td>3</td>\n",
       "      <td>1</td>\n",
       "      <td>0</td>\n",
       "      <td>...</td>\n",
       "      <td>2.0</td>\n",
       "      <td>0</td>\n",
       "      <td>(16.136, 32.102]</td>\n",
       "      <td>0.0</td>\n",
       "      <td>7.78</td>\n",
       "      <td>1</td>\n",
       "      <td>0</td>\n",
       "      <td>1</td>\n",
       "      <td>1</td>\n",
       "      <td>1</td>\n",
       "    </tr>\n",
       "    <tr>\n",
       "      <th>1304</th>\n",
       "      <td>NaN</td>\n",
       "      <td>NaN</td>\n",
       "      <td>0</td>\n",
       "      <td>8.0500</td>\n",
       "      <td>Spector, Mr. Woolf</td>\n",
       "      <td>0</td>\n",
       "      <td>1305</td>\n",
       "      <td>3</td>\n",
       "      <td>0</td>\n",
       "      <td>0</td>\n",
       "      <td>...</td>\n",
       "      <td>NaN</td>\n",
       "      <td>0</td>\n",
       "      <td>NaN</td>\n",
       "      <td>1.0</td>\n",
       "      <td>8.05</td>\n",
       "      <td>0</td>\n",
       "      <td>0</td>\n",
       "      <td>1</td>\n",
       "      <td>1</td>\n",
       "      <td>2</td>\n",
       "    </tr>\n",
       "    <tr>\n",
       "      <th>1305</th>\n",
       "      <td>39.0</td>\n",
       "      <td>C105</td>\n",
       "      <td>1</td>\n",
       "      <td>108.9000</td>\n",
       "      <td>Oliva y Ocana, Dona. Fermina</td>\n",
       "      <td>0</td>\n",
       "      <td>1306</td>\n",
       "      <td>1</td>\n",
       "      <td>1</td>\n",
       "      <td>0</td>\n",
       "      <td>...</td>\n",
       "      <td>3.0</td>\n",
       "      <td>0</td>\n",
       "      <td>(32.102, 48.068]</td>\n",
       "      <td>3.0</td>\n",
       "      <td>108.90</td>\n",
       "      <td>1</td>\n",
       "      <td>1</td>\n",
       "      <td>1</td>\n",
       "      <td>2</td>\n",
       "      <td>4</td>\n",
       "    </tr>\n",
       "    <tr>\n",
       "      <th>1306</th>\n",
       "      <td>38.5</td>\n",
       "      <td>NaN</td>\n",
       "      <td>0</td>\n",
       "      <td>7.2500</td>\n",
       "      <td>Saether, Mr. Simon Sivertsen</td>\n",
       "      <td>0</td>\n",
       "      <td>1307</td>\n",
       "      <td>3</td>\n",
       "      <td>0</td>\n",
       "      <td>0</td>\n",
       "      <td>...</td>\n",
       "      <td>3.0</td>\n",
       "      <td>0</td>\n",
       "      <td>(32.102, 48.068]</td>\n",
       "      <td>0.0</td>\n",
       "      <td>7.25</td>\n",
       "      <td>0</td>\n",
       "      <td>0</td>\n",
       "      <td>1</td>\n",
       "      <td>1</td>\n",
       "      <td>2</td>\n",
       "    </tr>\n",
       "    <tr>\n",
       "      <th>1307</th>\n",
       "      <td>NaN</td>\n",
       "      <td>NaN</td>\n",
       "      <td>0</td>\n",
       "      <td>8.0500</td>\n",
       "      <td>Ware, Mr. Frederick</td>\n",
       "      <td>0</td>\n",
       "      <td>1308</td>\n",
       "      <td>3</td>\n",
       "      <td>0</td>\n",
       "      <td>0</td>\n",
       "      <td>...</td>\n",
       "      <td>NaN</td>\n",
       "      <td>0</td>\n",
       "      <td>NaN</td>\n",
       "      <td>1.0</td>\n",
       "      <td>8.05</td>\n",
       "      <td>0</td>\n",
       "      <td>0</td>\n",
       "      <td>1</td>\n",
       "      <td>1</td>\n",
       "      <td>2</td>\n",
       "    </tr>\n",
       "    <tr>\n",
       "      <th>1308</th>\n",
       "      <td>NaN</td>\n",
       "      <td>NaN</td>\n",
       "      <td>1</td>\n",
       "      <td>22.3583</td>\n",
       "      <td>Peter, Master. Michael J</td>\n",
       "      <td>1</td>\n",
       "      <td>1309</td>\n",
       "      <td>3</td>\n",
       "      <td>0</td>\n",
       "      <td>1</td>\n",
       "      <td>...</td>\n",
       "      <td>NaN</td>\n",
       "      <td>0</td>\n",
       "      <td>NaN</td>\n",
       "      <td>2.0</td>\n",
       "      <td>22.36</td>\n",
       "      <td>0</td>\n",
       "      <td>0</td>\n",
       "      <td>0</td>\n",
       "      <td>2</td>\n",
       "      <td>0</td>\n",
       "    </tr>\n",
       "  </tbody>\n",
       "</table>\n",
       "<p>1309 rows × 35 columns</p>\n",
       "</div>"
      ],
      "text/plain": [
       "       Age        Cabin  Embarked      Fare  \\\n",
       "id                                            \n",
       "0     22.0          NaN         0    7.2500   \n",
       "1     38.0          C85         1   71.2833   \n",
       "2     26.0          NaN         0    7.9250   \n",
       "3     35.0         C123         0   53.1000   \n",
       "4     35.0          NaN         0    8.0500   \n",
       "5      NaN          NaN         2    8.4583   \n",
       "6     54.0          E46         0   51.8625   \n",
       "7      2.0          NaN         0   21.0750   \n",
       "8     27.0          NaN         0   11.1333   \n",
       "9     14.0          NaN         1   30.0708   \n",
       "10     4.0           G6         0   16.7000   \n",
       "11    58.0         C103         0   26.5500   \n",
       "12    20.0          NaN         0    8.0500   \n",
       "13    39.0          NaN         0   31.2750   \n",
       "14    14.0          NaN         0    7.8542   \n",
       "15    55.0          NaN         0   16.0000   \n",
       "16     2.0          NaN         2   29.1250   \n",
       "17     NaN          NaN         0   13.0000   \n",
       "18    31.0          NaN         0   18.0000   \n",
       "19     NaN          NaN         1    7.2250   \n",
       "20    35.0          NaN         0   26.0000   \n",
       "21    34.0          D56         0   13.0000   \n",
       "22    15.0          NaN         2    8.0292   \n",
       "23    28.0           A6         0   35.5000   \n",
       "24     8.0          NaN         0   21.0750   \n",
       "25    38.0          NaN         0   31.3875   \n",
       "26     NaN          NaN         1    7.2250   \n",
       "27    19.0  C23 C25 C27         0  263.0000   \n",
       "28     NaN          NaN         2    7.8792   \n",
       "29     NaN          NaN         0    7.8958   \n",
       "...    ...          ...       ...       ...   \n",
       "1279  21.0          NaN         2    7.7500   \n",
       "1280   6.0          NaN         0   21.0750   \n",
       "1281  23.0          B24         0   93.5000   \n",
       "1282  51.0          D28         0   39.4000   \n",
       "1283  13.0          NaN         0   20.2500   \n",
       "1284  47.0          NaN         0   10.5000   \n",
       "1285  29.0          NaN         0   22.0250   \n",
       "1286  18.0          C31         0   60.0000   \n",
       "1287  24.0          NaN         2    7.2500   \n",
       "1288  48.0          B41         1   79.2000   \n",
       "1289  22.0          NaN         0    7.7750   \n",
       "1290  31.0          NaN         2    7.7333   \n",
       "1291  30.0           C7         0  164.8667   \n",
       "1292  38.0          NaN         0   21.0000   \n",
       "1293  22.0          NaN         1   59.4000   \n",
       "1294  17.0          NaN         0   47.1000   \n",
       "1295  43.0          D40         1   27.7208   \n",
       "1296  20.0          D38         1   13.8625   \n",
       "1297  23.0          NaN         0   10.5000   \n",
       "1298  50.0          C80         1  211.5000   \n",
       "1299   NaN          NaN         2    7.7208   \n",
       "1300   3.0          NaN         0   13.7750   \n",
       "1301   NaN          NaN         2    7.7500   \n",
       "1302  37.0          C78         2   90.0000   \n",
       "1303  28.0          NaN         0    7.7750   \n",
       "1304   NaN          NaN         0    8.0500   \n",
       "1305  39.0         C105         1  108.9000   \n",
       "1306  38.5          NaN         0    7.2500   \n",
       "1307   NaN          NaN         0    8.0500   \n",
       "1308   NaN          NaN         1   22.3583   \n",
       "\n",
       "                                                   Name  Parch  PassengerId  \\\n",
       "id                                                                            \n",
       "0                               Braund, Mr. Owen Harris      0            1   \n",
       "1     Cumings, Mrs. John Bradley (Florence Briggs Th...      0            2   \n",
       "2                                Heikkinen, Miss. Laina      0            3   \n",
       "3          Futrelle, Mrs. Jacques Heath (Lily May Peel)      0            4   \n",
       "4                              Allen, Mr. William Henry      0            5   \n",
       "5                                      Moran, Mr. James      0            6   \n",
       "6                               McCarthy, Mr. Timothy J      0            7   \n",
       "7                        Palsson, Master. Gosta Leonard      1            8   \n",
       "8     Johnson, Mrs. Oscar W (Elisabeth Vilhelmina Berg)      2            9   \n",
       "9                   Nasser, Mrs. Nicholas (Adele Achem)      0           10   \n",
       "10                      Sandstrom, Miss. Marguerite Rut      1           11   \n",
       "11                             Bonnell, Miss. Elizabeth      0           12   \n",
       "12                       Saundercock, Mr. William Henry      0           13   \n",
       "13                          Andersson, Mr. Anders Johan      5           14   \n",
       "14                 Vestrom, Miss. Hulda Amanda Adolfina      0           15   \n",
       "15                     Hewlett, Mrs. (Mary D Kingcome)       0           16   \n",
       "16                                 Rice, Master. Eugene      1           17   \n",
       "17                         Williams, Mr. Charles Eugene      0           18   \n",
       "18    Vander Planke, Mrs. Julius (Emelia Maria Vande...      0           19   \n",
       "19                              Masselmani, Mrs. Fatima      0           20   \n",
       "20                                 Fynney, Mr. Joseph J      0           21   \n",
       "21                                Beesley, Mr. Lawrence      0           22   \n",
       "22                          McGowan, Miss. Anna \"Annie\"      0           23   \n",
       "23                         Sloper, Mr. William Thompson      0           24   \n",
       "24                        Palsson, Miss. Torborg Danira      1           25   \n",
       "25    Asplund, Mrs. Carl Oscar (Selma Augusta Emilia...      5           26   \n",
       "26                              Emir, Mr. Farred Chehab      0           27   \n",
       "27                       Fortune, Mr. Charles Alexander      2           28   \n",
       "28                        O'Dwyer, Miss. Ellen \"Nellie\"      0           29   \n",
       "29                                  Todoroff, Mr. Lalio      0           30   \n",
       "...                                                 ...    ...          ...   \n",
       "1279                               Canavan, Mr. Patrick      0         1280   \n",
       "1280                        Palsson, Master. Paul Folke      1         1281   \n",
       "1281                         Payne, Mr. Vivian Ponsonby      0         1282   \n",
       "1282     Lines, Mrs. Ernest H (Elizabeth Lindsey James)      1         1283   \n",
       "1283                      Abbott, Master. Eugene Joseph      2         1284   \n",
       "1284                               Gilbert, Mr. William      0         1285   \n",
       "1285                           Kink-Heilmann, Mr. Anton      1         1286   \n",
       "1286     Smith, Mrs. Lucien Philip (Mary Eloise Hughes)      0         1287   \n",
       "1287                               Colbert, Mr. Patrick      0         1288   \n",
       "1288  Frolicher-Stehli, Mrs. Maxmillian (Margaretha ...      1         1289   \n",
       "1289                     Larsson-Rondberg, Mr. Edvard A      0         1290   \n",
       "1290                           Conlon, Mr. Thomas Henry      0         1291   \n",
       "1291                            Bonnell, Miss. Caroline      0         1292   \n",
       "1292                                    Gale, Mr. Harry      0         1293   \n",
       "1293                     Gibson, Miss. Dorothy Winifred      1         1294   \n",
       "1294                             Carrau, Mr. Jose Pedro      0         1295   \n",
       "1295                       Frauenthal, Mr. Isaac Gerald      0         1296   \n",
       "1296       Nourney, Mr. Alfred (Baron von Drachstedt\")\"      0         1297   \n",
       "1297                          Ware, Mr. William Jeffery      0         1298   \n",
       "1298                         Widener, Mr. George Dunton      1         1299   \n",
       "1299                    Riordan, Miss. Johanna Hannah\"\"      0         1300   \n",
       "1300                          Peacock, Miss. Treasteall      1         1301   \n",
       "1301                             Naughton, Miss. Hannah      0         1302   \n",
       "1302    Minahan, Mrs. William Edward (Lillian E Thorpe)      0         1303   \n",
       "1303                     Henriksson, Miss. Jenny Lovisa      0         1304   \n",
       "1304                                 Spector, Mr. Woolf      0         1305   \n",
       "1305                       Oliva y Ocana, Dona. Fermina      0         1306   \n",
       "1306                       Saether, Mr. Simon Sivertsen      0         1307   \n",
       "1307                                Ware, Mr. Frederick      0         1308   \n",
       "1308                           Peter, Master. Michael J      1         1309   \n",
       "\n",
       "      Pclass  Sex  SibSp   ...     Age_cut1 Age_band    CategoricalAge  \\\n",
       "id                         ...                                           \n",
       "0          3    0      1   ...          2.0        0  (16.136, 32.102]   \n",
       "1          1    1      1   ...          3.0        0  (32.102, 48.068]   \n",
       "2          3    1      0   ...          2.0        0  (16.136, 32.102]   \n",
       "3          1    1      1   ...          3.0        0  (32.102, 48.068]   \n",
       "4          3    0      0   ...          3.0        0  (32.102, 48.068]   \n",
       "5          3    0      0   ...          NaN        0               NaN   \n",
       "6          1    0      0   ...          4.0        0  (48.068, 64.034]   \n",
       "7          3    0      3   ...          1.0        0  (0.0902, 16.136]   \n",
       "8          3    1      0   ...          2.0        0  (16.136, 32.102]   \n",
       "9          2    1      1   ...          1.0        0  (0.0902, 16.136]   \n",
       "10         3    1      1   ...          1.0        0  (0.0902, 16.136]   \n",
       "11         1    1      0   ...          4.0        0  (48.068, 64.034]   \n",
       "12         3    0      0   ...          2.0        0  (16.136, 32.102]   \n",
       "13         3    0      1   ...          3.0        0  (32.102, 48.068]   \n",
       "14         3    1      0   ...          1.0        0  (0.0902, 16.136]   \n",
       "15         2    1      0   ...          4.0        0  (48.068, 64.034]   \n",
       "16         3    0      4   ...          1.0        0  (0.0902, 16.136]   \n",
       "17         2    0      0   ...          NaN        0               NaN   \n",
       "18         3    1      1   ...          2.0        0  (16.136, 32.102]   \n",
       "19         3    1      0   ...          NaN        0               NaN   \n",
       "20         2    0      0   ...          3.0        0  (32.102, 48.068]   \n",
       "21         2    0      0   ...          3.0        0  (32.102, 48.068]   \n",
       "22         3    1      0   ...          1.0        0  (0.0902, 16.136]   \n",
       "23         1    0      0   ...          2.0        0  (16.136, 32.102]   \n",
       "24         3    1      3   ...          1.0        0  (0.0902, 16.136]   \n",
       "25         3    1      1   ...          3.0        0  (32.102, 48.068]   \n",
       "26         3    0      0   ...          NaN        0               NaN   \n",
       "27         1    0      3   ...          2.0        0  (16.136, 32.102]   \n",
       "28         3    1      0   ...          NaN        0               NaN   \n",
       "29         3    0      0   ...          NaN        0               NaN   \n",
       "...      ...  ...    ...   ...          ...      ...               ...   \n",
       "1279       3    0      0   ...          2.0        0  (16.136, 32.102]   \n",
       "1280       3    0      3   ...          1.0        0  (0.0902, 16.136]   \n",
       "1281       1    0      0   ...          2.0        0  (16.136, 32.102]   \n",
       "1282       1    1      0   ...          4.0        0  (48.068, 64.034]   \n",
       "1283       3    0      0   ...          1.0        0  (0.0902, 16.136]   \n",
       "1284       2    0      0   ...          3.0        0  (32.102, 48.068]   \n",
       "1285       3    0      3   ...          2.0        0  (16.136, 32.102]   \n",
       "1286       1    1      1   ...          2.0        0  (16.136, 32.102]   \n",
       "1287       3    0      0   ...          2.0        0  (16.136, 32.102]   \n",
       "1288       1    1      1   ...          4.0        0  (32.102, 48.068]   \n",
       "1289       3    0      0   ...          2.0        0  (16.136, 32.102]   \n",
       "1290       3    0      0   ...          2.0        0  (16.136, 32.102]   \n",
       "1291       1    1      0   ...          2.0        0  (16.136, 32.102]   \n",
       "1292       2    0      1   ...          3.0        0  (32.102, 48.068]   \n",
       "1293       1    1      0   ...          2.0        0  (16.136, 32.102]   \n",
       "1294       1    0      0   ...          2.0        0  (16.136, 32.102]   \n",
       "1295       1    0      1   ...          3.0        0  (32.102, 48.068]   \n",
       "1296       2    0      0   ...          2.0        0  (16.136, 32.102]   \n",
       "1297       2    0      1   ...          2.0        0  (16.136, 32.102]   \n",
       "1298       1    0      1   ...          4.0        0  (48.068, 64.034]   \n",
       "1299       3    1      0   ...          NaN        0               NaN   \n",
       "1300       3    1      1   ...          1.0        0  (0.0902, 16.136]   \n",
       "1301       3    1      0   ...          NaN        0               NaN   \n",
       "1302       1    1      1   ...          3.0        0  (32.102, 48.068]   \n",
       "1303       3    1      0   ...          2.0        0  (16.136, 32.102]   \n",
       "1304       3    0      0   ...          NaN        0               NaN   \n",
       "1305       1    1      0   ...          3.0        0  (32.102, 48.068]   \n",
       "1306       3    0      0   ...          3.0        0  (32.102, 48.068]   \n",
       "1307       3    0      0   ...          NaN        0               NaN   \n",
       "1308       3    0      1   ...          NaN        0               NaN   \n",
       "\n",
       "     FareCut Fare_scale  Sex_bool  Has_Cabin IsAlone  Embarkedch Title2ch  \n",
       "id                                                                         \n",
       "0        0.0       7.25         0          0       0           1        2  \n",
       "1        3.0      71.28         1          1       0           2        3  \n",
       "2        1.0       7.92         1          0       1           1        1  \n",
       "3        3.0      53.10         1          1       0           1        3  \n",
       "4        1.0       8.05         0          0       1           1        2  \n",
       "5        1.0       8.46         0          0       1           3        2  \n",
       "6        3.0      51.86         0          1       1           1        2  \n",
       "7        2.0      21.07         0          0       0           1        0  \n",
       "8        1.0      11.13         1          0       0           1        3  \n",
       "9        2.0      30.07         1          0       0           2        3  \n",
       "10       2.0      16.70         1          1       0           1        1  \n",
       "11       2.0      26.55         1          1       1           1        1  \n",
       "12       1.0       8.05         0          0       1           1        2  \n",
       "13       3.0      31.27         0          0       0           1        2  \n",
       "14       0.0       7.85         1          0       1           1        1  \n",
       "15       2.0      16.00         1          0       1           1        3  \n",
       "16       2.0      29.12         0          0       0           3        0  \n",
       "17       1.0      13.00         0          0       1           1        2  \n",
       "18       2.0      18.00         1          0       0           1        3  \n",
       "19       0.0       7.22         1          0       1           2        3  \n",
       "20       2.0      26.00         0          0       1           1        2  \n",
       "21       1.0      13.00         0          1       1           1        2  \n",
       "22       1.0       8.03         1          0       1           3        1  \n",
       "23       3.0      35.50         0          1       1           1        2  \n",
       "24       2.0      21.07         1          0       0           1        1  \n",
       "25       3.0      31.39         1          0       0           1        3  \n",
       "26       0.0       7.22         0          0       1           2        2  \n",
       "27       3.0     263.00         0          1       0           1        2  \n",
       "28       0.0       7.88         1          0       1           3        1  \n",
       "29       0.0       7.90         0          0       1           1        2  \n",
       "...      ...        ...       ...        ...     ...         ...      ...  \n",
       "1279     0.0       7.75         0          0       1           3        2  \n",
       "1280     2.0      21.07         0          0       0           1        0  \n",
       "1281     3.0      93.50         0          1       1           1        2  \n",
       "1282     3.0      39.40         1          1       0           1        3  \n",
       "1283     2.0      20.25         0          0       0           1        0  \n",
       "1284     1.0      10.50         0          0       1           1        2  \n",
       "1285     2.0      22.02         0          0       0           1        2  \n",
       "1286     3.0      60.00         1          1       0           1        3  \n",
       "1287     0.0       7.25         0          0       1           3        2  \n",
       "1288     3.0      79.20         1          1       0           2        3  \n",
       "1289     0.0       7.78         0          0       1           1        2  \n",
       "1290     0.0       7.73         0          0       1           3        2  \n",
       "1291     3.0     164.87         1          1       1           1        1  \n",
       "1292     2.0      21.00         0          0       0           1        2  \n",
       "1293     3.0      59.40         1          0       0           2        1  \n",
       "1294     3.0      47.10         0          0       1           1        2  \n",
       "1295     2.0      27.72         0          1       0           2        2  \n",
       "1296     1.0      13.86         0          1       1           2        2  \n",
       "1297     1.0      10.50         0          0       0           1        2  \n",
       "1298     3.0     211.50         0          1       0           2        2  \n",
       "1299     0.0       7.72         1          0       1           3        1  \n",
       "1300     1.0      13.78         1          0       0           1        1  \n",
       "1301     0.0       7.75         1          0       1           3        1  \n",
       "1302     3.0      90.00         1          1       0           3        3  \n",
       "1303     0.0       7.78         1          0       1           1        1  \n",
       "1304     1.0       8.05         0          0       1           1        2  \n",
       "1305     3.0     108.90         1          1       1           2        4  \n",
       "1306     0.0       7.25         0          0       1           1        2  \n",
       "1307     1.0       8.05         0          0       1           1        2  \n",
       "1308     2.0      22.36         0          0       0           2        0  \n",
       "\n",
       "[1309 rows x 35 columns]"
      ]
     },
     "execution_count": 154,
     "metadata": {},
     "output_type": "execute_result"
    }
   ],
   "source": [
    "data_train"
   ]
  },
  {
   "cell_type": "markdown",
   "metadata": {},
   "source": [
    "### 数据切片\n",
    "'PassengerId','Survived', 'Pclass', 'Sex', 'Age','Age_band', 'Embarked',  'Title','Fare', 'FareCut' 数据块"
   ]
  },
  {
   "cell_type": "code",
   "execution_count": 155,
   "metadata": {
    "ExecuteTime": {
     "end_time": "2018-04-29T01:50:47.748811Z",
     "start_time": "2018-04-29T01:50:47.740808Z"
    }
   },
   "outputs": [],
   "source": [
    "select_cols = ['PassengerId','Survived', 'Pclass', 'Sex', 'Age','Age_band', 'Embarked',  'Title','Fare', 'FareCut']\n",
    "sub_data1 = data_train.loc[:,select_cols]"
   ]
  },
  {
   "cell_type": "markdown",
   "metadata": {},
   "source": [
    "### 选取 Embarked =0 的数据上述列的数据"
   ]
  },
  {
   "cell_type": "code",
   "execution_count": 156,
   "metadata": {
    "ExecuteTime": {
     "end_time": "2018-04-29T01:50:48.474900Z",
     "start_time": "2018-04-29T01:50:48.465902Z"
    }
   },
   "outputs": [],
   "source": [
    "sub_data2 = data_train.loc[(data_train.Embarked == 0),select_cols]"
   ]
  },
  {
   "cell_type": "markdown",
   "metadata": {},
   "source": [
    "* 选取'Sex_bool','Age_band','Title2' 数据块 sub_data3\n",
    "* 选取'Sex_bool','SibSp','Title2' 数据块 sub_data4\n",
    "* 选取 sub_data3的 前100行 sub_data5\n",
    "* 选取 sub_data3的 前50:100行 sub_data6\n",
    "* 选取 sub_data4的 前100行  sub_data7\n",
    "* 选取 sub_data4的 前50-100行 sub_data8"
   ]
  },
  {
   "cell_type": "code",
   "execution_count": 157,
   "metadata": {
    "ExecuteTime": {
     "end_time": "2018-04-29T01:50:49.503190Z",
     "start_time": "2018-04-29T01:50:49.493163Z"
    }
   },
   "outputs": [],
   "source": [
    "sub_data3 = data_train.loc[:,['Sex_bool','Age_band','Title2']]\n",
    "sub_data4 = data_train.loc[:,['Sex_bool','SibSp','Title2']]\n",
    "sub_data5 = sub_data3.iloc[:100,:]\n",
    "sub_data6 = sub_data3.iloc[50:150,:]\n",
    "sub_data7 = sub_data4.iloc[:100,:]\n",
    "sub_data8 = sub_data4.iloc[50:150,:]"
   ]
  },
  {
   "cell_type": "code",
   "execution_count": 158,
   "metadata": {
    "ExecuteTime": {
     "end_time": "2018-04-29T01:51:00.711197Z",
     "start_time": "2018-04-29T01:51:00.675199Z"
    }
   },
   "outputs": [
    {
     "data": {
      "text/html": [
       "<div>\n",
       "<style scoped>\n",
       "    .dataframe tbody tr th:only-of-type {\n",
       "        vertical-align: middle;\n",
       "    }\n",
       "\n",
       "    .dataframe tbody tr th {\n",
       "        vertical-align: top;\n",
       "    }\n",
       "\n",
       "    .dataframe thead th {\n",
       "        text-align: right;\n",
       "    }\n",
       "</style>\n",
       "<table border=\"1\" class=\"dataframe\">\n",
       "  <thead>\n",
       "    <tr style=\"text-align: right;\">\n",
       "      <th></th>\n",
       "      <th>Age</th>\n",
       "      <th>Cabin</th>\n",
       "      <th>Embarked</th>\n",
       "      <th>Fare</th>\n",
       "      <th>Name</th>\n",
       "      <th>Parch</th>\n",
       "      <th>PassengerId</th>\n",
       "      <th>Pclass</th>\n",
       "      <th>Sex</th>\n",
       "      <th>SibSp</th>\n",
       "      <th>...</th>\n",
       "      <th>Age_cut1</th>\n",
       "      <th>Age_band</th>\n",
       "      <th>CategoricalAge</th>\n",
       "      <th>FareCut</th>\n",
       "      <th>Fare_scale</th>\n",
       "      <th>Sex_bool</th>\n",
       "      <th>Has_Cabin</th>\n",
       "      <th>IsAlone</th>\n",
       "      <th>Embarkedch</th>\n",
       "      <th>Title2ch</th>\n",
       "    </tr>\n",
       "    <tr>\n",
       "      <th>id</th>\n",
       "      <th></th>\n",
       "      <th></th>\n",
       "      <th></th>\n",
       "      <th></th>\n",
       "      <th></th>\n",
       "      <th></th>\n",
       "      <th></th>\n",
       "      <th></th>\n",
       "      <th></th>\n",
       "      <th></th>\n",
       "      <th></th>\n",
       "      <th></th>\n",
       "      <th></th>\n",
       "      <th></th>\n",
       "      <th></th>\n",
       "      <th></th>\n",
       "      <th></th>\n",
       "      <th></th>\n",
       "      <th></th>\n",
       "      <th></th>\n",
       "      <th></th>\n",
       "    </tr>\n",
       "  </thead>\n",
       "  <tbody>\n",
       "    <tr>\n",
       "      <th>0</th>\n",
       "      <td>22.0</td>\n",
       "      <td>NaN</td>\n",
       "      <td>0</td>\n",
       "      <td>7.2500</td>\n",
       "      <td>Braund, Mr. Owen Harris</td>\n",
       "      <td>0</td>\n",
       "      <td>1</td>\n",
       "      <td>3</td>\n",
       "      <td>0</td>\n",
       "      <td>1</td>\n",
       "      <td>...</td>\n",
       "      <td>2</td>\n",
       "      <td>0</td>\n",
       "      <td>(16.136, 32.102]</td>\n",
       "      <td>0.0</td>\n",
       "      <td>7.25</td>\n",
       "      <td>0</td>\n",
       "      <td>0</td>\n",
       "      <td>0</td>\n",
       "      <td>1</td>\n",
       "      <td>2</td>\n",
       "    </tr>\n",
       "    <tr>\n",
       "      <th>1</th>\n",
       "      <td>38.0</td>\n",
       "      <td>C85</td>\n",
       "      <td>1</td>\n",
       "      <td>71.2833</td>\n",
       "      <td>Cumings, Mrs. John Bradley (Florence Briggs Th...</td>\n",
       "      <td>0</td>\n",
       "      <td>2</td>\n",
       "      <td>1</td>\n",
       "      <td>1</td>\n",
       "      <td>1</td>\n",
       "      <td>...</td>\n",
       "      <td>3</td>\n",
       "      <td>0</td>\n",
       "      <td>(32.102, 48.068]</td>\n",
       "      <td>3.0</td>\n",
       "      <td>71.28</td>\n",
       "      <td>1</td>\n",
       "      <td>1</td>\n",
       "      <td>0</td>\n",
       "      <td>2</td>\n",
       "      <td>3</td>\n",
       "    </tr>\n",
       "    <tr>\n",
       "      <th>2</th>\n",
       "      <td>26.0</td>\n",
       "      <td>NaN</td>\n",
       "      <td>0</td>\n",
       "      <td>7.9250</td>\n",
       "      <td>Heikkinen, Miss. Laina</td>\n",
       "      <td>0</td>\n",
       "      <td>3</td>\n",
       "      <td>3</td>\n",
       "      <td>1</td>\n",
       "      <td>0</td>\n",
       "      <td>...</td>\n",
       "      <td>2</td>\n",
       "      <td>0</td>\n",
       "      <td>(16.136, 32.102]</td>\n",
       "      <td>1.0</td>\n",
       "      <td>7.92</td>\n",
       "      <td>1</td>\n",
       "      <td>0</td>\n",
       "      <td>1</td>\n",
       "      <td>1</td>\n",
       "      <td>1</td>\n",
       "    </tr>\n",
       "    <tr>\n",
       "      <th>3</th>\n",
       "      <td>35.0</td>\n",
       "      <td>C123</td>\n",
       "      <td>0</td>\n",
       "      <td>53.1000</td>\n",
       "      <td>Futrelle, Mrs. Jacques Heath (Lily May Peel)</td>\n",
       "      <td>0</td>\n",
       "      <td>4</td>\n",
       "      <td>1</td>\n",
       "      <td>1</td>\n",
       "      <td>1</td>\n",
       "      <td>...</td>\n",
       "      <td>3</td>\n",
       "      <td>0</td>\n",
       "      <td>(32.102, 48.068]</td>\n",
       "      <td>3.0</td>\n",
       "      <td>53.10</td>\n",
       "      <td>1</td>\n",
       "      <td>1</td>\n",
       "      <td>0</td>\n",
       "      <td>1</td>\n",
       "      <td>3</td>\n",
       "    </tr>\n",
       "    <tr>\n",
       "      <th>4</th>\n",
       "      <td>35.0</td>\n",
       "      <td>NaN</td>\n",
       "      <td>0</td>\n",
       "      <td>8.0500</td>\n",
       "      <td>Allen, Mr. William Henry</td>\n",
       "      <td>0</td>\n",
       "      <td>5</td>\n",
       "      <td>3</td>\n",
       "      <td>0</td>\n",
       "      <td>0</td>\n",
       "      <td>...</td>\n",
       "      <td>3</td>\n",
       "      <td>0</td>\n",
       "      <td>(32.102, 48.068]</td>\n",
       "      <td>1.0</td>\n",
       "      <td>8.05</td>\n",
       "      <td>0</td>\n",
       "      <td>0</td>\n",
       "      <td>1</td>\n",
       "      <td>1</td>\n",
       "      <td>2</td>\n",
       "    </tr>\n",
       "  </tbody>\n",
       "</table>\n",
       "<p>5 rows × 35 columns</p>\n",
       "</div>"
      ],
      "text/plain": [
       "     Age Cabin  Embarked     Fare  \\\n",
       "id                                  \n",
       "0   22.0   NaN         0   7.2500   \n",
       "1   38.0   C85         1  71.2833   \n",
       "2   26.0   NaN         0   7.9250   \n",
       "3   35.0  C123         0  53.1000   \n",
       "4   35.0   NaN         0   8.0500   \n",
       "\n",
       "                                                 Name  Parch  PassengerId  \\\n",
       "id                                                                          \n",
       "0                             Braund, Mr. Owen Harris      0            1   \n",
       "1   Cumings, Mrs. John Bradley (Florence Briggs Th...      0            2   \n",
       "2                              Heikkinen, Miss. Laina      0            3   \n",
       "3        Futrelle, Mrs. Jacques Heath (Lily May Peel)      0            4   \n",
       "4                            Allen, Mr. William Henry      0            5   \n",
       "\n",
       "    Pclass  Sex  SibSp   ...     Age_cut1 Age_band    CategoricalAge FareCut  \\\n",
       "id                       ...                                                   \n",
       "0        3    0      1   ...            2        0  (16.136, 32.102]     0.0   \n",
       "1        1    1      1   ...            3        0  (32.102, 48.068]     3.0   \n",
       "2        3    1      0   ...            2        0  (16.136, 32.102]     1.0   \n",
       "3        1    1      1   ...            3        0  (32.102, 48.068]     3.0   \n",
       "4        3    0      0   ...            3        0  (32.102, 48.068]     1.0   \n",
       "\n",
       "   Fare_scale  Sex_bool  Has_Cabin IsAlone  Embarkedch Title2ch  \n",
       "id                                                               \n",
       "0        7.25         0          0       0           1        2  \n",
       "1       71.28         1          1       0           2        3  \n",
       "2        7.92         1          0       1           1        1  \n",
       "3       53.10         1          1       0           1        3  \n",
       "4        8.05         0          0       1           1        2  \n",
       "\n",
       "[5 rows x 35 columns]"
      ]
     },
     "execution_count": 158,
     "metadata": {},
     "output_type": "execute_result"
    }
   ],
   "source": [
    "data_train.head()"
   ]
  },
  {
   "cell_type": "code",
   "execution_count": 159,
   "metadata": {
    "ExecuteTime": {
     "end_time": "2018-04-29T01:51:33.366265Z",
     "start_time": "2018-04-29T01:51:33.311239Z"
    }
   },
   "outputs": [],
   "source": [
    "data_train.to_csv('visilization.csv')"
   ]
  },
  {
   "cell_type": "markdown",
   "metadata": {},
   "source": [
    "### 拼接"
   ]
  },
  {
   "cell_type": "markdown",
   "metadata": {},
   "source": [
    "### 将 sub_data5 与 sub_data6 按行拼接(忽略索引)data1"
   ]
  },
  {
   "cell_type": "markdown",
   "metadata": {},
   "source": [
    "#### 对行axis = 0 情况(默认)    ====变长( 忽略索引按行拼接)"
   ]
  },
  {
   "cell_type": "code",
   "execution_count": null,
   "metadata": {
    "collapsed": true
   },
   "outputs": [],
   "source": [
    "data1 = pd.concat([sub_data5,sub_data6],axis = 0, ignore_index = True)"
   ]
  },
  {
   "cell_type": "markdown",
   "metadata": {},
   "source": [
    "#### 将sub_data5,sub_data7 按行拼接 内拼接\n",
    "#### join 对应 axis 相反的方向   ignore 负责axis同方设置"
   ]
  },
  {
   "cell_type": "code",
   "execution_count": null,
   "metadata": {
    "ExecuteTime": {
     "end_time": "2018-01-21T15:23:56.880566Z",
     "start_time": "2018-01-21T15:23:56.863518Z"
    },
    "collapsed": true
   },
   "outputs": [],
   "source": [
    "data2 = pd.concat([sub_data5,sub_data7],axis = 0, ignore_index = True, join = 'inner')\n"
   ]
  },
  {
   "cell_type": "markdown",
   "metadata": {},
   "source": [
    "### 将sub_data5,sub_data6 按列拼接\n",
    "#### 对列axis = 1 情况  （相同列名情况） 变宽  如果根据 列还是merge引好\n",
    "ignore_index = True 忽略列名"
   ]
  },
  {
   "cell_type": "code",
   "execution_count": null,
   "metadata": {
    "collapsed": true
   },
   "outputs": [],
   "source": [
    "data3 = pd.concat([sub_data5,sub_data6],axis = 1, ignore_index = True) "
   ]
  },
  {
   "cell_type": "markdown",
   "metadata": {},
   "source": [
    "#### 将sub_data5,sub_data8 按列拼接 内拼接"
   ]
  },
  {
   "cell_type": "code",
   "execution_count": null,
   "metadata": {
    "ExecuteTime": {
     "end_time": "2018-01-21T15:23:57.990989Z",
     "start_time": "2018-01-21T15:23:57.953885Z"
    },
    "collapsed": true
   },
   "outputs": [],
   "source": [
    "data4 = pd.concat([sub_data5,sub_data8],axis = 1, join = 'inner')  # 只有50 行\n",
    "data4"
   ]
  },
  {
   "cell_type": "markdown",
   "metadata": {},
   "source": [
    "####   history命令"
   ]
  },
  {
   "cell_type": "markdown",
   "metadata": {},
   "source": [
    "### 去重"
   ]
  },
  {
   "cell_type": "markdown",
   "metadata": {},
   "source": [
    "### 统计重复数量\n",
    "#计算唯一样本数量"
   ]
  },
  {
   "cell_type": "code",
   "execution_count": 50,
   "metadata": {
    "ExecuteTime": {
     "end_time": "2018-04-09T14:52:34.231859Z",
     "start_time": "2018-04-09T14:52:33.958390Z"
    },
    "collapsed": true
   },
   "outputs": [
    {
     "ename": "NameError",
     "evalue": "name 'sub_data3' is not defined",
     "output_type": "error",
     "traceback": [
      "\u001b[1;31m---------------------------------------------------------------------------\u001b[0m",
      "\u001b[1;31mNameError\u001b[0m                                 Traceback (most recent call last)",
      "\u001b[1;32m<ipython-input-50-7e62493b60d6>\u001b[0m in \u001b[0;36m<module>\u001b[1;34m()\u001b[0m\n\u001b[1;32m----> 1\u001b[1;33m \u001b[0msub_data3\u001b[0m\u001b[1;33m.\u001b[0m\u001b[0mduplicated\u001b[0m\u001b[1;33m(\u001b[0m\u001b[1;33m)\u001b[0m\u001b[1;33m.\u001b[0m\u001b[0msum\u001b[0m\u001b[1;33m(\u001b[0m\u001b[1;33m)\u001b[0m\u001b[1;33m\u001b[0m\u001b[0m\n\u001b[0m\u001b[0;32m      2\u001b[0m \u001b[1;31m#计算唯一样本数量\u001b[0m\u001b[1;33m\u001b[0m\u001b[1;33m\u001b[0m\u001b[0m\n",
      "\u001b[1;31mNameError\u001b[0m: name 'sub_data3' is not defined"
     ]
    }
   ],
   "source": [
    "sub_data3.duplicated().sum()"
   ]
  },
  {
   "cell_type": "markdown",
   "metadata": {},
   "source": [
    "#### 统计非重复数量"
   ]
  },
  {
   "cell_type": "code",
   "execution_count": null,
   "metadata": {
    "ExecuteTime": {
     "end_time": "2018-01-21T15:24:04.950531Z",
     "start_time": "2018-01-21T15:24:04.939504Z"
    },
    "collapsed": true
   },
   "outputs": [],
   "source": [
    "dup_num = len(sub_data3) - sub_data3.duplicated().sum()\n",
    "dup_num"
   ]
  },
  {
   "cell_type": "markdown",
   "metadata": {},
   "source": [
    "### 显示重复的行数"
   ]
  },
  {
   "cell_type": "code",
   "execution_count": null,
   "metadata": {
    "ExecuteTime": {
     "end_time": "2018-01-21T15:24:06.182562Z",
     "start_time": "2018-01-21T15:24:06.148436Z"
    },
    "collapsed": true
   },
   "outputs": [],
   "source": [
    "sub_data3[sub_data3.duplicated()] "
   ]
  },
  {
   "cell_type": "markdown",
   "metadata": {},
   "source": [
    "### 剔重操作\n",
    "### 剔除 'Sex_bool','Title2' 的重复数据"
   ]
  },
  {
   "cell_type": "code",
   "execution_count": null,
   "metadata": {
    "ExecuteTime": {
     "end_time": "2018-01-21T15:24:12.155523Z",
     "start_time": "2018-01-21T15:24:12.146531Z"
    },
    "collapsed": true
   },
   "outputs": [],
   "source": [
    "sub_data4 = sub_data3.drop_duplicates(['Sex_bool','Title2'])\n",
    "# sub_data3.drop_duplicates(['Sex_bool','Title2'],keep = 'last',inplace =False)"
   ]
  },
  {
   "cell_type": "markdown",
   "metadata": {},
   "source": [
    "### 排序\n",
    "#### 对Age_band 进行倒序排列"
   ]
  },
  {
   "cell_type": "code",
   "execution_count": null,
   "metadata": {
    "collapsed": true
   },
   "outputs": [],
   "source": [
    "sub_data3.sort_values(by =['Age_band'],ascending =False)"
   ]
  },
  {
   "cell_type": "markdown",
   "metadata": {},
   "source": [
    "###  数据排序\n",
    "####  对'Age','Pclass' 进行排倒序 缺失值排在最前面"
   ]
  },
  {
   "cell_type": "code",
   "execution_count": null,
   "metadata": {
    "ExecuteTime": {
     "end_time": "2018-01-21T15:24:13.484673Z",
     "start_time": "2018-01-21T15:24:13.458090Z"
    },
    "collapsed": true
   },
   "outputs": [],
   "source": [
    "sub_data2.sort_values(by = ['Age','Pclass'])\n",
    "sub_data2.sort_values(by = ['Age','Pclass'],ascending = False, na_position = 'first')"
   ]
  },
  {
   "cell_type": "markdown",
   "metadata": {},
   "source": [
    "#### 利用rank() 方法排序(掌握)"
   ]
  },
  {
   "cell_type": "code",
   "execution_count": null,
   "metadata": {
    "ExecuteTime": {
     "end_time": "2018-01-17T17:38:11.303005Z",
     "start_time": "2018-01-17T17:38:11.246855Z"
    },
    "collapsed": true
   },
   "outputs": [],
   "source": [
    "sub_data2.rank(axis =1)"
   ]
  },
  {
   "cell_type": "markdown",
   "metadata": {
    "ExecuteTime": {
     "end_time": "2018-04-09T14:58:01.078758Z",
     "start_time": "2018-04-09T14:58:01.069951Z"
    }
   },
   "source": [
    "### 将sub_data4 索引 变为列,列名temp"
   ]
  },
  {
   "cell_type": "code",
   "execution_count": null,
   "metadata": {
    "ExecuteTime": {
     "end_time": "2018-01-23T14:54:44.049291Z",
     "start_time": "2018-01-23T14:54:44.034251Z"
    },
    "collapsed": true
   },
   "outputs": [],
   "source": [
    "sub_data4.set_index('temp',inplace = True)\n",
    "# sub_data4.reset_index(drop=True)"
   ]
  },
  {
   "cell_type": "markdown",
   "metadata": {},
   "source": [
    "### 重命名"
   ]
  },
  {
   "cell_type": "markdown",
   "metadata": {
    "ExecuteTime": {
     "end_time": "2018-04-09T14:59:17.546906Z",
     "start_time": "2018-04-09T14:59:17.541569Z"
    }
   },
   "source": [
    "### 重命名sub_data4的列名 --全部替换为'index','Sex_Bool','Age_Band','Title'"
   ]
  },
  {
   "cell_type": "code",
   "execution_count": null,
   "metadata": {
    "ExecuteTime": {
     "end_time": "2018-01-21T15:24:48.137559Z",
     "start_time": "2018-01-21T15:24:48.132546Z"
    },
    "collapsed": true
   },
   "outputs": [],
   "source": [
    "sub_data4.column = ['index','Sex_Bool','Age_Band','Title']"
   ]
  },
  {
   "cell_type": "markdown",
   "metadata": {},
   "source": [
    "### sub_data4 将字段名 全部变为大写"
   ]
  },
  {
   "cell_type": "code",
   "execution_count": null,
   "metadata": {
    "collapsed": true
   },
   "outputs": [],
   "source": [
    "sub_data4.rename(columns =str.upper)"
   ]
  },
  {
   "cell_type": "markdown",
   "metadata": {},
   "source": [
    "### 重命名sub_data4的列名 --部分替换'Sex_bool':'Sex_Bool','Title2': 'Title'"
   ]
  },
  {
   "cell_type": "code",
   "execution_count": null,
   "metadata": {
    "ExecuteTime": {
     "end_time": "2018-01-21T15:24:50.553422Z",
     "start_time": "2018-01-21T15:24:50.538378Z"
    },
    "collapsed": true
   },
   "outputs": [],
   "source": [
    "sub_data4.rename(columns = {'Sex_bool':'Sex_Bool','Title2': 'Title'})\n",
    "sub_data4.rename(columns = {'Sex_bool':'Sex_Bool','Title2': 'Title'},index ={7:3,30:4,556:5} )"
   ]
  },
  {
   "cell_type": "markdown",
   "metadata": {},
   "source": [
    "###  数据合并"
   ]
  },
  {
   "cell_type": "markdown",
   "metadata": {},
   "source": [
    "###  将data_train 和 sub_data4数据根据 Age_band进行 left合并"
   ]
  },
  {
   "cell_type": "code",
   "execution_count": null,
   "metadata": {
    "ExecuteTime": {
     "end_time": "2018-01-21T15:24:52.642514Z",
     "start_time": "2018-01-21T15:24:52.621953Z"
    },
    "collapsed": true
   },
   "outputs": [],
   "source": [
    "full_data = pd.merge(data_train,sub_data4,on = ['Age_band'], how ='left' )"
   ]
  },
  {
   "cell_type": "markdown",
   "metadata": {},
   "source": [
    "### 将data_train 和 sub_data4数据根据 Age_band进行 left合并 同名字段添加后缀left right  suffixes= 默认_x _y"
   ]
  },
  {
   "cell_type": "code",
   "execution_count": null,
   "metadata": {
    "ExecuteTime": {
     "end_time": "2018-01-21T15:24:53.686501Z",
     "start_time": "2018-01-21T15:24:53.665475Z"
    },
    "collapsed": true
   },
   "outputs": [],
   "source": [
    "full_data = pd.merge(data_train,sub_data4,left_index =  True, right_on =['index'], how ='left', suffixes=('_left', '_right'))"
   ]
  },
  {
   "cell_type": "markdown",
   "metadata": {},
   "source": [
    "#### 将data_train 和 sub_data4数据根据'Sex_bool','Age_band','Title2'进行 left合并"
   ]
  },
  {
   "cell_type": "code",
   "execution_count": null,
   "metadata": {
    "ExecuteTime": {
     "end_time": "2018-01-21T15:24:54.644287Z",
     "start_time": "2018-01-21T15:24:54.632252Z"
    },
    "collapsed": true
   },
   "outputs": [],
   "source": [
    "full_data = pd.merge(data_train,sub_data4,on =['Sex_bool','Age_band','Title2'], how ='left' )"
   ]
  },
  {
   "cell_type": "markdown",
   "metadata": {},
   "source": [
    "### 数据聚合"
   ]
  },
  {
   "cell_type": "markdown",
   "metadata": {},
   "source": [
    "#### 聚合函数\n",
    "* count()\n",
    "* mean()\n",
    "* std()\n",
    "* agg()  ==>一次运用多个函数"
   ]
  },
  {
   "cell_type": "markdown",
   "metadata": {},
   "source": [
    "### 查看data_train 中 'Survived' 的按照'Sex', 的数量分布data_group(groupby)"
   ]
  },
  {
   "cell_type": "code",
   "execution_count": null,
   "metadata": {
    "collapsed": true
   },
   "outputs": [],
   "source": [
    "# 两个变量关系\n",
    "data_group = data_train[['Sex','Survived']].groupby('Sex').count()"
   ]
  },
  {
   "cell_type": "markdown",
   "metadata": {},
   "source": [
    "#### 将data_group 绘制柱状图"
   ]
  },
  {
   "cell_type": "code",
   "execution_count": null,
   "metadata": {
    "ExecuteTime": {
     "end_time": "2018-01-25T12:33:17.132647Z",
     "start_time": "2018-01-25T12:33:16.914760Z"
    },
    "collapsed": true
   },
   "outputs": [],
   "source": [
    "data_group.plot(kind ='bar')"
   ]
  },
  {
   "cell_type": "code",
   "execution_count": null,
   "metadata": {
    "ExecuteTime": {
     "end_time": "2018-01-25T12:33:29.949781Z",
     "start_time": "2018-01-25T12:33:29.906603Z"
    },
    "collapsed": true
   },
   "outputs": [],
   "source": [
    "# 对同一类型变量聚合\n",
    "for x in data_train:\n",
    "    if data_train[x].dtype == 'object' :\n",
    "#     if data1[x].dtype not in  ['float64' , 'int32','int64'] :\n",
    "        print('Survival Correlation by:', x)\n",
    "        print(data_train[[x, 'Survived']].groupby(x, as_index=False).mean())\n",
    "        print('-'*10, '\\n')\n",
    "        "
   ]
  },
  {
   "cell_type": "code",
   "execution_count": null,
   "metadata": {
    "ExecuteTime": {
     "end_time": "2018-01-25T12:34:00.212218Z",
     "start_time": "2018-01-25T12:34:00.202193Z"
    },
    "collapsed": true
   },
   "outputs": [],
   "source": [
    "data_train.groupby(['Sex','Survived'])['Survived'].count()"
   ]
  },
  {
   "cell_type": "code",
   "execution_count": null,
   "metadata": {
    "ExecuteTime": {
     "end_time": "2018-01-25T12:34:01.832224Z",
     "start_time": "2018-01-25T12:34:01.825202Z"
    },
    "collapsed": true
   },
   "outputs": [],
   "source": [
    "temp = data_train.groupby(['Sex','Survived'])['Survived'].count().to_frame()"
   ]
  },
  {
   "cell_type": "code",
   "execution_count": null,
   "metadata": {
    "ExecuteTime": {
     "end_time": "2018-01-25T12:34:02.847501Z",
     "start_time": "2018-01-25T12:34:02.837474Z"
    },
    "collapsed": true
   },
   "outputs": [],
   "source": [
    "data_train.groupby(['Sex','Survived'],as_index =False)['Survived'].size()"
   ]
  },
  {
   "cell_type": "code",
   "execution_count": null,
   "metadata": {
    "ExecuteTime": {
     "end_time": "2018-01-25T12:34:05.740371Z",
     "start_time": "2018-01-25T12:34:05.729341Z"
    },
    "collapsed": true
   },
   "outputs": [],
   "source": [
    "#折线图(对于 Series 加上索引)\n",
    "# data_train['Fare'].cumsum().plot()   # cumsum() 累加函数\n",
    "\n",
    "embark_perc = data_train[[\"Embarked\", \"Survived\"]].groupby(['Embarked'],as_index=False).mean()"
   ]
  },
  {
   "cell_type": "code",
   "execution_count": null,
   "metadata": {
    "ExecuteTime": {
     "end_time": "2018-01-25T12:34:12.167821Z",
     "start_time": "2018-01-25T12:34:11.649916Z"
    },
    "collapsed": true
   },
   "outputs": [],
   "source": [
    "f,ax=plt.subplots(1,3,figsize=(18,6))\n",
    "\n",
    "data_train[['Sex','Survived']].groupby(['Sex']).mean().plot.bar(ax=ax[0])\n",
    "ax[0].set_title('Survived vs Sex')\n",
    "\n",
    "sns.countplot('Sex',hue='Survived',data=data_train,ax=ax[1])\n",
    "ax[1].set_title('Sex:Survived vs Dead')\n",
    "\n",
    "sns.barplot(x='Embarked', y='Survived', data=embark_perc,order=['S','C','Q'],ax=ax[2])\n",
    "\n",
    "plt.show()"
   ]
  },
  {
   "cell_type": "code",
   "execution_count": null,
   "metadata": {
    "ExecuteTime": {
     "end_time": "2018-01-21T15:26:44.592147Z",
     "start_time": "2018-01-21T15:26:44.588138Z"
    },
    "collapsed": true
   },
   "outputs": [],
   "source": [
    "# data_train[['Title', 'Survived']].groupby(['Title'],as_index =False).agg(['mean','count','sum'])"
   ]
  },
  {
   "cell_type": "code",
   "execution_count": null,
   "metadata": {
    "ExecuteTime": {
     "end_time": "2018-03-17T08:16:59.019922Z",
     "start_time": "2018-03-17T08:16:58.972795Z"
    },
    "collapsed": true
   },
   "outputs": [],
   "source": [
    "cembark_sum = data_train[[\"Embarked\", \"Title2\",'Fare']].groupby([\"Embarked\", \"Title2\"]).count()\n",
    "embark_prec = cembark_sum.unstack(0).fillna(0)\n",
    "embark_prec.div(embark_prec.sum(axis =1), axis = 0,).applymap(lambda x: '%.1f%%' %(x*100))  #行加总\n",
    "embark_prec.div(embark_prec.sum(axis =0), axis = 1,).applymap(lambda x: '%.1f%%' %(x*100))  #列加总\n",
    "embark_prec.div(len(data_train)).applymap(lambda x: '%.1f%%' %(x*100))   # 对整体除百分比\n",
    "# apply(lambda x: '%.2f%%' %(x*100))\n",
    "# applymap 对所有元素操作   map 仅对series   apply既可以行 也可以列"
   ]
  },
  {
   "cell_type": "markdown",
   "metadata": {},
   "source": [
    "### pandas 风格style\n",
    "参考：\n",
    "* CSDN风格文档 http://blog.csdn.net/wuwan5296/article/details/78636347\n",
    "* pandas style http://pandas.pydata.org/pandas-docs/version/0.18.1/style.html"
   ]
  },
  {
   "cell_type": "code",
   "execution_count": null,
   "metadata": {
    "ExecuteTime": {
     "end_time": "2018-03-17T08:42:34.459420Z",
     "start_time": "2018-03-17T08:42:34.453402Z"
    },
    "collapsed": true
   },
   "outputs": [],
   "source": [
    "df = embark_prec\n",
    "df1 = df['Fare'] \n",
    "# df['Fare']['C']"
   ]
  },
  {
   "cell_type": "code",
   "execution_count": null,
   "metadata": {
    "ExecuteTime": {
     "end_time": "2018-03-17T08:35:43.743622Z",
     "start_time": "2018-03-17T08:35:43.734630Z"
    },
    "collapsed": true,
    "scrolled": true
   },
   "outputs": [],
   "source": [
    "df1.style.format({'C':'{:+.2f}'})  # 添加正负号"
   ]
  },
  {
   "cell_type": "code",
   "execution_count": null,
   "metadata": {
    "ExecuteTime": {
     "end_time": "2018-03-17T08:56:52.732320Z",
     "start_time": "2018-03-17T08:56:52.705280Z"
    },
    "collapsed": true
   },
   "outputs": [],
   "source": [
    "embark_prec.style.background_gradient(cmap = 'summer_r')\n",
    "# 调用sns 调色板 rgb\n",
    "# 使用light_palette() 和dark_palette()调用定制连续调色板\n",
    "cm = sns.light_palette((210, 90, 60), input=\"husl\", as_cmap=True)\n",
    "df1.style.background_gradient(cmap = cm,axis =1 )  # 默认每一列,axis = 0"
   ]
  },
  {
   "cell_type": "code",
   "execution_count": null,
   "metadata": {
    "ExecuteTime": {
     "end_time": "2018-03-17T08:37:32.049150Z",
     "start_time": "2018-03-17T08:37:32.032133Z"
    },
    "collapsed": true,
    "scrolled": true
   },
   "outputs": [],
   "source": [
    "df1.style.highlight_max(axis = 0)  # 高亮每列 最大值"
   ]
  },
  {
   "cell_type": "code",
   "execution_count": null,
   "metadata": {
    "ExecuteTime": {
     "end_time": "2018-03-17T08:41:37.454066Z",
     "start_time": "2018-03-17T08:41:37.442035Z"
    },
    "collapsed": true
   },
   "outputs": [],
   "source": [
    "df1.style.bar(['S'],width= 100,align = 'mid')  # 高亮每列 最大值"
   ]
  },
  {
   "cell_type": "code",
   "execution_count": null,
   "metadata": {
    "ExecuteTime": {
     "end_time": "2018-03-17T08:41:37.454066Z",
     "start_time": "2018-03-17T08:41:37.442035Z"
    },
    "collapsed": true
   },
   "outputs": [],
   "source": [
    "df1.style.bar(['S'],width= 100,align = 'mid')  # 高亮每列 最大值"
   ]
  },
  {
   "cell_type": "code",
   "execution_count": null,
   "metadata": {
    "ExecuteTime": {
     "end_time": "2018-01-25T13:46:59.404722Z",
     "start_time": "2018-01-25T13:46:59.390687Z"
    },
    "collapsed": true
   },
   "outputs": [],
   "source": [
    "# full_data = [data_train, data_test]  #是个list  不可取\n",
    "# 然后 用 for 用循环处理\n",
    "# for dataset in full_data:\n",
    "#     dataset['IsAlone'] = 0\n",
    "#     dataset.loc[dataset['FamilySize'] == 1, 'IsAlone'] = 1\n",
    "\n",
    "\n",
    "# pd.set_option('display.folat_format',lambda x: '%.2f' %x)\n",
    "#对行 队列 对总体求占比\n",
    "# pd.set_option('display.float_format', lambda x: '%.2f' % x)\n",
    "# pd.crosstab(data_train['Survived'], data_train['Title2']).apply(lambda r: r/r.sum(), axis=1)  #对行"
   ]
  },
  {
   "cell_type": "code",
   "execution_count": null,
   "metadata": {
    "collapsed": true
   },
   "outputs": [],
   "source": []
  },
  {
   "cell_type": "markdown",
   "metadata": {},
   "source": [
    "###  画图"
   ]
  },
  {
   "cell_type": "markdown",
   "metadata": {},
   "source": [
    "#### seaborn  https://seaborn.pydata.org/api.html"
   ]
  },
  {
   "cell_type": "markdown",
   "metadata": {},
   "source": [
    "###   因子变量"
   ]
  },
  {
   "cell_type": "markdown",
   "metadata": {},
   "source": [
    "### 单连续变量Age==>连续分布  某一列"
   ]
  },
  {
   "cell_type": "code",
   "execution_count": null,
   "metadata": {
    "ExecuteTime": {
     "end_time": "2018-01-25T14:19:53.307070Z",
     "start_time": "2018-01-25T14:19:51.387839Z"
    },
    "collapsed": true
   },
   "outputs": [],
   "source": [
    "from scipy.stats import norm\n",
    "with sns.plotting_context(\"notebook\",font_scale=1.2):  #缩放字体\n",
    "    f, ax = plt.subplots(1,1,figsize = (6,4))\n",
    "    # sns.distplot(data_train['Age'],ax =ax[0])\n",
    "    sns.distplot(data_train['Age'],rug = True, fit = norm,ax =ax)\n",
    "    plt.show()"
   ]
  },
  {
   "cell_type": "code",
   "execution_count": null,
   "metadata": {
    "collapsed": true
   },
   "outputs": [],
   "source": [
    "# 怎么样让分布图 按照类别映射（hist ）"
   ]
  },
  {
   "cell_type": "markdown",
   "metadata": {},
   "source": [
    "### 单因子变量 ==> 频数统计  countplot"
   ]
  },
  {
   "cell_type": "code",
   "execution_count": null,
   "metadata": {
    "ExecuteTime": {
     "end_time": "2018-01-21T15:37:31.807918Z",
     "start_time": "2018-01-21T15:37:31.226675Z"
    },
    "collapsed": true
   },
   "outputs": [],
   "source": [
    "fig, ax = plt.subplots(1,3,figsize=(18,6))\n",
    "sns.countplot(x='Title2', data= data_train,ax =ax[0])\n",
    "# 映射 目标变量（是否存活）  存在问题 堆积情况下\n",
    "sns.countplot(x='Title2',hue = 'Survived', data= data_train,ax =ax[1])\n",
    "\n",
    "sns.countplot(x='Title2',hue = 'Survived', data= data_train,hue_order =[1,0],dodge = False,ax =ax[2])"
   ]
  },
  {
   "cell_type": "markdown",
   "metadata": {},
   "source": [
    "\n",
    "####  按照因子变量映射\n",
    "- factorplot()      -->  简单本 --factorplot\n",
    "    + kind : { count,  | box, violin, strip |双变量 point, bar,  |}"
   ]
  },
  {
   "cell_type": "code",
   "execution_count": null,
   "metadata": {
    "ExecuteTime": {
     "end_time": "2018-01-21T11:52:29.714705Z",
     "start_time": "2018-01-21T11:52:29.326876Z"
    },
    "collapsed": true
   },
   "outputs": [],
   "source": [
    "# 单变量 离散型  count (没有连续 分布图)  \n",
    "sns.factorplot(x='Title', kind ='count',col = 'Survived',data =data_train)"
   ]
  },
  {
   "cell_type": "code",
   "execution_count": null,
   "metadata": {
    "ExecuteTime": {
     "end_time": "2018-01-21T15:38:18.556780Z",
     "start_time": "2018-01-21T15:38:18.193796Z"
    },
    "collapsed": true
   },
   "outputs": [],
   "source": [
    "# 单变量 连续型   box, violin, strip\n",
    "sns.factorplot(x='Age', kind ='violin',col = 'Survived',data =data_train)"
   ]
  },
  {
   "cell_type": "code",
   "execution_count": null,
   "metadata": {
    "ExecuteTime": {
     "end_time": "2018-01-21T13:21:34.860791Z",
     "start_time": "2018-01-21T13:21:32.623687Z"
    },
    "collapsed": true
   },
   "outputs": [],
   "source": [
    "# point 图会给出置信度 ---波动区间    point要求因子变量是 数值型 \n",
    "# 将目标变量作为y轴\n",
    "sns.factorplot(x='Title',y='Survived', kind ='point',col = 'FareCut',data =data_train,col_wrap =2)"
   ]
  },
  {
   "cell_type": "code",
   "execution_count": null,
   "metadata": {
    "ExecuteTime": {
     "end_time": "2018-01-21T13:16:28.026530Z",
     "start_time": "2018-01-21T13:16:27.304928Z"
    },
    "collapsed": true
   },
   "outputs": [],
   "source": [
    "#纵轴 计算的连续变量的平均数（因子数值型）\n",
    "sns.factorplot(x='Title',y='Family_Size', kind ='bar',col = 'Survived',data =data_train)"
   ]
  },
  {
   "cell_type": "markdown",
   "metadata": {},
   "source": [
    "####  连续 变量散点图    lmplot(）\n",
    "不能用factorplot()"
   ]
  },
  {
   "cell_type": "code",
   "execution_count": null,
   "metadata": {
    "ExecuteTime": {
     "end_time": "2018-01-21T13:24:55.113332Z",
     "start_time": "2018-01-21T13:24:55.109322Z"
    },
    "collapsed": true
   },
   "outputs": [],
   "source": [
    "sns.factorplot(x='Age',y='Fare',hue=\"IsAlone\", kind ='point',col = 'Survived',data =data_train,col_wrap =2)"
   ]
  },
  {
   "cell_type": "code",
   "execution_count": null,
   "metadata": {
    "ExecuteTime": {
     "end_time": "2018-01-21T13:20:07.509940Z",
     "start_time": "2018-01-21T13:20:06.401684Z"
    },
    "collapsed": true
   },
   "outputs": [],
   "source": [
    "sns.lmplot(x='Age' ,y='Fare' ,hue=\"IsAlone\",col =\"Survived\",data = data_train)"
   ]
  },
  {
   "cell_type": "markdown",
   "metadata": {},
   "source": [
    "####  多变量相关图  PairGrid  \n",
    "简便函数 pairplot"
   ]
  },
  {
   "cell_type": "code",
   "execution_count": null,
   "metadata": {
    "ExecuteTime": {
     "end_time": "2018-01-21T15:39:52.243400Z",
     "start_time": "2018-01-21T15:39:49.807344Z"
    },
    "collapsed": true
   },
   "outputs": [],
   "source": [
    "# columns =['Survived', 'Pclass', 'Sex', 'Age','Fare', 'Embarked', 'Age_cut',\n",
    "#        'FareCut', 'Has_Cabin','Title2', 'Name_length', 'Family_Size', 'IsAlone',\n",
    "#        'Fare_scale', 'Title_train']\n",
    "\n",
    "plot_vars = ['Family_Size','Age','Fare','Name_length']\n",
    "\n",
    "# kind : {‘scatter’, ‘reg’}\n",
    "\n",
    "sns.pairplot(data = data_train,vars = plot_vars , hue = 'Survived',kind ='reg',markers=[\"+\",'*'])\n"
   ]
  },
  {
   "cell_type": "code",
   "execution_count": null,
   "metadata": {
    "ExecuteTime": {
     "end_time": "2018-01-21T15:45:36.142457Z",
     "start_time": "2018-01-21T15:45:36.137473Z"
    },
    "collapsed": true
   },
   "outputs": [],
   "source": [
    "train = data_train[['Survived','Pclass','Sex','Age','Parch','Fare','Has_Cabin','Family_Size','IsAlone','Title_train']]"
   ]
  },
  {
   "cell_type": "code",
   "execution_count": null,
   "metadata": {
    "ExecuteTime": {
     "end_time": "2018-01-21T15:44:28.351395Z",
     "start_time": "2018-01-21T15:44:28.345381Z"
    },
    "collapsed": true
   },
   "outputs": [],
   "source": [
    "data_train.columns"
   ]
  },
  {
   "cell_type": "code",
   "execution_count": null,
   "metadata": {
    "ExecuteTime": {
     "end_time": "2018-01-26T15:34:41.102080Z",
     "start_time": "2018-01-26T15:34:40.072690Z"
    },
    "collapsed": true
   },
   "outputs": [],
   "source": [
    "# titanic.corr()[\"Survived\"]\n",
    "colormap = plt.cm.viridis\n",
    "plt.figure(figsize=(12,12))\n",
    "plt.title('Pearson Correlation of Features', y=1.05, size=15)\n",
    "sns.heatmap(train.astype(float).corr(),linewidths=0.1,vmax=1.0, square=True, cmap=colormap, linecolor='white', annot=True)"
   ]
  },
  {
   "cell_type": "markdown",
   "metadata": {},
   "source": [
    "##### 除以上的简单描述性统计之外，还提供了连续变量的相关系数（corr）和协方差矩阵（cov）的求解\n",
    "df.corr()\n",
    "关于相关系数的计算可以调用pearson方法或kendell方法或spearman方法，默认使用pearson方法。\n",
    "\n",
    "df.corr('spearman')\n",
    "如果只想关注某一个变量与其余变量的相关系数的话，可以使用corrwith,如下方只关心x1与其余变量的相关系数:\n",
    "\n",
    "df.corrwith(df['x1'])\n",
    "数值型变量间的协方差矩阵\n",
    "\n",
    "df.cov()"
   ]
  },
  {
   "cell_type": "code",
   "execution_count": null,
   "metadata": {
    "ExecuteTime": {
     "end_time": "2018-01-27T06:02:55.585976Z",
     "start_time": "2018-01-27T06:02:55.581972Z"
    },
    "collapsed": true
   },
   "outputs": [],
   "source": [
    "# data_train.corr('kendall')   #相关系数pearson（默认）、spearman、kendall  \n",
    "# data_train[['Age','Family_Size']].corrwith(data_train['Fare'])\n",
    "# data_train.cov() #协方差矩阵"
   ]
  },
  {
   "cell_type": "markdown",
   "metadata": {
    "ExecuteTime": {
     "end_time": "2018-01-21T11:58:21.754371Z",
     "start_time": "2018-01-21T11:58:21.208337Z"
    }
   },
   "source": [
    "#### FacetGrid 通用 \n",
    "Tidy (“long-form”) dataframe\n",
    "\n",
    "可以map  不同的绘图函数（plt: scatter area hist  | sns: 的函数） 但是函数内部的参数设置？\n"
   ]
  },
  {
   "cell_type": "code",
   "execution_count": null,
   "metadata": {
    "ExecuteTime": {
     "end_time": "2018-01-21T16:21:04.803806Z",
     "start_time": "2018-01-21T16:21:04.797790Z"
    },
    "collapsed": true
   },
   "outputs": [],
   "source": [
    "def boo_plot(data,color):\n",
    "    data.plot(kind ='scatter',x='Age',y='Fare',s=np.pi*(data_train['Family_Size']*3)**2,alpha =0.3,ax=plt.gca())\n",
    "    "
   ]
  },
  {
   "cell_type": "code",
   "execution_count": null,
   "metadata": {
    "ExecuteTime": {
     "end_time": "2018-01-21T16:21:10.329280Z",
     "start_time": "2018-01-21T16:21:05.863957Z"
    },
    "collapsed": true
   },
   "outputs": [],
   "source": [
    "g= sns.FacetGrid(data=data_train,col='Survived',size= 5 ,aspect = 1.2)\n",
    "g.map_dataframe(boo_plot)"
   ]
  },
  {
   "cell_type": "code",
   "execution_count": null,
   "metadata": {
    "ExecuteTime": {
     "end_time": "2018-01-21T16:22:35.361489Z",
     "start_time": "2018-01-21T16:22:34.722907Z"
    },
    "collapsed": true
   },
   "outputs": [],
   "source": [
    "# 效果下相当于 直接使用 lmplot()\n",
    "def def_plot(data,color):\n",
    "    sns.regplot('Age','Fare',data,ax=plt.gca())\n",
    "# 自定义的 jointplot()失败\n",
    "    \n",
    "g = sns.FacetGrid(data= data_train, col=\"Survived\",size= 5 ,aspect = 1.2)  #   row=\"smoker\"  \n",
    "g = g.map_dataframe(def_plot)\n",
    "\n",
    "# map_dataframe() Like map but passes args as strings and inserts data in kwargs."
   ]
  },
  {
   "cell_type": "code",
   "execution_count": null,
   "metadata": {
    "ExecuteTime": {
     "end_time": "2018-01-21T12:38:52.540256Z",
     "start_time": "2018-01-21T12:38:52.106629Z"
    },
    "collapsed": true
   },
   "outputs": [],
   "source": [
    "# 设置每个小图 图片尺寸 高：size  宽 ：aspect * size\n",
    "g = sns.FacetGrid(data_train, col=\"Survived\",size= 5 ,aspect = 1.2)  #   row=\"smoker\"  \n",
    "# g = g.map(sns.regplot, \"Age\",\"Fare\")\n",
    "g = g.map(plt.scatter, \"Age\",\"Fare\")"
   ]
  },
  {
   "cell_type": "markdown",
   "metadata": {},
   "source": [
    "#### 绘制年龄 和 票价的相关图"
   ]
  },
  {
   "cell_type": "code",
   "execution_count": null,
   "metadata": {
    "ExecuteTime": {
     "end_time": "2018-01-21T09:22:53.547090Z",
     "start_time": "2018-01-21T09:22:52.729231Z"
    },
    "collapsed": true
   },
   "outputs": [],
   "source": [
    "import seaborn as sns\n",
    "# 体现相关性\n",
    "# 两个连续变量的相关性 通过这个看\n",
    "sns.jointplot('Age','Fare',data_train.loc[data_train['Fare']<=300],kind = 'reg')"
   ]
  },
  {
   "cell_type": "code",
   "execution_count": null,
   "metadata": {
    "ExecuteTime": {
     "end_time": "2018-01-21T09:47:53.833252Z",
     "start_time": "2018-01-21T09:47:53.045113Z"
    },
    "collapsed": true
   },
   "outputs": [],
   "source": [
    "# 优：可以展示 两个变量的整体分布情况  \n",
    "# 缺：但是看不到 因子内部的分布情况  不能映射第三个变量\n",
    "sns.jointplot('Title_train','Age',data = data_train)"
   ]
  },
  {
   "cell_type": "code",
   "execution_count": null,
   "metadata": {
    "ExecuteTime": {
     "end_time": "2018-01-21T09:50:16.352094Z",
     "start_time": "2018-01-21T09:50:13.203738Z"
    },
    "collapsed": true
   },
   "outputs": [],
   "source": [
    "# 优：可以看不到 因子内部的分布情况   映射第三个变量\n",
    "# 缺：但是不能展示 两个变量的整体分布情况 \n",
    "f, ax = plt.subplots(1,2,figsize =(18,8))\n",
    "sns.violinplot('Title2','Age',hue ='Survived',data = data_train, split =True, ax =ax[0])\n",
    "ax[0].set_title(\"Simplified Version\") # 标题不支持中文\n",
    "sns.violinplot('Title2','Age',hue ='Survived',data = data_train, split =True,inner = 'stick',scale ='count', ax =ax[1])\n",
    "\n",
    "plt.show()"
   ]
  },
  {
   "cell_type": "code",
   "execution_count": null,
   "metadata": {
    "ExecuteTime": {
     "end_time": "2018-01-21T09:56:09.171369Z",
     "start_time": "2018-01-21T09:56:08.950742Z"
    },
    "collapsed": true
   },
   "outputs": [],
   "source": [
    "# data_train['Fare'].plot(kind ='box')\n",
    "\n",
    "sns.violinplot(x= 'Survived',y = 'Sex',data = data_train, split =True)"
   ]
  },
  {
   "cell_type": "markdown",
   "metadata": {},
   "source": [
    "#### 小提琴图 "
   ]
  },
  {
   "cell_type": "code",
   "execution_count": null,
   "metadata": {
    "ExecuteTime": {
     "end_time": "2018-01-21T09:14:51.535753Z",
     "start_time": "2018-01-21T09:14:51.029769Z"
    },
    "collapsed": true
   },
   "outputs": [],
   "source": [
    "#因为Fare 有极端值  画的也不好看\n",
    "f, ax = plt.subplots(1,2,figsize =(18,8))\n",
    "sns.violinplot('Sex','Fare',hue = \"Survived\", data = data_train, split = True, ax = ax[0])\n",
    "ax[0].set_title('Sex and Fare vs Survived')\n",
    "ax[0].set_yticks(range(1,500,50))\n",
    "\n",
    "sns.violinplot('Sex','Age', hue = \"Survived\", data = data_train, split = True, ax = ax[1])\n",
    "ax[1].set_title('Sex and Age vs Survived')\n",
    "\n",
    "plt.show()"
   ]
  },
  {
   "cell_type": "code",
   "execution_count": null,
   "metadata": {
    "ExecuteTime": {
     "end_time": "2018-01-21T09:05:08.465810Z",
     "start_time": "2018-01-21T09:05:08.168957Z"
    },
    "collapsed": true
   },
   "outputs": [],
   "source": [
    "sns.violinplot(\"Sex\",\"Age\", hue=\"Survived\", data=data_train,split=True)"
   ]
  },
  {
   "cell_type": "code",
   "execution_count": null,
   "metadata": {
    "ExecuteTime": {
     "end_time": "2018-01-21T15:57:11.882122Z",
     "start_time": "2018-01-21T15:57:11.701598Z"
    },
    "collapsed": true
   },
   "outputs": [],
   "source": [
    "sns.boxplot(y = 'Fare',hue = 'Survived', data= data_train)"
   ]
  },
  {
   "cell_type": "code",
   "execution_count": null,
   "metadata": {
    "collapsed": true
   },
   "outputs": [],
   "source": [
    "Survived\tPclass\tSex\tAge\tParch\tFare\tEmbarked\tHas_Cabin\tFamilySize\tIsAlone\tTitle"
   ]
  },
  {
   "cell_type": "code",
   "execution_count": null,
   "metadata": {
    "ExecuteTime": {
     "end_time": "2018-01-18T16:29:15.289759Z",
     "start_time": "2018-01-18T16:29:15.276725Z"
    },
    "collapsed": true
   },
   "outputs": [],
   "source": [
    "attr = plt.subplots(1,2,sharex=True,figsize=(10,5))"
   ]
  },
  {
   "cell_type": "code",
   "execution_count": null,
   "metadata": {
    "ExecuteTime": {
     "end_time": "2018-01-18T16:15:04.606638Z",
     "start_time": "2018-01-18T16:15:04.593603Z"
    },
    "collapsed": true
   },
   "outputs": [],
   "source": [
    "f=plt.subplots(1,2,figsize=(18,8))"
   ]
  },
  {
   "cell_type": "code",
   "execution_count": null,
   "metadata": {
    "ExecuteTime": {
     "end_time": "2018-01-18T15:56:11.369714Z",
     "start_time": "2018-01-18T15:56:11.354167Z"
    },
    "collapsed": true
   },
   "outputs": [],
   "source": [
    "temp = data_train[['Family_Size','Survived']].groupby(['Survived'],as_index =False).mean()\n",
    "temp"
   ]
  },
  {
   "cell_type": "code",
   "execution_count": null,
   "metadata": {
    "ExecuteTime": {
     "end_time": "2018-01-18T16:01:47.070775Z",
     "start_time": "2018-01-18T16:01:47.057740Z"
    },
    "collapsed": true
   },
   "outputs": [],
   "source": [
    "# size()  产生一个Series  运用 to_frame()\n",
    "temp = data_train[['Family_Size','Survived']].groupby(['Survived'],as_index =False).size()\n",
    "temp\n",
    "temp.to_frame(name = 'Family').reset_index()  # name  时Series 的列名"
   ]
  },
  {
   "cell_type": "code",
   "execution_count": null,
   "metadata": {
    "ExecuteTime": {
     "end_time": "2018-01-18T13:35:40.664717Z",
     "start_time": "2018-01-18T13:35:40.649710Z"
    },
    "collapsed": true
   },
   "outputs": [],
   "source": [
    "# 对两个变量 进行聚合\n",
    "# 统计数量，随便选一列 用count() 函数即可\n",
    "data_train.groupby(['Family_Size','Survived'],as_index =False)['Name'].count()"
   ]
  },
  {
   "cell_type": "code",
   "execution_count": null,
   "metadata": {
    "ExecuteTime": {
     "end_time": "2018-01-17T13:27:38.975483Z",
     "start_time": "2018-01-17T13:27:38.637585Z"
    },
    "collapsed": true
   },
   "outputs": [],
   "source": [
    "f,ax=plt.subplots(1,2,figsize=(18,8))"
   ]
  },
  {
   "cell_type": "code",
   "execution_count": null,
   "metadata": {
    "ExecuteTime": {
     "end_time": "2018-01-17T17:30:30.696987Z",
     "start_time": "2018-01-17T17:30:30.675930Z"
    },
    "collapsed": true
   },
   "outputs": [],
   "source": [
    "final_data.head()"
   ]
  },
  {
   "cell_type": "code",
   "execution_count": null,
   "metadata": {
    "ExecuteTime": {
     "end_time": "2018-01-18T14:01:47.789935Z",
     "start_time": "2018-01-18T14:01:47.725764Z"
    },
    "collapsed": true
   },
   "outputs": [],
   "source": [
    "#用list 去查看聚合内部\n",
    "dict(list(data_train[['Family_Size','Survived','Title2']].groupby(['Survived','Title2'])))"
   ]
  },
  {
   "cell_type": "code",
   "execution_count": null,
   "metadata": {
    "ExecuteTime": {
     "end_time": "2018-01-21T08:42:04.781528Z",
     "start_time": "2018-01-21T08:42:04.769996Z"
    },
    "collapsed": true
   },
   "outputs": [],
   "source": [
    "# data_train.columns\n",
    "test = data_train[['Family_Size','Survived','Title2']]"
   ]
  },
  {
   "cell_type": "code",
   "execution_count": null,
   "metadata": {
    "collapsed": true
   },
   "outputs": [],
   "source": []
  },
  {
   "cell_type": "markdown",
   "metadata": {},
   "source": [
    "###  数据透视表 ： pivot_table  (数据透视图？)"
   ]
  },
  {
   "cell_type": "markdown",
   "metadata": {},
   "source": [
    "### 对某一变量求和    len(可行) /count"
   ]
  },
  {
   "cell_type": "code",
   "execution_count": null,
   "metadata": {
    "ExecuteTime": {
     "end_time": "2018-01-24T17:37:52.091737Z",
     "start_time": "2018-01-24T17:37:52.047614Z"
    },
    "collapsed": true
   },
   "outputs": [],
   "source": [
    "pd.pivot_table(test,index=['Survived'],columns=['Title2'],values=['Family_Size'], aggfunc=np.sum )"
   ]
  },
  {
   "cell_type": "code",
   "execution_count": null,
   "metadata": {
    "ExecuteTime": {
     "end_time": "2018-01-24T17:37:58.164881Z",
     "start_time": "2018-01-24T17:37:57.975835Z"
    },
    "collapsed": true
   },
   "outputs": [],
   "source": [
    "pd.pivot_table(test,index=['Survived'], \\\n",
    "                    columns=['Title2'], \\\n",
    "                    values=['Family_Size'], \\\n",
    "                    aggfunc=[len,np.sum,np.mean] ,margins =True)"
   ]
  },
  {
   "cell_type": "code",
   "execution_count": null,
   "metadata": {
    "ExecuteTime": {
     "end_time": "2018-01-24T17:37:59.385203Z",
     "start_time": "2018-01-24T17:37:59.355089Z"
    },
    "collapsed": true
   },
   "outputs": [],
   "source": [
    "import numpy as np\n",
    "pivot1.reset_index(drop =False)"
   ]
  },
  {
   "cell_type": "code",
   "execution_count": null,
   "metadata": {
    "ExecuteTime": {
     "end_time": "2018-01-24T17:38:06.513875Z",
     "start_time": "2018-01-24T17:38:06.473263Z"
    },
    "collapsed": true
   },
   "outputs": [],
   "source": [
    "pivot1 = pd.pivot_table(test,index=['Survived'],columns=['Title2'],values = ['Family_Size'], aggfunc=[len])\n",
    "pivot1\n",
    "# pivot1 = pd.pivot_table(test,index=['Survived'],columns=['Title2'],values = ['Family_Size'], aggfunc=[len,np.sum])"
   ]
  },
  {
   "cell_type": "code",
   "execution_count": null,
   "metadata": {
    "ExecuteTime": {
     "end_time": "2018-01-24T17:38:18.179971Z",
     "start_time": "2018-01-24T17:38:17.257056Z"
    },
    "collapsed": true
   },
   "outputs": [],
   "source": [
    "# 运用pandas 基础绘图\n",
    "pivot1.plot(kind = 'bar')"
   ]
  },
  {
   "cell_type": "code",
   "execution_count": null,
   "metadata": {
    "ExecuteTime": {
     "end_time": "2018-01-24T17:38:22.128793Z",
     "start_time": "2018-01-24T17:38:22.103727Z"
    },
    "collapsed": true
   },
   "outputs": [],
   "source": [
    "pivot2 = pivot1[pivot1.sum(axis = 1) >400]\n",
    "pivot2"
   ]
  },
  {
   "cell_type": "code",
   "execution_count": null,
   "metadata": {
    "ExecuteTime": {
     "end_time": "2018-01-24T17:38:41.364442Z",
     "start_time": "2018-01-24T17:38:41.356420Z"
    },
    "collapsed": true
   },
   "outputs": [],
   "source": [
    "# 对透视表进行切片\n",
    "# 首先进行 切片 然后再进行 透视表\n",
    "\n",
    "\n",
    "# pivot1.loc[pivot1['Title2']  == [\"Master\"]]\n",
    "# pivot1.query('Title2 == \"Master\"')\n",
    "# .str.contains(\"1\")\n",
    "# pivot1[pivot1.index == 1]  \n",
    "# pivot1[pivot1.columns.levels[2] == ['Family_Size']]\n",
    "\n",
    "# pivot1.columns\n",
    "# pivot1.index\n",
    "# pivot1.columns.levels[1]\n",
    "# pivot1[pivot1.columns.levels[2][3]]"
   ]
  },
  {
   "cell_type": "markdown",
   "metadata": {},
   "source": [
    "### 有只基于频数的 crosstab() 统计Survived 与 Title2 之间关系"
   ]
  },
  {
   "cell_type": "code",
   "execution_count": null,
   "metadata": {
    "ExecuteTime": {
     "end_time": "2018-01-24T17:46:10.058167Z",
     "start_time": "2018-01-24T17:46:10.025040Z"
    },
    "collapsed": true
   },
   "outputs": [],
   "source": [
    "# 仅有两列时 怎么看 数量 ，和 每个的百分比\n",
    "pd.crosstab(data_train['Survived'],data_train['Title2'])\n",
    "# pd.crosstab(data_train['Survived'],data_train['Title2'],margins =True)"
   ]
  },
  {
   "cell_type": "markdown",
   "metadata": {},
   "source": [
    "### 在corsstab 中显示百分比"
   ]
  },
  {
   "cell_type": "markdown",
   "metadata": {},
   "source": [
    "### 对行 队列 对总体求占比"
   ]
  },
  {
   "cell_type": "markdown",
   "metadata": {},
   "source": [
    "#### 对行"
   ]
  },
  {
   "cell_type": "code",
   "execution_count": null,
   "metadata": {
    "ExecuteTime": {
     "end_time": "2018-01-24T17:42:13.726545Z",
     "start_time": "2018-01-24T17:42:13.695465Z"
    },
    "collapsed": true
   },
   "outputs": [],
   "source": [
    "pd.set_option('display.float_format', lambda x: '%.2f' % x)\n",
    "pd.crosstab(data_train['Survived'], data_train['Title2']).apply(lambda r: r/r.sum(), axis=1)  "
   ]
  },
  {
   "cell_type": "markdown",
   "metadata": {},
   "source": [
    "#### 对总体"
   ]
  },
  {
   "cell_type": "code",
   "execution_count": null,
   "metadata": {
    "ExecuteTime": {
     "end_time": "2018-01-24T17:43:50.683619Z",
     "start_time": "2018-01-24T17:43:50.626595Z"
    },
    "collapsed": true
   },
   "outputs": [],
   "source": [
    "pd.crosstab(data_train['Survived'], data_train['Title2'],margins =True).apply(lambda r: r/len(data_train), axis=0)  #对行"
   ]
  },
  {
   "cell_type": "code",
   "execution_count": null,
   "metadata": {
    "ExecuteTime": {
     "end_time": "2018-01-24T17:39:09.045898Z",
     "start_time": "2018-01-24T17:39:09.041889Z"
    },
    "collapsed": true
   },
   "outputs": [],
   "source": [
    "#只返回2个变量的计数\n",
    "# def table(data,list = None,margins = False):\n",
    "#     return pd.pivot_table(data,index=list[0],columns=list[1], aggfunc=[len] ,margins=margins)\n",
    "\n",
    "# table(test,['Survived','Title2'])"
   ]
  },
  {
   "cell_type": "code",
   "execution_count": null,
   "metadata": {
    "ExecuteTime": {
     "end_time": "2018-01-24T17:40:12.023466Z",
     "start_time": "2018-01-24T17:40:12.004415Z"
    },
    "collapsed": true
   },
   "outputs": [],
   "source": [
    "# 计算相关Pearson系数\n",
    "data_train['Survived'].corr(data_train['Fare'])"
   ]
  },
  {
   "cell_type": "code",
   "execution_count": null,
   "metadata": {
    "ExecuteTime": {
     "end_time": "2018-01-23T14:52:02.617259Z",
     "start_time": "2018-01-23T14:52:02.586177Z"
    },
    "collapsed": true
   },
   "outputs": [],
   "source": [
    "data_train =data.copy()\n",
    "data_train.head()"
   ]
  },
  {
   "cell_type": "code",
   "execution_count": null,
   "metadata": {
    "ExecuteTime": {
     "end_time": "2018-01-25T12:36:11.731298Z",
     "start_time": "2018-01-25T12:36:11.705226Z"
    },
    "collapsed": true
   },
   "outputs": [],
   "source": [
    "data_train.head()"
   ]
  },
  {
   "cell_type": "code",
   "execution_count": null,
   "metadata": {
    "ExecuteTime": {
     "end_time": "2018-01-25T12:49:02.132013Z",
     "start_time": "2018-01-25T12:49:02.094914Z"
    },
    "collapsed": true
   },
   "outputs": [],
   "source": [
    "pd.pivot_table(data_train,index =['Title2','Embarked'],values =['Age'],aggfunc = [np.sum,len,np.mean]\n",
    "# pd.pivot_table(data_train,index =['Title2','Embarked'],values =['Age'],aggfunc = [np.sum,len,np.mean],\n",
    "#                fill_value =0,margins =True)\n",
    "               "
   ]
  },
  {
   "cell_type": "code",
   "execution_count": null,
   "metadata": {
    "ExecuteTime": {
     "end_time": "2018-01-25T12:58:27.381500Z",
     "start_time": "2018-01-25T12:58:27.341350Z"
    },
    "collapsed": true
   },
   "outputs": [],
   "source": [
    "table = pd.pivot_table(data_train,index =['Title2','Embarked'],values =['Age'],columns = ['Sex_bool'],aggfunc = [np.sum,len,np.mean])  \n",
    "# table.query('Embarked ==[\"C\",\"S\"]')\n",
    "# table.query('Embarked == [\"C\"]').query('Title2 ==[\"Master\"] ')"
   ]
  },
  {
   "cell_type": "code",
   "execution_count": null,
   "metadata": {
    "ExecuteTime": {
     "end_time": "2018-01-25T12:42:40.838630Z",
     "start_time": "2018-01-25T12:42:40.830608Z"
    },
    "collapsed": true
   },
   "outputs": [],
   "source": [
    "data_train.Title2.value_counts()"
   ]
  },
  {
   "cell_type": "code",
   "execution_count": null,
   "metadata": {
    "ExecuteTime": {
     "end_time": "2018-02-22T11:40:54.246706Z",
     "start_time": "2018-02-22T11:40:54.228659Z"
    },
    "collapsed": true
   },
   "outputs": [],
   "source": [
    "data = pd.read_csv('Pratice_Data.csv',encoding = 'utf-8')"
   ]
  },
  {
   "cell_type": "markdown",
   "metadata": {},
   "source": [
    "### 处理分割genres字段\n",
    "每个类别 一列,出现的命名为1"
   ]
  },
  {
   "cell_type": "code",
   "execution_count": null,
   "metadata": {
    "ExecuteTime": {
     "end_time": "2018-02-22T11:50:01.873225Z",
     "start_time": "2018-02-22T11:50:01.867210Z"
    },
    "collapsed": true
   },
   "outputs": [],
   "source": [
    "genre_iter = (set(x.split('|')) for x in data.genres)\n",
    "\n",
    "genres = sorted(set.union(*genre_iter))\n",
    "\n",
    "dummies = pd.DataFrame(np.zeros((len(data),len(genres))),columns = genres)\n",
    "for i,gen in enumerate(data.genres):\n",
    "    dummies.loc[i,gen.split('|')] = 1\n",
    "\n",
    "data_genres = data.join(dummies.add_prefix('Genre_'))"
   ]
  },
  {
   "cell_type": "markdown",
   "metadata": {},
   "source": [
    "### 处理时间字段"
   ]
  },
  {
   "cell_type": "markdown",
   "metadata": {},
   "source": [
    "#### 拆分时间段：年、月、日、小时、分钟、 星期、季度\n",
    "#### 日期偏移：\n",
    "#### 日期区间切片：\n"
   ]
  },
  {
   "cell_type": "code",
   "execution_count": null,
   "metadata": {
    "ExecuteTime": {
     "end_time": "2018-02-22T12:22:27.198055Z",
     "start_time": "2018-02-22T12:22:27.194044Z"
    },
    "collapsed": true
   },
   "outputs": [],
   "source": [
    "from datetime import datetime,timedelta"
   ]
  },
  {
   "cell_type": "code",
   "execution_count": null,
   "metadata": {
    "ExecuteTime": {
     "end_time": "2018-02-22T12:24:49.092669Z",
     "start_time": "2018-02-22T12:24:48.615347Z"
    },
    "collapsed": true
   },
   "outputs": [],
   "source": [
    "data['Timestamp'] = data['timestamp'].apply(lambda x: pd.to_datetime(x))"
   ]
  },
  {
   "cell_type": "code",
   "execution_count": null,
   "metadata": {
    "ExecuteTime": {
     "end_time": "2018-02-22T13:53:40.160707Z",
     "start_time": "2018-02-22T13:53:40.115589Z"
    },
    "collapsed": true
   },
   "outputs": [],
   "source": [
    "data['year'] = data['Timestamp'].apply(lambda x:x.year)\n",
    "data['month'] = data['Timestamp'].apply(lambda x:x.month)\n",
    "data['day'] = data['Timestamp'].apply(lambda x:x.day)\n",
    "data['hour'] = data['Timestamp'].apply(lambda x:x.hour)\n",
    "data['minute'] = data['Timestamp'].apply(lambda x:x.minute)\n",
    "data['second'] = data['Timestamp'].apply(lambda x:x.second)\n",
    "# 星期\n",
    "data['weekday'] = data['Timestamp'].apply(lambda x:x.weekday()+1)"
   ]
  },
  {
   "cell_type": "code",
   "execution_count": null,
   "metadata": {
    "ExecuteTime": {
     "end_time": "2018-02-22T14:05:44.206083Z",
     "start_time": "2018-02-22T14:05:44.199065Z"
    },
    "collapsed": true
   },
   "outputs": [],
   "source": [
    "#数据切片\n",
    "data_test = data.loc[(data['Timestamp']>datetime(2005,12,31))&(data['Timestamp']<datetime(2007,12,31)),:]"
   ]
  },
  {
   "cell_type": "code",
   "execution_count": null,
   "metadata": {
    "ExecuteTime": {
     "end_time": "2018-02-22T13:08:56.557528Z",
     "start_time": "2018-02-22T13:08:56.551511Z"
    },
    "collapsed": true
   },
   "outputs": [],
   "source": [
    "str1 = '03/23/2009 08:30:00'\n",
    "time_pk = datetime.strptime(str1,'%m/%d/%Y %H:%M:%S')\n",
    "pd_pk = pd.to_datetime(str1)\n",
    "\n",
    "#将datetime 转化为 str\n",
    "pd_pk.strftime('%Y-%m-%d')"
   ]
  },
  {
   "cell_type": "code",
   "execution_count": null,
   "metadata": {
    "ExecuteTime": {
     "end_time": "2018-02-22T13:21:09.176237Z",
     "start_time": "2018-02-22T13:21:09.168243Z"
    },
    "collapsed": true
   },
   "outputs": [],
   "source": [
    "# 时间偏移\n",
    "# pandas 包\n",
    "from pandas.tseries.offsets import *\n",
    "pd_pk + Day(5)\n",
    "pd_pk + DateOffset(months = -5,days = 5)\n",
    "#  'years', 'months', 'weeks', 'days',\n",
    "#  'year', 'month', 'week', 'day', \n",
    "#  'weekday','hour', 'minute', 'second', 'microsecond'\n",
    "\n",
    "# 月初 月末\n",
    "pd_pk + DateOffset(days = 1-pd_pk.day)\n",
    "pd_pk + DateOffset(months = 1, days = -pd_pk.day)\n",
    "\n",
    "# 季初 季末\n",
    "pd_pk + DateOffset(months = -((pd_pk.month - 1) % 3),days = 1-pd_pk.day)\n",
    "pd_pk + DateOffset(months =3 - ((pd_pk.month - 1) % 3), days = -pd_pk.day)\n",
    "\n",
    "# 年初 年末\n",
    "pd_pk + DateOffset(years = 1- pd_pk.month ,days = 1-pd_pk.day)\n",
    "pd_pk + DateOffset(years =1 ,months =1 - pd_pk.month, days = -pd_pk.day)"
   ]
  },
  {
   "cell_type": "code",
   "execution_count": null,
   "metadata": {
    "collapsed": true
   },
   "outputs": [],
   "source": []
  },
  {
   "cell_type": "code",
   "execution_count": null,
   "metadata": {
    "collapsed": true
   },
   "outputs": [],
   "source": [
    "ou can use pd.isin().\n",
    "# https://stackoverflow.com/questions/32980087/pandas-not-in-in-and-between\n",
    "For \"IN\" use: something.isin(somewhere)\n",
    "\n",
    "Or for \"NOT IN\": ~something.isin(somewhere)"
   ]
  }
 ],
 "metadata": {
  "kernelspec": {
   "display_name": "Python 3",
   "language": "python",
   "name": "python3"
  },
  "language_info": {
   "codemirror_mode": {
    "name": "ipython",
    "version": 3
   },
   "file_extension": ".py",
   "mimetype": "text/x-python",
   "name": "python",
   "nbconvert_exporter": "python",
   "pygments_lexer": "ipython3",
   "version": "3.7.4"
  }
 },
 "nbformat": 4,
 "nbformat_minor": 2
}
